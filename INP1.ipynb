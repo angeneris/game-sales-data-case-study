{
 "cells": [
  {
   "cell_type": "markdown",
   "metadata": {},
   "source": [
    "## Step 1: Read and View Data "
   ]
  },
  {
   "cell_type": "code",
   "execution_count": 45,
   "metadata": {},
   "outputs": [
    {
     "data": {
      "text/html": [
       "<div>\n",
       "<style scoped>\n",
       "    .dataframe tbody tr th:only-of-type {\n",
       "        vertical-align: middle;\n",
       "    }\n",
       "\n",
       "    .dataframe tbody tr th {\n",
       "        vertical-align: top;\n",
       "    }\n",
       "\n",
       "    .dataframe thead th {\n",
       "        text-align: right;\n",
       "    }\n",
       "</style>\n",
       "<table border=\"1\" class=\"dataframe\">\n",
       "  <thead>\n",
       "    <tr style=\"text-align: right;\">\n",
       "      <th></th>\n",
       "      <th>Name</th>\n",
       "      <th>Platform</th>\n",
       "      <th>Year_of_Release</th>\n",
       "      <th>Genre</th>\n",
       "      <th>NA_sales</th>\n",
       "      <th>EU_sales</th>\n",
       "      <th>JP_sales</th>\n",
       "      <th>Other_sales</th>\n",
       "      <th>Critic_Score</th>\n",
       "      <th>User_Score</th>\n",
       "      <th>Rating</th>\n",
       "    </tr>\n",
       "  </thead>\n",
       "  <tbody>\n",
       "    <tr>\n",
       "      <th>0</th>\n",
       "      <td>Wii Sports</td>\n",
       "      <td>Wii</td>\n",
       "      <td>2006.0</td>\n",
       "      <td>Sports</td>\n",
       "      <td>41.36</td>\n",
       "      <td>28.96</td>\n",
       "      <td>3.77</td>\n",
       "      <td>8.45</td>\n",
       "      <td>76.0</td>\n",
       "      <td>8</td>\n",
       "      <td>E</td>\n",
       "    </tr>\n",
       "    <tr>\n",
       "      <th>1</th>\n",
       "      <td>Super Mario Bros.</td>\n",
       "      <td>NES</td>\n",
       "      <td>1985.0</td>\n",
       "      <td>Platform</td>\n",
       "      <td>29.08</td>\n",
       "      <td>3.58</td>\n",
       "      <td>6.81</td>\n",
       "      <td>0.77</td>\n",
       "      <td>NaN</td>\n",
       "      <td>NaN</td>\n",
       "      <td>NaN</td>\n",
       "    </tr>\n",
       "    <tr>\n",
       "      <th>2</th>\n",
       "      <td>Mario Kart Wii</td>\n",
       "      <td>Wii</td>\n",
       "      <td>2008.0</td>\n",
       "      <td>Racing</td>\n",
       "      <td>15.68</td>\n",
       "      <td>12.76</td>\n",
       "      <td>3.79</td>\n",
       "      <td>3.29</td>\n",
       "      <td>82.0</td>\n",
       "      <td>8.3</td>\n",
       "      <td>E</td>\n",
       "    </tr>\n",
       "    <tr>\n",
       "      <th>3</th>\n",
       "      <td>Wii Sports Resort</td>\n",
       "      <td>Wii</td>\n",
       "      <td>2009.0</td>\n",
       "      <td>Sports</td>\n",
       "      <td>15.61</td>\n",
       "      <td>10.93</td>\n",
       "      <td>3.28</td>\n",
       "      <td>2.95</td>\n",
       "      <td>80.0</td>\n",
       "      <td>8</td>\n",
       "      <td>E</td>\n",
       "    </tr>\n",
       "    <tr>\n",
       "      <th>4</th>\n",
       "      <td>Pokemon Red/Pokemon Blue</td>\n",
       "      <td>GB</td>\n",
       "      <td>1996.0</td>\n",
       "      <td>Role-Playing</td>\n",
       "      <td>11.27</td>\n",
       "      <td>8.89</td>\n",
       "      <td>10.22</td>\n",
       "      <td>1.00</td>\n",
       "      <td>NaN</td>\n",
       "      <td>NaN</td>\n",
       "      <td>NaN</td>\n",
       "    </tr>\n",
       "    <tr>\n",
       "      <th>5</th>\n",
       "      <td>Tetris</td>\n",
       "      <td>GB</td>\n",
       "      <td>1989.0</td>\n",
       "      <td>Puzzle</td>\n",
       "      <td>23.20</td>\n",
       "      <td>2.26</td>\n",
       "      <td>4.22</td>\n",
       "      <td>0.58</td>\n",
       "      <td>NaN</td>\n",
       "      <td>NaN</td>\n",
       "      <td>NaN</td>\n",
       "    </tr>\n",
       "    <tr>\n",
       "      <th>6</th>\n",
       "      <td>New Super Mario Bros.</td>\n",
       "      <td>DS</td>\n",
       "      <td>2006.0</td>\n",
       "      <td>Platform</td>\n",
       "      <td>11.28</td>\n",
       "      <td>9.14</td>\n",
       "      <td>6.50</td>\n",
       "      <td>2.88</td>\n",
       "      <td>89.0</td>\n",
       "      <td>8.5</td>\n",
       "      <td>E</td>\n",
       "    </tr>\n",
       "    <tr>\n",
       "      <th>7</th>\n",
       "      <td>Wii Play</td>\n",
       "      <td>Wii</td>\n",
       "      <td>2006.0</td>\n",
       "      <td>Misc</td>\n",
       "      <td>13.96</td>\n",
       "      <td>9.18</td>\n",
       "      <td>2.93</td>\n",
       "      <td>2.84</td>\n",
       "      <td>58.0</td>\n",
       "      <td>6.6</td>\n",
       "      <td>E</td>\n",
       "    </tr>\n",
       "    <tr>\n",
       "      <th>8</th>\n",
       "      <td>New Super Mario Bros. Wii</td>\n",
       "      <td>Wii</td>\n",
       "      <td>2009.0</td>\n",
       "      <td>Platform</td>\n",
       "      <td>14.44</td>\n",
       "      <td>6.94</td>\n",
       "      <td>4.70</td>\n",
       "      <td>2.24</td>\n",
       "      <td>87.0</td>\n",
       "      <td>8.4</td>\n",
       "      <td>E</td>\n",
       "    </tr>\n",
       "    <tr>\n",
       "      <th>9</th>\n",
       "      <td>Duck Hunt</td>\n",
       "      <td>NES</td>\n",
       "      <td>1984.0</td>\n",
       "      <td>Shooter</td>\n",
       "      <td>26.93</td>\n",
       "      <td>0.63</td>\n",
       "      <td>0.28</td>\n",
       "      <td>0.47</td>\n",
       "      <td>NaN</td>\n",
       "      <td>NaN</td>\n",
       "      <td>NaN</td>\n",
       "    </tr>\n",
       "    <tr>\n",
       "      <th>10</th>\n",
       "      <td>Nintendogs</td>\n",
       "      <td>DS</td>\n",
       "      <td>2005.0</td>\n",
       "      <td>Simulation</td>\n",
       "      <td>9.05</td>\n",
       "      <td>10.95</td>\n",
       "      <td>1.93</td>\n",
       "      <td>2.74</td>\n",
       "      <td>NaN</td>\n",
       "      <td>NaN</td>\n",
       "      <td>NaN</td>\n",
       "    </tr>\n",
       "    <tr>\n",
       "      <th>11</th>\n",
       "      <td>Mario Kart DS</td>\n",
       "      <td>DS</td>\n",
       "      <td>2005.0</td>\n",
       "      <td>Racing</td>\n",
       "      <td>9.71</td>\n",
       "      <td>7.47</td>\n",
       "      <td>4.13</td>\n",
       "      <td>1.90</td>\n",
       "      <td>91.0</td>\n",
       "      <td>8.6</td>\n",
       "      <td>E</td>\n",
       "    </tr>\n",
       "    <tr>\n",
       "      <th>12</th>\n",
       "      <td>Pokemon Gold/Pokemon Silver</td>\n",
       "      <td>GB</td>\n",
       "      <td>1999.0</td>\n",
       "      <td>Role-Playing</td>\n",
       "      <td>9.00</td>\n",
       "      <td>6.18</td>\n",
       "      <td>7.20</td>\n",
       "      <td>0.71</td>\n",
       "      <td>NaN</td>\n",
       "      <td>NaN</td>\n",
       "      <td>NaN</td>\n",
       "    </tr>\n",
       "    <tr>\n",
       "      <th>13</th>\n",
       "      <td>Wii Fit</td>\n",
       "      <td>Wii</td>\n",
       "      <td>2007.0</td>\n",
       "      <td>Sports</td>\n",
       "      <td>8.92</td>\n",
       "      <td>8.03</td>\n",
       "      <td>3.60</td>\n",
       "      <td>2.15</td>\n",
       "      <td>80.0</td>\n",
       "      <td>7.7</td>\n",
       "      <td>E</td>\n",
       "    </tr>\n",
       "    <tr>\n",
       "      <th>14</th>\n",
       "      <td>Kinect Adventures!</td>\n",
       "      <td>X360</td>\n",
       "      <td>2010.0</td>\n",
       "      <td>Misc</td>\n",
       "      <td>15.00</td>\n",
       "      <td>4.89</td>\n",
       "      <td>0.24</td>\n",
       "      <td>1.69</td>\n",
       "      <td>61.0</td>\n",
       "      <td>6.3</td>\n",
       "      <td>E</td>\n",
       "    </tr>\n",
       "    <tr>\n",
       "      <th>15</th>\n",
       "      <td>Wii Fit Plus</td>\n",
       "      <td>Wii</td>\n",
       "      <td>2009.0</td>\n",
       "      <td>Sports</td>\n",
       "      <td>9.01</td>\n",
       "      <td>8.49</td>\n",
       "      <td>2.53</td>\n",
       "      <td>1.77</td>\n",
       "      <td>80.0</td>\n",
       "      <td>7.4</td>\n",
       "      <td>E</td>\n",
       "    </tr>\n",
       "    <tr>\n",
       "      <th>16</th>\n",
       "      <td>Grand Theft Auto V</td>\n",
       "      <td>PS3</td>\n",
       "      <td>2013.0</td>\n",
       "      <td>Action</td>\n",
       "      <td>7.02</td>\n",
       "      <td>9.09</td>\n",
       "      <td>0.98</td>\n",
       "      <td>3.96</td>\n",
       "      <td>97.0</td>\n",
       "      <td>8.2</td>\n",
       "      <td>M</td>\n",
       "    </tr>\n",
       "    <tr>\n",
       "      <th>17</th>\n",
       "      <td>Grand Theft Auto: San Andreas</td>\n",
       "      <td>PS2</td>\n",
       "      <td>2004.0</td>\n",
       "      <td>Action</td>\n",
       "      <td>9.43</td>\n",
       "      <td>0.40</td>\n",
       "      <td>0.41</td>\n",
       "      <td>10.57</td>\n",
       "      <td>95.0</td>\n",
       "      <td>9</td>\n",
       "      <td>M</td>\n",
       "    </tr>\n",
       "    <tr>\n",
       "      <th>18</th>\n",
       "      <td>Super Mario World</td>\n",
       "      <td>SNES</td>\n",
       "      <td>1990.0</td>\n",
       "      <td>Platform</td>\n",
       "      <td>12.78</td>\n",
       "      <td>3.75</td>\n",
       "      <td>3.54</td>\n",
       "      <td>0.55</td>\n",
       "      <td>NaN</td>\n",
       "      <td>NaN</td>\n",
       "      <td>NaN</td>\n",
       "    </tr>\n",
       "    <tr>\n",
       "      <th>19</th>\n",
       "      <td>Brain Age: Train Your Brain in Minutes a Day</td>\n",
       "      <td>DS</td>\n",
       "      <td>2005.0</td>\n",
       "      <td>Misc</td>\n",
       "      <td>4.74</td>\n",
       "      <td>9.20</td>\n",
       "      <td>4.16</td>\n",
       "      <td>2.04</td>\n",
       "      <td>77.0</td>\n",
       "      <td>7.9</td>\n",
       "      <td>E</td>\n",
       "    </tr>\n",
       "  </tbody>\n",
       "</table>\n",
       "</div>"
      ],
      "text/plain": [
       "                                            Name Platform  Year_of_Release  \\\n",
       "0                                     Wii Sports      Wii           2006.0   \n",
       "1                              Super Mario Bros.      NES           1985.0   \n",
       "2                                 Mario Kart Wii      Wii           2008.0   \n",
       "3                              Wii Sports Resort      Wii           2009.0   \n",
       "4                       Pokemon Red/Pokemon Blue       GB           1996.0   \n",
       "5                                         Tetris       GB           1989.0   \n",
       "6                          New Super Mario Bros.       DS           2006.0   \n",
       "7                                       Wii Play      Wii           2006.0   \n",
       "8                      New Super Mario Bros. Wii      Wii           2009.0   \n",
       "9                                      Duck Hunt      NES           1984.0   \n",
       "10                                    Nintendogs       DS           2005.0   \n",
       "11                                 Mario Kart DS       DS           2005.0   \n",
       "12                   Pokemon Gold/Pokemon Silver       GB           1999.0   \n",
       "13                                       Wii Fit      Wii           2007.0   \n",
       "14                            Kinect Adventures!     X360           2010.0   \n",
       "15                                  Wii Fit Plus      Wii           2009.0   \n",
       "16                            Grand Theft Auto V      PS3           2013.0   \n",
       "17                 Grand Theft Auto: San Andreas      PS2           2004.0   \n",
       "18                             Super Mario World     SNES           1990.0   \n",
       "19  Brain Age: Train Your Brain in Minutes a Day       DS           2005.0   \n",
       "\n",
       "           Genre  NA_sales  EU_sales  JP_sales  Other_sales  Critic_Score  \\\n",
       "0         Sports     41.36     28.96      3.77         8.45          76.0   \n",
       "1       Platform     29.08      3.58      6.81         0.77           NaN   \n",
       "2         Racing     15.68     12.76      3.79         3.29          82.0   \n",
       "3         Sports     15.61     10.93      3.28         2.95          80.0   \n",
       "4   Role-Playing     11.27      8.89     10.22         1.00           NaN   \n",
       "5         Puzzle     23.20      2.26      4.22         0.58           NaN   \n",
       "6       Platform     11.28      9.14      6.50         2.88          89.0   \n",
       "7           Misc     13.96      9.18      2.93         2.84          58.0   \n",
       "8       Platform     14.44      6.94      4.70         2.24          87.0   \n",
       "9        Shooter     26.93      0.63      0.28         0.47           NaN   \n",
       "10    Simulation      9.05     10.95      1.93         2.74           NaN   \n",
       "11        Racing      9.71      7.47      4.13         1.90          91.0   \n",
       "12  Role-Playing      9.00      6.18      7.20         0.71           NaN   \n",
       "13        Sports      8.92      8.03      3.60         2.15          80.0   \n",
       "14          Misc     15.00      4.89      0.24         1.69          61.0   \n",
       "15        Sports      9.01      8.49      2.53         1.77          80.0   \n",
       "16        Action      7.02      9.09      0.98         3.96          97.0   \n",
       "17        Action      9.43      0.40      0.41        10.57          95.0   \n",
       "18      Platform     12.78      3.75      3.54         0.55           NaN   \n",
       "19          Misc      4.74      9.20      4.16         2.04          77.0   \n",
       "\n",
       "   User_Score Rating  \n",
       "0           8      E  \n",
       "1         NaN    NaN  \n",
       "2         8.3      E  \n",
       "3           8      E  \n",
       "4         NaN    NaN  \n",
       "5         NaN    NaN  \n",
       "6         8.5      E  \n",
       "7         6.6      E  \n",
       "8         8.4      E  \n",
       "9         NaN    NaN  \n",
       "10        NaN    NaN  \n",
       "11        8.6      E  \n",
       "12        NaN    NaN  \n",
       "13        7.7      E  \n",
       "14        6.3      E  \n",
       "15        7.4      E  \n",
       "16        8.2      M  \n",
       "17          9      M  \n",
       "18        NaN    NaN  \n",
       "19        7.9      E  "
      ]
     },
     "execution_count": 45,
     "metadata": {},
     "output_type": "execute_result"
    }
   ],
   "source": [
    "# importing \n",
    "import pandas as pd\n",
    "import seaborn as sns\n",
    "import plotly.express as px\n",
    "import numpy as np\n",
    "import scipy.stats as st\n",
    "import matplotlib.pyplot as plt\n",
    "\n",
    "# Read in the data and view for any abnormalities\n",
    "games = pd.read_csv('/Users/angeneris/Desktop/integrated_project_1/games.csv')\n",
    "games.head(20)"
   ]
  },
  {
   "cell_type": "code",
   "execution_count": 46,
   "metadata": {},
   "outputs": [
    {
     "name": "stdout",
     "output_type": "stream",
     "text": [
      "<class 'pandas.core.frame.DataFrame'>\n",
      "RangeIndex: 16715 entries, 0 to 16714\n",
      "Data columns (total 11 columns):\n",
      " #   Column           Non-Null Count  Dtype  \n",
      "---  ------           --------------  -----  \n",
      " 0   Name             16713 non-null  object \n",
      " 1   Platform         16715 non-null  object \n",
      " 2   Year_of_Release  16446 non-null  float64\n",
      " 3   Genre            16713 non-null  object \n",
      " 4   NA_sales         16715 non-null  float64\n",
      " 5   EU_sales         16715 non-null  float64\n",
      " 6   JP_sales         16715 non-null  float64\n",
      " 7   Other_sales      16715 non-null  float64\n",
      " 8   Critic_Score     8137 non-null   float64\n",
      " 9   User_Score       10014 non-null  object \n",
      " 10  Rating           9949 non-null   object \n",
      "dtypes: float64(6), object(5)\n",
      "memory usage: 1.4+ MB\n"
     ]
    }
   ],
   "source": [
    "# Data cleaning- checking for any issues with the data \n",
    "games.info()"
   ]
  },
  {
   "cell_type": "markdown",
   "metadata": {},
   "source": [
    "### Issues found: \n",
    "\n",
    "- Lots of null values, and not all columns match the amount of null values\n",
    "- Year of release should be a datetime object, currently is float \n",
    "- Critic score should be int, currently is float \n",
    "- User score should be float, is object \n",
    "<br>\n",
    "\n"
   ]
  },
  {
   "cell_type": "markdown",
   "metadata": {},
   "source": [
    "## Step 2: Data Cleaning"
   ]
  },
  {
   "cell_type": "code",
   "execution_count": 47,
   "metadata": {},
   "outputs": [
    {
     "data": {
      "text/html": [
       "<div>\n",
       "<style scoped>\n",
       "    .dataframe tbody tr th:only-of-type {\n",
       "        vertical-align: middle;\n",
       "    }\n",
       "\n",
       "    .dataframe tbody tr th {\n",
       "        vertical-align: top;\n",
       "    }\n",
       "\n",
       "    .dataframe thead th {\n",
       "        text-align: right;\n",
       "    }\n",
       "</style>\n",
       "<table border=\"1\" class=\"dataframe\">\n",
       "  <thead>\n",
       "    <tr style=\"text-align: right;\">\n",
       "      <th></th>\n",
       "      <th>name</th>\n",
       "      <th>platform</th>\n",
       "      <th>year_of_release</th>\n",
       "      <th>genre</th>\n",
       "      <th>na_sales</th>\n",
       "      <th>eu_sales</th>\n",
       "      <th>jp_sales</th>\n",
       "      <th>other_sales</th>\n",
       "      <th>critic_score</th>\n",
       "      <th>user_score</th>\n",
       "      <th>rating</th>\n",
       "    </tr>\n",
       "  </thead>\n",
       "  <tbody>\n",
       "    <tr>\n",
       "      <th>0</th>\n",
       "      <td>Wii Sports</td>\n",
       "      <td>Wii</td>\n",
       "      <td>2006.0</td>\n",
       "      <td>Sports</td>\n",
       "      <td>41.36</td>\n",
       "      <td>28.96</td>\n",
       "      <td>3.77</td>\n",
       "      <td>8.45</td>\n",
       "      <td>76.0</td>\n",
       "      <td>8</td>\n",
       "      <td>E</td>\n",
       "    </tr>\n",
       "    <tr>\n",
       "      <th>1</th>\n",
       "      <td>Super Mario Bros.</td>\n",
       "      <td>NES</td>\n",
       "      <td>1985.0</td>\n",
       "      <td>Platform</td>\n",
       "      <td>29.08</td>\n",
       "      <td>3.58</td>\n",
       "      <td>6.81</td>\n",
       "      <td>0.77</td>\n",
       "      <td>NaN</td>\n",
       "      <td>NaN</td>\n",
       "      <td>NaN</td>\n",
       "    </tr>\n",
       "    <tr>\n",
       "      <th>2</th>\n",
       "      <td>Mario Kart Wii</td>\n",
       "      <td>Wii</td>\n",
       "      <td>2008.0</td>\n",
       "      <td>Racing</td>\n",
       "      <td>15.68</td>\n",
       "      <td>12.76</td>\n",
       "      <td>3.79</td>\n",
       "      <td>3.29</td>\n",
       "      <td>82.0</td>\n",
       "      <td>8.3</td>\n",
       "      <td>E</td>\n",
       "    </tr>\n",
       "    <tr>\n",
       "      <th>3</th>\n",
       "      <td>Wii Sports Resort</td>\n",
       "      <td>Wii</td>\n",
       "      <td>2009.0</td>\n",
       "      <td>Sports</td>\n",
       "      <td>15.61</td>\n",
       "      <td>10.93</td>\n",
       "      <td>3.28</td>\n",
       "      <td>2.95</td>\n",
       "      <td>80.0</td>\n",
       "      <td>8</td>\n",
       "      <td>E</td>\n",
       "    </tr>\n",
       "    <tr>\n",
       "      <th>4</th>\n",
       "      <td>Pokemon Red/Pokemon Blue</td>\n",
       "      <td>GB</td>\n",
       "      <td>1996.0</td>\n",
       "      <td>Role-Playing</td>\n",
       "      <td>11.27</td>\n",
       "      <td>8.89</td>\n",
       "      <td>10.22</td>\n",
       "      <td>1.00</td>\n",
       "      <td>NaN</td>\n",
       "      <td>NaN</td>\n",
       "      <td>NaN</td>\n",
       "    </tr>\n",
       "  </tbody>\n",
       "</table>\n",
       "</div>"
      ],
      "text/plain": [
       "                       name platform  year_of_release         genre  na_sales  \\\n",
       "0                Wii Sports      Wii           2006.0        Sports     41.36   \n",
       "1         Super Mario Bros.      NES           1985.0      Platform     29.08   \n",
       "2            Mario Kart Wii      Wii           2008.0        Racing     15.68   \n",
       "3         Wii Sports Resort      Wii           2009.0        Sports     15.61   \n",
       "4  Pokemon Red/Pokemon Blue       GB           1996.0  Role-Playing     11.27   \n",
       "\n",
       "   eu_sales  jp_sales  other_sales  critic_score user_score rating  \n",
       "0     28.96      3.77         8.45          76.0          8      E  \n",
       "1      3.58      6.81         0.77           NaN        NaN    NaN  \n",
       "2     12.76      3.79         3.29          82.0        8.3      E  \n",
       "3     10.93      3.28         2.95          80.0          8      E  \n",
       "4      8.89     10.22         1.00           NaN        NaN    NaN  "
      ]
     },
     "execution_count": 47,
     "metadata": {},
     "output_type": "execute_result"
    }
   ],
   "source": [
    "# Changing columns to lowercase and saving back to games \n",
    "games.columns = games.columns.str.lower()\n",
    "\n",
    "games.head()"
   ]
  },
  {
   "cell_type": "markdown",
   "metadata": {},
   "source": [
    "Dropping all null values from 'year_of_release' first because this column is extremely important to the analysis in this project. I'm also dropping them because there isn't another meaningful way to display this data alternatively if we proceed with the null values. \n",
    "<br>\n",
    "\n",
    "- Why are the values missing? <br>\n",
    "The values may be missing from the year_of_release because they are either so old or new that they may not have been processed correctly. We can find out more about this by reviewing all the other column data that shows up when we view a NaN year_of_release\n",
    "\n",
    "<br> \n",
    "We will also cut out the rest of the null values for most of the columns to match the exact number of non- null values as year_of_release. The following columns will continue with null values that will be changes to a placeholder: 'critic_score', 'user_score' and 'rating'. These columns offer a bit more flexibility with continuing with null values."
   ]
  },
  {
   "cell_type": "code",
   "execution_count": 48,
   "metadata": {},
   "outputs": [
    {
     "name": "stdout",
     "output_type": "stream",
     "text": [
      "<class 'pandas.core.frame.DataFrame'>\n",
      "Index: 16444 entries, 0 to 16714\n",
      "Data columns (total 11 columns):\n",
      " #   Column           Non-Null Count  Dtype  \n",
      "---  ------           --------------  -----  \n",
      " 0   name             16444 non-null  object \n",
      " 1   platform         16444 non-null  object \n",
      " 2   year_of_release  16444 non-null  float64\n",
      " 3   genre            16444 non-null  object \n",
      " 4   na_sales         16444 non-null  float64\n",
      " 5   eu_sales         16444 non-null  float64\n",
      " 6   jp_sales         16444 non-null  float64\n",
      " 7   other_sales      16444 non-null  float64\n",
      " 8   critic_score     7983 non-null   float64\n",
      " 9   user_score       9839 non-null   object \n",
      " 10  rating           9768 non-null   object \n",
      "dtypes: float64(6), object(5)\n",
      "memory usage: 1.5+ MB\n"
     ]
    }
   ],
   "source": [
    "# List of columns to clean by dropping null values\n",
    "columns_to_clean = ['year_of_release', 'name', 'platform', 'genre', 'eu_sales', 'jp_sales', 'other_sales']\n",
    "\n",
    "# Dropping null values from specified columns\n",
    "games = games.dropna(subset=columns_to_clean)\n",
    "\n",
    "games.info()"
   ]
  },
  {
   "cell_type": "markdown",
   "metadata": {},
   "source": [
    "Looks good, all columns except for 'critic_score', 'user_score' and 'rating' now have 16444 non-null values. \n",
    "\n",
    "<br> \n",
    "Next, we'll move on to cleaning the column 'critic_score'\n",
    "Then 'user_score' and finally, 'rating'\n",
    "\n",
    "<br> \n",
    "\n",
    "- Why are there missing values?<br>\n",
    "In these columns, the missing values have a more obvious reason- they just don't have a rating/ score yet. This could either be because the rating system started after the tracking of this data or because the rating has yet to processed or has never been completed. We can find more about these differences by reviewing just these columns with the year_of_release column to see if there are any patterns."
   ]
  },
  {
   "cell_type": "code",
   "execution_count": 49,
   "metadata": {},
   "outputs": [
    {
     "name": "stdout",
     "output_type": "stream",
     "text": [
      "<class 'pandas.core.frame.DataFrame'>\n",
      "Index: 16444 entries, 0 to 16714\n",
      "Data columns (total 11 columns):\n",
      " #   Column           Non-Null Count  Dtype  \n",
      "---  ------           --------------  -----  \n",
      " 0   name             16444 non-null  object \n",
      " 1   platform         16444 non-null  object \n",
      " 2   year_of_release  16444 non-null  Int64  \n",
      " 3   genre            16444 non-null  object \n",
      " 4   na_sales         16444 non-null  float64\n",
      " 5   eu_sales         16444 non-null  float64\n",
      " 6   jp_sales         16444 non-null  float64\n",
      " 7   other_sales      16444 non-null  float64\n",
      " 8   critic_score     16444 non-null  Int64  \n",
      " 9   user_score       16444 non-null  float64\n",
      " 10  rating           16444 non-null  object \n",
      "dtypes: Int64(2), float64(5), object(4)\n",
      "memory usage: 1.5+ MB\n"
     ]
    }
   ],
   "source": [
    "# Converting 'critic_score' to integer and handling missing values\n",
    "games['critic_score'] = pd.to_numeric(games['critic_score'], errors='coerce').astype('Int64')\n",
    "\n",
    "# Converting 'user_score' to float and handling missing values\n",
    "games['user_score'] = pd.to_numeric(games['user_score'], errors='coerce')\n",
    "\n",
    "# Converting year_of_release to int as datetime may be unecessary with only the year given\n",
    "\n",
    "games['year_of_release'] = pd.to_numeric(games['year_of_release'], errors='coerce').astype('Int64')\n",
    "\n",
    "# Filling missing values with placeholder -1 for ease of filtering later \n",
    "cols_to_fill = ['user_score', 'critic_score', 'rating']\n",
    "games= games.fillna(value={'user_score': -1, 'critic_score': -1, 'rating': 'no rating'})\n",
    "\n",
    "# Checking \n",
    "games.info()"
   ]
  },
  {
   "cell_type": "code",
   "execution_count": 50,
   "metadata": {},
   "outputs": [
    {
     "data": {
      "text/plain": [
       "critic_score    98.0\n",
       "user_score       9.7\n",
       "dtype: Float64"
      ]
     },
     "execution_count": 50,
     "metadata": {},
     "output_type": "execute_result"
    }
   ],
   "source": [
    "# Checking that there are no outliers in the data for 'critic_score' and 'user_score'\n",
    "# critic_score should have a max of 100 and user_score max of 10\n",
    "games[['critic_score','user_score']].max()"
   ]
  },
  {
   "cell_type": "code",
   "execution_count": 51,
   "metadata": {},
   "outputs": [
    {
     "data": {
      "text/html": [
       "<div>\n",
       "<style scoped>\n",
       "    .dataframe tbody tr th:only-of-type {\n",
       "        vertical-align: middle;\n",
       "    }\n",
       "\n",
       "    .dataframe tbody tr th {\n",
       "        vertical-align: top;\n",
       "    }\n",
       "\n",
       "    .dataframe thead th {\n",
       "        text-align: right;\n",
       "    }\n",
       "</style>\n",
       "<table border=\"1\" class=\"dataframe\">\n",
       "  <thead>\n",
       "    <tr style=\"text-align: right;\">\n",
       "      <th></th>\n",
       "      <th>name</th>\n",
       "      <th>platform</th>\n",
       "      <th>year_of_release</th>\n",
       "      <th>genre</th>\n",
       "      <th>na_sales</th>\n",
       "      <th>eu_sales</th>\n",
       "      <th>jp_sales</th>\n",
       "      <th>other_sales</th>\n",
       "      <th>critic_score</th>\n",
       "      <th>user_score</th>\n",
       "      <th>rating</th>\n",
       "      <th>total_revenue</th>\n",
       "    </tr>\n",
       "  </thead>\n",
       "  <tbody>\n",
       "    <tr>\n",
       "      <th>0</th>\n",
       "      <td>Wii Sports</td>\n",
       "      <td>Wii</td>\n",
       "      <td>2006</td>\n",
       "      <td>Sports</td>\n",
       "      <td>41.36</td>\n",
       "      <td>28.96</td>\n",
       "      <td>3.77</td>\n",
       "      <td>8.45</td>\n",
       "      <td>76</td>\n",
       "      <td>8.0</td>\n",
       "      <td>E</td>\n",
       "      <td>82.54</td>\n",
       "    </tr>\n",
       "    <tr>\n",
       "      <th>1</th>\n",
       "      <td>Super Mario Bros.</td>\n",
       "      <td>NES</td>\n",
       "      <td>1985</td>\n",
       "      <td>Platform</td>\n",
       "      <td>29.08</td>\n",
       "      <td>3.58</td>\n",
       "      <td>6.81</td>\n",
       "      <td>0.77</td>\n",
       "      <td>-1</td>\n",
       "      <td>-1.0</td>\n",
       "      <td>no rating</td>\n",
       "      <td>40.24</td>\n",
       "    </tr>\n",
       "    <tr>\n",
       "      <th>2</th>\n",
       "      <td>Mario Kart Wii</td>\n",
       "      <td>Wii</td>\n",
       "      <td>2008</td>\n",
       "      <td>Racing</td>\n",
       "      <td>15.68</td>\n",
       "      <td>12.76</td>\n",
       "      <td>3.79</td>\n",
       "      <td>3.29</td>\n",
       "      <td>82</td>\n",
       "      <td>8.3</td>\n",
       "      <td>E</td>\n",
       "      <td>35.52</td>\n",
       "    </tr>\n",
       "    <tr>\n",
       "      <th>3</th>\n",
       "      <td>Wii Sports Resort</td>\n",
       "      <td>Wii</td>\n",
       "      <td>2009</td>\n",
       "      <td>Sports</td>\n",
       "      <td>15.61</td>\n",
       "      <td>10.93</td>\n",
       "      <td>3.28</td>\n",
       "      <td>2.95</td>\n",
       "      <td>80</td>\n",
       "      <td>8.0</td>\n",
       "      <td>E</td>\n",
       "      <td>32.77</td>\n",
       "    </tr>\n",
       "    <tr>\n",
       "      <th>4</th>\n",
       "      <td>Pokemon Red/Pokemon Blue</td>\n",
       "      <td>GB</td>\n",
       "      <td>1996</td>\n",
       "      <td>Role-Playing</td>\n",
       "      <td>11.27</td>\n",
       "      <td>8.89</td>\n",
       "      <td>10.22</td>\n",
       "      <td>1.00</td>\n",
       "      <td>-1</td>\n",
       "      <td>-1.0</td>\n",
       "      <td>no rating</td>\n",
       "      <td>31.38</td>\n",
       "    </tr>\n",
       "    <tr>\n",
       "      <th>...</th>\n",
       "      <td>...</td>\n",
       "      <td>...</td>\n",
       "      <td>...</td>\n",
       "      <td>...</td>\n",
       "      <td>...</td>\n",
       "      <td>...</td>\n",
       "      <td>...</td>\n",
       "      <td>...</td>\n",
       "      <td>...</td>\n",
       "      <td>...</td>\n",
       "      <td>...</td>\n",
       "      <td>...</td>\n",
       "    </tr>\n",
       "    <tr>\n",
       "      <th>16710</th>\n",
       "      <td>Samurai Warriors: Sanada Maru</td>\n",
       "      <td>PS3</td>\n",
       "      <td>2016</td>\n",
       "      <td>Action</td>\n",
       "      <td>0.00</td>\n",
       "      <td>0.00</td>\n",
       "      <td>0.01</td>\n",
       "      <td>0.00</td>\n",
       "      <td>-1</td>\n",
       "      <td>-1.0</td>\n",
       "      <td>no rating</td>\n",
       "      <td>0.01</td>\n",
       "    </tr>\n",
       "    <tr>\n",
       "      <th>16711</th>\n",
       "      <td>LMA Manager 2007</td>\n",
       "      <td>X360</td>\n",
       "      <td>2006</td>\n",
       "      <td>Sports</td>\n",
       "      <td>0.00</td>\n",
       "      <td>0.01</td>\n",
       "      <td>0.00</td>\n",
       "      <td>0.00</td>\n",
       "      <td>-1</td>\n",
       "      <td>-1.0</td>\n",
       "      <td>no rating</td>\n",
       "      <td>0.01</td>\n",
       "    </tr>\n",
       "    <tr>\n",
       "      <th>16712</th>\n",
       "      <td>Haitaka no Psychedelica</td>\n",
       "      <td>PSV</td>\n",
       "      <td>2016</td>\n",
       "      <td>Adventure</td>\n",
       "      <td>0.00</td>\n",
       "      <td>0.00</td>\n",
       "      <td>0.01</td>\n",
       "      <td>0.00</td>\n",
       "      <td>-1</td>\n",
       "      <td>-1.0</td>\n",
       "      <td>no rating</td>\n",
       "      <td>0.01</td>\n",
       "    </tr>\n",
       "    <tr>\n",
       "      <th>16713</th>\n",
       "      <td>Spirits &amp; Spells</td>\n",
       "      <td>GBA</td>\n",
       "      <td>2003</td>\n",
       "      <td>Platform</td>\n",
       "      <td>0.01</td>\n",
       "      <td>0.00</td>\n",
       "      <td>0.00</td>\n",
       "      <td>0.00</td>\n",
       "      <td>-1</td>\n",
       "      <td>-1.0</td>\n",
       "      <td>no rating</td>\n",
       "      <td>0.01</td>\n",
       "    </tr>\n",
       "    <tr>\n",
       "      <th>16714</th>\n",
       "      <td>Winning Post 8 2016</td>\n",
       "      <td>PSV</td>\n",
       "      <td>2016</td>\n",
       "      <td>Simulation</td>\n",
       "      <td>0.00</td>\n",
       "      <td>0.00</td>\n",
       "      <td>0.01</td>\n",
       "      <td>0.00</td>\n",
       "      <td>-1</td>\n",
       "      <td>-1.0</td>\n",
       "      <td>no rating</td>\n",
       "      <td>0.01</td>\n",
       "    </tr>\n",
       "  </tbody>\n",
       "</table>\n",
       "<p>16444 rows × 12 columns</p>\n",
       "</div>"
      ],
      "text/plain": [
       "                                name platform  year_of_release         genre  \\\n",
       "0                         Wii Sports      Wii             2006        Sports   \n",
       "1                  Super Mario Bros.      NES             1985      Platform   \n",
       "2                     Mario Kart Wii      Wii             2008        Racing   \n",
       "3                  Wii Sports Resort      Wii             2009        Sports   \n",
       "4           Pokemon Red/Pokemon Blue       GB             1996  Role-Playing   \n",
       "...                              ...      ...              ...           ...   \n",
       "16710  Samurai Warriors: Sanada Maru      PS3             2016        Action   \n",
       "16711               LMA Manager 2007     X360             2006        Sports   \n",
       "16712        Haitaka no Psychedelica      PSV             2016     Adventure   \n",
       "16713               Spirits & Spells      GBA             2003      Platform   \n",
       "16714            Winning Post 8 2016      PSV             2016    Simulation   \n",
       "\n",
       "       na_sales  eu_sales  jp_sales  other_sales  critic_score  user_score  \\\n",
       "0         41.36     28.96      3.77         8.45            76         8.0   \n",
       "1         29.08      3.58      6.81         0.77            -1        -1.0   \n",
       "2         15.68     12.76      3.79         3.29            82         8.3   \n",
       "3         15.61     10.93      3.28         2.95            80         8.0   \n",
       "4         11.27      8.89     10.22         1.00            -1        -1.0   \n",
       "...         ...       ...       ...          ...           ...         ...   \n",
       "16710      0.00      0.00      0.01         0.00            -1        -1.0   \n",
       "16711      0.00      0.01      0.00         0.00            -1        -1.0   \n",
       "16712      0.00      0.00      0.01         0.00            -1        -1.0   \n",
       "16713      0.01      0.00      0.00         0.00            -1        -1.0   \n",
       "16714      0.00      0.00      0.01         0.00            -1        -1.0   \n",
       "\n",
       "          rating  total_revenue  \n",
       "0              E          82.54  \n",
       "1      no rating          40.24  \n",
       "2              E          35.52  \n",
       "3              E          32.77  \n",
       "4      no rating          31.38  \n",
       "...          ...            ...  \n",
       "16710  no rating           0.01  \n",
       "16711  no rating           0.01  \n",
       "16712  no rating           0.01  \n",
       "16713  no rating           0.01  \n",
       "16714  no rating           0.01  \n",
       "\n",
       "[16444 rows x 12 columns]"
      ]
     },
     "execution_count": 51,
     "metadata": {},
     "output_type": "execute_result"
    }
   ],
   "source": [
    "# Creating a new column for total_revenue. This will combine sales revenue from all regions and add a new column to the dataframe\n",
    "games['total_revenue'] = games[['na_sales', 'eu_sales', 'jp_sales', 'other_sales']].sum(axis=1)\n",
    "\n",
    "games"
   ]
  },
  {
   "cell_type": "code",
   "execution_count": 52,
   "metadata": {},
   "outputs": [
    {
     "data": {
      "text/html": [
       "<div>\n",
       "<style scoped>\n",
       "    .dataframe tbody tr th:only-of-type {\n",
       "        vertical-align: middle;\n",
       "    }\n",
       "\n",
       "    .dataframe tbody tr th {\n",
       "        vertical-align: top;\n",
       "    }\n",
       "\n",
       "    .dataframe thead th {\n",
       "        text-align: right;\n",
       "    }\n",
       "</style>\n",
       "<table border=\"1\" class=\"dataframe\">\n",
       "  <thead>\n",
       "    <tr style=\"text-align: right;\">\n",
       "      <th></th>\n",
       "      <th>name</th>\n",
       "      <th>platform</th>\n",
       "      <th>year_of_release</th>\n",
       "      <th>genre</th>\n",
       "      <th>na_sales</th>\n",
       "      <th>eu_sales</th>\n",
       "      <th>jp_sales</th>\n",
       "      <th>other_sales</th>\n",
       "      <th>critic_score</th>\n",
       "      <th>user_score</th>\n",
       "      <th>rating</th>\n",
       "      <th>total_revenue</th>\n",
       "    </tr>\n",
       "  </thead>\n",
       "  <tbody>\n",
       "    <tr>\n",
       "      <th>0</th>\n",
       "      <td>Wii Sports</td>\n",
       "      <td>Wii</td>\n",
       "      <td>2006</td>\n",
       "      <td>Sports</td>\n",
       "      <td>41.36</td>\n",
       "      <td>28.96</td>\n",
       "      <td>3.77</td>\n",
       "      <td>8.45</td>\n",
       "      <td>76</td>\n",
       "      <td>8.0</td>\n",
       "      <td>E</td>\n",
       "      <td>82.54</td>\n",
       "    </tr>\n",
       "    <tr>\n",
       "      <th>1</th>\n",
       "      <td>Super Mario Bros.</td>\n",
       "      <td>NES</td>\n",
       "      <td>1985</td>\n",
       "      <td>Platform</td>\n",
       "      <td>29.08</td>\n",
       "      <td>3.58</td>\n",
       "      <td>6.81</td>\n",
       "      <td>0.77</td>\n",
       "      <td>-1</td>\n",
       "      <td>-1.0</td>\n",
       "      <td>no rating</td>\n",
       "      <td>40.24</td>\n",
       "    </tr>\n",
       "    <tr>\n",
       "      <th>2</th>\n",
       "      <td>Mario Kart Wii</td>\n",
       "      <td>Wii</td>\n",
       "      <td>2008</td>\n",
       "      <td>Racing</td>\n",
       "      <td>15.68</td>\n",
       "      <td>12.76</td>\n",
       "      <td>3.79</td>\n",
       "      <td>3.29</td>\n",
       "      <td>82</td>\n",
       "      <td>8.3</td>\n",
       "      <td>E</td>\n",
       "      <td>35.52</td>\n",
       "    </tr>\n",
       "    <tr>\n",
       "      <th>3</th>\n",
       "      <td>Wii Sports Resort</td>\n",
       "      <td>Wii</td>\n",
       "      <td>2009</td>\n",
       "      <td>Sports</td>\n",
       "      <td>15.61</td>\n",
       "      <td>10.93</td>\n",
       "      <td>3.28</td>\n",
       "      <td>2.95</td>\n",
       "      <td>80</td>\n",
       "      <td>8.0</td>\n",
       "      <td>E</td>\n",
       "      <td>32.77</td>\n",
       "    </tr>\n",
       "    <tr>\n",
       "      <th>4</th>\n",
       "      <td>Pokemon Red/Pokemon Blue</td>\n",
       "      <td>GB</td>\n",
       "      <td>1996</td>\n",
       "      <td>Role-Playing</td>\n",
       "      <td>11.27</td>\n",
       "      <td>8.89</td>\n",
       "      <td>10.22</td>\n",
       "      <td>1.00</td>\n",
       "      <td>-1</td>\n",
       "      <td>-1.0</td>\n",
       "      <td>no rating</td>\n",
       "      <td>31.38</td>\n",
       "    </tr>\n",
       "  </tbody>\n",
       "</table>\n",
       "</div>"
      ],
      "text/plain": [
       "                       name platform  year_of_release         genre  na_sales  \\\n",
       "0                Wii Sports      Wii             2006        Sports     41.36   \n",
       "1         Super Mario Bros.      NES             1985      Platform     29.08   \n",
       "2            Mario Kart Wii      Wii             2008        Racing     15.68   \n",
       "3         Wii Sports Resort      Wii             2009        Sports     15.61   \n",
       "4  Pokemon Red/Pokemon Blue       GB             1996  Role-Playing     11.27   \n",
       "\n",
       "   eu_sales  jp_sales  other_sales  critic_score  user_score     rating  \\\n",
       "0     28.96      3.77         8.45            76         8.0          E   \n",
       "1      3.58      6.81         0.77            -1        -1.0  no rating   \n",
       "2     12.76      3.79         3.29            82         8.3          E   \n",
       "3     10.93      3.28         2.95            80         8.0          E   \n",
       "4      8.89     10.22         1.00            -1        -1.0  no rating   \n",
       "\n",
       "   total_revenue  \n",
       "0          82.54  \n",
       "1          40.24  \n",
       "2          35.52  \n",
       "3          32.77  \n",
       "4          31.38  "
      ]
     },
     "execution_count": 52,
     "metadata": {},
     "output_type": "execute_result"
    }
   ],
   "source": [
    "# Checking \n",
    "games.head()"
   ]
  },
  {
   "cell_type": "markdown",
   "metadata": {},
   "source": [
    "The data has now been processed and is ready for analysis. \n",
    "<br>\n",
    "\n",
    "## Step 3: Data Analysis "
   ]
  },
  {
   "cell_type": "markdown",
   "metadata": {},
   "source": [
    "#### Groping games by release year "
   ]
  },
  {
   "cell_type": "code",
   "execution_count": 53,
   "metadata": {},
   "outputs": [
    {
     "data": {
      "text/html": [
       "<div>\n",
       "<style scoped>\n",
       "    .dataframe tbody tr th:only-of-type {\n",
       "        vertical-align: middle;\n",
       "    }\n",
       "\n",
       "    .dataframe tbody tr th {\n",
       "        vertical-align: top;\n",
       "    }\n",
       "\n",
       "    .dataframe thead th {\n",
       "        text-align: right;\n",
       "    }\n",
       "</style>\n",
       "<table border=\"1\" class=\"dataframe\">\n",
       "  <thead>\n",
       "    <tr style=\"text-align: right;\">\n",
       "      <th></th>\n",
       "      <th>year_of_release</th>\n",
       "      <th>games_released</th>\n",
       "    </tr>\n",
       "  </thead>\n",
       "  <tbody>\n",
       "    <tr>\n",
       "      <th>0</th>\n",
       "      <td>1980</td>\n",
       "      <td>9</td>\n",
       "    </tr>\n",
       "    <tr>\n",
       "      <th>1</th>\n",
       "      <td>1981</td>\n",
       "      <td>46</td>\n",
       "    </tr>\n",
       "    <tr>\n",
       "      <th>2</th>\n",
       "      <td>1982</td>\n",
       "      <td>36</td>\n",
       "    </tr>\n",
       "    <tr>\n",
       "      <th>3</th>\n",
       "      <td>1983</td>\n",
       "      <td>17</td>\n",
       "    </tr>\n",
       "    <tr>\n",
       "      <th>4</th>\n",
       "      <td>1984</td>\n",
       "      <td>14</td>\n",
       "    </tr>\n",
       "    <tr>\n",
       "      <th>5</th>\n",
       "      <td>1985</td>\n",
       "      <td>14</td>\n",
       "    </tr>\n",
       "    <tr>\n",
       "      <th>6</th>\n",
       "      <td>1986</td>\n",
       "      <td>21</td>\n",
       "    </tr>\n",
       "    <tr>\n",
       "      <th>7</th>\n",
       "      <td>1987</td>\n",
       "      <td>16</td>\n",
       "    </tr>\n",
       "    <tr>\n",
       "      <th>8</th>\n",
       "      <td>1988</td>\n",
       "      <td>15</td>\n",
       "    </tr>\n",
       "    <tr>\n",
       "      <th>9</th>\n",
       "      <td>1989</td>\n",
       "      <td>17</td>\n",
       "    </tr>\n",
       "    <tr>\n",
       "      <th>10</th>\n",
       "      <td>1990</td>\n",
       "      <td>16</td>\n",
       "    </tr>\n",
       "    <tr>\n",
       "      <th>11</th>\n",
       "      <td>1991</td>\n",
       "      <td>41</td>\n",
       "    </tr>\n",
       "    <tr>\n",
       "      <th>12</th>\n",
       "      <td>1992</td>\n",
       "      <td>43</td>\n",
       "    </tr>\n",
       "    <tr>\n",
       "      <th>13</th>\n",
       "      <td>1993</td>\n",
       "      <td>60</td>\n",
       "    </tr>\n",
       "    <tr>\n",
       "      <th>14</th>\n",
       "      <td>1994</td>\n",
       "      <td>121</td>\n",
       "    </tr>\n",
       "    <tr>\n",
       "      <th>15</th>\n",
       "      <td>1995</td>\n",
       "      <td>219</td>\n",
       "    </tr>\n",
       "    <tr>\n",
       "      <th>16</th>\n",
       "      <td>1996</td>\n",
       "      <td>263</td>\n",
       "    </tr>\n",
       "    <tr>\n",
       "      <th>17</th>\n",
       "      <td>1997</td>\n",
       "      <td>289</td>\n",
       "    </tr>\n",
       "    <tr>\n",
       "      <th>18</th>\n",
       "      <td>1998</td>\n",
       "      <td>379</td>\n",
       "    </tr>\n",
       "    <tr>\n",
       "      <th>19</th>\n",
       "      <td>1999</td>\n",
       "      <td>338</td>\n",
       "    </tr>\n",
       "    <tr>\n",
       "      <th>20</th>\n",
       "      <td>2000</td>\n",
       "      <td>350</td>\n",
       "    </tr>\n",
       "    <tr>\n",
       "      <th>21</th>\n",
       "      <td>2001</td>\n",
       "      <td>482</td>\n",
       "    </tr>\n",
       "    <tr>\n",
       "      <th>22</th>\n",
       "      <td>2002</td>\n",
       "      <td>829</td>\n",
       "    </tr>\n",
       "    <tr>\n",
       "      <th>23</th>\n",
       "      <td>2003</td>\n",
       "      <td>775</td>\n",
       "    </tr>\n",
       "    <tr>\n",
       "      <th>24</th>\n",
       "      <td>2004</td>\n",
       "      <td>762</td>\n",
       "    </tr>\n",
       "    <tr>\n",
       "      <th>25</th>\n",
       "      <td>2005</td>\n",
       "      <td>939</td>\n",
       "    </tr>\n",
       "    <tr>\n",
       "      <th>26</th>\n",
       "      <td>2006</td>\n",
       "      <td>1006</td>\n",
       "    </tr>\n",
       "    <tr>\n",
       "      <th>27</th>\n",
       "      <td>2007</td>\n",
       "      <td>1197</td>\n",
       "    </tr>\n",
       "    <tr>\n",
       "      <th>28</th>\n",
       "      <td>2008</td>\n",
       "      <td>1427</td>\n",
       "    </tr>\n",
       "    <tr>\n",
       "      <th>29</th>\n",
       "      <td>2009</td>\n",
       "      <td>1426</td>\n",
       "    </tr>\n",
       "    <tr>\n",
       "      <th>30</th>\n",
       "      <td>2010</td>\n",
       "      <td>1255</td>\n",
       "    </tr>\n",
       "    <tr>\n",
       "      <th>31</th>\n",
       "      <td>2011</td>\n",
       "      <td>1136</td>\n",
       "    </tr>\n",
       "    <tr>\n",
       "      <th>32</th>\n",
       "      <td>2012</td>\n",
       "      <td>653</td>\n",
       "    </tr>\n",
       "    <tr>\n",
       "      <th>33</th>\n",
       "      <td>2013</td>\n",
       "      <td>544</td>\n",
       "    </tr>\n",
       "    <tr>\n",
       "      <th>34</th>\n",
       "      <td>2014</td>\n",
       "      <td>581</td>\n",
       "    </tr>\n",
       "    <tr>\n",
       "      <th>35</th>\n",
       "      <td>2015</td>\n",
       "      <td>606</td>\n",
       "    </tr>\n",
       "    <tr>\n",
       "      <th>36</th>\n",
       "      <td>2016</td>\n",
       "      <td>502</td>\n",
       "    </tr>\n",
       "  </tbody>\n",
       "</table>\n",
       "</div>"
      ],
      "text/plain": [
       "    year_of_release  games_released\n",
       "0              1980               9\n",
       "1              1981              46\n",
       "2              1982              36\n",
       "3              1983              17\n",
       "4              1984              14\n",
       "5              1985              14\n",
       "6              1986              21\n",
       "7              1987              16\n",
       "8              1988              15\n",
       "9              1989              17\n",
       "10             1990              16\n",
       "11             1991              41\n",
       "12             1992              43\n",
       "13             1993              60\n",
       "14             1994             121\n",
       "15             1995             219\n",
       "16             1996             263\n",
       "17             1997             289\n",
       "18             1998             379\n",
       "19             1999             338\n",
       "20             2000             350\n",
       "21             2001             482\n",
       "22             2002             829\n",
       "23             2003             775\n",
       "24             2004             762\n",
       "25             2005             939\n",
       "26             2006            1006\n",
       "27             2007            1197\n",
       "28             2008            1427\n",
       "29             2009            1426\n",
       "30             2010            1255\n",
       "31             2011            1136\n",
       "32             2012             653\n",
       "33             2013             544\n",
       "34             2014             581\n",
       "35             2015             606\n",
       "36             2016             502"
      ]
     },
     "execution_count": 53,
     "metadata": {},
     "output_type": "execute_result"
    }
   ],
   "source": [
    "# Creating a dataframe for the amount of games released each year \n",
    "years = games.groupby('year_of_release').size().reset_index(name= 'games_released')\n",
    "years"
   ]
  },
  {
   "cell_type": "markdown",
   "metadata": {},
   "source": [
    "Looking at this dataframe above, it's clear that there was a 'boom' and a 'bust' period for video game sales by their year of release. The following data will be referred to as $['value']million USD \n",
    "<br> \n",
    "\n",
    "**1980 - 1982** <br> \n",
    "Sales Increase: The jump from the first game release year to the second \"1980 - 1981\" is understandable, as gaming became the next big thing and that trend seemed to last about 2 years before dropping again in 1983. \n",
    "<br> \n",
    "\n",
    "**1983 - 1990** <br> \n",
    "Sales Flucuate: The sales are sporadic in this period, could be due to changes in consumer behavior and devleopers testing out new games. Sales range from 16 with the highest point being 21 in 1986. \n",
    "<br>  \n",
    "\n",
    "**1991 - 1994** <br> \n",
    "Sales Increase: Sales increase conservatively until they hit a boom, when sales double from 60 in 1993 to 121 in 1994.\n",
    "<br> \n",
    "\n",
    "**1995 - 2002** <br> \n",
    "Sales Increase: Sales increase year after year at a significant level. \n",
    "<br> \n",
    "\n",
    "**2003 - 2004** <br> \n",
    "Sales Drop: Sales drop but not by much- almost stagnat in this short period. \n",
    "<br> \n",
    "\n",
    "**2005 - 2009** <br> \n",
    "Sales Increase: Sales pick up and are higher than ever: An almost entirely steady increase in sales year by year. \n",
    "<br> \n",
    "\n",
    "**2010 - 2016** <br> \n",
    "Sales Drop: There is a clear significant and steady decrease in sales year after year from this point forward. This suggest a strong change in the market or sales of this company. Although, this dataset may not give the full picture of 2016 data, this does match the trend seen above. \n",
    "<br> \n",
    "\n",
    "Sales drop all the way from $1,255million USD in 2010 to $502million USD  in 2016. \n",
    "<br>\n",
    "\n",
    "The current data is trending towards a decline in sales and there is no suggestion from the data that this will increase without drastic market changes or company marketing and strategy."
   ]
  },
  {
   "cell_type": "markdown",
   "metadata": {},
   "source": [
    "##### Grouping Revenue by Platform "
   ]
  },
  {
   "cell_type": "code",
   "execution_count": 54,
   "metadata": {},
   "outputs": [
    {
     "data": {
      "text/html": [
       "<div>\n",
       "<style scoped>\n",
       "    .dataframe tbody tr th:only-of-type {\n",
       "        vertical-align: middle;\n",
       "    }\n",
       "\n",
       "    .dataframe tbody tr th {\n",
       "        vertical-align: top;\n",
       "    }\n",
       "\n",
       "    .dataframe thead th {\n",
       "        text-align: right;\n",
       "    }\n",
       "</style>\n",
       "<table border=\"1\" class=\"dataframe\">\n",
       "  <thead>\n",
       "    <tr style=\"text-align: right;\">\n",
       "      <th></th>\n",
       "      <th>platform</th>\n",
       "      <th>total_revenue</th>\n",
       "    </tr>\n",
       "  </thead>\n",
       "  <tbody>\n",
       "    <tr>\n",
       "      <th>16</th>\n",
       "      <td>PS2</td>\n",
       "      <td>1233.56</td>\n",
       "    </tr>\n",
       "    <tr>\n",
       "      <th>28</th>\n",
       "      <td>X360</td>\n",
       "      <td>961.24</td>\n",
       "    </tr>\n",
       "    <tr>\n",
       "      <th>17</th>\n",
       "      <td>PS3</td>\n",
       "      <td>931.34</td>\n",
       "    </tr>\n",
       "    <tr>\n",
       "      <th>26</th>\n",
       "      <td>Wii</td>\n",
       "      <td>891.18</td>\n",
       "    </tr>\n",
       "    <tr>\n",
       "      <th>4</th>\n",
       "      <td>DS</td>\n",
       "      <td>802.78</td>\n",
       "    </tr>\n",
       "  </tbody>\n",
       "</table>\n",
       "</div>"
      ],
      "text/plain": [
       "   platform  total_revenue\n",
       "16      PS2        1233.56\n",
       "28     X360         961.24\n",
       "17      PS3         931.34\n",
       "26      Wii         891.18\n",
       "4        DS         802.78"
      ]
     },
     "execution_count": 54,
     "metadata": {},
     "output_type": "execute_result"
    }
   ],
   "source": [
    "# Grouping total_sales by platform and viewing the most popular first \n",
    "platform_revenue = games.groupby('platform')['total_revenue'].sum().reset_index(name='total_revenue').sort_values(by='total_revenue', ascending=False)\n",
    "platform_revenue.head(5)"
   ]
  },
  {
   "cell_type": "markdown",
   "metadata": {},
   "source": [
    "The most popular gaming platform within this dataset is PS2\twith a total revenue of $1,233.56 million USD. We will continue analysis using this platform for a distribution model."
   ]
  },
  {
   "cell_type": "code",
   "execution_count": 55,
   "metadata": {},
   "outputs": [
    {
     "data": {
      "text/html": [
       "<div>\n",
       "<style scoped>\n",
       "    .dataframe tbody tr th:only-of-type {\n",
       "        vertical-align: middle;\n",
       "    }\n",
       "\n",
       "    .dataframe tbody tr th {\n",
       "        vertical-align: top;\n",
       "    }\n",
       "\n",
       "    .dataframe thead th {\n",
       "        text-align: right;\n",
       "    }\n",
       "</style>\n",
       "<table border=\"1\" class=\"dataframe\">\n",
       "  <thead>\n",
       "    <tr style=\"text-align: right;\">\n",
       "      <th></th>\n",
       "      <th>year_of_release</th>\n",
       "      <th>total_revenue</th>\n",
       "    </tr>\n",
       "  </thead>\n",
       "  <tbody>\n",
       "    <tr>\n",
       "      <th>0</th>\n",
       "      <td>2000</td>\n",
       "      <td>39.17</td>\n",
       "    </tr>\n",
       "    <tr>\n",
       "      <th>1</th>\n",
       "      <td>2001</td>\n",
       "      <td>166.43</td>\n",
       "    </tr>\n",
       "    <tr>\n",
       "      <th>2</th>\n",
       "      <td>2002</td>\n",
       "      <td>205.38</td>\n",
       "    </tr>\n",
       "    <tr>\n",
       "      <th>3</th>\n",
       "      <td>2003</td>\n",
       "      <td>184.31</td>\n",
       "    </tr>\n",
       "    <tr>\n",
       "      <th>4</th>\n",
       "      <td>2004</td>\n",
       "      <td>211.81</td>\n",
       "    </tr>\n",
       "    <tr>\n",
       "      <th>5</th>\n",
       "      <td>2005</td>\n",
       "      <td>160.66</td>\n",
       "    </tr>\n",
       "    <tr>\n",
       "      <th>6</th>\n",
       "      <td>2006</td>\n",
       "      <td>103.42</td>\n",
       "    </tr>\n",
       "    <tr>\n",
       "      <th>7</th>\n",
       "      <td>2007</td>\n",
       "      <td>75.99</td>\n",
       "    </tr>\n",
       "    <tr>\n",
       "      <th>8</th>\n",
       "      <td>2008</td>\n",
       "      <td>53.90</td>\n",
       "    </tr>\n",
       "    <tr>\n",
       "      <th>9</th>\n",
       "      <td>2009</td>\n",
       "      <td>26.40</td>\n",
       "    </tr>\n",
       "    <tr>\n",
       "      <th>10</th>\n",
       "      <td>2010</td>\n",
       "      <td>5.64</td>\n",
       "    </tr>\n",
       "    <tr>\n",
       "      <th>11</th>\n",
       "      <td>2011</td>\n",
       "      <td>0.45</td>\n",
       "    </tr>\n",
       "  </tbody>\n",
       "</table>\n",
       "</div>"
      ],
      "text/plain": [
       "    year_of_release  total_revenue\n",
       "0              2000          39.17\n",
       "1              2001         166.43\n",
       "2              2002         205.38\n",
       "3              2003         184.31\n",
       "4              2004         211.81\n",
       "5              2005         160.66\n",
       "6              2006         103.42\n",
       "7              2007          75.99\n",
       "8              2008          53.90\n",
       "9              2009          26.40\n",
       "10             2010           5.64\n",
       "11             2011           0.45"
      ]
     },
     "execution_count": 55,
     "metadata": {},
     "output_type": "execute_result"
    }
   ],
   "source": [
    "# Visually checking the distribution of total_revenue by year_of_release\n",
    "ps2_sales = games[games['platform']=='PS2'].groupby('year_of_release')['total_revenue'].sum().reset_index(name='total_revenue')\n",
    "ps2_sales"
   ]
  },
  {
   "cell_type": "markdown",
   "metadata": {},
   "source": [
    "From the above dataframe, it appears that there are only notable sales between 2000 - 2011. \n",
    "\n",
    "**The PS2 Platform peaked in popularity between 2001- 2005**\n",
    "\n",
    "The platform had a significant boom after it's first release year then mostly continued to climb till sales began to drop in 2005, followed by a more drastic decline in 2007. This matches the trend expected as the PS3 was released in 2006. Consumers might have heard the news of this release around 2005 and started anticipating the following release. By 2010, it is extremely clear that the gaming system has in fact been replaced."
   ]
  },
  {
   "cell_type": "code",
   "execution_count": 56,
   "metadata": {},
   "outputs": [
    {
     "data": {
      "image/png": "[encoded data removed]",
      "text/plain": [
       "<Figure size 640x480 with 1 Axes>"
      ]
     },
     "metadata": {},
     "output_type": "display_data"
    }
   ],
   "source": [
    "# Grouping PS2 data to plot a distribution \n",
    "ps2_data = games[games['platform'] == 'PS2']\n",
    "\n",
    "# Plot distribution of total_revenue\n",
    "plt.hist(ps2_data['total_revenue'], bins=20)  \n",
    "plt.xlabel('Total Revenue (USD Millions)') \n",
    "plt.ylabel('Frequency of Sale') \n",
    "plt.title('Distribution of Total Sales for PS2 Platform')  \n",
    "plt.show()"
   ]
  },
  {
   "cell_type": "markdown",
   "metadata": {},
   "source": [
    "From the above histogram, you can see a positive, right skew. Although it is difficult to notice how long the right tail really is:\n",
    "\n",
    "- You can imply that the mean is probably larger than the median, since there is such a large frequency of PS2 games with a smaller total revenue. \n",
    "\n",
    "- Secondary to the largest portion of this histogram, there is also a larger frequency in games that brought in slightly more revenue that 0-1 million. \n",
    "\n",
    "- There are hardly any visible instances of frequency in game sales that brought in more than 5 million USD."
   ]
  },
  {
   "cell_type": "code",
   "execution_count": 57,
   "metadata": {},
   "outputs": [
    {
     "data": {
      "text/html": [
       "<div>\n",
       "<style scoped>\n",
       "    .dataframe tbody tr th:only-of-type {\n",
       "        vertical-align: middle;\n",
       "    }\n",
       "\n",
       "    .dataframe tbody tr th {\n",
       "        vertical-align: top;\n",
       "    }\n",
       "\n",
       "    .dataframe thead th {\n",
       "        text-align: right;\n",
       "    }\n",
       "</style>\n",
       "<table border=\"1\" class=\"dataframe\">\n",
       "  <thead>\n",
       "    <tr style=\"text-align: right;\">\n",
       "      <th></th>\n",
       "      <th>na_sales</th>\n",
       "      <th>eu_sales</th>\n",
       "      <th>jp_sales</th>\n",
       "      <th>other_sales</th>\n",
       "      <th>total_revenue</th>\n",
       "    </tr>\n",
       "  </thead>\n",
       "  <tbody>\n",
       "    <tr>\n",
       "      <th>count</th>\n",
       "      <td>2127.000000</td>\n",
       "      <td>2127.000000</td>\n",
       "      <td>2127.000000</td>\n",
       "      <td>2127.000000</td>\n",
       "      <td>2127.000000</td>\n",
       "    </tr>\n",
       "    <tr>\n",
       "      <th>mean</th>\n",
       "      <td>0.269356</td>\n",
       "      <td>0.156385</td>\n",
       "      <td>0.064664</td>\n",
       "      <td>0.089549</td>\n",
       "      <td>0.579953</td>\n",
       "    </tr>\n",
       "    <tr>\n",
       "      <th>std</th>\n",
       "      <td>0.576756</td>\n",
       "      <td>0.360514</td>\n",
       "      <td>0.199480</td>\n",
       "      <td>0.340936</td>\n",
       "      <td>1.138461</td>\n",
       "    </tr>\n",
       "    <tr>\n",
       "      <th>min</th>\n",
       "      <td>0.000000</td>\n",
       "      <td>0.000000</td>\n",
       "      <td>0.000000</td>\n",
       "      <td>0.000000</td>\n",
       "      <td>0.000000</td>\n",
       "    </tr>\n",
       "    <tr>\n",
       "      <th>25%</th>\n",
       "      <td>0.010000</td>\n",
       "      <td>0.010000</td>\n",
       "      <td>0.000000</td>\n",
       "      <td>0.000000</td>\n",
       "      <td>0.080000</td>\n",
       "    </tr>\n",
       "    <tr>\n",
       "      <th>50%</th>\n",
       "      <td>0.090000</td>\n",
       "      <td>0.050000</td>\n",
       "      <td>0.000000</td>\n",
       "      <td>0.020000</td>\n",
       "      <td>0.230000</td>\n",
       "    </tr>\n",
       "    <tr>\n",
       "      <th>75%</th>\n",
       "      <td>0.250000</td>\n",
       "      <td>0.140000</td>\n",
       "      <td>0.030000</td>\n",
       "      <td>0.070000</td>\n",
       "      <td>0.560000</td>\n",
       "    </tr>\n",
       "    <tr>\n",
       "      <th>max</th>\n",
       "      <td>9.430000</td>\n",
       "      <td>5.490000</td>\n",
       "      <td>3.610000</td>\n",
       "      <td>10.570000</td>\n",
       "      <td>20.810000</td>\n",
       "    </tr>\n",
       "  </tbody>\n",
       "</table>\n",
       "</div>"
      ],
      "text/plain": [
       "          na_sales     eu_sales     jp_sales  other_sales  total_revenue\n",
       "count  2127.000000  2127.000000  2127.000000  2127.000000    2127.000000\n",
       "mean      0.269356     0.156385     0.064664     0.089549       0.579953\n",
       "std       0.576756     0.360514     0.199480     0.340936       1.138461\n",
       "min       0.000000     0.000000     0.000000     0.000000       0.000000\n",
       "25%       0.010000     0.010000     0.000000     0.000000       0.080000\n",
       "50%       0.090000     0.050000     0.000000     0.020000       0.230000\n",
       "75%       0.250000     0.140000     0.030000     0.070000       0.560000\n",
       "max       9.430000     5.490000     3.610000    10.570000      20.810000"
      ]
     },
     "execution_count": 57,
     "metadata": {},
     "output_type": "execute_result"
    }
   ],
   "source": [
    "# Mean Variance and std for this distribution using describe()\n",
    "ps2_data[['na_sales','eu_sales','jp_sales','other_sales','total_revenue']].describe()"
   ]
  },
  {
   "cell_type": "markdown",
   "metadata": {},
   "source": [
    "Using .describe() to view all the descriptive data for PS2 is an effective way to view many details all at once. \n",
    "\n",
    "- The mean of total_revenue across all regions is: 0.579953, suggesting that the majority of sales hover around this value.\n",
    "\n",
    "- The standard deviation across all regions is: 1.138461, suggesting that there is large variation in the revenue data compared to the mean.\n",
    "\n",
    "The min values show that there are occurences with 0 sales across all regions.\n",
    "The max values show the highest sales are from \"other_sales\", suggesting that all other sales outside of the mentioned regions have the highest occurence of total revenue."
   ]
  },
  {
   "cell_type": "markdown",
   "metadata": {},
   "source": [
    "<b> Summary of Distribution"
   ]
  },
  {
   "cell_type": "markdown",
   "metadata": {},
   "source": [
    "In summary, the positive, right skew of the distribution indicates a trend towards budget games that generate lower revenue per game. This trend contributes to the variability in the dataset, as there is a wider spread of revenue values among the lower revenue games compared to the higher revenue games.\n",
    "\n",
    "The higher variance and standard deviation observed in the dataset show the spread of total revenue values and provide insights into the variability of revenue among PS2 games. The relatively high variance and standard deviation compared to the mean, suggest that the total revenue values for PS2 games are spread out over a wide range, with some games generating significantly higher revenue than others. \n",
    "\n",
    "The positive, right skew of the distribution contributes to this variability, as the long tail on the right side indicates a greater dispersion of higher revenue values"
   ]
  },
  {
   "cell_type": "markdown",
   "metadata": {},
   "source": [
    "#### Popularity of Platforms Over Time"
   ]
  },
  {
   "cell_type": "markdown",
   "metadata": {},
   "source": [
    "Before we continue, I found an issue in the data for the platform DS. After Aggregating total sales, first year released [min value of the year_of_release comlumn], and latest year released [max value of the year_of_release comlumn]for each platform, I found that the Platform 'DS' had a min. value of '1985' in it's first_year_released column. This is not possible, knowing that the platform first released in 2004. \n",
    "\n",
    "Below, I show the process of finding this issue and resolving it before continuing analysis:"
   ]
  },
  {
   "cell_type": "code",
   "execution_count": 58,
   "metadata": {},
   "outputs": [
    {
     "data": {
      "text/html": [
       "<div>\n",
       "<style scoped>\n",
       "    .dataframe tbody tr th:only-of-type {\n",
       "        vertical-align: middle;\n",
       "    }\n",
       "\n",
       "    .dataframe tbody tr th {\n",
       "        vertical-align: top;\n",
       "    }\n",
       "\n",
       "    .dataframe thead th {\n",
       "        text-align: right;\n",
       "    }\n",
       "</style>\n",
       "<table border=\"1\" class=\"dataframe\">\n",
       "  <thead>\n",
       "    <tr style=\"text-align: right;\">\n",
       "      <th></th>\n",
       "      <th>name</th>\n",
       "      <th>platform</th>\n",
       "      <th>year_of_release</th>\n",
       "      <th>genre</th>\n",
       "      <th>na_sales</th>\n",
       "      <th>eu_sales</th>\n",
       "      <th>jp_sales</th>\n",
       "      <th>other_sales</th>\n",
       "      <th>critic_score</th>\n",
       "      <th>user_score</th>\n",
       "      <th>rating</th>\n",
       "      <th>total_revenue</th>\n",
       "    </tr>\n",
       "  </thead>\n",
       "  <tbody>\n",
       "    <tr>\n",
       "      <th>691</th>\n",
       "      <td>WarioWare Touched!</td>\n",
       "      <td>DS</td>\n",
       "      <td>2004</td>\n",
       "      <td>Puzzle</td>\n",
       "      <td>0.51</td>\n",
       "      <td>0.45</td>\n",
       "      <td>1.21</td>\n",
       "      <td>0.13</td>\n",
       "      <td>-1</td>\n",
       "      <td>-1.0</td>\n",
       "      <td>no rating</td>\n",
       "      <td>2.30</td>\n",
       "    </tr>\n",
       "    <tr>\n",
       "      <th>13463</th>\n",
       "      <td>Cocoto Kart Racer</td>\n",
       "      <td>DS</td>\n",
       "      <td>2004</td>\n",
       "      <td>Racing</td>\n",
       "      <td>0.04</td>\n",
       "      <td>0.00</td>\n",
       "      <td>0.00</td>\n",
       "      <td>0.00</td>\n",
       "      <td>-1</td>\n",
       "      <td>-1.0</td>\n",
       "      <td>E</td>\n",
       "      <td>0.04</td>\n",
       "    </tr>\n",
       "    <tr>\n",
       "      <th>11517</th>\n",
       "      <td>Kenshuui Tendo Dokuta</td>\n",
       "      <td>DS</td>\n",
       "      <td>2004</td>\n",
       "      <td>Simulation</td>\n",
       "      <td>0.00</td>\n",
       "      <td>0.00</td>\n",
       "      <td>0.08</td>\n",
       "      <td>0.00</td>\n",
       "      <td>-1</td>\n",
       "      <td>-1.0</td>\n",
       "      <td>no rating</td>\n",
       "      <td>0.08</td>\n",
       "    </tr>\n",
       "    <tr>\n",
       "      <th>4421</th>\n",
       "      <td>The Urbz: Sims in the City (all regions sales)</td>\n",
       "      <td>DS</td>\n",
       "      <td>2004</td>\n",
       "      <td>Simulation</td>\n",
       "      <td>0.40</td>\n",
       "      <td>0.01</td>\n",
       "      <td>0.02</td>\n",
       "      <td>0.00</td>\n",
       "      <td>-1</td>\n",
       "      <td>-1.0</td>\n",
       "      <td>no rating</td>\n",
       "      <td>0.43</td>\n",
       "    </tr>\n",
       "    <tr>\n",
       "      <th>7902</th>\n",
       "      <td>Daigasso! Band Brothers</td>\n",
       "      <td>DS</td>\n",
       "      <td>2004</td>\n",
       "      <td>Misc</td>\n",
       "      <td>0.00</td>\n",
       "      <td>0.00</td>\n",
       "      <td>0.19</td>\n",
       "      <td>0.00</td>\n",
       "      <td>-1</td>\n",
       "      <td>-1.0</td>\n",
       "      <td>no rating</td>\n",
       "      <td>0.19</td>\n",
       "    </tr>\n",
       "    <tr>\n",
       "      <th>...</th>\n",
       "      <td>...</td>\n",
       "      <td>...</td>\n",
       "      <td>...</td>\n",
       "      <td>...</td>\n",
       "      <td>...</td>\n",
       "      <td>...</td>\n",
       "      <td>...</td>\n",
       "      <td>...</td>\n",
       "      <td>...</td>\n",
       "      <td>...</td>\n",
       "      <td>...</td>\n",
       "      <td>...</td>\n",
       "    </tr>\n",
       "    <tr>\n",
       "      <th>7460</th>\n",
       "      <td>Disney's Planes</td>\n",
       "      <td>DS</td>\n",
       "      <td>2013</td>\n",
       "      <td>Simulation</td>\n",
       "      <td>0.11</td>\n",
       "      <td>0.08</td>\n",
       "      <td>0.00</td>\n",
       "      <td>0.02</td>\n",
       "      <td>-1</td>\n",
       "      <td>-1.0</td>\n",
       "      <td>E</td>\n",
       "      <td>0.21</td>\n",
       "    </tr>\n",
       "    <tr>\n",
       "      <th>14716</th>\n",
       "      <td>LEGO Legends of Chima: Laval's Journey</td>\n",
       "      <td>DS</td>\n",
       "      <td>2013</td>\n",
       "      <td>Adventure</td>\n",
       "      <td>0.00</td>\n",
       "      <td>0.03</td>\n",
       "      <td>0.00</td>\n",
       "      <td>0.00</td>\n",
       "      <td>-1</td>\n",
       "      <td>-1.0</td>\n",
       "      <td>E10+</td>\n",
       "      <td>0.03</td>\n",
       "    </tr>\n",
       "    <tr>\n",
       "      <th>7993</th>\n",
       "      <td>The Smurfs 2</td>\n",
       "      <td>DS</td>\n",
       "      <td>2013</td>\n",
       "      <td>Platform</td>\n",
       "      <td>0.00</td>\n",
       "      <td>0.17</td>\n",
       "      <td>0.00</td>\n",
       "      <td>0.01</td>\n",
       "      <td>-1</td>\n",
       "      <td>-1.0</td>\n",
       "      <td>E</td>\n",
       "      <td>0.18</td>\n",
       "    </tr>\n",
       "    <tr>\n",
       "      <th>3862</th>\n",
       "      <td>Frozen: Olaf's Quest</td>\n",
       "      <td>DS</td>\n",
       "      <td>2013</td>\n",
       "      <td>Platform</td>\n",
       "      <td>0.21</td>\n",
       "      <td>0.26</td>\n",
       "      <td>0.00</td>\n",
       "      <td>0.04</td>\n",
       "      <td>-1</td>\n",
       "      <td>-1.0</td>\n",
       "      <td>no rating</td>\n",
       "      <td>0.51</td>\n",
       "    </tr>\n",
       "    <tr>\n",
       "      <th>5054</th>\n",
       "      <td>LEGO Marvel Super Heroes</td>\n",
       "      <td>DS</td>\n",
       "      <td>2013</td>\n",
       "      <td>Action</td>\n",
       "      <td>0.22</td>\n",
       "      <td>0.13</td>\n",
       "      <td>0.00</td>\n",
       "      <td>0.03</td>\n",
       "      <td>-1</td>\n",
       "      <td>4.8</td>\n",
       "      <td>E10+</td>\n",
       "      <td>0.38</td>\n",
       "    </tr>\n",
       "  </tbody>\n",
       "</table>\n",
       "<p>2121 rows × 12 columns</p>\n",
       "</div>"
      ],
      "text/plain": [
       "                                                 name platform  \\\n",
       "691                                WarioWare Touched!       DS   \n",
       "13463                               Cocoto Kart Racer       DS   \n",
       "11517                           Kenshuui Tendo Dokuta       DS   \n",
       "4421   The Urbz: Sims in the City (all regions sales)       DS   \n",
       "7902                          Daigasso! Band Brothers       DS   \n",
       "...                                               ...      ...   \n",
       "7460                                  Disney's Planes       DS   \n",
       "14716          LEGO Legends of Chima: Laval's Journey       DS   \n",
       "7993                                     The Smurfs 2       DS   \n",
       "3862                             Frozen: Olaf's Quest       DS   \n",
       "5054                         LEGO Marvel Super Heroes       DS   \n",
       "\n",
       "       year_of_release       genre  na_sales  eu_sales  jp_sales  other_sales  \\\n",
       "691               2004      Puzzle      0.51      0.45      1.21         0.13   \n",
       "13463             2004      Racing      0.04      0.00      0.00         0.00   \n",
       "11517             2004  Simulation      0.00      0.00      0.08         0.00   \n",
       "4421              2004  Simulation      0.40      0.01      0.02         0.00   \n",
       "7902              2004        Misc      0.00      0.00      0.19         0.00   \n",
       "...                ...         ...       ...       ...       ...          ...   \n",
       "7460              2013  Simulation      0.11      0.08      0.00         0.02   \n",
       "14716             2013   Adventure      0.00      0.03      0.00         0.00   \n",
       "7993              2013    Platform      0.00      0.17      0.00         0.01   \n",
       "3862              2013    Platform      0.21      0.26      0.00         0.04   \n",
       "5054              2013      Action      0.22      0.13      0.00         0.03   \n",
       "\n",
       "       critic_score  user_score     rating  total_revenue  \n",
       "691              -1        -1.0  no rating           2.30  \n",
       "13463            -1        -1.0          E           0.04  \n",
       "11517            -1        -1.0  no rating           0.08  \n",
       "4421             -1        -1.0  no rating           0.43  \n",
       "7902             -1        -1.0  no rating           0.19  \n",
       "...             ...         ...        ...            ...  \n",
       "7460             -1        -1.0          E           0.21  \n",
       "14716            -1        -1.0       E10+           0.03  \n",
       "7993             -1        -1.0          E           0.18  \n",
       "3862             -1        -1.0  no rating           0.51  \n",
       "5054             -1         4.8       E10+           0.38  \n",
       "\n",
       "[2121 rows x 12 columns]"
      ]
     },
     "execution_count": 58,
     "metadata": {},
     "output_type": "execute_result"
    }
   ],
   "source": [
    "# Changing the year for the problematic game\n",
    "games.loc[games['name'] == 'Strongest Tokyo University Shogi DS', 'year_of_release'] = 2007\n",
    "\n",
    "# Checking for the change\n",
    "games[games['platform'] == 'DS'].sort_values(by='year_of_release')\n"
   ]
  },
  {
   "cell_type": "markdown",
   "metadata": {},
   "source": [
    "With these changes, we can continue and take  a look at the proper data. "
   ]
  },
  {
   "cell_type": "code",
   "execution_count": 59,
   "metadata": {},
   "outputs": [
    {
     "data": {
      "text/html": [
       "<div>\n",
       "<style scoped>\n",
       "    .dataframe tbody tr th:only-of-type {\n",
       "        vertical-align: middle;\n",
       "    }\n",
       "\n",
       "    .dataframe tbody tr th {\n",
       "        vertical-align: top;\n",
       "    }\n",
       "\n",
       "    .dataframe thead th {\n",
       "        text-align: right;\n",
       "    }\n",
       "</style>\n",
       "<table border=\"1\" class=\"dataframe\">\n",
       "  <thead>\n",
       "    <tr style=\"text-align: right;\">\n",
       "      <th></th>\n",
       "      <th>platform</th>\n",
       "      <th>total_units_sold</th>\n",
       "      <th>total_revenue</th>\n",
       "      <th>first_year_released</th>\n",
       "      <th>latest_year_released</th>\n",
       "    </tr>\n",
       "  </thead>\n",
       "  <tbody>\n",
       "    <tr>\n",
       "      <th>16</th>\n",
       "      <td>PS2</td>\n",
       "      <td>2127</td>\n",
       "      <td>1233.56</td>\n",
       "      <td>2000</td>\n",
       "      <td>2011</td>\n",
       "    </tr>\n",
       "    <tr>\n",
       "      <th>4</th>\n",
       "      <td>DS</td>\n",
       "      <td>2121</td>\n",
       "      <td>802.78</td>\n",
       "      <td>2004</td>\n",
       "      <td>2013</td>\n",
       "    </tr>\n",
       "    <tr>\n",
       "      <th>17</th>\n",
       "      <td>PS3</td>\n",
       "      <td>1306</td>\n",
       "      <td>931.34</td>\n",
       "      <td>2006</td>\n",
       "      <td>2016</td>\n",
       "    </tr>\n",
       "    <tr>\n",
       "      <th>26</th>\n",
       "      <td>Wii</td>\n",
       "      <td>1286</td>\n",
       "      <td>891.18</td>\n",
       "      <td>2006</td>\n",
       "      <td>2016</td>\n",
       "    </tr>\n",
       "    <tr>\n",
       "      <th>28</th>\n",
       "      <td>X360</td>\n",
       "      <td>1232</td>\n",
       "      <td>961.24</td>\n",
       "      <td>2005</td>\n",
       "      <td>2016</td>\n",
       "    </tr>\n",
       "    <tr>\n",
       "      <th>19</th>\n",
       "      <td>PSP</td>\n",
       "      <td>1193</td>\n",
       "      <td>289.53</td>\n",
       "      <td>2004</td>\n",
       "      <td>2015</td>\n",
       "    </tr>\n",
       "    <tr>\n",
       "      <th>15</th>\n",
       "      <td>PS</td>\n",
       "      <td>1190</td>\n",
       "      <td>727.58</td>\n",
       "      <td>1994</td>\n",
       "      <td>2003</td>\n",
       "    </tr>\n",
       "    <tr>\n",
       "      <th>13</th>\n",
       "      <td>PC</td>\n",
       "      <td>957</td>\n",
       "      <td>255.76</td>\n",
       "      <td>1985</td>\n",
       "      <td>2016</td>\n",
       "    </tr>\n",
       "    <tr>\n",
       "      <th>6</th>\n",
       "      <td>GBA</td>\n",
       "      <td>811</td>\n",
       "      <td>312.88</td>\n",
       "      <td>2000</td>\n",
       "      <td>2007</td>\n",
       "    </tr>\n",
       "    <tr>\n",
       "      <th>29</th>\n",
       "      <td>XB</td>\n",
       "      <td>803</td>\n",
       "      <td>251.57</td>\n",
       "      <td>2000</td>\n",
       "      <td>2008</td>\n",
       "    </tr>\n",
       "  </tbody>\n",
       "</table>\n",
       "</div>"
      ],
      "text/plain": [
       "   platform  total_units_sold  total_revenue  first_year_released  \\\n",
       "16      PS2              2127        1233.56                 2000   \n",
       "4        DS              2121         802.78                 2004   \n",
       "17      PS3              1306         931.34                 2006   \n",
       "26      Wii              1286         891.18                 2006   \n",
       "28     X360              1232         961.24                 2005   \n",
       "19      PSP              1193         289.53                 2004   \n",
       "15       PS              1190         727.58                 1994   \n",
       "13       PC               957         255.76                 1985   \n",
       "6       GBA               811         312.88                 2000   \n",
       "29       XB               803         251.57                 2000   \n",
       "\n",
       "    latest_year_released  \n",
       "16                  2011  \n",
       "4                   2013  \n",
       "17                  2016  \n",
       "26                  2016  \n",
       "28                  2016  \n",
       "19                  2015  \n",
       "15                  2003  \n",
       "13                  2016  \n",
       "6                   2007  \n",
       "29                  2008  "
      ]
     },
     "execution_count": 59,
     "metadata": {},
     "output_type": "execute_result"
    }
   ],
   "source": [
    "# Aggregating total sales, first year released, and latest year released for each platform\n",
    "platform_stats = games.groupby('platform').agg({'total_revenue': ['count','sum'], 'year_of_release': ['min', 'max']}).reset_index()\n",
    "\n",
    "# Renaming column\n",
    "platform_stats.columns = ['platform', 'total_units_sold', 'total_revenue', 'first_year_released', 'latest_year_released']\n",
    "\n",
    "# Sorting by total sales and selecting top 10 platforms\n",
    "platform_stats.sort_values(by='total_units_sold', ascending=False).head(10)"
   ]
  },
  {
   "cell_type": "markdown",
   "metadata": {},
   "source": [
    "Above are the Top 10 performing platforms in sales of all time. This doesn't mean that platforms that didn't make the cut were less popular at their respective times, but limiting the data to the top 10 platforms this way will still provide a lot of value. Viewing the 'first_year_released' shows that the gaming platforms PC and PS, with data from it's first released games appearing before the 2000s, still made it to the Top 10. \n",
    "<br>\n",
    "\n",
    "The **oldest** game platforms with highest sales and revenue are:\n",
    "- PC (PC) 1985\n",
    "- Playstation (PS) 1994\n",
    "What's significant about these two platforms, is the stark difference in revenue. Although 10 years younger than the PC, the Playstation seems to be much more popular or at least more expensive to game on, to produce more than 3X the revenue of PC games in less time. \n",
    "\n",
    "\n",
    "The **top 5** game platforms of all time with both the highest total units sold and highest revenue:\n",
    "- Playstation 2 (PS2)\n",
    "- Nintendo DS (DS)\n",
    "- Playstation 3 (PS3)\n",
    "- Wii (Wii)\n",
    "- XBOX 360 (X360)\n",
    "\n",
    "The **top 5** game platforms of all time with the highest *total revenue* are:\n",
    "- Playstation 2 (PS2)\n",
    "- XBOX 360 (X360)\n",
    "- Playstation 3 (PS3) \n",
    "- Wii (Wii)\n",
    "- Nintendo DS (DS)\n",
    "\n",
    "This comparison shows the top platforms and shows the significance of Playstation 2, which ranks the highest for both revenue and total units sold.\n",
    "\n",
    "**Other noticeable insights:**\n",
    "- There is an interesting relationship between the total_units_sold and total_revenue, between platforms that sell very similar amount of units. For example, PS2 and DS sold almost the exact amount of units, but the revenue is much higher for PS2. The same can be said for Wii and Xbox360, with Wii selling more units but bringing in less revenue. It's important to take into account the type of games that sell in each platforms and understand it's effects on game pricing. A likely explanation would be that games on Nintendo DS and Wii cater more towards childrens/family which tend to appeal to a more budget pricing than games on Playstation and Xbox, that cater more towards the avid gamer [Shooter/Action/Sports].\n",
    "\n",
    "- Although Nintendo DS ranks 2nd highest among total units sold, it ranked lowest among the top 5 in revenue. This may be either due to it's age skewing the sales data or the fact that it just sells more, but cheaper games. \n",
    "\n",
    "- Playstation 3 is consistent in 3rd place and the Playstation brand is the only one listed twice amongst top platforms.\n"
   ]
  },
  {
   "cell_type": "code",
   "execution_count": 60,
   "metadata": {},
   "outputs": [
    {
     "data": {
      "text/html": [
       "<div>\n",
       "<style scoped>\n",
       "    .dataframe tbody tr th:only-of-type {\n",
       "        vertical-align: middle;\n",
       "    }\n",
       "\n",
       "    .dataframe tbody tr th {\n",
       "        vertical-align: top;\n",
       "    }\n",
       "\n",
       "    .dataframe thead th {\n",
       "        text-align: right;\n",
       "    }\n",
       "</style>\n",
       "<table border=\"1\" class=\"dataframe\">\n",
       "  <thead>\n",
       "    <tr style=\"text-align: right;\">\n",
       "      <th></th>\n",
       "      <th>platform</th>\n",
       "      <th>total_units_sold</th>\n",
       "      <th>total_revenue</th>\n",
       "      <th>first_year_released</th>\n",
       "      <th>latest_year_released</th>\n",
       "      <th>relevant_period</th>\n",
       "    </tr>\n",
       "  </thead>\n",
       "  <tbody>\n",
       "    <tr>\n",
       "      <th>16</th>\n",
       "      <td>PS2</td>\n",
       "      <td>2127</td>\n",
       "      <td>1233.56</td>\n",
       "      <td>2000</td>\n",
       "      <td>2011</td>\n",
       "      <td>11</td>\n",
       "    </tr>\n",
       "    <tr>\n",
       "      <th>4</th>\n",
       "      <td>DS</td>\n",
       "      <td>2121</td>\n",
       "      <td>802.78</td>\n",
       "      <td>2004</td>\n",
       "      <td>2013</td>\n",
       "      <td>9</td>\n",
       "    </tr>\n",
       "    <tr>\n",
       "      <th>17</th>\n",
       "      <td>PS3</td>\n",
       "      <td>1306</td>\n",
       "      <td>931.34</td>\n",
       "      <td>2006</td>\n",
       "      <td>2016</td>\n",
       "      <td>10</td>\n",
       "    </tr>\n",
       "    <tr>\n",
       "      <th>26</th>\n",
       "      <td>Wii</td>\n",
       "      <td>1286</td>\n",
       "      <td>891.18</td>\n",
       "      <td>2006</td>\n",
       "      <td>2016</td>\n",
       "      <td>10</td>\n",
       "    </tr>\n",
       "    <tr>\n",
       "      <th>28</th>\n",
       "      <td>X360</td>\n",
       "      <td>1232</td>\n",
       "      <td>961.24</td>\n",
       "      <td>2005</td>\n",
       "      <td>2016</td>\n",
       "      <td>11</td>\n",
       "    </tr>\n",
       "    <tr>\n",
       "      <th>19</th>\n",
       "      <td>PSP</td>\n",
       "      <td>1193</td>\n",
       "      <td>289.53</td>\n",
       "      <td>2004</td>\n",
       "      <td>2015</td>\n",
       "      <td>11</td>\n",
       "    </tr>\n",
       "    <tr>\n",
       "      <th>15</th>\n",
       "      <td>PS</td>\n",
       "      <td>1190</td>\n",
       "      <td>727.58</td>\n",
       "      <td>1994</td>\n",
       "      <td>2003</td>\n",
       "      <td>9</td>\n",
       "    </tr>\n",
       "    <tr>\n",
       "      <th>13</th>\n",
       "      <td>PC</td>\n",
       "      <td>957</td>\n",
       "      <td>255.76</td>\n",
       "      <td>1985</td>\n",
       "      <td>2016</td>\n",
       "      <td>31</td>\n",
       "    </tr>\n",
       "    <tr>\n",
       "      <th>6</th>\n",
       "      <td>GBA</td>\n",
       "      <td>811</td>\n",
       "      <td>312.88</td>\n",
       "      <td>2000</td>\n",
       "      <td>2007</td>\n",
       "      <td>7</td>\n",
       "    </tr>\n",
       "    <tr>\n",
       "      <th>29</th>\n",
       "      <td>XB</td>\n",
       "      <td>803</td>\n",
       "      <td>251.57</td>\n",
       "      <td>2000</td>\n",
       "      <td>2008</td>\n",
       "      <td>8</td>\n",
       "    </tr>\n",
       "  </tbody>\n",
       "</table>\n",
       "</div>"
      ],
      "text/plain": [
       "   platform  total_units_sold  total_revenue  first_year_released  \\\n",
       "16      PS2              2127        1233.56                 2000   \n",
       "4        DS              2121         802.78                 2004   \n",
       "17      PS3              1306         931.34                 2006   \n",
       "26      Wii              1286         891.18                 2006   \n",
       "28     X360              1232         961.24                 2005   \n",
       "19      PSP              1193         289.53                 2004   \n",
       "15       PS              1190         727.58                 1994   \n",
       "13       PC               957         255.76                 1985   \n",
       "6       GBA               811         312.88                 2000   \n",
       "29       XB               803         251.57                 2000   \n",
       "\n",
       "    latest_year_released  relevant_period  \n",
       "16                  2011               11  \n",
       "4                   2013                9  \n",
       "17                  2016               10  \n",
       "26                  2016               10  \n",
       "28                  2016               11  \n",
       "19                  2015               11  \n",
       "15                  2003                9  \n",
       "13                  2016               31  \n",
       "6                   2007                7  \n",
       "29                  2008                8  "
      ]
     },
     "execution_count": 60,
     "metadata": {},
     "output_type": "execute_result"
    }
   ],
   "source": [
    "# Checking and ensuring that only the top 10 relevant platforms are included in further analysis \n",
    "platform_stats['relevant_period'] = platform_stats['latest_year_released'] - platform_stats['first_year_released']\n",
    "platform_stats = platform_stats.sort_values(by='total_units_sold', ascending=False).head(10)\n",
    "platform_stats"
   ]
  },
  {
   "cell_type": "markdown",
   "metadata": {},
   "source": [
    "From the above dataframe, there is a noticeable trend in the period of relevancy column 'relevant_period'. \n",
    "<br>\n",
    "\n",
    "**The top platforms almost all had a relevant period of 11 or 10 years.** \n",
    "\n",
    "The mean of all platform relevancy periods is most likely to be around that number."
   ]
  },
  {
   "cell_type": "code",
   "execution_count": 61,
   "metadata": {},
   "outputs": [
    {
     "name": "stdout",
     "output_type": "stream",
     "text": [
      "The mean period of relevancy for all platforms is: 11.70 years\n"
     ]
    }
   ],
   "source": [
    "print(f\"The mean period of relevancy for all platforms is: {platform_stats['relevant_period'].mean():.2f} years\")"
   ]
  },
  {
   "cell_type": "markdown",
   "metadata": {},
   "source": [
    "The actual average relavant period above matches the predicted value. This is the average amount of time it takes for once  popular platforms to fade before a new platform takes over. "
   ]
  },
  {
   "cell_type": "markdown",
   "metadata": {},
   "source": [
    "## Preparing Data for Forecasting\n",
    "\n",
    "#### Changes in dataframe from this point:\n",
    "\n",
    "Moving forward, we will continue using data from the 10 platforms with the most relevant last year_of_release and saving all their data to a new 'relevant_platforms' dataframe. This ensures that we are only viewing data trends from relevant game platforms that have either released their latest game in the year 2016 or will be releasing it in 2016.\n",
    "<br>\n",
    "\n",
    "This is important in forecasting trends for the following year because the data will potentially show patterns that can benefit the 2017 planning. "
   ]
  },
  {
   "cell_type": "code",
   "execution_count": 62,
   "metadata": {},
   "outputs": [
    {
     "data": {
      "text/html": [
       "<div>\n",
       "<style scoped>\n",
       "    .dataframe tbody tr th:only-of-type {\n",
       "        vertical-align: middle;\n",
       "    }\n",
       "\n",
       "    .dataframe tbody tr th {\n",
       "        vertical-align: top;\n",
       "    }\n",
       "\n",
       "    .dataframe thead th {\n",
       "        text-align: right;\n",
       "    }\n",
       "</style>\n",
       "<table border=\"1\" class=\"dataframe\">\n",
       "  <thead>\n",
       "    <tr style=\"text-align: right;\">\n",
       "      <th></th>\n",
       "      <th>name</th>\n",
       "      <th>platform</th>\n",
       "      <th>year_of_release</th>\n",
       "      <th>genre</th>\n",
       "      <th>na_sales</th>\n",
       "      <th>eu_sales</th>\n",
       "      <th>jp_sales</th>\n",
       "      <th>other_sales</th>\n",
       "      <th>critic_score</th>\n",
       "      <th>user_score</th>\n",
       "      <th>rating</th>\n",
       "      <th>total_revenue</th>\n",
       "    </tr>\n",
       "  </thead>\n",
       "  <tbody>\n",
       "    <tr>\n",
       "      <th>31</th>\n",
       "      <td>Call of Duty: Black Ops 3</td>\n",
       "      <td>PS4</td>\n",
       "      <td>2015</td>\n",
       "      <td>Shooter</td>\n",
       "      <td>6.03</td>\n",
       "      <td>5.86</td>\n",
       "      <td>0.36</td>\n",
       "      <td>2.38</td>\n",
       "      <td>-1</td>\n",
       "      <td>-1.0</td>\n",
       "      <td>no rating</td>\n",
       "      <td>14.63</td>\n",
       "    </tr>\n",
       "    <tr>\n",
       "      <th>77</th>\n",
       "      <td>FIFA 16</td>\n",
       "      <td>PS4</td>\n",
       "      <td>2015</td>\n",
       "      <td>Sports</td>\n",
       "      <td>1.12</td>\n",
       "      <td>6.12</td>\n",
       "      <td>0.06</td>\n",
       "      <td>1.28</td>\n",
       "      <td>82</td>\n",
       "      <td>4.3</td>\n",
       "      <td>E</td>\n",
       "      <td>8.58</td>\n",
       "    </tr>\n",
       "    <tr>\n",
       "      <th>87</th>\n",
       "      <td>Star Wars Battlefront (2015)</td>\n",
       "      <td>PS4</td>\n",
       "      <td>2015</td>\n",
       "      <td>Shooter</td>\n",
       "      <td>2.99</td>\n",
       "      <td>3.49</td>\n",
       "      <td>0.22</td>\n",
       "      <td>1.28</td>\n",
       "      <td>-1</td>\n",
       "      <td>-1.0</td>\n",
       "      <td>no rating</td>\n",
       "      <td>7.98</td>\n",
       "    </tr>\n",
       "    <tr>\n",
       "      <th>94</th>\n",
       "      <td>FIFA 17</td>\n",
       "      <td>PS4</td>\n",
       "      <td>2016</td>\n",
       "      <td>Sports</td>\n",
       "      <td>0.66</td>\n",
       "      <td>5.75</td>\n",
       "      <td>0.08</td>\n",
       "      <td>1.11</td>\n",
       "      <td>85</td>\n",
       "      <td>5.0</td>\n",
       "      <td>E</td>\n",
       "      <td>7.60</td>\n",
       "    </tr>\n",
       "    <tr>\n",
       "      <th>99</th>\n",
       "      <td>Call of Duty: Black Ops 3</td>\n",
       "      <td>XOne</td>\n",
       "      <td>2015</td>\n",
       "      <td>Shooter</td>\n",
       "      <td>4.59</td>\n",
       "      <td>2.11</td>\n",
       "      <td>0.01</td>\n",
       "      <td>0.68</td>\n",
       "      <td>-1</td>\n",
       "      <td>-1.0</td>\n",
       "      <td>no rating</td>\n",
       "      <td>7.39</td>\n",
       "    </tr>\n",
       "    <tr>\n",
       "      <th>105</th>\n",
       "      <td>Fallout 4</td>\n",
       "      <td>PS4</td>\n",
       "      <td>2015</td>\n",
       "      <td>Role-Playing</td>\n",
       "      <td>2.53</td>\n",
       "      <td>3.27</td>\n",
       "      <td>0.24</td>\n",
       "      <td>1.13</td>\n",
       "      <td>87</td>\n",
       "      <td>6.5</td>\n",
       "      <td>M</td>\n",
       "      <td>7.17</td>\n",
       "    </tr>\n",
       "    <tr>\n",
       "      <th>108</th>\n",
       "      <td>Pokemon Sun/Moon</td>\n",
       "      <td>3DS</td>\n",
       "      <td>2016</td>\n",
       "      <td>Role-Playing</td>\n",
       "      <td>2.98</td>\n",
       "      <td>1.45</td>\n",
       "      <td>2.26</td>\n",
       "      <td>0.45</td>\n",
       "      <td>-1</td>\n",
       "      <td>-1.0</td>\n",
       "      <td>no rating</td>\n",
       "      <td>7.14</td>\n",
       "    </tr>\n",
       "    <tr>\n",
       "      <th>171</th>\n",
       "      <td>Uncharted 4: A Thief's End</td>\n",
       "      <td>PS4</td>\n",
       "      <td>2016</td>\n",
       "      <td>Shooter</td>\n",
       "      <td>1.85</td>\n",
       "      <td>2.50</td>\n",
       "      <td>0.19</td>\n",
       "      <td>0.85</td>\n",
       "      <td>93</td>\n",
       "      <td>7.9</td>\n",
       "      <td>T</td>\n",
       "      <td>5.39</td>\n",
       "    </tr>\n",
       "    <tr>\n",
       "      <th>231</th>\n",
       "      <td>Uncharted: The Nathan Drake Collection</td>\n",
       "      <td>PS4</td>\n",
       "      <td>2015</td>\n",
       "      <td>Action</td>\n",
       "      <td>2.07</td>\n",
       "      <td>1.71</td>\n",
       "      <td>0.08</td>\n",
       "      <td>0.76</td>\n",
       "      <td>86</td>\n",
       "      <td>8.1</td>\n",
       "      <td>T</td>\n",
       "      <td>4.62</td>\n",
       "    </tr>\n",
       "    <tr>\n",
       "      <th>242</th>\n",
       "      <td>Halo 5: Guardians</td>\n",
       "      <td>XOne</td>\n",
       "      <td>2015</td>\n",
       "      <td>Shooter</td>\n",
       "      <td>2.78</td>\n",
       "      <td>1.27</td>\n",
       "      <td>0.03</td>\n",
       "      <td>0.41</td>\n",
       "      <td>84</td>\n",
       "      <td>6.4</td>\n",
       "      <td>T</td>\n",
       "      <td>4.49</td>\n",
       "    </tr>\n",
       "  </tbody>\n",
       "</table>\n",
       "</div>"
      ],
      "text/plain": [
       "                                       name platform  year_of_release  \\\n",
       "31                Call of Duty: Black Ops 3      PS4             2015   \n",
       "77                                  FIFA 16      PS4             2015   \n",
       "87             Star Wars Battlefront (2015)      PS4             2015   \n",
       "94                                  FIFA 17      PS4             2016   \n",
       "99                Call of Duty: Black Ops 3     XOne             2015   \n",
       "105                               Fallout 4      PS4             2015   \n",
       "108                        Pokemon Sun/Moon      3DS             2016   \n",
       "171              Uncharted 4: A Thief's End      PS4             2016   \n",
       "231  Uncharted: The Nathan Drake Collection      PS4             2015   \n",
       "242                       Halo 5: Guardians     XOne             2015   \n",
       "\n",
       "            genre  na_sales  eu_sales  jp_sales  other_sales  critic_score  \\\n",
       "31        Shooter      6.03      5.86      0.36         2.38            -1   \n",
       "77         Sports      1.12      6.12      0.06         1.28            82   \n",
       "87        Shooter      2.99      3.49      0.22         1.28            -1   \n",
       "94         Sports      0.66      5.75      0.08         1.11            85   \n",
       "99        Shooter      4.59      2.11      0.01         0.68            -1   \n",
       "105  Role-Playing      2.53      3.27      0.24         1.13            87   \n",
       "108  Role-Playing      2.98      1.45      2.26         0.45            -1   \n",
       "171       Shooter      1.85      2.50      0.19         0.85            93   \n",
       "231        Action      2.07      1.71      0.08         0.76            86   \n",
       "242       Shooter      2.78      1.27      0.03         0.41            84   \n",
       "\n",
       "     user_score     rating  total_revenue  \n",
       "31         -1.0  no rating          14.63  \n",
       "77          4.3          E           8.58  \n",
       "87         -1.0  no rating           7.98  \n",
       "94          5.0          E           7.60  \n",
       "99         -1.0  no rating           7.39  \n",
       "105         6.5          M           7.17  \n",
       "108        -1.0  no rating           7.14  \n",
       "171         7.9          T           5.39  \n",
       "231         8.1          T           4.62  \n",
       "242         6.4          T           4.49  "
      ]
     },
     "execution_count": 62,
     "metadata": {},
     "output_type": "execute_result"
    }
   ],
   "source": [
    "# Filtering data from games dataframe to a new dataframe for only the relevant platforms \n",
    "relevant_platforms = games[games['year_of_release'] >= 2015]\n",
    "\n",
    "# Filtering data from platform_stats to a new dataframe for only the relevant platforms \n",
    "relevant_platforms_stats = platform_stats[platform_stats['latest_year_released'] >= 2015]\n",
    "\n",
    "# Sorting the relevant platforms by total revenue in descending order\n",
    "relevant_platforms = relevant_platforms.sort_values(by='total_revenue', ascending=False)\n",
    "\n",
    "# Viewing the first 10 rows of this new dataframe\n",
    "relevant_platforms.head(10)"
   ]
  },
  {
   "cell_type": "markdown",
   "metadata": {},
   "source": [
    "**Sales by total revenue are dominated by Playstation: with Playstation 4 at the top of all global sales.**\n",
    "\n",
    "- PS4 appears [7/10 times] in the top 10 global sales. <br>\n",
    "\n",
    "- Sales are followed by XOne [appearing 2/10 times] and \n",
    "\n",
    "- 3DS [1/10 times]. \n",
    "\n",
    "- The game 'Call of Duty: Black Ops 3' appears twice at the top of the global sales on two platforms: PS4 and XOne. Sales were about twice as high on PS4, suggesting it's the more popular platform for this game. \n",
    "\n",
    "- Other notable games franchises are FIFA and Uncharted, with both having two games from their prospective franchises in the top 10.This shows that these are popular games that may have a high turnover per year, with many customers buying the previous released game and latest release of the franchise in the same year. \n",
    "\n",
    "By Genre: \n",
    "\n",
    "-The most popular genre is: **Shooter** appearing [5/10] times in the Top 10, suggesting that this is a dominating genre of the past year. \n",
    "\n"
   ]
  },
  {
   "cell_type": "markdown",
   "metadata": {},
   "source": [
    "#### Analysis Using Platforms Expected to be Relevant in 2017 "
   ]
  },
  {
   "cell_type": "code",
   "execution_count": 63,
   "metadata": {},
   "outputs": [
    {
     "data": {
      "application/vnd.plotly.v1+json": {
       "config": {
        "plotlyServerURL": "https://plot.ly"
       },
       "data": [
        {
         "alignmentgroup": "True",
         "hovertemplate": "platform=%{x}<br>total_revenue=%{y}<extra></extra>",
         "legendgroup": "",
         "marker": {
          "color": "#636efa"
         },
         "name": "",
         "notched": false,
         "offsetgroup": "",
         "orientation": "v",
         "showlegend": false,
         "type": "box",
         "x": [
          "PS4",
          "PS4",
          "PS4",
          "PS4",
          "XOne",
          "PS4",
          "3DS",
          "PS4",
          "PS4",
          "XOne",
          "PS4",
          "WiiU",
          "XOne",
          "PS4",
          "PS4",
          "PS4",
          "PS4",
          "PS4",
          "XOne",
          "PS4",
          "PS4",
          "3DS",
          "XOne",
          "XOne",
          "PS4",
          "WiiU",
          "3DS",
          "PS4",
          "PS3",
          "XOne",
          "PS4",
          "XOne",
          "PS4",
          "XOne",
          "XOne",
          "3DS",
          "3DS",
          "PS4",
          "XOne",
          "PS4",
          "XOne",
          "PS4",
          "PS4",
          "PS4",
          "PS4",
          "PS4",
          "PS4",
          "PS4",
          "XOne",
          "PS4",
          "PS4",
          "PS4",
          "X360",
          "PS4",
          "PS3",
          "3DS",
          "PS4",
          "PS4",
          "WiiU",
          "X360",
          "PS4",
          "XOne",
          "PS4",
          "XOne",
          "XOne",
          "XOne",
          "XOne",
          "3DS",
          "PS4",
          "XOne",
          "WiiU",
          "XOne",
          "XOne",
          "PC",
          "XOne",
          "3DS",
          "XOne",
          "PS4",
          "XOne",
          "XOne",
          "PC",
          "PS4",
          "PS4",
          "PS4",
          "3DS",
          "PS4",
          "XOne",
          "PS4",
          "XOne",
          "WiiU",
          "XOne",
          "WiiU",
          "PS4",
          "PS4",
          "X360",
          "Wii",
          "X360",
          "PS4",
          "PS4",
          "3DS",
          "PS4",
          "XOne",
          "PS4",
          "PS4",
          "PS4",
          "X360",
          "XOne",
          "PS4",
          "3DS",
          "X360",
          "PS4",
          "3DS",
          "PS3",
          "WiiU",
          "XOne",
          "PS4",
          "PS3",
          "PS4",
          "XOne",
          "3DS",
          "3DS",
          "XOne",
          "3DS",
          "XOne",
          "PS4",
          "PS3",
          "PS3",
          "PS4",
          "PS4",
          "PS4",
          "PS4",
          "PC",
          "PS4",
          "PS4",
          "PS4",
          "PS3",
          "XOne",
          "WiiU",
          "PS4",
          "XOne",
          "PC",
          "PS4",
          "PS4",
          "PS3",
          "XOne",
          "3DS",
          "PS4",
          "3DS",
          "XOne",
          "PS4",
          "PS4",
          "XOne",
          "WiiU",
          "3DS",
          "XOne",
          "PS3",
          "XOne",
          "3DS",
          "XOne",
          "PS3",
          "XOne",
          "PC",
          "PS4",
          "3DS",
          "X360",
          "PC",
          "WiiU",
          "PC",
          "WiiU",
          "PS4",
          "WiiU",
          "PS3",
          "PS3",
          "PS4",
          "PS3",
          "3DS",
          "XOne",
          "WiiU",
          "3DS",
          "XOne",
          "XOne",
          "PS4",
          "XOne",
          "WiiU",
          "PS4",
          "WiiU",
          "3DS",
          "PS3",
          "XOne",
          "X360",
          "PS4",
          "WiiU",
          "WiiU",
          "PS4",
          "X360",
          "XOne",
          "PS3",
          "PSV",
          "XOne",
          "PC",
          "PS4",
          "PS4",
          "PS4",
          "PS3",
          "PS4",
          "PS4",
          "PS3",
          "X360",
          "XOne",
          "PS4",
          "PS4",
          "PC",
          "PS4",
          "X360",
          "PS4",
          "PS4",
          "WiiU",
          "PS3",
          "PS4",
          "PS4",
          "PS3",
          "PS4",
          "PS3",
          "PS4",
          "PS4",
          "PS4",
          "X360",
          "XOne",
          "PSV",
          "PS4",
          "PS4",
          "PC",
          "X360",
          "PS4",
          "WiiU",
          "PS4",
          "PS4",
          "PS4",
          "XOne",
          "PS4",
          "XOne",
          "3DS",
          "PS4",
          "3DS",
          "3DS",
          "PC",
          "PS4",
          "PSV",
          "X360",
          "X360",
          "XOne",
          "XOne",
          "XOne",
          "3DS",
          "X360",
          "PS4",
          "PS4",
          "PS4",
          "PS4",
          "PSV",
          "PS4",
          "XOne",
          "PS3",
          "X360",
          "PS4",
          "PS4",
          "PS4",
          "PS4",
          "3DS",
          "PS4",
          "XOne",
          "PS4",
          "3DS",
          "PS3",
          "PS3",
          "PC",
          "PS4",
          "PS4",
          "PC",
          "XOne",
          "XOne",
          "PS4",
          "PS3",
          "PS4",
          "PS3",
          "PS4",
          "XOne",
          "3DS",
          "WiiU",
          "3DS",
          "XOne",
          "XOne",
          "PS4",
          "XOne",
          "XOne",
          "3DS",
          "PC",
          "3DS",
          "PC",
          "WiiU",
          "PS4",
          "PS4",
          "PS4",
          "X360",
          "PS4",
          "XOne",
          "PC",
          "PSV",
          "3DS",
          "X360",
          "PC",
          "PSV",
          "3DS",
          "PC",
          "XOne",
          "PC",
          "3DS",
          "PC",
          "3DS",
          "3DS",
          "XOne",
          "PSV",
          "XOne",
          "3DS",
          "PS4",
          "PS4",
          "3DS",
          "PC",
          "PS4",
          "3DS",
          "PS4",
          "PS3",
          "PS4",
          "XOne",
          "PS4",
          "PC",
          "XOne",
          "PS4",
          "PC",
          "PC",
          "PSV",
          "PSV",
          "PSV",
          "PS3",
          "3DS",
          "WiiU",
          "WiiU",
          "PS4",
          "3DS",
          "Wii",
          "PSV",
          "X360",
          "PS4",
          "XOne",
          "PS4",
          "X360",
          "3DS",
          "PS3",
          "PSV",
          "PSV",
          "PSV",
          "PS4",
          "PS4",
          "PS4",
          "PS4",
          "PS4",
          "X360",
          "PSV",
          "3DS",
          "PS4",
          "XOne",
          "XOne",
          "PC",
          "3DS",
          "PS4",
          "XOne",
          "XOne",
          "PC",
          "WiiU",
          "XOne",
          "XOne",
          "PSV",
          "3DS",
          "3DS",
          "Wii",
          "PSV",
          "PS3",
          "PS3",
          "3DS",
          "PS4",
          "XOne",
          "XOne",
          "PS4",
          "3DS",
          "PC",
          "PS3",
          "PC",
          "XOne",
          "3DS",
          "PSV",
          "PS4",
          "PS4",
          "PS4",
          "PS4",
          "PC",
          "3DS",
          "XOne",
          "XOne",
          "PC",
          "3DS",
          "PS4",
          "PS3",
          "PC",
          "XOne",
          "PS4",
          "XOne",
          "PSV",
          "PS3",
          "PSV",
          "PC",
          "XOne",
          "3DS",
          "PS4",
          "PS4",
          "PS4",
          "PS4",
          "PS4",
          "PC",
          "XOne",
          "PS4",
          "PS3",
          "PSV",
          "XOne",
          "PC",
          "PS3",
          "PS4",
          "PS3",
          "3DS",
          "PS4",
          "PS3",
          "WiiU",
          "PS4",
          "PS3",
          "XOne",
          "PSV",
          "PC",
          "3DS",
          "X360",
          "X360",
          "XOne",
          "PS3",
          "PS3",
          "PSV",
          "PS4",
          "XOne",
          "XOne",
          "PS4",
          "3DS",
          "XOne",
          "PSV",
          "PC",
          "PSV",
          "PS3",
          "PSV",
          "3DS",
          "3DS",
          "3DS",
          "PS4",
          "PS3",
          "3DS",
          "PSV",
          "PSV",
          "XOne",
          "PS4",
          "XOne",
          "PS4",
          "PS3",
          "PS4",
          "PS4",
          "PSV",
          "PS4",
          "3DS",
          "PSV",
          "WiiU",
          "XOne",
          "XOne",
          "PSV",
          "X360",
          "PS4",
          "PC",
          "X360",
          "WiiU",
          "PC",
          "PS4",
          "X360",
          "PC",
          "XOne",
          "PS4",
          "PS4",
          "PSV",
          "3DS",
          "X360",
          "PC",
          "PSV",
          "PSV",
          "3DS",
          "PS4",
          "XOne",
          "PS4",
          "3DS",
          "PS4",
          "PS3",
          "PSV",
          "PS4",
          "3DS",
          "PS4",
          "PS4",
          "PS4",
          "PSV",
          "PS4",
          "PSV",
          "PC",
          "3DS",
          "X360",
          "PS4",
          "PS3",
          "3DS",
          "XOne",
          "3DS",
          "PS4",
          "PS4",
          "PS4",
          "PS3",
          "XOne",
          "XOne",
          "PS4",
          "PSV",
          "PS4",
          "PC",
          "PS3",
          "3DS",
          "PSP",
          "3DS",
          "PS4",
          "PC",
          "PC",
          "PS3",
          "PS3",
          "PS4",
          "PS4",
          "PS4",
          "PS4",
          "PS4",
          "PS3",
          "PC",
          "WiiU",
          "X360",
          "PS4",
          "XOne",
          "3DS",
          "PSV",
          "XOne",
          "3DS",
          "PSV",
          "PSV",
          "X360",
          "PC",
          "PS4",
          "PSV",
          "3DS",
          "PS4",
          "PC",
          "PS4",
          "PSV",
          "X360",
          "PS4",
          "WiiU",
          "PS3",
          "PS3",
          "PS4",
          "PS4",
          "XOne",
          "PS4",
          "PS4",
          "X360",
          "PS4",
          "PS4",
          "X360",
          "XOne",
          "PS4",
          "PS4",
          "XOne",
          "PS3",
          "PS3",
          "PS4",
          "PSV",
          "3DS",
          "XOne",
          "PS4",
          "PS3",
          "PSV",
          "PS4",
          "PS4",
          "PS4",
          "XOne",
          "XOne",
          "PC",
          "PS4",
          "PS4",
          "XOne",
          "PSV",
          "PSV",
          "3DS",
          "PS4",
          "PS4",
          "PSV",
          "PSV",
          "PS3",
          "PSV",
          "PSV",
          "3DS",
          "PSV",
          "PSV",
          "PS4",
          "WiiU",
          "PS3",
          "XOne",
          "PS3",
          "3DS",
          "3DS",
          "PS4",
          "PS4",
          "PSV",
          "PSV",
          "3DS",
          "XOne",
          "PC",
          "PS4",
          "PS4",
          "PS4",
          "PSV",
          "PS4",
          "PS3",
          "PS4",
          "3DS",
          "PS4",
          "PSV",
          "PS3",
          "PS3",
          "PS3",
          "PS3",
          "PSV",
          "3DS",
          "PS3",
          "PS4",
          "PSV",
          "PS4",
          "PSV",
          "PS4",
          "PC",
          "PS4",
          "PC",
          "PS4",
          "PS4",
          "PS4",
          "PC",
          "XOne",
          "XOne",
          "WiiU",
          "PC",
          "PS4",
          "PSV",
          "XOne",
          "PSV",
          "3DS",
          "PSV",
          "PS3",
          "PSV",
          "PSV",
          "PS4",
          "PS3",
          "PSV",
          "XOne",
          "PS4",
          "PC",
          "PS4",
          "WiiU",
          "PSV",
          "PC",
          "XOne",
          "PS4",
          "3DS",
          "PS4",
          "PC",
          "PSV",
          "3DS",
          "PS4",
          "PSV",
          "3DS",
          "PS4",
          "PS4",
          "PSV",
          "XOne",
          "PC",
          "PSV",
          "PSV",
          "PC",
          "PS4",
          "PS4",
          "PS4",
          "3DS",
          "PS3",
          "3DS",
          "X360",
          "PS4",
          "3DS",
          "PSV",
          "PSV",
          "3DS",
          "PS4",
          "PS3",
          "3DS",
          "PS3",
          "PS3",
          "PS3",
          "XOne",
          "PC",
          "3DS",
          "3DS",
          "PC",
          "XOne",
          "PSV",
          "3DS",
          "XOne",
          "3DS",
          "X360",
          "PS3",
          "XOne",
          "PS3",
          "XOne",
          "PS4",
          "PS4",
          "PSV",
          "PC",
          "PSV",
          "PS3",
          "PC",
          "X360",
          "PSV",
          "PSV",
          "PS3",
          "XOne",
          "3DS",
          "PSV",
          "PSV",
          "Wii",
          "PSV",
          "PS4",
          "3DS",
          "WiiU",
          "PSV",
          "PSV",
          "3DS",
          "PSV",
          "XOne",
          "PSV",
          "PSV",
          "X360",
          "PS4",
          "PSV",
          "PSV",
          "XOne",
          "PSV",
          "PSV",
          "PSV",
          "PSV",
          "PSV",
          "PS3",
          "PSV",
          "3DS",
          "3DS",
          "PS4",
          "PSV",
          "PS4",
          "3DS",
          "PS3",
          "3DS",
          "PSV",
          "WiiU",
          "PS3",
          "PSV",
          "PSV",
          "PC",
          "PSV",
          "PC",
          "PSV",
          "3DS",
          "PSV",
          "PSV",
          "PC",
          "PC",
          "3DS",
          "PSV",
          "WiiU",
          "PS3",
          "PS4",
          "PS4",
          "3DS",
          "3DS",
          "PSV",
          "PC",
          "PSV",
          "PS4",
          "3DS",
          "PC",
          "3DS",
          "PSV",
          "X360",
          "PSV",
          "XOne",
          "PC",
          "PC",
          "XOne",
          "PSV",
          "3DS",
          "3DS",
          "PS4",
          "3DS",
          "PSV",
          "PS4",
          "PC",
          "X360",
          "PS3",
          "PS3",
          "3DS",
          "PSV",
          "PSV",
          "PS4",
          "PSV",
          "PSV",
          "PS4",
          "PC",
          "PS4",
          "XOne",
          "PS3",
          "3DS",
          "PC",
          "3DS",
          "PC",
          "PSV",
          "X360",
          "3DS",
          "PS3",
          "X360",
          "XOne",
          "PS4",
          "3DS",
          "XOne",
          "3DS",
          "PS3",
          "PSV",
          "PC",
          "PC",
          "PSV",
          "PS3",
          "PS3",
          "PSV",
          "PSV",
          "PSV",
          "PSV",
          "XOne",
          "XOne",
          "PSV",
          "PS4",
          "PSV",
          "PS3",
          "3DS",
          "3DS",
          "PSV",
          "PSV",
          "PC",
          "PSV",
          "PS4",
          "PC",
          "PSV",
          "PSV",
          "PC",
          "PSV",
          "PS4",
          "PSP",
          "PSV",
          "PSV",
          "PSV",
          "PSV",
          "PSP",
          "PS4",
          "PS4",
          "PSV",
          "XOne",
          "PS4",
          "PSV",
          "PSV",
          "PSV",
          "XOne",
          "PSV",
          "XOne",
          "PSV",
          "PSV",
          "PSV",
          "PSV",
          "PS3",
          "PSV",
          "PS4",
          "PS4",
          "PS3",
          "PSV",
          "PSV",
          "PS3",
          "PSV",
          "PS3",
          "PS3",
          "PSV",
          "X360",
          "PS4",
          "PSV",
          "PSV",
          "PSV",
          "PS4",
          "PS4",
          "PS3",
          "PS3",
          "PSV",
          "PS4",
          "X360",
          "PS3",
          "PS4",
          "XOne",
          "PS3",
          "PS4",
          "PS4",
          "PS4",
          "3DS",
          "PS4",
          "PS4",
          "3DS",
          "XOne",
          "XOne",
          "PS3",
          "PS4",
          "PS4",
          "PS4",
          "X360",
          "PS3",
          "PC",
          "X360",
          "PS4",
          "PSV",
          "PSV",
          "PSV",
          "PC",
          "PS4",
          "XOne",
          "PC",
          "X360",
          "PS4",
          "XOne",
          "PSV",
          "PC",
          "PS3",
          "PC",
          "PSV",
          "PS3",
          "PSV",
          "PSV",
          "PSV",
          "PSV",
          "3DS",
          "PS4",
          "PSV",
          "PS3",
          "PS4",
          "XOne",
          "PS3",
          "PS4",
          "PSV",
          "PS3",
          "XOne",
          "3DS",
          "PS4",
          "PS4",
          "PC",
          "PS4",
          "WiiU",
          "PC",
          "PS4",
          "PS4",
          "XOne",
          "PSV",
          "PS4",
          "WiiU",
          "XOne",
          "X360",
          "PS4",
          "3DS",
          "PS3",
          "PC",
          "PSV",
          "PC",
          "PS4",
          "PSV",
          "PS4",
          "XOne",
          "WiiU",
          "PC",
          "PC",
          "3DS",
          "3DS",
          "PS3",
          "PSV",
          "PS3",
          "PSV",
          "PSV",
          "PS3",
          "PSV",
          "PSV",
          "WiiU",
          "XOne",
          "PSV",
          "XOne",
          "WiiU",
          "XOne",
          "PSV",
          "XOne",
          "XOne",
          "PSV",
          "PSV",
          "PC",
          "3DS",
          "3DS",
          "XOne",
          "XOne",
          "PS4",
          "PSV",
          "PSV",
          "PSV",
          "PSV",
          "PS4",
          "PSV",
          "PSV",
          "3DS",
          "PSV",
          "XOne",
          "PC",
          "PS4",
          "XOne",
          "PC",
          "3DS",
          "PC",
          "PSV",
          "PSV",
          "PS4",
          "XOne",
          "XOne",
          "PC",
          "XOne",
          "XOne",
          "PSV",
          "PC",
          "PC",
          "PS4",
          "PS3",
          "PS4",
          "PS4",
          "PS4",
          "PS4",
          "XOne",
          "3DS",
          "PC",
          "PS3",
          "PSV",
          "PS4",
          "PSV",
          "PSV",
          "PC",
          "PC",
          "PSV",
          "PC",
          "PSV",
          "XOne",
          "XOne",
          "Wii",
          "WiiU",
          "PC",
          "PSV",
          "PSV",
          "WiiU",
          "XOne",
          "3DS",
          "PS3",
          "PC",
          "PSV",
          "PSV",
          "PSV",
          "PC",
          "XOne",
          "PS3",
          "XOne",
          "PSV"
         ],
         "x0": " ",
         "xaxis": "x",
         "y": [
          14.629999999999999,
          8.58,
          7.98,
          7.6000000000000005,
          7.389999999999999,
          7.17,
          7.14,
          5.39,
          4.62,
          4.49,
          4.470000000000001,
          4.4399999999999995,
          4.22,
          4.07,
          3.9699999999999998,
          3.96,
          3.87,
          3.8,
          3.66,
          3.4200000000000004,
          3.3899999999999997,
          3.32,
          3.28,
          3.25,
          3.2399999999999998,
          3.21,
          3.05,
          2.78,
          2.6999999999999997,
          2.65,
          2.48,
          2.4200000000000004,
          2.42,
          2.42,
          2.34,
          2.34,
          2.29,
          2.2600000000000002,
          2.25,
          2.21,
          2.1700000000000004,
          2.14,
          2.11,
          2.09,
          1.9200000000000002,
          1.8800000000000001,
          1.85,
          1.81,
          1.7999999999999998,
          1.75,
          1.74,
          1.7200000000000002,
          1.7,
          1.6900000000000002,
          1.69,
          1.6700000000000002,
          1.6600000000000001,
          1.6600000000000001,
          1.58,
          1.5699999999999998,
          1.54,
          1.4900000000000002,
          1.49,
          1.3800000000000001,
          1.38,
          1.3399999999999999,
          1.3399999999999999,
          1.33,
          1.3199999999999998,
          1.3,
          1.3,
          1.2900000000000003,
          1.29,
          1.2800000000000002,
          1.2800000000000002,
          1.25,
          1.23,
          1.21,
          1.21,
          1.2000000000000002,
          1.1700000000000002,
          1.17,
          1.14,
          1.13,
          1.11,
          1.1,
          1.08,
          1.0799999999999998,
          1.06,
          1.03,
          1.03,
          1.01,
          0.98,
          0.9700000000000001,
          0.97,
          0.95,
          0.9400000000000001,
          0.9400000000000001,
          0.93,
          0.93,
          0.93,
          0.91,
          0.9,
          0.9,
          0.89,
          0.89,
          0.88,
          0.88,
          0.87,
          0.87,
          0.86,
          0.86,
          0.85,
          0.8400000000000001,
          0.79,
          0.78,
          0.7699999999999999,
          0.7600000000000001,
          0.76,
          0.7500000000000001,
          0.75,
          0.75,
          0.75,
          0.75,
          0.7300000000000001,
          0.7300000000000001,
          0.7300000000000001,
          0.73,
          0.73,
          0.73,
          0.73,
          0.7200000000000001,
          0.71,
          0.7,
          0.6900000000000001,
          0.6900000000000001,
          0.69,
          0.6700000000000002,
          0.67,
          0.6599999999999999,
          0.65,
          0.64,
          0.64,
          0.6399999999999999,
          0.6300000000000001,
          0.63,
          0.63,
          0.6200000000000001,
          0.6200000000000001,
          0.61,
          0.6,
          0.5900000000000001,
          0.5700000000000001,
          0.5700000000000001,
          0.5700000000000001,
          0.56,
          0.56,
          0.56,
          0.56,
          0.5599999999999999,
          0.55,
          0.55,
          0.54,
          0.53,
          0.53,
          0.53,
          0.53,
          0.52,
          0.52,
          0.51,
          0.51,
          0.51,
          0.49000000000000005,
          0.49000000000000005,
          0.49,
          0.48000000000000004,
          0.48000000000000004,
          0.48,
          0.48,
          0.48,
          0.4799999999999999,
          0.47000000000000003,
          0.47,
          0.45999999999999996,
          0.45,
          0.44000000000000006,
          0.44000000000000006,
          0.44,
          0.43,
          0.43,
          0.43,
          0.42000000000000004,
          0.42000000000000004,
          0.42,
          0.42,
          0.42,
          0.41000000000000003,
          0.41000000000000003,
          0.41,
          0.41,
          0.4,
          0.4,
          0.4,
          0.39999999999999997,
          0.39999999999999997,
          0.39999999999999997,
          0.39,
          0.39,
          0.38999999999999996,
          0.38999999999999996,
          0.38,
          0.38,
          0.38,
          0.38,
          0.37999999999999995,
          0.37000000000000005,
          0.37,
          0.37,
          0.37,
          0.37,
          0.37,
          0.36000000000000004,
          0.36000000000000004,
          0.36000000000000004,
          0.36000000000000004,
          0.36,
          0.36,
          0.36,
          0.36,
          0.36,
          0.35000000000000003,
          0.35000000000000003,
          0.35,
          0.34,
          0.34,
          0.34,
          0.34,
          0.33999999999999997,
          0.33999999999999997,
          0.33999999999999997,
          0.33999999999999997,
          0.33,
          0.33,
          0.33,
          0.32000000000000006,
          0.32000000000000006,
          0.32,
          0.32,
          0.31999999999999995,
          0.31999999999999995,
          0.31999999999999995,
          0.31999999999999995,
          0.31000000000000005,
          0.31000000000000005,
          0.31000000000000005,
          0.31,
          0.3,
          0.3,
          0.3,
          0.3,
          0.3,
          0.29000000000000004,
          0.29000000000000004,
          0.29000000000000004,
          0.29000000000000004,
          0.29000000000000004,
          0.29,
          0.28,
          0.28,
          0.27999999999999997,
          0.27,
          0.27,
          0.27,
          0.26999999999999996,
          0.26,
          0.26,
          0.26,
          0.26,
          0.26,
          0.26,
          0.26,
          0.26,
          0.26,
          0.26,
          0.25,
          0.25,
          0.25,
          0.25,
          0.24999999999999997,
          0.24999999999999997,
          0.24999999999999997,
          0.24000000000000002,
          0.24000000000000002,
          0.24000000000000002,
          0.24000000000000002,
          0.24000000000000002,
          0.24,
          0.24,
          0.24,
          0.24,
          0.23,
          0.23,
          0.23,
          0.23,
          0.23,
          0.23,
          0.23,
          0.23,
          0.23,
          0.23,
          0.22999999999999998,
          0.22999999999999998,
          0.22,
          0.22,
          0.22,
          0.22,
          0.22,
          0.22,
          0.21000000000000002,
          0.21,
          0.21,
          0.21,
          0.21,
          0.21,
          0.2,
          0.2,
          0.2,
          0.2,
          0.2,
          0.2,
          0.2,
          0.2,
          0.19999999999999998,
          0.19999999999999998,
          0.19999999999999998,
          0.19999999999999998,
          0.19999999999999998,
          0.19999999999999998,
          0.19999999999999998,
          0.19999999999999998,
          0.19,
          0.19,
          0.19,
          0.19,
          0.19,
          0.18999999999999997,
          0.18999999999999997,
          0.18000000000000002,
          0.18000000000000002,
          0.18,
          0.18,
          0.18,
          0.18,
          0.18,
          0.18,
          0.18,
          0.17,
          0.17,
          0.17,
          0.17,
          0.17,
          0.17,
          0.17,
          0.17,
          0.16999999999999998,
          0.16999999999999998,
          0.16999999999999998,
          0.16999999999999998,
          0.16000000000000003,
          0.16,
          0.16,
          0.16,
          0.16,
          0.16,
          0.16,
          0.15000000000000002,
          0.15000000000000002,
          0.15000000000000002,
          0.15000000000000002,
          0.15000000000000002,
          0.15000000000000002,
          0.15000000000000002,
          0.15,
          0.15,
          0.15,
          0.15,
          0.15,
          0.15,
          0.15,
          0.15,
          0.14,
          0.14,
          0.14,
          0.14,
          0.14,
          0.14,
          0.14,
          0.14,
          0.14,
          0.14,
          0.13999999999999999,
          0.13999999999999999,
          0.13999999999999999,
          0.13999999999999999,
          0.13,
          0.13,
          0.13,
          0.13,
          0.13,
          0.13,
          0.13,
          0.13,
          0.13,
          0.13,
          0.13,
          0.13,
          0.13,
          0.13,
          0.13,
          0.13,
          0.13,
          0.13,
          0.13,
          0.12000000000000001,
          0.12000000000000001,
          0.12000000000000001,
          0.12000000000000001,
          0.12000000000000001,
          0.12000000000000001,
          0.12000000000000001,
          0.12000000000000001,
          0.12000000000000001,
          0.12,
          0.12,
          0.12,
          0.12,
          0.12,
          0.12,
          0.12,
          0.12,
          0.12,
          0.12,
          0.12,
          0.12,
          0.12,
          0.12,
          0.12,
          0.12,
          0.12,
          0.12,
          0.11000000000000001,
          0.11000000000000001,
          0.11,
          0.11,
          0.11,
          0.11,
          0.11,
          0.11,
          0.11,
          0.11,
          0.11,
          0.11,
          0.11,
          0.11,
          0.11,
          0.11,
          0.11,
          0.11,
          0.11,
          0.11,
          0.11,
          0.11,
          0.10999999999999999,
          0.1,
          0.1,
          0.1,
          0.1,
          0.1,
          0.1,
          0.1,
          0.1,
          0.1,
          0.1,
          0.09999999999999999,
          0.09999999999999999,
          0.09999999999999999,
          0.09999999999999999,
          0.09999999999999999,
          0.09999999999999999,
          0.09999999999999999,
          0.09999999999999999,
          0.09999999999999999,
          0.09999999999999999,
          0.09999999999999999,
          0.09999999999999999,
          0.09999999999999999,
          0.09999999999999999,
          0.09000000000000001,
          0.09000000000000001,
          0.09000000000000001,
          0.09,
          0.09,
          0.09,
          0.09,
          0.09,
          0.09,
          0.09,
          0.09,
          0.09,
          0.09,
          0.09,
          0.09,
          0.09,
          0.09,
          0.09,
          0.09,
          0.09,
          0.09,
          0.09,
          0.09,
          0.09,
          0.09,
          0.09,
          0.09,
          0.09,
          0.09,
          0.08,
          0.08,
          0.08,
          0.08,
          0.08,
          0.08,
          0.08,
          0.08,
          0.08,
          0.08,
          0.08,
          0.08,
          0.08,
          0.08,
          0.08,
          0.08,
          0.08,
          0.08,
          0.08,
          0.08,
          0.08,
          0.08,
          0.08,
          0.08,
          0.08,
          0.08,
          0.08,
          0.08,
          0.08,
          0.07999999999999999,
          0.07999999999999999,
          0.07,
          0.07,
          0.07,
          0.07,
          0.07,
          0.07,
          0.07,
          0.07,
          0.07,
          0.07,
          0.07,
          0.07,
          0.07,
          0.07,
          0.07,
          0.06999999999999999,
          0.06999999999999999,
          0.06999999999999999,
          0.06999999999999999,
          0.06999999999999999,
          0.06999999999999999,
          0.06999999999999999,
          0.06999999999999999,
          0.06999999999999999,
          0.06999999999999999,
          0.06999999999999999,
          0.06999999999999999,
          0.06999999999999999,
          0.06999999999999999,
          0.06999999999999999,
          0.06999999999999999,
          0.060000000000000005,
          0.060000000000000005,
          0.060000000000000005,
          0.060000000000000005,
          0.060000000000000005,
          0.060000000000000005,
          0.060000000000000005,
          0.060000000000000005,
          0.060000000000000005,
          0.060000000000000005,
          0.060000000000000005,
          0.060000000000000005,
          0.060000000000000005,
          0.060000000000000005,
          0.060000000000000005,
          0.060000000000000005,
          0.060000000000000005,
          0.060000000000000005,
          0.060000000000000005,
          0.060000000000000005,
          0.060000000000000005,
          0.060000000000000005,
          0.060000000000000005,
          0.060000000000000005,
          0.060000000000000005,
          0.060000000000000005,
          0.060000000000000005,
          0.06,
          0.06,
          0.06,
          0.06,
          0.06,
          0.06,
          0.06,
          0.06,
          0.06,
          0.06,
          0.06,
          0.06,
          0.06,
          0.06,
          0.06,
          0.06,
          0.06,
          0.06,
          0.06,
          0.06,
          0.05,
          0.05,
          0.05,
          0.05,
          0.05,
          0.05,
          0.05,
          0.05,
          0.05,
          0.05,
          0.05,
          0.05,
          0.05,
          0.05,
          0.05,
          0.05,
          0.05,
          0.05,
          0.05,
          0.05,
          0.05,
          0.05,
          0.05,
          0.05,
          0.05,
          0.05,
          0.05,
          0.05,
          0.05,
          0.05,
          0.05,
          0.05,
          0.05,
          0.05,
          0.05,
          0.05,
          0.05,
          0.05,
          0.05,
          0.05,
          0.05,
          0.05,
          0.05,
          0.05,
          0.05,
          0.05,
          0.05,
          0.05,
          0.05,
          0.05,
          0.05,
          0.05,
          0.05,
          0.05,
          0.05,
          0.05,
          0.04,
          0.04,
          0.04,
          0.04,
          0.04,
          0.04,
          0.04,
          0.04,
          0.04,
          0.04,
          0.04,
          0.04,
          0.04,
          0.04,
          0.04,
          0.04,
          0.04,
          0.04,
          0.04,
          0.04,
          0.04,
          0.04,
          0.04,
          0.04,
          0.04,
          0.04,
          0.04,
          0.04,
          0.04,
          0.04,
          0.04,
          0.04,
          0.04,
          0.04,
          0.04,
          0.04,
          0.04,
          0.04,
          0.04,
          0.04,
          0.04,
          0.04,
          0.04,
          0.04,
          0.04,
          0.04,
          0.04,
          0.04,
          0.04,
          0.04,
          0.04,
          0.04,
          0.04,
          0.04,
          0.04,
          0.04,
          0.04,
          0.04,
          0.03,
          0.03,
          0.03,
          0.03,
          0.03,
          0.03,
          0.03,
          0.03,
          0.03,
          0.03,
          0.03,
          0.03,
          0.03,
          0.03,
          0.03,
          0.03,
          0.03,
          0.03,
          0.03,
          0.03,
          0.03,
          0.03,
          0.03,
          0.03,
          0.03,
          0.03,
          0.03,
          0.03,
          0.03,
          0.03,
          0.03,
          0.03,
          0.03,
          0.03,
          0.03,
          0.03,
          0.03,
          0.03,
          0.03,
          0.03,
          0.03,
          0.03,
          0.03,
          0.03,
          0.03,
          0.03,
          0.03,
          0.03,
          0.03,
          0.03,
          0.03,
          0.03,
          0.03,
          0.03,
          0.03,
          0.03,
          0.03,
          0.03,
          0.03,
          0.03,
          0.03,
          0.03,
          0.03,
          0.03,
          0.03,
          0.03,
          0.03,
          0.03,
          0.03,
          0.03,
          0.03,
          0.03,
          0.03,
          0.03,
          0.03,
          0.03,
          0.03,
          0.03,
          0.03,
          0.03,
          0.03,
          0.03,
          0.03,
          0.03,
          0.03,
          0.03,
          0.03,
          0.03,
          0.03,
          0.03,
          0.03,
          0.03,
          0.03,
          0.03,
          0.03,
          0.03,
          0.03,
          0.03,
          0.03,
          0.03,
          0.03,
          0.03,
          0.03,
          0.02,
          0.02,
          0.02,
          0.02,
          0.02,
          0.02,
          0.02,
          0.02,
          0.02,
          0.02,
          0.02,
          0.02,
          0.02,
          0.02,
          0.02,
          0.02,
          0.02,
          0.02,
          0.02,
          0.02,
          0.02,
          0.02,
          0.02,
          0.02,
          0.02,
          0.02,
          0.02,
          0.02,
          0.02,
          0.02,
          0.02,
          0.02,
          0.02,
          0.02,
          0.02,
          0.02,
          0.02,
          0.02,
          0.02,
          0.02,
          0.02,
          0.02,
          0.02,
          0.02,
          0.02,
          0.02,
          0.02,
          0.02,
          0.02,
          0.02,
          0.02,
          0.02,
          0.02,
          0.02,
          0.02,
          0.02,
          0.02,
          0.02,
          0.02,
          0.02,
          0.02,
          0.02,
          0.02,
          0.02,
          0.02,
          0.02,
          0.02,
          0.02,
          0.02,
          0.02,
          0.02,
          0.02,
          0.02,
          0.02,
          0.02,
          0.02,
          0.02,
          0.02,
          0.02,
          0.02,
          0.02,
          0.02,
          0.02,
          0.02,
          0.02,
          0.02,
          0.02,
          0.02,
          0.02,
          0.02,
          0.02,
          0.02,
          0.02,
          0.02,
          0.02,
          0.02,
          0.02,
          0.02,
          0.02,
          0.02,
          0.02,
          0.02,
          0.02,
          0.02,
          0.02,
          0.02,
          0.02,
          0.02,
          0.02,
          0.02,
          0.02,
          0.02,
          0.02,
          0.02,
          0.02,
          0.02,
          0.02,
          0.02,
          0.02,
          0.02,
          0.02,
          0.02,
          0.02,
          0.02,
          0.02,
          0.02,
          0.02,
          0.02,
          0.02,
          0.02,
          0.02,
          0.02,
          0.02,
          0.02,
          0.01,
          0.01,
          0.01,
          0.01,
          0.01,
          0.01,
          0.01,
          0.01,
          0.01,
          0.01,
          0.01,
          0.01,
          0.01,
          0.01,
          0.01,
          0.01,
          0.01,
          0.01,
          0.01,
          0.01,
          0.01,
          0.01,
          0.01,
          0.01,
          0.01,
          0.01,
          0.01,
          0.01,
          0.01,
          0.01,
          0.01,
          0.01,
          0.01,
          0.01,
          0.01,
          0.01,
          0.01,
          0.01,
          0.01,
          0.01,
          0.01,
          0.01,
          0.01,
          0.01,
          0.01,
          0.01,
          0.01,
          0.01,
          0.01,
          0.01,
          0.01,
          0.01,
          0.01,
          0.01,
          0.01,
          0.01,
          0.01,
          0.01,
          0.01,
          0.01,
          0.01,
          0.01,
          0.01,
          0.01,
          0.01,
          0.01,
          0.01,
          0.01,
          0.01,
          0.01,
          0.01,
          0.01,
          0.01,
          0.01,
          0.01,
          0.01,
          0.01,
          0.01,
          0.01,
          0.01,
          0.01,
          0.01,
          0.01,
          0.01,
          0.01,
          0.01,
          0.01,
          0.01,
          0.01,
          0.01,
          0.01,
          0.01,
          0.01,
          0.01,
          0.01,
          0.01,
          0.01,
          0.01,
          0.01,
          0.01,
          0.01,
          0.01,
          0.01,
          0.01,
          0.01,
          0.01,
          0.01,
          0.01,
          0.01,
          0.01,
          0.01,
          0.01,
          0.01,
          0.01,
          0.01,
          0.01,
          0.01,
          0.01,
          0.01,
          0.01,
          0.01,
          0.01
         ],
         "y0": " ",
         "yaxis": "y"
        }
       ],
       "layout": {
        "boxmode": "group",
        "legend": {
         "tracegroupgap": 0
        },
        "margin": {
         "t": 60
        },
        "template": {
         "data": {
          "bar": [
           {
            "error_x": {
             "color": "#2a3f5f"
            },
            "error_y": {
             "color": "#2a3f5f"
            },
            "marker": {
             "line": {
              "color": "#E5ECF6",
              "width": 0.5
             },
             "pattern": {
              "fillmode": "overlay",
              "size": 10,
              "solidity": 0.2
             }
            },
            "type": "bar"
           }
          ],
          "barpolar": [
           {
            "marker": {
             "line": {
              "color": "#E5ECF6",
              "width": 0.5
             },
             "pattern": {
              "fillmode": "overlay",
              "size": 10,
              "solidity": 0.2
             }
            },
            "type": "barpolar"
           }
          ],
          "carpet": [
           {
            "aaxis": {
             "endlinecolor": "#2a3f5f",
             "gridcolor": "white",
             "linecolor": "white",
             "minorgridcolor": "white",
             "startlinecolor": "#2a3f5f"
            },
            "baxis": {
             "endlinecolor": "#2a3f5f",
             "gridcolor": "white",
             "linecolor": "white",
             "minorgridcolor": "white",
             "startlinecolor": "#2a3f5f"
            },
            "type": "carpet"
           }
          ],
          "choropleth": [
           {
            "colorbar": {
             "outlinewidth": 0,
             "ticks": ""
            },
            "type": "choropleth"
           }
          ],
          "contour": [
           {
            "colorbar": {
             "outlinewidth": 0,
             "ticks": ""
            },
            "colorscale": [
             [
              0,
              "#0d0887"
             ],
             [
              0.1111111111111111,
              "#46039f"
             ],
             [
              0.2222222222222222,
              "#7201a8"
             ],
             [
              0.3333333333333333,
              "#9c179e"
             ],
             [
              0.4444444444444444,
              "#bd3786"
             ],
             [
              0.5555555555555556,
              "#d8576b"
             ],
             [
              0.6666666666666666,
              "#ed7953"
             ],
             [
              0.7777777777777778,
              "#fb9f3a"
             ],
             [
              0.8888888888888888,
              "#fdca26"
             ],
             [
              1,
              "#f0f921"
             ]
            ],
            "type": "contour"
           }
          ],
          "contourcarpet": [
           {
            "colorbar": {
             "outlinewidth": 0,
             "ticks": ""
            },
            "type": "contourcarpet"
           }
          ],
          "heatmap": [
           {
            "colorbar": {
             "outlinewidth": 0,
             "ticks": ""
            },
            "colorscale": [
             [
              0,
              "#0d0887"
             ],
             [
              0.1111111111111111,
              "#46039f"
             ],
             [
              0.2222222222222222,
              "#7201a8"
             ],
             [
              0.3333333333333333,
              "#9c179e"
             ],
             [
              0.4444444444444444,
              "#bd3786"
             ],
             [
              0.5555555555555556,
              "#d8576b"
             ],
             [
              0.6666666666666666,
              "#ed7953"
             ],
             [
              0.7777777777777778,
              "#fb9f3a"
             ],
             [
              0.8888888888888888,
              "#fdca26"
             ],
             [
              1,
              "#f0f921"
             ]
            ],
            "type": "heatmap"
           }
          ],
          "heatmapgl": [
           {
            "colorbar": {
             "outlinewidth": 0,
             "ticks": ""
            },
            "colorscale": [
             [
              0,
              "#0d0887"
             ],
             [
              0.1111111111111111,
              "#46039f"
             ],
             [
              0.2222222222222222,
              "#7201a8"
             ],
             [
              0.3333333333333333,
              "#9c179e"
             ],
             [
              0.4444444444444444,
              "#bd3786"
             ],
             [
              0.5555555555555556,
              "#d8576b"
             ],
             [
              0.6666666666666666,
              "#ed7953"
             ],
             [
              0.7777777777777778,
              "#fb9f3a"
             ],
             [
              0.8888888888888888,
              "#fdca26"
             ],
             [
              1,
              "#f0f921"
             ]
            ],
            "type": "heatmapgl"
           }
          ],
          "histogram": [
           {
            "marker": {
             "pattern": {
              "fillmode": "overlay",
              "size": 10,
              "solidity": 0.2
             }
            },
            "type": "histogram"
           }
          ],
          "histogram2d": [
           {
            "colorbar": {
             "outlinewidth": 0,
             "ticks": ""
            },
            "colorscale": [
             [
              0,
              "#0d0887"
             ],
             [
              0.1111111111111111,
              "#46039f"
             ],
             [
              0.2222222222222222,
              "#7201a8"
             ],
             [
              0.3333333333333333,
              "#9c179e"
             ],
             [
              0.4444444444444444,
              "#bd3786"
             ],
             [
              0.5555555555555556,
              "#d8576b"
             ],
             [
              0.6666666666666666,
              "#ed7953"
             ],
             [
              0.7777777777777778,
              "#fb9f3a"
             ],
             [
              0.8888888888888888,
              "#fdca26"
             ],
             [
              1,
              "#f0f921"
             ]
            ],
            "type": "histogram2d"
           }
          ],
          "histogram2dcontour": [
           {
            "colorbar": {
             "outlinewidth": 0,
             "ticks": ""
            },
            "colorscale": [
             [
              0,
              "#0d0887"
             ],
             [
              0.1111111111111111,
              "#46039f"
             ],
             [
              0.2222222222222222,
              "#7201a8"
             ],
             [
              0.3333333333333333,
              "#9c179e"
             ],
             [
              0.4444444444444444,
              "#bd3786"
             ],
             [
              0.5555555555555556,
              "#d8576b"
             ],
             [
              0.6666666666666666,
              "#ed7953"
             ],
             [
              0.7777777777777778,
              "#fb9f3a"
             ],
             [
              0.8888888888888888,
              "#fdca26"
             ],
             [
              1,
              "#f0f921"
             ]
            ],
            "type": "histogram2dcontour"
           }
          ],
          "mesh3d": [
           {
            "colorbar": {
             "outlinewidth": 0,
             "ticks": ""
            },
            "type": "mesh3d"
           }
          ],
          "parcoords": [
           {
            "line": {
             "colorbar": {
              "outlinewidth": 0,
              "ticks": ""
             }
            },
            "type": "parcoords"
           }
          ],
          "pie": [
           {
            "automargin": true,
            "type": "pie"
           }
          ],
          "scatter": [
           {
            "fillpattern": {
             "fillmode": "overlay",
             "size": 10,
             "solidity": 0.2
            },
            "type": "scatter"
           }
          ],
          "scatter3d": [
           {
            "line": {
             "colorbar": {
              "outlinewidth": 0,
              "ticks": ""
             }
            },
            "marker": {
             "colorbar": {
              "outlinewidth": 0,
              "ticks": ""
             }
            },
            "type": "scatter3d"
           }
          ],
          "scattercarpet": [
           {
            "marker": {
             "colorbar": {
              "outlinewidth": 0,
              "ticks": ""
             }
            },
            "type": "scattercarpet"
           }
          ],
          "scattergeo": [
           {
            "marker": {
             "colorbar": {
              "outlinewidth": 0,
              "ticks": ""
             }
            },
            "type": "scattergeo"
           }
          ],
          "scattergl": [
           {
            "marker": {
             "colorbar": {
              "outlinewidth": 0,
              "ticks": ""
             }
            },
            "type": "scattergl"
           }
          ],
          "scattermapbox": [
           {
            "marker": {
             "colorbar": {
              "outlinewidth": 0,
              "ticks": ""
             }
            },
            "type": "scattermapbox"
           }
          ],
          "scatterpolar": [
           {
            "marker": {
             "colorbar": {
              "outlinewidth": 0,
              "ticks": ""
             }
            },
            "type": "scatterpolar"
           }
          ],
          "scatterpolargl": [
           {
            "marker": {
             "colorbar": {
              "outlinewidth": 0,
              "ticks": ""
             }
            },
            "type": "scatterpolargl"
           }
          ],
          "scatterternary": [
           {
            "marker": {
             "colorbar": {
              "outlinewidth": 0,
              "ticks": ""
             }
            },
            "type": "scatterternary"
           }
          ],
          "surface": [
           {
            "colorbar": {
             "outlinewidth": 0,
             "ticks": ""
            },
            "colorscale": [
             [
              0,
              "#0d0887"
             ],
             [
              0.1111111111111111,
              "#46039f"
             ],
             [
              0.2222222222222222,
              "#7201a8"
             ],
             [
              0.3333333333333333,
              "#9c179e"
             ],
             [
              0.4444444444444444,
              "#bd3786"
             ],
             [
              0.5555555555555556,
              "#d8576b"
             ],
             [
              0.6666666666666666,
              "#ed7953"
             ],
             [
              0.7777777777777778,
              "#fb9f3a"
             ],
             [
              0.8888888888888888,
              "#fdca26"
             ],
             [
              1,
              "#f0f921"
             ]
            ],
            "type": "surface"
           }
          ],
          "table": [
           {
            "cells": {
             "fill": {
              "color": "#EBF0F8"
             },
             "line": {
              "color": "white"
             }
            },
            "header": {
             "fill": {
              "color": "#C8D4E3"
             },
             "line": {
              "color": "white"
             }
            },
            "type": "table"
           }
          ]
         },
         "layout": {
          "annotationdefaults": {
           "arrowcolor": "#2a3f5f",
           "arrowhead": 0,
           "arrowwidth": 1
          },
          "autotypenumbers": "strict",
          "coloraxis": {
           "colorbar": {
            "outlinewidth": 0,
            "ticks": ""
           }
          },
          "colorscale": {
           "diverging": [
            [
             0,
             "#8e0152"
            ],
            [
             0.1,
             "#c51b7d"
            ],
            [
             0.2,
             "#de77ae"
            ],
            [
             0.3,
             "#f1b6da"
            ],
            [
             0.4,
             "#fde0ef"
            ],
            [
             0.5,
             "#f7f7f7"
            ],
            [
             0.6,
             "#e6f5d0"
            ],
            [
             0.7,
             "#b8e186"
            ],
            [
             0.8,
             "#7fbc41"
            ],
            [
             0.9,
             "#4d9221"
            ],
            [
             1,
             "#276419"
            ]
           ],
           "sequential": [
            [
             0,
             "#0d0887"
            ],
            [
             0.1111111111111111,
             "#46039f"
            ],
            [
             0.2222222222222222,
             "#7201a8"
            ],
            [
             0.3333333333333333,
             "#9c179e"
            ],
            [
             0.4444444444444444,
             "#bd3786"
            ],
            [
             0.5555555555555556,
             "#d8576b"
            ],
            [
             0.6666666666666666,
             "#ed7953"
            ],
            [
             0.7777777777777778,
             "#fb9f3a"
            ],
            [
             0.8888888888888888,
             "#fdca26"
            ],
            [
             1,
             "#f0f921"
            ]
           ],
           "sequentialminus": [
            [
             0,
             "#0d0887"
            ],
            [
             0.1111111111111111,
             "#46039f"
            ],
            [
             0.2222222222222222,
             "#7201a8"
            ],
            [
             0.3333333333333333,
             "#9c179e"
            ],
            [
             0.4444444444444444,
             "#bd3786"
            ],
            [
             0.5555555555555556,
             "#d8576b"
            ],
            [
             0.6666666666666666,
             "#ed7953"
            ],
            [
             0.7777777777777778,
             "#fb9f3a"
            ],
            [
             0.8888888888888888,
             "#fdca26"
            ],
            [
             1,
             "#f0f921"
            ]
           ]
          },
          "colorway": [
           "#636efa",
           "#EF553B",
           "#00cc96",
           "#ab63fa",
           "#FFA15A",
           "#19d3f3",
           "#FF6692",
           "#B6E880",
           "#FF97FF",
           "#FECB52"
          ],
          "font": {
           "color": "#2a3f5f"
          },
          "geo": {
           "bgcolor": "white",
           "lakecolor": "white",
           "landcolor": "#E5ECF6",
           "showlakes": true,
           "showland": true,
           "subunitcolor": "white"
          },
          "hoverlabel": {
           "align": "left"
          },
          "hovermode": "closest",
          "mapbox": {
           "style": "light"
          },
          "paper_bgcolor": "white",
          "plot_bgcolor": "#E5ECF6",
          "polar": {
           "angularaxis": {
            "gridcolor": "white",
            "linecolor": "white",
            "ticks": ""
           },
           "bgcolor": "#E5ECF6",
           "radialaxis": {
            "gridcolor": "white",
            "linecolor": "white",
            "ticks": ""
           }
          },
          "scene": {
           "xaxis": {
            "backgroundcolor": "#E5ECF6",
            "gridcolor": "white",
            "gridwidth": 2,
            "linecolor": "white",
            "showbackground": true,
            "ticks": "",
            "zerolinecolor": "white"
           },
           "yaxis": {
            "backgroundcolor": "#E5ECF6",
            "gridcolor": "white",
            "gridwidth": 2,
            "linecolor": "white",
            "showbackground": true,
            "ticks": "",
            "zerolinecolor": "white"
           },
           "zaxis": {
            "backgroundcolor": "#E5ECF6",
            "gridcolor": "white",
            "gridwidth": 2,
            "linecolor": "white",
            "showbackground": true,
            "ticks": "",
            "zerolinecolor": "white"
           }
          },
          "shapedefaults": {
           "line": {
            "color": "#2a3f5f"
           }
          },
          "ternary": {
           "aaxis": {
            "gridcolor": "white",
            "linecolor": "white",
            "ticks": ""
           },
           "baxis": {
            "gridcolor": "white",
            "linecolor": "white",
            "ticks": ""
           },
           "bgcolor": "#E5ECF6",
           "caxis": {
            "gridcolor": "white",
            "linecolor": "white",
            "ticks": ""
           }
          },
          "title": {
           "x": 0.05
          },
          "xaxis": {
           "automargin": true,
           "gridcolor": "white",
           "linecolor": "white",
           "ticks": "",
           "title": {
            "standoff": 15
           },
           "zerolinecolor": "white",
           "zerolinewidth": 2
          },
          "yaxis": {
           "automargin": true,
           "gridcolor": "white",
           "linecolor": "white",
           "ticks": "",
           "title": {
            "standoff": 15
           },
           "zerolinecolor": "white",
           "zerolinewidth": 2
          }
         }
        },
        "title": {
         "text": "Total Revenue by Platform with Extreme Outliers Included"
        },
        "xaxis": {
         "anchor": "y",
         "domain": [
          0,
          1
         ],
         "title": {
          "text": "Platform"
         }
        },
        "yaxis": {
         "anchor": "x",
         "domain": [
          0,
          1
         ],
         "title": {
          "text": "Total Revenue"
         }
        }
       }
      }
     },
     "metadata": {},
     "output_type": "display_data"
    },
    {
     "data": {
      "application/vnd.plotly.v1+json": {
       "config": {
        "plotlyServerURL": "https://plot.ly"
       },
       "data": [
        {
         "alignmentgroup": "True",
         "hovertemplate": "platform=%{x}<br>total_revenue=%{y}<extra></extra>",
         "legendgroup": "",
         "marker": {
          "color": "#636efa"
         },
         "name": "",
         "notched": false,
         "offsetgroup": "",
         "orientation": "v",
         "showlegend": false,
         "type": "box",
         "x": [
          "PS4",
          "PS4",
          "PS4",
          "PS4",
          "XOne",
          "PS4",
          "3DS",
          "PS4",
          "PS4",
          "XOne",
          "PS4",
          "WiiU",
          "XOne",
          "PS4",
          "PS4",
          "PS4",
          "PS4",
          "PS4",
          "XOne",
          "PS4",
          "PS4",
          "3DS",
          "XOne",
          "XOne",
          "PS4",
          "WiiU",
          "3DS",
          "PS4",
          "PS3",
          "XOne",
          "PS4",
          "XOne",
          "PS4",
          "XOne",
          "XOne",
          "3DS",
          "3DS",
          "PS4",
          "XOne",
          "PS4",
          "XOne",
          "PS4",
          "PS4",
          "PS4",
          "PS4",
          "PS4",
          "PS4",
          "PS4",
          "XOne",
          "PS4",
          "PS4",
          "PS4",
          "X360",
          "PS4",
          "PS3",
          "3DS",
          "PS4",
          "PS4",
          "WiiU",
          "X360",
          "PS4",
          "XOne",
          "PS4",
          "XOne",
          "XOne",
          "XOne",
          "XOne",
          "3DS",
          "PS4",
          "XOne",
          "WiiU",
          "XOne",
          "XOne",
          "PC",
          "XOne",
          "3DS",
          "XOne",
          "PS4",
          "XOne",
          "XOne",
          "PC",
          "PS4",
          "PS4",
          "PS4",
          "3DS",
          "PS4",
          "XOne",
          "PS4",
          "XOne",
          "WiiU",
          "XOne",
          "WiiU",
          "PS4",
          "PS4",
          "X360",
          "Wii",
          "X360",
          "PS4",
          "PS4",
          "3DS",
          "PS4",
          "XOne",
          "PS4",
          "PS4",
          "PS4",
          "X360",
          "XOne",
          "PS4",
          "3DS",
          "X360",
          "PS4",
          "3DS",
          "PS3",
          "WiiU",
          "XOne",
          "PS4",
          "PS3",
          "PS4",
          "XOne",
          "3DS",
          "3DS",
          "XOne",
          "3DS",
          "XOne",
          "PS4",
          "PS3",
          "PS3",
          "PS4",
          "PS4",
          "PS4",
          "PS4",
          "PC",
          "PS4",
          "PS4",
          "PS4",
          "PS3",
          "XOne",
          "WiiU",
          "PS4",
          "XOne",
          "PC",
          "PS4",
          "PS4",
          "PS3",
          "XOne",
          "3DS",
          "PS4",
          "3DS",
          "XOne",
          "PS4",
          "PS4",
          "XOne",
          "WiiU",
          "3DS",
          "XOne",
          "PS3",
          "XOne",
          "3DS",
          "XOne",
          "PS3",
          "XOne",
          "PC",
          "PS4",
          "3DS",
          "X360",
          "PC",
          "WiiU",
          "PC",
          "WiiU",
          "PS4",
          "WiiU",
          "PS3",
          "PS3",
          "PS4",
          "PS3",
          "3DS",
          "XOne",
          "WiiU",
          "3DS",
          "XOne",
          "XOne",
          "PS4",
          "XOne",
          "WiiU",
          "PS4",
          "WiiU",
          "3DS",
          "PS3",
          "XOne",
          "X360",
          "PS4",
          "WiiU",
          "WiiU",
          "PS4",
          "X360",
          "XOne",
          "PS3",
          "PSV",
          "XOne",
          "PC",
          "PS4",
          "PS4",
          "PS4",
          "PS3",
          "PS4",
          "PS4",
          "PS3",
          "X360",
          "XOne",
          "PS4",
          "PS4",
          "PC",
          "PS4",
          "X360",
          "PS4",
          "PS4",
          "WiiU",
          "PS3",
          "PS4",
          "PS4",
          "PS3",
          "PS4",
          "PS3",
          "PS4",
          "PS4",
          "PS4",
          "X360",
          "XOne",
          "PSV",
          "PS4",
          "PS4",
          "PC",
          "X360",
          "PS4",
          "WiiU",
          "PS4",
          "PS4",
          "PS4",
          "XOne",
          "PS4",
          "XOne",
          "3DS",
          "PS4",
          "3DS",
          "3DS",
          "PC",
          "PS4",
          "PSV",
          "X360",
          "X360",
          "XOne",
          "XOne",
          "XOne",
          "3DS",
          "X360",
          "PS4",
          "PS4",
          "PS4",
          "PS4",
          "PSV",
          "PS4",
          "XOne",
          "PS3",
          "X360",
          "PS4",
          "PS4",
          "PS4",
          "PS4",
          "3DS",
          "PS4",
          "XOne",
          "PS4",
          "3DS",
          "PS3",
          "PS3",
          "PC",
          "PS4",
          "PS4",
          "PC",
          "XOne",
          "XOne",
          "PS4",
          "PS3",
          "PS4",
          "PS3",
          "PS4",
          "XOne",
          "3DS",
          "WiiU",
          "3DS",
          "XOne",
          "XOne",
          "PS4",
          "XOne",
          "XOne",
          "3DS",
          "PC",
          "3DS",
          "PC",
          "WiiU",
          "PS4",
          "PS4",
          "PS4",
          "X360",
          "PS4",
          "XOne",
          "PC",
          "PSV",
          "3DS",
          "X360",
          "PC",
          "PSV",
          "3DS",
          "PC",
          "XOne",
          "PC",
          "3DS",
          "PC",
          "3DS",
          "3DS",
          "XOne",
          "PSV",
          "XOne",
          "3DS",
          "PS4",
          "PS4",
          "3DS",
          "PC",
          "PS4",
          "3DS",
          "PS4",
          "PS3",
          "PS4",
          "XOne",
          "PS4",
          "PC",
          "XOne",
          "PS4",
          "PC",
          "PC",
          "PSV",
          "PSV",
          "PSV",
          "PS3",
          "3DS",
          "WiiU",
          "WiiU",
          "PS4",
          "3DS",
          "Wii",
          "PSV",
          "X360",
          "PS4",
          "XOne",
          "PS4",
          "X360",
          "3DS",
          "PS3",
          "PSV",
          "PSV",
          "PSV",
          "PS4",
          "PS4",
          "PS4",
          "PS4",
          "PS4",
          "X360",
          "PSV",
          "3DS",
          "PS4",
          "XOne",
          "XOne",
          "PC",
          "3DS",
          "PS4",
          "XOne",
          "XOne",
          "PC",
          "WiiU",
          "XOne",
          "XOne",
          "PSV",
          "3DS",
          "3DS",
          "Wii",
          "PSV",
          "PS3",
          "PS3",
          "3DS",
          "PS4",
          "XOne",
          "XOne",
          "PS4",
          "3DS",
          "PC",
          "PS3",
          "PC",
          "XOne",
          "3DS",
          "PSV",
          "PS4",
          "PS4",
          "PS4",
          "PS4",
          "PC",
          "3DS",
          "XOne",
          "XOne",
          "PC",
          "3DS",
          "PS4",
          "PS3",
          "PC",
          "XOne",
          "PS4",
          "XOne",
          "PSV",
          "PS3",
          "PSV",
          "PC",
          "XOne",
          "3DS",
          "PS4",
          "PS4",
          "PS4",
          "PS4",
          "PS4",
          "PC",
          "XOne",
          "PS4",
          "PS3",
          "PSV",
          "XOne",
          "PC",
          "PS3",
          "PS4",
          "PS3",
          "3DS",
          "PS4",
          "PS3",
          "WiiU",
          "PS4",
          "PS3",
          "XOne",
          "PSV",
          "PC",
          "3DS",
          "X360",
          "X360",
          "XOne",
          "PS3",
          "PS3",
          "PSV",
          "PS4",
          "XOne",
          "XOne",
          "PS4",
          "3DS",
          "XOne",
          "PSV",
          "PC",
          "PSV",
          "PS3",
          "PSV",
          "3DS",
          "3DS",
          "3DS",
          "PS4",
          "PS3",
          "3DS",
          "PSV",
          "PSV",
          "XOne",
          "PS4",
          "XOne",
          "PS4",
          "PS3",
          "PS4",
          "PS4",
          "PSV",
          "PS4",
          "3DS",
          "PSV",
          "WiiU",
          "XOne",
          "XOne",
          "PSV",
          "X360",
          "PS4",
          "PC",
          "X360",
          "WiiU",
          "PC",
          "PS4",
          "X360",
          "PC",
          "XOne",
          "PS4",
          "PS4",
          "PSV",
          "3DS",
          "X360",
          "PC",
          "PSV",
          "PSV",
          "3DS",
          "PS4",
          "XOne",
          "PS4",
          "3DS",
          "PS4",
          "PS3",
          "PSV",
          "PS4",
          "3DS",
          "PS4",
          "PS4",
          "PS4",
          "PSV",
          "PS4",
          "PSV",
          "PC",
          "3DS",
          "X360",
          "PS4",
          "PS3",
          "3DS",
          "XOne",
          "3DS",
          "PS4",
          "PS4",
          "PS4",
          "PS3",
          "XOne",
          "XOne",
          "PS4",
          "PSV",
          "PS4",
          "PC",
          "PS3",
          "3DS",
          "PSP",
          "3DS",
          "PS4",
          "PC",
          "PC",
          "PS3",
          "PS3",
          "PS4",
          "PS4",
          "PS4",
          "PS4",
          "PS4",
          "PS3",
          "PC",
          "WiiU",
          "X360",
          "PS4",
          "XOne",
          "3DS",
          "PSV",
          "XOne",
          "3DS",
          "PSV",
          "PSV",
          "X360",
          "PC",
          "PS4",
          "PSV",
          "3DS",
          "PS4",
          "PC",
          "PS4",
          "PSV",
          "X360",
          "PS4",
          "WiiU",
          "PS3",
          "PS3",
          "PS4",
          "PS4",
          "XOne",
          "PS4",
          "PS4",
          "X360",
          "PS4",
          "PS4",
          "X360",
          "XOne",
          "PS4",
          "PS4",
          "XOne",
          "PS3",
          "PS3",
          "PS4",
          "PSV",
          "3DS",
          "XOne",
          "PS4",
          "PS3",
          "PSV",
          "PS4",
          "PS4",
          "PS4",
          "XOne",
          "XOne",
          "PC",
          "PS4",
          "PS4",
          "XOne",
          "PSV",
          "PSV",
          "3DS",
          "PS4",
          "PS4",
          "PSV",
          "PSV",
          "PS3",
          "PSV",
          "PSV",
          "3DS",
          "PSV",
          "PSV",
          "PS4",
          "WiiU",
          "PS3",
          "XOne",
          "PS3",
          "3DS",
          "3DS",
          "PS4",
          "PS4",
          "PSV",
          "PSV",
          "3DS",
          "XOne",
          "PC",
          "PS4",
          "PS4",
          "PS4",
          "PSV",
          "PS4",
          "PS3",
          "PS4",
          "3DS",
          "PS4",
          "PSV",
          "PS3",
          "PS3",
          "PS3",
          "PS3",
          "PSV",
          "3DS",
          "PS3",
          "PS4",
          "PSV",
          "PS4",
          "PSV",
          "PS4",
          "PC",
          "PS4",
          "PC",
          "PS4",
          "PS4",
          "PS4",
          "PC",
          "XOne",
          "XOne",
          "WiiU",
          "PC",
          "PS4",
          "PSV",
          "XOne",
          "PSV",
          "3DS",
          "PSV",
          "PS3",
          "PSV",
          "PSV",
          "PS4",
          "PS3",
          "PSV",
          "XOne",
          "PS4",
          "PC",
          "PS4",
          "WiiU",
          "PSV",
          "PC",
          "XOne",
          "PS4",
          "3DS",
          "PS4",
          "PC",
          "PSV",
          "3DS",
          "PS4",
          "PSV",
          "3DS",
          "PS4",
          "PS4",
          "PSV",
          "XOne",
          "PC",
          "PSV",
          "PSV",
          "PC",
          "PS4",
          "PS4",
          "PS4",
          "3DS",
          "PS3",
          "3DS",
          "X360",
          "PS4",
          "3DS",
          "PSV",
          "PSV",
          "3DS",
          "PS4",
          "PS3",
          "3DS",
          "PS3",
          "PS3",
          "PS3",
          "XOne",
          "PC",
          "3DS",
          "3DS",
          "PC",
          "XOne",
          "PSV",
          "3DS",
          "XOne",
          "3DS",
          "X360",
          "PS3",
          "XOne",
          "PS3",
          "XOne",
          "PS4",
          "PS4",
          "PSV",
          "PC",
          "PSV",
          "PS3",
          "PC",
          "X360",
          "PSV",
          "PSV",
          "PS3",
          "XOne",
          "3DS",
          "PSV",
          "PSV",
          "Wii",
          "PSV",
          "PS4",
          "3DS",
          "WiiU",
          "PSV",
          "PSV",
          "3DS",
          "PSV",
          "XOne",
          "PSV",
          "PSV",
          "X360",
          "PS4",
          "PSV",
          "PSV",
          "XOne",
          "PSV",
          "PSV",
          "PSV",
          "PSV",
          "PSV",
          "PS3",
          "PSV",
          "3DS",
          "3DS",
          "PS4",
          "PSV",
          "PS4",
          "3DS",
          "PS3",
          "3DS",
          "PSV",
          "WiiU",
          "PS3",
          "PSV",
          "PSV",
          "PC",
          "PSV",
          "PC",
          "PSV",
          "3DS",
          "PSV",
          "PSV",
          "PC",
          "PC",
          "3DS",
          "PSV",
          "WiiU",
          "PS3",
          "PS4",
          "PS4",
          "3DS",
          "3DS",
          "PSV",
          "PC",
          "PSV",
          "PS4",
          "3DS",
          "PC",
          "3DS",
          "PSV",
          "X360",
          "PSV",
          "XOne",
          "PC",
          "PC",
          "XOne",
          "PSV",
          "3DS",
          "3DS",
          "PS4",
          "3DS",
          "PSV",
          "PS4",
          "PC",
          "X360",
          "PS3",
          "PS3",
          "3DS",
          "PSV",
          "PSV",
          "PS4",
          "PSV",
          "PSV",
          "PS4",
          "PC",
          "PS4",
          "XOne",
          "PS3",
          "3DS",
          "PC",
          "3DS",
          "PC",
          "PSV",
          "X360",
          "3DS",
          "PS3",
          "X360",
          "XOne",
          "PS4",
          "3DS",
          "XOne",
          "3DS",
          "PS3",
          "PSV",
          "PC",
          "PC",
          "PSV",
          "PS3",
          "PS3",
          "PSV",
          "PSV",
          "PSV",
          "PSV",
          "XOne",
          "XOne",
          "PSV",
          "PS4",
          "PSV",
          "PS3",
          "3DS",
          "3DS",
          "PSV",
          "PSV",
          "PC",
          "PSV",
          "PS4",
          "PC",
          "PSV",
          "PSV",
          "PC",
          "PSV",
          "PS4",
          "PSP",
          "PSV",
          "PSV",
          "PSV",
          "PSV",
          "PSP",
          "PS4",
          "PS4",
          "PSV",
          "XOne",
          "PS4",
          "PSV",
          "PSV",
          "PSV",
          "XOne",
          "PSV",
          "XOne",
          "PSV",
          "PSV",
          "PSV",
          "PSV",
          "PS3",
          "PSV",
          "PS4",
          "PS4",
          "PS3",
          "PSV",
          "PSV",
          "PS3",
          "PSV",
          "PS3",
          "PS3",
          "PSV",
          "X360",
          "PS4",
          "PSV",
          "PSV",
          "PSV",
          "PS4",
          "PS4",
          "PS3",
          "PS3",
          "PSV",
          "PS4",
          "X360",
          "PS3",
          "PS4",
          "XOne",
          "PS3",
          "PS4",
          "PS4",
          "PS4",
          "3DS",
          "PS4",
          "PS4",
          "3DS",
          "XOne",
          "XOne",
          "PS3",
          "PS4",
          "PS4",
          "PS4",
          "X360",
          "PS3",
          "PC",
          "X360",
          "PS4",
          "PSV",
          "PSV",
          "PSV",
          "PC",
          "PS4",
          "XOne",
          "PC",
          "X360",
          "PS4",
          "XOne",
          "PSV",
          "PC",
          "PS3",
          "PC",
          "PSV",
          "PS3",
          "PSV",
          "PSV",
          "PSV",
          "PSV",
          "3DS",
          "PS4",
          "PSV",
          "PS3",
          "PS4",
          "XOne",
          "PS3",
          "PS4",
          "PSV",
          "PS3",
          "XOne",
          "3DS",
          "PS4",
          "PS4",
          "PC",
          "PS4",
          "WiiU",
          "PC",
          "PS4",
          "PS4",
          "XOne",
          "PSV",
          "PS4",
          "WiiU",
          "XOne",
          "X360",
          "PS4",
          "3DS",
          "PS3",
          "PC",
          "PSV",
          "PC",
          "PS4",
          "PSV",
          "PS4",
          "XOne",
          "WiiU",
          "PC",
          "PC",
          "3DS",
          "3DS",
          "PS3",
          "PSV",
          "PS3",
          "PSV",
          "PSV",
          "PS3",
          "PSV",
          "PSV",
          "WiiU",
          "XOne",
          "PSV",
          "XOne",
          "WiiU",
          "XOne",
          "PSV",
          "XOne",
          "XOne",
          "PSV",
          "PSV",
          "PC",
          "3DS",
          "3DS",
          "XOne",
          "XOne",
          "PS4",
          "PSV",
          "PSV",
          "PSV",
          "PSV",
          "PS4",
          "PSV",
          "PSV",
          "3DS",
          "PSV",
          "XOne",
          "PC",
          "PS4",
          "XOne",
          "PC",
          "3DS",
          "PC",
          "PSV",
          "PSV",
          "PS4",
          "XOne",
          "XOne",
          "PC",
          "XOne",
          "XOne",
          "PSV",
          "PC",
          "PC",
          "PS4",
          "PS3",
          "PS4",
          "PS4",
          "PS4",
          "PS4",
          "XOne",
          "3DS",
          "PC",
          "PS3",
          "PSV",
          "PS4",
          "PSV",
          "PSV",
          "PC",
          "PC",
          "PSV",
          "PC",
          "PSV",
          "XOne",
          "XOne",
          "Wii",
          "WiiU",
          "PC",
          "PSV",
          "PSV",
          "WiiU",
          "XOne",
          "3DS",
          "PS3",
          "PC",
          "PSV",
          "PSV",
          "PSV",
          "PC",
          "XOne",
          "PS3",
          "XOne",
          "PSV"
         ],
         "x0": " ",
         "xaxis": "x",
         "y": [
          14.629999999999999,
          8.58,
          7.98,
          7.6000000000000005,
          7.389999999999999,
          7.17,
          7.14,
          5.39,
          4.62,
          4.49,
          4.470000000000001,
          4.4399999999999995,
          4.22,
          4.07,
          3.9699999999999998,
          3.96,
          3.87,
          3.8,
          3.66,
          3.4200000000000004,
          3.3899999999999997,
          3.32,
          3.28,
          3.25,
          3.2399999999999998,
          3.21,
          3.05,
          2.78,
          2.6999999999999997,
          2.65,
          2.48,
          2.4200000000000004,
          2.42,
          2.42,
          2.34,
          2.34,
          2.29,
          2.2600000000000002,
          2.25,
          2.21,
          2.1700000000000004,
          2.14,
          2.11,
          2.09,
          1.9200000000000002,
          1.8800000000000001,
          1.85,
          1.81,
          1.7999999999999998,
          1.75,
          1.74,
          1.7200000000000002,
          1.7,
          1.6900000000000002,
          1.69,
          1.6700000000000002,
          1.6600000000000001,
          1.6600000000000001,
          1.58,
          1.5699999999999998,
          1.54,
          1.4900000000000002,
          1.49,
          1.3800000000000001,
          1.38,
          1.3399999999999999,
          1.3399999999999999,
          1.33,
          1.3199999999999998,
          1.3,
          1.3,
          1.2900000000000003,
          1.29,
          1.2800000000000002,
          1.2800000000000002,
          1.25,
          1.23,
          1.21,
          1.21,
          1.2000000000000002,
          1.1700000000000002,
          1.17,
          1.14,
          1.13,
          1.11,
          1.1,
          1.08,
          1.0799999999999998,
          1.06,
          1.03,
          1.03,
          1.01,
          0.98,
          0.9700000000000001,
          0.97,
          0.95,
          0.9400000000000001,
          0.9400000000000001,
          0.93,
          0.93,
          0.93,
          0.91,
          0.9,
          0.9,
          0.89,
          0.89,
          0.88,
          0.88,
          0.87,
          0.87,
          0.86,
          0.86,
          0.85,
          0.8400000000000001,
          0.79,
          0.78,
          0.7699999999999999,
          0.7600000000000001,
          0.76,
          0.7500000000000001,
          0.75,
          0.75,
          0.75,
          0.75,
          0.7300000000000001,
          0.7300000000000001,
          0.7300000000000001,
          0.73,
          0.73,
          0.73,
          0.73,
          0.7200000000000001,
          0.71,
          0.7,
          0.6900000000000001,
          0.6900000000000001,
          0.69,
          0.6700000000000002,
          0.67,
          0.6599999999999999,
          0.65,
          0.64,
          0.64,
          0.6399999999999999,
          0.6300000000000001,
          0.63,
          0.63,
          0.6200000000000001,
          0.6200000000000001,
          0.61,
          0.6,
          0.5900000000000001,
          0.5700000000000001,
          0.5700000000000001,
          0.5700000000000001,
          0.56,
          0.56,
          0.56,
          0.56,
          0.5599999999999999,
          0.55,
          0.55,
          0.54,
          0.53,
          0.53,
          0.53,
          0.53,
          0.52,
          0.52,
          0.51,
          0.51,
          0.51,
          0.49000000000000005,
          0.49000000000000005,
          0.49,
          0.48000000000000004,
          0.48000000000000004,
          0.48,
          0.48,
          0.48,
          0.4799999999999999,
          0.47000000000000003,
          0.47,
          0.45999999999999996,
          0.45,
          0.44000000000000006,
          0.44000000000000006,
          0.44,
          0.43,
          0.43,
          0.43,
          0.42000000000000004,
          0.42000000000000004,
          0.42,
          0.42,
          0.42,
          0.41000000000000003,
          0.41000000000000003,
          0.41,
          0.41,
          0.4,
          0.4,
          0.4,
          0.39999999999999997,
          0.39999999999999997,
          0.39999999999999997,
          0.39,
          0.39,
          0.38999999999999996,
          0.38999999999999996,
          0.38,
          0.38,
          0.38,
          0.38,
          0.37999999999999995,
          0.37000000000000005,
          0.37,
          0.37,
          0.37,
          0.37,
          0.37,
          0.36000000000000004,
          0.36000000000000004,
          0.36000000000000004,
          0.36000000000000004,
          0.36,
          0.36,
          0.36,
          0.36,
          0.36,
          0.35000000000000003,
          0.35000000000000003,
          0.35,
          0.34,
          0.34,
          0.34,
          0.34,
          0.33999999999999997,
          0.33999999999999997,
          0.33999999999999997,
          0.33999999999999997,
          0.33,
          0.33,
          0.33,
          0.32000000000000006,
          0.32000000000000006,
          0.32,
          0.32,
          0.31999999999999995,
          0.31999999999999995,
          0.31999999999999995,
          0.31999999999999995,
          0.31000000000000005,
          0.31000000000000005,
          0.31000000000000005,
          0.31,
          0.3,
          0.3,
          0.3,
          0.3,
          0.3,
          0.29000000000000004,
          0.29000000000000004,
          0.29000000000000004,
          0.29000000000000004,
          0.29000000000000004,
          0.29,
          0.28,
          0.28,
          0.27999999999999997,
          0.27,
          0.27,
          0.27,
          0.26999999999999996,
          0.26,
          0.26,
          0.26,
          0.26,
          0.26,
          0.26,
          0.26,
          0.26,
          0.26,
          0.26,
          0.25,
          0.25,
          0.25,
          0.25,
          0.24999999999999997,
          0.24999999999999997,
          0.24999999999999997,
          0.24000000000000002,
          0.24000000000000002,
          0.24000000000000002,
          0.24000000000000002,
          0.24000000000000002,
          0.24,
          0.24,
          0.24,
          0.24,
          0.23,
          0.23,
          0.23,
          0.23,
          0.23,
          0.23,
          0.23,
          0.23,
          0.23,
          0.23,
          0.22999999999999998,
          0.22999999999999998,
          0.22,
          0.22,
          0.22,
          0.22,
          0.22,
          0.22,
          0.21000000000000002,
          0.21,
          0.21,
          0.21,
          0.21,
          0.21,
          0.2,
          0.2,
          0.2,
          0.2,
          0.2,
          0.2,
          0.2,
          0.2,
          0.19999999999999998,
          0.19999999999999998,
          0.19999999999999998,
          0.19999999999999998,
          0.19999999999999998,
          0.19999999999999998,
          0.19999999999999998,
          0.19999999999999998,
          0.19,
          0.19,
          0.19,
          0.19,
          0.19,
          0.18999999999999997,
          0.18999999999999997,
          0.18000000000000002,
          0.18000000000000002,
          0.18,
          0.18,
          0.18,
          0.18,
          0.18,
          0.18,
          0.18,
          0.17,
          0.17,
          0.17,
          0.17,
          0.17,
          0.17,
          0.17,
          0.17,
          0.16999999999999998,
          0.16999999999999998,
          0.16999999999999998,
          0.16999999999999998,
          0.16000000000000003,
          0.16,
          0.16,
          0.16,
          0.16,
          0.16,
          0.16,
          0.15000000000000002,
          0.15000000000000002,
          0.15000000000000002,
          0.15000000000000002,
          0.15000000000000002,
          0.15000000000000002,
          0.15000000000000002,
          0.15,
          0.15,
          0.15,
          0.15,
          0.15,
          0.15,
          0.15,
          0.15,
          0.14,
          0.14,
          0.14,
          0.14,
          0.14,
          0.14,
          0.14,
          0.14,
          0.14,
          0.14,
          0.13999999999999999,
          0.13999999999999999,
          0.13999999999999999,
          0.13999999999999999,
          0.13,
          0.13,
          0.13,
          0.13,
          0.13,
          0.13,
          0.13,
          0.13,
          0.13,
          0.13,
          0.13,
          0.13,
          0.13,
          0.13,
          0.13,
          0.13,
          0.13,
          0.13,
          0.13,
          0.12000000000000001,
          0.12000000000000001,
          0.12000000000000001,
          0.12000000000000001,
          0.12000000000000001,
          0.12000000000000001,
          0.12000000000000001,
          0.12000000000000001,
          0.12000000000000001,
          0.12,
          0.12,
          0.12,
          0.12,
          0.12,
          0.12,
          0.12,
          0.12,
          0.12,
          0.12,
          0.12,
          0.12,
          0.12,
          0.12,
          0.12,
          0.12,
          0.12,
          0.12,
          0.11000000000000001,
          0.11000000000000001,
          0.11,
          0.11,
          0.11,
          0.11,
          0.11,
          0.11,
          0.11,
          0.11,
          0.11,
          0.11,
          0.11,
          0.11,
          0.11,
          0.11,
          0.11,
          0.11,
          0.11,
          0.11,
          0.11,
          0.11,
          0.10999999999999999,
          0.1,
          0.1,
          0.1,
          0.1,
          0.1,
          0.1,
          0.1,
          0.1,
          0.1,
          0.1,
          0.09999999999999999,
          0.09999999999999999,
          0.09999999999999999,
          0.09999999999999999,
          0.09999999999999999,
          0.09999999999999999,
          0.09999999999999999,
          0.09999999999999999,
          0.09999999999999999,
          0.09999999999999999,
          0.09999999999999999,
          0.09999999999999999,
          0.09999999999999999,
          0.09999999999999999,
          0.09000000000000001,
          0.09000000000000001,
          0.09000000000000001,
          0.09,
          0.09,
          0.09,
          0.09,
          0.09,
          0.09,
          0.09,
          0.09,
          0.09,
          0.09,
          0.09,
          0.09,
          0.09,
          0.09,
          0.09,
          0.09,
          0.09,
          0.09,
          0.09,
          0.09,
          0.09,
          0.09,
          0.09,
          0.09,
          0.09,
          0.09,
          0.08,
          0.08,
          0.08,
          0.08,
          0.08,
          0.08,
          0.08,
          0.08,
          0.08,
          0.08,
          0.08,
          0.08,
          0.08,
          0.08,
          0.08,
          0.08,
          0.08,
          0.08,
          0.08,
          0.08,
          0.08,
          0.08,
          0.08,
          0.08,
          0.08,
          0.08,
          0.08,
          0.08,
          0.08,
          0.07999999999999999,
          0.07999999999999999,
          0.07,
          0.07,
          0.07,
          0.07,
          0.07,
          0.07,
          0.07,
          0.07,
          0.07,
          0.07,
          0.07,
          0.07,
          0.07,
          0.07,
          0.07,
          0.06999999999999999,
          0.06999999999999999,
          0.06999999999999999,
          0.06999999999999999,
          0.06999999999999999,
          0.06999999999999999,
          0.06999999999999999,
          0.06999999999999999,
          0.06999999999999999,
          0.06999999999999999,
          0.06999999999999999,
          0.06999999999999999,
          0.06999999999999999,
          0.06999999999999999,
          0.06999999999999999,
          0.06999999999999999,
          0.060000000000000005,
          0.060000000000000005,
          0.060000000000000005,
          0.060000000000000005,
          0.060000000000000005,
          0.060000000000000005,
          0.060000000000000005,
          0.060000000000000005,
          0.060000000000000005,
          0.060000000000000005,
          0.060000000000000005,
          0.060000000000000005,
          0.060000000000000005,
          0.060000000000000005,
          0.060000000000000005,
          0.060000000000000005,
          0.060000000000000005,
          0.060000000000000005,
          0.060000000000000005,
          0.060000000000000005,
          0.060000000000000005,
          0.060000000000000005,
          0.060000000000000005,
          0.060000000000000005,
          0.060000000000000005,
          0.060000000000000005,
          0.060000000000000005,
          0.06,
          0.06,
          0.06,
          0.06,
          0.06,
          0.06,
          0.06,
          0.06,
          0.06,
          0.06,
          0.06,
          0.06,
          0.06,
          0.06,
          0.06,
          0.06,
          0.06,
          0.06,
          0.06,
          0.06,
          0.05,
          0.05,
          0.05,
          0.05,
          0.05,
          0.05,
          0.05,
          0.05,
          0.05,
          0.05,
          0.05,
          0.05,
          0.05,
          0.05,
          0.05,
          0.05,
          0.05,
          0.05,
          0.05,
          0.05,
          0.05,
          0.05,
          0.05,
          0.05,
          0.05,
          0.05,
          0.05,
          0.05,
          0.05,
          0.05,
          0.05,
          0.05,
          0.05,
          0.05,
          0.05,
          0.05,
          0.05,
          0.05,
          0.05,
          0.05,
          0.05,
          0.05,
          0.05,
          0.05,
          0.05,
          0.05,
          0.05,
          0.05,
          0.05,
          0.05,
          0.05,
          0.05,
          0.05,
          0.05,
          0.05,
          0.05,
          0.04,
          0.04,
          0.04,
          0.04,
          0.04,
          0.04,
          0.04,
          0.04,
          0.04,
          0.04,
          0.04,
          0.04,
          0.04,
          0.04,
          0.04,
          0.04,
          0.04,
          0.04,
          0.04,
          0.04,
          0.04,
          0.04,
          0.04,
          0.04,
          0.04,
          0.04,
          0.04,
          0.04,
          0.04,
          0.04,
          0.04,
          0.04,
          0.04,
          0.04,
          0.04,
          0.04,
          0.04,
          0.04,
          0.04,
          0.04,
          0.04,
          0.04,
          0.04,
          0.04,
          0.04,
          0.04,
          0.04,
          0.04,
          0.04,
          0.04,
          0.04,
          0.04,
          0.04,
          0.04,
          0.04,
          0.04,
          0.04,
          0.04,
          0.03,
          0.03,
          0.03,
          0.03,
          0.03,
          0.03,
          0.03,
          0.03,
          0.03,
          0.03,
          0.03,
          0.03,
          0.03,
          0.03,
          0.03,
          0.03,
          0.03,
          0.03,
          0.03,
          0.03,
          0.03,
          0.03,
          0.03,
          0.03,
          0.03,
          0.03,
          0.03,
          0.03,
          0.03,
          0.03,
          0.03,
          0.03,
          0.03,
          0.03,
          0.03,
          0.03,
          0.03,
          0.03,
          0.03,
          0.03,
          0.03,
          0.03,
          0.03,
          0.03,
          0.03,
          0.03,
          0.03,
          0.03,
          0.03,
          0.03,
          0.03,
          0.03,
          0.03,
          0.03,
          0.03,
          0.03,
          0.03,
          0.03,
          0.03,
          0.03,
          0.03,
          0.03,
          0.03,
          0.03,
          0.03,
          0.03,
          0.03,
          0.03,
          0.03,
          0.03,
          0.03,
          0.03,
          0.03,
          0.03,
          0.03,
          0.03,
          0.03,
          0.03,
          0.03,
          0.03,
          0.03,
          0.03,
          0.03,
          0.03,
          0.03,
          0.03,
          0.03,
          0.03,
          0.03,
          0.03,
          0.03,
          0.03,
          0.03,
          0.03,
          0.03,
          0.03,
          0.03,
          0.03,
          0.03,
          0.03,
          0.03,
          0.03,
          0.03,
          0.02,
          0.02,
          0.02,
          0.02,
          0.02,
          0.02,
          0.02,
          0.02,
          0.02,
          0.02,
          0.02,
          0.02,
          0.02,
          0.02,
          0.02,
          0.02,
          0.02,
          0.02,
          0.02,
          0.02,
          0.02,
          0.02,
          0.02,
          0.02,
          0.02,
          0.02,
          0.02,
          0.02,
          0.02,
          0.02,
          0.02,
          0.02,
          0.02,
          0.02,
          0.02,
          0.02,
          0.02,
          0.02,
          0.02,
          0.02,
          0.02,
          0.02,
          0.02,
          0.02,
          0.02,
          0.02,
          0.02,
          0.02,
          0.02,
          0.02,
          0.02,
          0.02,
          0.02,
          0.02,
          0.02,
          0.02,
          0.02,
          0.02,
          0.02,
          0.02,
          0.02,
          0.02,
          0.02,
          0.02,
          0.02,
          0.02,
          0.02,
          0.02,
          0.02,
          0.02,
          0.02,
          0.02,
          0.02,
          0.02,
          0.02,
          0.02,
          0.02,
          0.02,
          0.02,
          0.02,
          0.02,
          0.02,
          0.02,
          0.02,
          0.02,
          0.02,
          0.02,
          0.02,
          0.02,
          0.02,
          0.02,
          0.02,
          0.02,
          0.02,
          0.02,
          0.02,
          0.02,
          0.02,
          0.02,
          0.02,
          0.02,
          0.02,
          0.02,
          0.02,
          0.02,
          0.02,
          0.02,
          0.02,
          0.02,
          0.02,
          0.02,
          0.02,
          0.02,
          0.02,
          0.02,
          0.02,
          0.02,
          0.02,
          0.02,
          0.02,
          0.02,
          0.02,
          0.02,
          0.02,
          0.02,
          0.02,
          0.02,
          0.02,
          0.02,
          0.02,
          0.02,
          0.02,
          0.02,
          0.02,
          0.01,
          0.01,
          0.01,
          0.01,
          0.01,
          0.01,
          0.01,
          0.01,
          0.01,
          0.01,
          0.01,
          0.01,
          0.01,
          0.01,
          0.01,
          0.01,
          0.01,
          0.01,
          0.01,
          0.01,
          0.01,
          0.01,
          0.01,
          0.01,
          0.01,
          0.01,
          0.01,
          0.01,
          0.01,
          0.01,
          0.01,
          0.01,
          0.01,
          0.01,
          0.01,
          0.01,
          0.01,
          0.01,
          0.01,
          0.01,
          0.01,
          0.01,
          0.01,
          0.01,
          0.01,
          0.01,
          0.01,
          0.01,
          0.01,
          0.01,
          0.01,
          0.01,
          0.01,
          0.01,
          0.01,
          0.01,
          0.01,
          0.01,
          0.01,
          0.01,
          0.01,
          0.01,
          0.01,
          0.01,
          0.01,
          0.01,
          0.01,
          0.01,
          0.01,
          0.01,
          0.01,
          0.01,
          0.01,
          0.01,
          0.01,
          0.01,
          0.01,
          0.01,
          0.01,
          0.01,
          0.01,
          0.01,
          0.01,
          0.01,
          0.01,
          0.01,
          0.01,
          0.01,
          0.01,
          0.01,
          0.01,
          0.01,
          0.01,
          0.01,
          0.01,
          0.01,
          0.01,
          0.01,
          0.01,
          0.01,
          0.01,
          0.01,
          0.01,
          0.01,
          0.01,
          0.01,
          0.01,
          0.01,
          0.01,
          0.01,
          0.01,
          0.01,
          0.01,
          0.01,
          0.01,
          0.01,
          0.01,
          0.01,
          0.01,
          0.01,
          0.01,
          0.01
         ],
         "y0": " ",
         "yaxis": "y"
        }
       ],
       "layout": {
        "boxmode": "group",
        "legend": {
         "tracegroupgap": 0
        },
        "margin": {
         "t": 60
        },
        "template": {
         "data": {
          "bar": [
           {
            "error_x": {
             "color": "#2a3f5f"
            },
            "error_y": {
             "color": "#2a3f5f"
            },
            "marker": {
             "line": {
              "color": "#E5ECF6",
              "width": 0.5
             },
             "pattern": {
              "fillmode": "overlay",
              "size": 10,
              "solidity": 0.2
             }
            },
            "type": "bar"
           }
          ],
          "barpolar": [
           {
            "marker": {
             "line": {
              "color": "#E5ECF6",
              "width": 0.5
             },
             "pattern": {
              "fillmode": "overlay",
              "size": 10,
              "solidity": 0.2
             }
            },
            "type": "barpolar"
           }
          ],
          "carpet": [
           {
            "aaxis": {
             "endlinecolor": "#2a3f5f",
             "gridcolor": "white",
             "linecolor": "white",
             "minorgridcolor": "white",
             "startlinecolor": "#2a3f5f"
            },
            "baxis": {
             "endlinecolor": "#2a3f5f",
             "gridcolor": "white",
             "linecolor": "white",
             "minorgridcolor": "white",
             "startlinecolor": "#2a3f5f"
            },
            "type": "carpet"
           }
          ],
          "choropleth": [
           {
            "colorbar": {
             "outlinewidth": 0,
             "ticks": ""
            },
            "type": "choropleth"
           }
          ],
          "contour": [
           {
            "colorbar": {
             "outlinewidth": 0,
             "ticks": ""
            },
            "colorscale": [
             [
              0,
              "#0d0887"
             ],
             [
              0.1111111111111111,
              "#46039f"
             ],
             [
              0.2222222222222222,
              "#7201a8"
             ],
             [
              0.3333333333333333,
              "#9c179e"
             ],
             [
              0.4444444444444444,
              "#bd3786"
             ],
             [
              0.5555555555555556,
              "#d8576b"
             ],
             [
              0.6666666666666666,
              "#ed7953"
             ],
             [
              0.7777777777777778,
              "#fb9f3a"
             ],
             [
              0.8888888888888888,
              "#fdca26"
             ],
             [
              1,
              "#f0f921"
             ]
            ],
            "type": "contour"
           }
          ],
          "contourcarpet": [
           {
            "colorbar": {
             "outlinewidth": 0,
             "ticks": ""
            },
            "type": "contourcarpet"
           }
          ],
          "heatmap": [
           {
            "colorbar": {
             "outlinewidth": 0,
             "ticks": ""
            },
            "colorscale": [
             [
              0,
              "#0d0887"
             ],
             [
              0.1111111111111111,
              "#46039f"
             ],
             [
              0.2222222222222222,
              "#7201a8"
             ],
             [
              0.3333333333333333,
              "#9c179e"
             ],
             [
              0.4444444444444444,
              "#bd3786"
             ],
             [
              0.5555555555555556,
              "#d8576b"
             ],
             [
              0.6666666666666666,
              "#ed7953"
             ],
             [
              0.7777777777777778,
              "#fb9f3a"
             ],
             [
              0.8888888888888888,
              "#fdca26"
             ],
             [
              1,
              "#f0f921"
             ]
            ],
            "type": "heatmap"
           }
          ],
          "heatmapgl": [
           {
            "colorbar": {
             "outlinewidth": 0,
             "ticks": ""
            },
            "colorscale": [
             [
              0,
              "#0d0887"
             ],
             [
              0.1111111111111111,
              "#46039f"
             ],
             [
              0.2222222222222222,
              "#7201a8"
             ],
             [
              0.3333333333333333,
              "#9c179e"
             ],
             [
              0.4444444444444444,
              "#bd3786"
             ],
             [
              0.5555555555555556,
              "#d8576b"
             ],
             [
              0.6666666666666666,
              "#ed7953"
             ],
             [
              0.7777777777777778,
              "#fb9f3a"
             ],
             [
              0.8888888888888888,
              "#fdca26"
             ],
             [
              1,
              "#f0f921"
             ]
            ],
            "type": "heatmapgl"
           }
          ],
          "histogram": [
           {
            "marker": {
             "pattern": {
              "fillmode": "overlay",
              "size": 10,
              "solidity": 0.2
             }
            },
            "type": "histogram"
           }
          ],
          "histogram2d": [
           {
            "colorbar": {
             "outlinewidth": 0,
             "ticks": ""
            },
            "colorscale": [
             [
              0,
              "#0d0887"
             ],
             [
              0.1111111111111111,
              "#46039f"
             ],
             [
              0.2222222222222222,
              "#7201a8"
             ],
             [
              0.3333333333333333,
              "#9c179e"
             ],
             [
              0.4444444444444444,
              "#bd3786"
             ],
             [
              0.5555555555555556,
              "#d8576b"
             ],
             [
              0.6666666666666666,
              "#ed7953"
             ],
             [
              0.7777777777777778,
              "#fb9f3a"
             ],
             [
              0.8888888888888888,
              "#fdca26"
             ],
             [
              1,
              "#f0f921"
             ]
            ],
            "type": "histogram2d"
           }
          ],
          "histogram2dcontour": [
           {
            "colorbar": {
             "outlinewidth": 0,
             "ticks": ""
            },
            "colorscale": [
             [
              0,
              "#0d0887"
             ],
             [
              0.1111111111111111,
              "#46039f"
             ],
             [
              0.2222222222222222,
              "#7201a8"
             ],
             [
              0.3333333333333333,
              "#9c179e"
             ],
             [
              0.4444444444444444,
              "#bd3786"
             ],
             [
              0.5555555555555556,
              "#d8576b"
             ],
             [
              0.6666666666666666,
              "#ed7953"
             ],
             [
              0.7777777777777778,
              "#fb9f3a"
             ],
             [
              0.8888888888888888,
              "#fdca26"
             ],
             [
              1,
              "#f0f921"
             ]
            ],
            "type": "histogram2dcontour"
           }
          ],
          "mesh3d": [
           {
            "colorbar": {
             "outlinewidth": 0,
             "ticks": ""
            },
            "type": "mesh3d"
           }
          ],
          "parcoords": [
           {
            "line": {
             "colorbar": {
              "outlinewidth": 0,
              "ticks": ""
             }
            },
            "type": "parcoords"
           }
          ],
          "pie": [
           {
            "automargin": true,
            "type": "pie"
           }
          ],
          "scatter": [
           {
            "fillpattern": {
             "fillmode": "overlay",
             "size": 10,
             "solidity": 0.2
            },
            "type": "scatter"
           }
          ],
          "scatter3d": [
           {
            "line": {
             "colorbar": {
              "outlinewidth": 0,
              "ticks": ""
             }
            },
            "marker": {
             "colorbar": {
              "outlinewidth": 0,
              "ticks": ""
             }
            },
            "type": "scatter3d"
           }
          ],
          "scattercarpet": [
           {
            "marker": {
             "colorbar": {
              "outlinewidth": 0,
              "ticks": ""
             }
            },
            "type": "scattercarpet"
           }
          ],
          "scattergeo": [
           {
            "marker": {
             "colorbar": {
              "outlinewidth": 0,
              "ticks": ""
             }
            },
            "type": "scattergeo"
           }
          ],
          "scattergl": [
           {
            "marker": {
             "colorbar": {
              "outlinewidth": 0,
              "ticks": ""
             }
            },
            "type": "scattergl"
           }
          ],
          "scattermapbox": [
           {
            "marker": {
             "colorbar": {
              "outlinewidth": 0,
              "ticks": ""
             }
            },
            "type": "scattermapbox"
           }
          ],
          "scatterpolar": [
           {
            "marker": {
             "colorbar": {
              "outlinewidth": 0,
              "ticks": ""
             }
            },
            "type": "scatterpolar"
           }
          ],
          "scatterpolargl": [
           {
            "marker": {
             "colorbar": {
              "outlinewidth": 0,
              "ticks": ""
             }
            },
            "type": "scatterpolargl"
           }
          ],
          "scatterternary": [
           {
            "marker": {
             "colorbar": {
              "outlinewidth": 0,
              "ticks": ""
             }
            },
            "type": "scatterternary"
           }
          ],
          "surface": [
           {
            "colorbar": {
             "outlinewidth": 0,
             "ticks": ""
            },
            "colorscale": [
             [
              0,
              "#0d0887"
             ],
             [
              0.1111111111111111,
              "#46039f"
             ],
             [
              0.2222222222222222,
              "#7201a8"
             ],
             [
              0.3333333333333333,
              "#9c179e"
             ],
             [
              0.4444444444444444,
              "#bd3786"
             ],
             [
              0.5555555555555556,
              "#d8576b"
             ],
             [
              0.6666666666666666,
              "#ed7953"
             ],
             [
              0.7777777777777778,
              "#fb9f3a"
             ],
             [
              0.8888888888888888,
              "#fdca26"
             ],
             [
              1,
              "#f0f921"
             ]
            ],
            "type": "surface"
           }
          ],
          "table": [
           {
            "cells": {
             "fill": {
              "color": "#EBF0F8"
             },
             "line": {
              "color": "white"
             }
            },
            "header": {
             "fill": {
              "color": "#C8D4E3"
             },
             "line": {
              "color": "white"
             }
            },
            "type": "table"
           }
          ]
         },
         "layout": {
          "annotationdefaults": {
           "arrowcolor": "#2a3f5f",
           "arrowhead": 0,
           "arrowwidth": 1
          },
          "autotypenumbers": "strict",
          "coloraxis": {
           "colorbar": {
            "outlinewidth": 0,
            "ticks": ""
           }
          },
          "colorscale": {
           "diverging": [
            [
             0,
             "#8e0152"
            ],
            [
             0.1,
             "#c51b7d"
            ],
            [
             0.2,
             "#de77ae"
            ],
            [
             0.3,
             "#f1b6da"
            ],
            [
             0.4,
             "#fde0ef"
            ],
            [
             0.5,
             "#f7f7f7"
            ],
            [
             0.6,
             "#e6f5d0"
            ],
            [
             0.7,
             "#b8e186"
            ],
            [
             0.8,
             "#7fbc41"
            ],
            [
             0.9,
             "#4d9221"
            ],
            [
             1,
             "#276419"
            ]
           ],
           "sequential": [
            [
             0,
             "#0d0887"
            ],
            [
             0.1111111111111111,
             "#46039f"
            ],
            [
             0.2222222222222222,
             "#7201a8"
            ],
            [
             0.3333333333333333,
             "#9c179e"
            ],
            [
             0.4444444444444444,
             "#bd3786"
            ],
            [
             0.5555555555555556,
             "#d8576b"
            ],
            [
             0.6666666666666666,
             "#ed7953"
            ],
            [
             0.7777777777777778,
             "#fb9f3a"
            ],
            [
             0.8888888888888888,
             "#fdca26"
            ],
            [
             1,
             "#f0f921"
            ]
           ],
           "sequentialminus": [
            [
             0,
             "#0d0887"
            ],
            [
             0.1111111111111111,
             "#46039f"
            ],
            [
             0.2222222222222222,
             "#7201a8"
            ],
            [
             0.3333333333333333,
             "#9c179e"
            ],
            [
             0.4444444444444444,
             "#bd3786"
            ],
            [
             0.5555555555555556,
             "#d8576b"
            ],
            [
             0.6666666666666666,
             "#ed7953"
            ],
            [
             0.7777777777777778,
             "#fb9f3a"
            ],
            [
             0.8888888888888888,
             "#fdca26"
            ],
            [
             1,
             "#f0f921"
            ]
           ]
          },
          "colorway": [
           "#636efa",
           "#EF553B",
           "#00cc96",
           "#ab63fa",
           "#FFA15A",
           "#19d3f3",
           "#FF6692",
           "#B6E880",
           "#FF97FF",
           "#FECB52"
          ],
          "font": {
           "color": "#2a3f5f"
          },
          "geo": {
           "bgcolor": "white",
           "lakecolor": "white",
           "landcolor": "#E5ECF6",
           "showlakes": true,
           "showland": true,
           "subunitcolor": "white"
          },
          "hoverlabel": {
           "align": "left"
          },
          "hovermode": "closest",
          "mapbox": {
           "style": "light"
          },
          "paper_bgcolor": "white",
          "plot_bgcolor": "#E5ECF6",
          "polar": {
           "angularaxis": {
            "gridcolor": "white",
            "linecolor": "white",
            "ticks": ""
           },
           "bgcolor": "#E5ECF6",
           "radialaxis": {
            "gridcolor": "white",
            "linecolor": "white",
            "ticks": ""
           }
          },
          "scene": {
           "xaxis": {
            "backgroundcolor": "#E5ECF6",
            "gridcolor": "white",
            "gridwidth": 2,
            "linecolor": "white",
            "showbackground": true,
            "ticks": "",
            "zerolinecolor": "white"
           },
           "yaxis": {
            "backgroundcolor": "#E5ECF6",
            "gridcolor": "white",
            "gridwidth": 2,
            "linecolor": "white",
            "showbackground": true,
            "ticks": "",
            "zerolinecolor": "white"
           },
           "zaxis": {
            "backgroundcolor": "#E5ECF6",
            "gridcolor": "white",
            "gridwidth": 2,
            "linecolor": "white",
            "showbackground": true,
            "ticks": "",
            "zerolinecolor": "white"
           }
          },
          "shapedefaults": {
           "line": {
            "color": "#2a3f5f"
           }
          },
          "ternary": {
           "aaxis": {
            "gridcolor": "white",
            "linecolor": "white",
            "ticks": ""
           },
           "baxis": {
            "gridcolor": "white",
            "linecolor": "white",
            "ticks": ""
           },
           "bgcolor": "#E5ECF6",
           "caxis": {
            "gridcolor": "white",
            "linecolor": "white",
            "ticks": ""
           }
          },
          "title": {
           "x": 0.05
          },
          "xaxis": {
           "automargin": true,
           "gridcolor": "white",
           "linecolor": "white",
           "ticks": "",
           "title": {
            "standoff": 15
           },
           "zerolinecolor": "white",
           "zerolinewidth": 2
          },
          "yaxis": {
           "automargin": true,
           "gridcolor": "white",
           "linecolor": "white",
           "ticks": "",
           "title": {
            "standoff": 15
           },
           "zerolinecolor": "white",
           "zerolinewidth": 2
          }
         }
        },
        "title": {
         "text": "Total Revenue by Platform"
        },
        "xaxis": {
         "anchor": "y",
         "domain": [
          0,
          1
         ],
         "title": {
          "text": "Platform"
         }
        },
        "yaxis": {
         "anchor": "x",
         "domain": [
          0,
          1
         ],
         "range": [
          0,
          1.4
         ],
         "title": {
          "text": "Total Revenue"
         }
        }
       }
      }
     },
     "metadata": {},
     "output_type": "display_data"
    }
   ],
   "source": [
    "# Creating two box plots with different views \n",
    "# Create a box plot with extreme outliers included \n",
    "platforms_box = px.box(relevant_platforms, x='platform', y= 'total_revenue')\n",
    "\n",
    "# Update the y-axis title\n",
    "platforms_box.update_layout(\n",
    "    title=\"Total Revenue by Platform with Extreme Outliers Included\",\n",
    "    yaxis_title=\"Total Revenue\",\n",
    "    xaxis_title=\"Platform\"\n",
    ")\n",
    "\n",
    "# Show the plot\n",
    "platforms_box.show()\n",
    "\n",
    "# Second box plot\n",
    "# Creates a box plot with limit on y axis\n",
    "platforms_box = px.box(relevant_platforms, x='platform', y='total_revenue')\n",
    "\n",
    "# Update the y-axis title\n",
    "platforms_box.update_layout(\n",
    "    title=\"Total Revenue by Platform\",\n",
    "    yaxis_title=\"Total Revenue\",\n",
    "    xaxis_title=\"Platform\"\n",
    ")\n",
    "# Set the y-axis limit to remove most outliers\n",
    "platforms_box.update_yaxes(range=[0, 1.4])\n",
    "\n",
    "# Show the plot\n",
    "platforms_box.show()\n"
   ]
  },
  {
   "cell_type": "markdown",
   "metadata": {},
   "source": [
    "The box plots above illustrates the distribution of total revenue generated by games across various gaming platforms. Each box represents the revenue distribution for a specific platform amongst the relevant platform. \n",
    "\n",
    "The first box plot cntains extreme outliers and the second box plot provides a detailed comparison of the average sales for each platform, excluding outliers. This distinction isimportant because outliers can significantly skew sales data for certain platforms [eg. PS4], while having little to no impact on others [e.g PSP].\n",
    "\n",
    "Upon closer examination, while the actual total revenue values vary significantly among platforms, their shapes appear similar, with relatively consistent interquartile ranges and widely spread maximum outliers.\n",
    "\n",
    "**On average, Most games bring in around $0.10 million USD or $100,000 total revenue per game:** \n",
    "\n",
    "- **The highest median revenue is for WiiU, at $0.21USD Million**. This indicates that, on average, games released on the WiiU platform tend to generate higher revenue compared to other platforms.\n",
    "\n",
    "- **The median revenues for PS4, XOne, 3DS, X360, and WiiU** appear to be similar, suggesting that these platforms have comparable performance in terms of revenue generation.\n",
    " \n",
    "- **The platforms with the largest outliers: PS4, XOne, 3DS**: This suggests that there is higher variability in the revenue of these platforms. In contrast, platforms with fewer outliers might show more consistent revenue patterns, indicating a more stable performance across games released on those platforms.\n",
    "\n",
    "Platforms with higher median revenues and larger variability such as **PS4, XOne, 3DS** may represent lucrative opportunities for the company, while platforms with more stable revenue patterns may offer predictability and reliability.\n"
   ]
  },
  {
   "cell_type": "code",
   "execution_count": 64,
   "metadata": {},
   "outputs": [
    {
     "data": {
      "text/html": [
       "<div>\n",
       "<style scoped>\n",
       "    .dataframe tbody tr th:only-of-type {\n",
       "        vertical-align: middle;\n",
       "    }\n",
       "\n",
       "    .dataframe tbody tr th {\n",
       "        vertical-align: top;\n",
       "    }\n",
       "\n",
       "    .dataframe thead th {\n",
       "        text-align: right;\n",
       "    }\n",
       "</style>\n",
       "<table border=\"1\" class=\"dataframe\">\n",
       "  <thead>\n",
       "    <tr style=\"text-align: right;\">\n",
       "      <th></th>\n",
       "      <th>platform</th>\n",
       "      <th>total_revenue</th>\n",
       "    </tr>\n",
       "  </thead>\n",
       "  <tbody>\n",
       "    <tr>\n",
       "      <th>0</th>\n",
       "      <td>X360</td>\n",
       "      <td>961.24</td>\n",
       "    </tr>\n",
       "    <tr>\n",
       "      <th>1</th>\n",
       "      <td>PS3</td>\n",
       "      <td>931.34</td>\n",
       "    </tr>\n",
       "    <tr>\n",
       "      <th>2</th>\n",
       "      <td>Wii</td>\n",
       "      <td>891.18</td>\n",
       "    </tr>\n",
       "    <tr>\n",
       "      <th>3</th>\n",
       "      <td>PSP</td>\n",
       "      <td>289.53</td>\n",
       "    </tr>\n",
       "    <tr>\n",
       "      <th>4</th>\n",
       "      <td>PC</td>\n",
       "      <td>255.76</td>\n",
       "    </tr>\n",
       "  </tbody>\n",
       "</table>\n",
       "</div>"
      ],
      "text/plain": [
       "  platform  total_revenue\n",
       "0     X360         961.24\n",
       "1      PS3         931.34\n",
       "2      Wii         891.18\n",
       "3      PSP         289.53\n",
       "4       PC         255.76"
      ]
     },
     "execution_count": 64,
     "metadata": {},
     "output_type": "execute_result"
    }
   ],
   "source": [
    "# Average sales by platform for all games \n",
    "relevant_platforms_stats.groupby('platform')['total_revenue'].mean().sort_values(ascending=False).reset_index()"
   ]
  },
  {
   "cell_type": "markdown",
   "metadata": {},
   "source": [
    "- The average revenue data suggests that the platforms that brought in the most revenue, on average, were: X360, PS3, and Wii, with average revenues ranging between $891.8 million to $961.24 million.\n",
    "\n",
    "- This is followed closely by PS4 with an average revenue of $314.14 million, PSP with $289.53 million, 3DS with $257.81 million, and PC with $159.32 million.\n",
    "\n",
    "In contrast, the platforms with the lowest average total revenue are XOne, WiiU, and PSV.\n",
    "\n",
    "Overall, the average revenue data highlights that X360, PS3, and Wii generated the most revenue, averaging between $891.8 million and $961.24 million. However, the box plot analysis shows that while these platforms have high median revenues, they also exhibit variability in revenue generation, evident from the presence of outliers.\n",
    "\n",
    "Platforms like PS4, XOne, and 3DS, with higher median revenues and larger variability, represent potential marketing opportunities.\n"
   ]
  },
  {
   "cell_type": "markdown",
   "metadata": {},
   "source": [
    "#### Filtering Data by Critic Score and User Score "
   ]
  },
  {
   "cell_type": "code",
   "execution_count": 65,
   "metadata": {},
   "outputs": [
    {
     "data": {
      "application/vnd.plotly.v1+json": {
       "config": {
        "plotlyServerURL": "https://plot.ly"
       },
       "data": [
        {
         "hovertemplate": "Critic Score=%{x}<br>Total Revenue=%{y}<extra></extra>",
         "legendgroup": "",
         "marker": {
          "color": "#636efa",
          "symbol": "circle"
         },
         "mode": "markers",
         "name": "",
         "orientation": "v",
         "showlegend": false,
         "type": "scatter",
         "x": [
          82,
          85,
          87,
          93,
          86,
          77,
          88,
          92,
          87,
          87,
          80,
          93,
          76,
          83,
          83,
          92,
          76,
          73,
          90,
          73,
          74,
          86,
          88,
          73,
          68,
          82,
          63,
          71,
          79,
          89,
          73,
          79,
          83,
          69,
          83,
          76,
          79,
          80,
          77,
          70,
          82,
          80,
          87,
          89,
          71,
          80,
          78,
          73,
          65,
          88,
          78,
          69,
          75,
          61,
          81,
          74,
          85,
          76,
          69,
          72,
          72,
          85,
          78,
          84,
          84,
          73,
          85,
          66,
          85,
          48,
          81,
          77,
          69,
          78,
          76,
          75,
          72,
          60,
          81,
          80,
          73,
          81,
          68,
          59,
          63,
          77,
          66,
          72,
          87,
          69,
          32,
          62,
          59,
          67,
          59,
          58,
          74,
          79,
          80,
          45,
          73,
          88,
          80,
          86,
          81,
          63,
          80,
          75,
          19,
          73,
          75,
          76,
          79,
          65,
          73,
          71,
          69,
          44,
          77,
          69,
          71,
          73,
          67,
          64,
          85,
          70,
          72,
          71,
          75,
          72,
          78,
          60,
          60,
          62,
          90,
          63,
          69,
          25,
          64,
          73,
          67,
          42,
          64,
          66,
          81,
          64,
          71,
          71,
          66,
          52,
          43,
          76,
          78,
          69,
          69,
          77,
          78,
          72,
          78,
          61,
          70,
          80,
          79,
          72,
          62,
          62,
          67,
          57,
          59,
          82,
          88,
          55,
          52,
          31,
          69,
          61,
          51,
          70,
          42,
          66,
          49,
          48
         ],
         "xaxis": "x",
         "y": [
          8.58,
          7.6000000000000005,
          7.17,
          5.39,
          4.62,
          4.470000000000001,
          4.07,
          3.9699999999999998,
          3.96,
          3.87,
          3.8,
          3.4200000000000004,
          3.3899999999999997,
          3.2399999999999998,
          2.78,
          2.48,
          2.2600000000000002,
          2.21,
          2.14,
          2.11,
          2.09,
          1.9200000000000002,
          1.8800000000000001,
          1.85,
          1.81,
          1.74,
          1.7200000000000002,
          1.6900000000000002,
          1.6600000000000001,
          1.6600000000000001,
          1.21,
          1.14,
          1.13,
          1.1,
          1.0799999999999998,
          0.9700000000000001,
          0.93,
          0.93,
          0.9,
          0.9,
          0.88,
          0.86,
          0.78,
          0.7600000000000001,
          0.73,
          0.73,
          0.71,
          0.7,
          0.67,
          0.64,
          0.63,
          0.6,
          0.54,
          0.51,
          0.49000000000000005,
          0.47000000000000003,
          0.45,
          0.43,
          0.42,
          0.4,
          0.39999999999999997,
          0.38999999999999996,
          0.38,
          0.38,
          0.37000000000000005,
          0.36000000000000004,
          0.36000000000000004,
          0.36,
          0.36,
          0.35000000000000003,
          0.34,
          0.34,
          0.34,
          0.33,
          0.32,
          0.31,
          0.3,
          0.3,
          0.3,
          0.29,
          0.27,
          0.26,
          0.26,
          0.26,
          0.25,
          0.23,
          0.23,
          0.2,
          0.2,
          0.19999999999999998,
          0.19999999999999998,
          0.19999999999999998,
          0.18,
          0.18,
          0.17,
          0.16999999999999998,
          0.16,
          0.15,
          0.14,
          0.13999999999999999,
          0.13999999999999999,
          0.13999999999999999,
          0.13999999999999999,
          0.13,
          0.13,
          0.13,
          0.12000000000000001,
          0.12000000000000001,
          0.12000000000000001,
          0.12,
          0.12,
          0.12,
          0.11,
          0.11,
          0.1,
          0.09999999999999999,
          0.09999999999999999,
          0.09000000000000001,
          0.09000000000000001,
          0.09,
          0.09,
          0.09,
          0.09,
          0.08,
          0.08,
          0.08,
          0.07,
          0.07,
          0.07,
          0.06999999999999999,
          0.06999999999999999,
          0.06999999999999999,
          0.06999999999999999,
          0.06999999999999999,
          0.06999999999999999,
          0.06999999999999999,
          0.06999999999999999,
          0.060000000000000005,
          0.060000000000000005,
          0.060000000000000005,
          0.060000000000000005,
          0.060000000000000005,
          0.05,
          0.05,
          0.05,
          0.05,
          0.05,
          0.05,
          0.05,
          0.05,
          0.05,
          0.05,
          0.04,
          0.04,
          0.04,
          0.04,
          0.04,
          0.04,
          0.03,
          0.03,
          0.03,
          0.03,
          0.02,
          0.02,
          0.02,
          0.02,
          0.02,
          0.02,
          0.02,
          0.02,
          0.02,
          0.02,
          0.02,
          0.02,
          0.01,
          0.01,
          0.01,
          0.01,
          0.01,
          0.01,
          0.01,
          0.01
         ],
         "yaxis": "y"
        }
       ],
       "layout": {
        "legend": {
         "tracegroupgap": 0
        },
        "template": {
         "data": {
          "bar": [
           {
            "error_x": {
             "color": "#2a3f5f"
            },
            "error_y": {
             "color": "#2a3f5f"
            },
            "marker": {
             "line": {
              "color": "#E5ECF6",
              "width": 0.5
             },
             "pattern": {
              "fillmode": "overlay",
              "size": 10,
              "solidity": 0.2
             }
            },
            "type": "bar"
           }
          ],
          "barpolar": [
           {
            "marker": {
             "line": {
              "color": "#E5ECF6",
              "width": 0.5
             },
             "pattern": {
              "fillmode": "overlay",
              "size": 10,
              "solidity": 0.2
             }
            },
            "type": "barpolar"
           }
          ],
          "carpet": [
           {
            "aaxis": {
             "endlinecolor": "#2a3f5f",
             "gridcolor": "white",
             "linecolor": "white",
             "minorgridcolor": "white",
             "startlinecolor": "#2a3f5f"
            },
            "baxis": {
             "endlinecolor": "#2a3f5f",
             "gridcolor": "white",
             "linecolor": "white",
             "minorgridcolor": "white",
             "startlinecolor": "#2a3f5f"
            },
            "type": "carpet"
           }
          ],
          "choropleth": [
           {
            "colorbar": {
             "outlinewidth": 0,
             "ticks": ""
            },
            "type": "choropleth"
           }
          ],
          "contour": [
           {
            "colorbar": {
             "outlinewidth": 0,
             "ticks": ""
            },
            "colorscale": [
             [
              0,
              "#0d0887"
             ],
             [
              0.1111111111111111,
              "#46039f"
             ],
             [
              0.2222222222222222,
              "#7201a8"
             ],
             [
              0.3333333333333333,
              "#9c179e"
             ],
             [
              0.4444444444444444,
              "#bd3786"
             ],
             [
              0.5555555555555556,
              "#d8576b"
             ],
             [
              0.6666666666666666,
              "#ed7953"
             ],
             [
              0.7777777777777778,
              "#fb9f3a"
             ],
             [
              0.8888888888888888,
              "#fdca26"
             ],
             [
              1,
              "#f0f921"
             ]
            ],
            "type": "contour"
           }
          ],
          "contourcarpet": [
           {
            "colorbar": {
             "outlinewidth": 0,
             "ticks": ""
            },
            "type": "contourcarpet"
           }
          ],
          "heatmap": [
           {
            "colorbar": {
             "outlinewidth": 0,
             "ticks": ""
            },
            "colorscale": [
             [
              0,
              "#0d0887"
             ],
             [
              0.1111111111111111,
              "#46039f"
             ],
             [
              0.2222222222222222,
              "#7201a8"
             ],
             [
              0.3333333333333333,
              "#9c179e"
             ],
             [
              0.4444444444444444,
              "#bd3786"
             ],
             [
              0.5555555555555556,
              "#d8576b"
             ],
             [
              0.6666666666666666,
              "#ed7953"
             ],
             [
              0.7777777777777778,
              "#fb9f3a"
             ],
             [
              0.8888888888888888,
              "#fdca26"
             ],
             [
              1,
              "#f0f921"
             ]
            ],
            "type": "heatmap"
           }
          ],
          "heatmapgl": [
           {
            "colorbar": {
             "outlinewidth": 0,
             "ticks": ""
            },
            "colorscale": [
             [
              0,
              "#0d0887"
             ],
             [
              0.1111111111111111,
              "#46039f"
             ],
             [
              0.2222222222222222,
              "#7201a8"
             ],
             [
              0.3333333333333333,
              "#9c179e"
             ],
             [
              0.4444444444444444,
              "#bd3786"
             ],
             [
              0.5555555555555556,
              "#d8576b"
             ],
             [
              0.6666666666666666,
              "#ed7953"
             ],
             [
              0.7777777777777778,
              "#fb9f3a"
             ],
             [
              0.8888888888888888,
              "#fdca26"
             ],
             [
              1,
              "#f0f921"
             ]
            ],
            "type": "heatmapgl"
           }
          ],
          "histogram": [
           {
            "marker": {
             "pattern": {
              "fillmode": "overlay",
              "size": 10,
              "solidity": 0.2
             }
            },
            "type": "histogram"
           }
          ],
          "histogram2d": [
           {
            "colorbar": {
             "outlinewidth": 0,
             "ticks": ""
            },
            "colorscale": [
             [
              0,
              "#0d0887"
             ],
             [
              0.1111111111111111,
              "#46039f"
             ],
             [
              0.2222222222222222,
              "#7201a8"
             ],
             [
              0.3333333333333333,
              "#9c179e"
             ],
             [
              0.4444444444444444,
              "#bd3786"
             ],
             [
              0.5555555555555556,
              "#d8576b"
             ],
             [
              0.6666666666666666,
              "#ed7953"
             ],
             [
              0.7777777777777778,
              "#fb9f3a"
             ],
             [
              0.8888888888888888,
              "#fdca26"
             ],
             [
              1,
              "#f0f921"
             ]
            ],
            "type": "histogram2d"
           }
          ],
          "histogram2dcontour": [
           {
            "colorbar": {
             "outlinewidth": 0,
             "ticks": ""
            },
            "colorscale": [
             [
              0,
              "#0d0887"
             ],
             [
              0.1111111111111111,
              "#46039f"
             ],
             [
              0.2222222222222222,
              "#7201a8"
             ],
             [
              0.3333333333333333,
              "#9c179e"
             ],
             [
              0.4444444444444444,
              "#bd3786"
             ],
             [
              0.5555555555555556,
              "#d8576b"
             ],
             [
              0.6666666666666666,
              "#ed7953"
             ],
             [
              0.7777777777777778,
              "#fb9f3a"
             ],
             [
              0.8888888888888888,
              "#fdca26"
             ],
             [
              1,
              "#f0f921"
             ]
            ],
            "type": "histogram2dcontour"
           }
          ],
          "mesh3d": [
           {
            "colorbar": {
             "outlinewidth": 0,
             "ticks": ""
            },
            "type": "mesh3d"
           }
          ],
          "parcoords": [
           {
            "line": {
             "colorbar": {
              "outlinewidth": 0,
              "ticks": ""
             }
            },
            "type": "parcoords"
           }
          ],
          "pie": [
           {
            "automargin": true,
            "type": "pie"
           }
          ],
          "scatter": [
           {
            "fillpattern": {
             "fillmode": "overlay",
             "size": 10,
             "solidity": 0.2
            },
            "type": "scatter"
           }
          ],
          "scatter3d": [
           {
            "line": {
             "colorbar": {
              "outlinewidth": 0,
              "ticks": ""
             }
            },
            "marker": {
             "colorbar": {
              "outlinewidth": 0,
              "ticks": ""
             }
            },
            "type": "scatter3d"
           }
          ],
          "scattercarpet": [
           {
            "marker": {
             "colorbar": {
              "outlinewidth": 0,
              "ticks": ""
             }
            },
            "type": "scattercarpet"
           }
          ],
          "scattergeo": [
           {
            "marker": {
             "colorbar": {
              "outlinewidth": 0,
              "ticks": ""
             }
            },
            "type": "scattergeo"
           }
          ],
          "scattergl": [
           {
            "marker": {
             "colorbar": {
              "outlinewidth": 0,
              "ticks": ""
             }
            },
            "type": "scattergl"
           }
          ],
          "scattermapbox": [
           {
            "marker": {
             "colorbar": {
              "outlinewidth": 0,
              "ticks": ""
             }
            },
            "type": "scattermapbox"
           }
          ],
          "scatterpolar": [
           {
            "marker": {
             "colorbar": {
              "outlinewidth": 0,
              "ticks": ""
             }
            },
            "type": "scatterpolar"
           }
          ],
          "scatterpolargl": [
           {
            "marker": {
             "colorbar": {
              "outlinewidth": 0,
              "ticks": ""
             }
            },
            "type": "scatterpolargl"
           }
          ],
          "scatterternary": [
           {
            "marker": {
             "colorbar": {
              "outlinewidth": 0,
              "ticks": ""
             }
            },
            "type": "scatterternary"
           }
          ],
          "surface": [
           {
            "colorbar": {
             "outlinewidth": 0,
             "ticks": ""
            },
            "colorscale": [
             [
              0,
              "#0d0887"
             ],
             [
              0.1111111111111111,
              "#46039f"
             ],
             [
              0.2222222222222222,
              "#7201a8"
             ],
             [
              0.3333333333333333,
              "#9c179e"
             ],
             [
              0.4444444444444444,
              "#bd3786"
             ],
             [
              0.5555555555555556,
              "#d8576b"
             ],
             [
              0.6666666666666666,
              "#ed7953"
             ],
             [
              0.7777777777777778,
              "#fb9f3a"
             ],
             [
              0.8888888888888888,
              "#fdca26"
             ],
             [
              1,
              "#f0f921"
             ]
            ],
            "type": "surface"
           }
          ],
          "table": [
           {
            "cells": {
             "fill": {
              "color": "#EBF0F8"
             },
             "line": {
              "color": "white"
             }
            },
            "header": {
             "fill": {
              "color": "#C8D4E3"
             },
             "line": {
              "color": "white"
             }
            },
            "type": "table"
           }
          ]
         },
         "layout": {
          "annotationdefaults": {
           "arrowcolor": "#2a3f5f",
           "arrowhead": 0,
           "arrowwidth": 1
          },
          "autotypenumbers": "strict",
          "coloraxis": {
           "colorbar": {
            "outlinewidth": 0,
            "ticks": ""
           }
          },
          "colorscale": {
           "diverging": [
            [
             0,
             "#8e0152"
            ],
            [
             0.1,
             "#c51b7d"
            ],
            [
             0.2,
             "#de77ae"
            ],
            [
             0.3,
             "#f1b6da"
            ],
            [
             0.4,
             "#fde0ef"
            ],
            [
             0.5,
             "#f7f7f7"
            ],
            [
             0.6,
             "#e6f5d0"
            ],
            [
             0.7,
             "#b8e186"
            ],
            [
             0.8,
             "#7fbc41"
            ],
            [
             0.9,
             "#4d9221"
            ],
            [
             1,
             "#276419"
            ]
           ],
           "sequential": [
            [
             0,
             "#0d0887"
            ],
            [
             0.1111111111111111,
             "#46039f"
            ],
            [
             0.2222222222222222,
             "#7201a8"
            ],
            [
             0.3333333333333333,
             "#9c179e"
            ],
            [
             0.4444444444444444,
             "#bd3786"
            ],
            [
             0.5555555555555556,
             "#d8576b"
            ],
            [
             0.6666666666666666,
             "#ed7953"
            ],
            [
             0.7777777777777778,
             "#fb9f3a"
            ],
            [
             0.8888888888888888,
             "#fdca26"
            ],
            [
             1,
             "#f0f921"
            ]
           ],
           "sequentialminus": [
            [
             0,
             "#0d0887"
            ],
            [
             0.1111111111111111,
             "#46039f"
            ],
            [
             0.2222222222222222,
             "#7201a8"
            ],
            [
             0.3333333333333333,
             "#9c179e"
            ],
            [
             0.4444444444444444,
             "#bd3786"
            ],
            [
             0.5555555555555556,
             "#d8576b"
            ],
            [
             0.6666666666666666,
             "#ed7953"
            ],
            [
             0.7777777777777778,
             "#fb9f3a"
            ],
            [
             0.8888888888888888,
             "#fdca26"
            ],
            [
             1,
             "#f0f921"
            ]
           ]
          },
          "colorway": [
           "#636efa",
           "#EF553B",
           "#00cc96",
           "#ab63fa",
           "#FFA15A",
           "#19d3f3",
           "#FF6692",
           "#B6E880",
           "#FF97FF",
           "#FECB52"
          ],
          "font": {
           "color": "#2a3f5f"
          },
          "geo": {
           "bgcolor": "white",
           "lakecolor": "white",
           "landcolor": "#E5ECF6",
           "showlakes": true,
           "showland": true,
           "subunitcolor": "white"
          },
          "hoverlabel": {
           "align": "left"
          },
          "hovermode": "closest",
          "mapbox": {
           "style": "light"
          },
          "paper_bgcolor": "white",
          "plot_bgcolor": "#E5ECF6",
          "polar": {
           "angularaxis": {
            "gridcolor": "white",
            "linecolor": "white",
            "ticks": ""
           },
           "bgcolor": "#E5ECF6",
           "radialaxis": {
            "gridcolor": "white",
            "linecolor": "white",
            "ticks": ""
           }
          },
          "scene": {
           "xaxis": {
            "backgroundcolor": "#E5ECF6",
            "gridcolor": "white",
            "gridwidth": 2,
            "linecolor": "white",
            "showbackground": true,
            "ticks": "",
            "zerolinecolor": "white"
           },
           "yaxis": {
            "backgroundcolor": "#E5ECF6",
            "gridcolor": "white",
            "gridwidth": 2,
            "linecolor": "white",
            "showbackground": true,
            "ticks": "",
            "zerolinecolor": "white"
           },
           "zaxis": {
            "backgroundcolor": "#E5ECF6",
            "gridcolor": "white",
            "gridwidth": 2,
            "linecolor": "white",
            "showbackground": true,
            "ticks": "",
            "zerolinecolor": "white"
           }
          },
          "shapedefaults": {
           "line": {
            "color": "#2a3f5f"
           }
          },
          "ternary": {
           "aaxis": {
            "gridcolor": "white",
            "linecolor": "white",
            "ticks": ""
           },
           "baxis": {
            "gridcolor": "white",
            "linecolor": "white",
            "ticks": ""
           },
           "bgcolor": "#E5ECF6",
           "caxis": {
            "gridcolor": "white",
            "linecolor": "white",
            "ticks": ""
           }
          },
          "title": {
           "x": 0.05
          },
          "xaxis": {
           "automargin": true,
           "gridcolor": "white",
           "linecolor": "white",
           "ticks": "",
           "title": {
            "standoff": 15
           },
           "zerolinecolor": "white",
           "zerolinewidth": 2
          },
          "yaxis": {
           "automargin": true,
           "gridcolor": "white",
           "linecolor": "white",
           "ticks": "",
           "title": {
            "standoff": 15
           },
           "zerolinecolor": "white",
           "zerolinewidth": 2
          }
         }
        },
        "title": {
         "text": "Relationship between Critic Scores and Sales for PS4 Games"
        },
        "xaxis": {
         "anchor": "y",
         "domain": [
          0,
          1
         ],
         "title": {
          "text": "Critic Score"
         }
        },
        "yaxis": {
         "anchor": "x",
         "domain": [
          0,
          1
         ],
         "title": {
          "text": "Total Revenue"
         }
        }
       }
      }
     },
     "metadata": {},
     "output_type": "display_data"
    },
    {
     "data": {
      "application/vnd.plotly.v1+json": {
       "config": {
        "plotlyServerURL": "https://plot.ly"
       },
       "data": [
        {
         "hovertemplate": "User Score=%{x}<br>Total Revenue=%{y}<extra></extra>",
         "legendgroup": "",
         "marker": {
          "color": "#636efa",
          "symbol": "circle"
         },
         "mode": "markers",
         "name": "",
         "orientation": "v",
         "showlegend": false,
         "type": "scatter",
         "x": [
          4.3,
          5,
          6.5,
          7.9,
          8.1,
          3.4,
          8.4,
          9.2,
          7.6,
          6.7,
          7,
          8.2,
          6.8,
          5.9,
          7.7,
          8.6,
          6.3,
          7.3,
          6.1,
          5,
          7.9,
          6,
          6.7,
          6.5,
          5.1,
          4.9,
          6.6,
          4.5,
          8.2,
          8.8,
          7.4,
          8.2,
          7.8,
          7.7,
          6.6,
          4.3,
          6.2,
          7.8,
          3.4,
          7,
          7.8,
          6.2,
          7.1,
          8.4,
          7,
          7.1,
          7.5,
          7.8,
          6.3,
          7.7,
          5.5,
          6.9,
          7.7,
          3.7,
          7.7,
          7.4,
          7.6,
          8,
          8.7,
          6.8,
          8,
          8.6,
          6.3,
          7.6,
          8.5,
          6.8,
          8.7,
          7.8,
          8.1,
          3.8,
          7.9,
          8.3,
          4.7,
          5.8,
          7.1,
          7.3,
          6.6,
          5.7,
          3.3,
          8.1,
          8.5,
          8.1,
          6.8,
          7.1,
          6.3,
          7.5,
          7,
          7.4,
          8.2,
          7.7,
          1.5,
          6.8,
          7.8,
          8,
          6.1,
          6.5,
          7.6,
          8.7,
          7.7,
          5.9,
          8.1,
          8,
          5.5,
          7.6,
          8.6,
          6.4,
          8.2,
          8.5,
          3.4,
          7.3,
          8.1,
          7.4,
          7.9,
          6.9,
          6.3,
          6.5,
          8,
          5.5,
          6.1,
          6.6,
          5.9,
          6.8,
          7.4,
          7.1,
          7.6,
          7.8,
          7.8,
          6.2,
          8,
          7.2,
          8.1,
          6.7,
          6.7,
          7.7,
          7.6,
          8.6,
          7.3,
          1.9,
          7.9,
          6.2,
          7.6,
          4.1,
          6.8,
          3.8,
          8.3,
          5.7,
          8,
          8.1,
          7,
          3.5,
          7.8,
          8,
          6.6,
          7.9,
          6.4,
          6.9,
          7.4,
          8.3,
          7.6,
          7.4,
          6.9,
          8,
          8.5,
          5.8,
          6.5,
          6.4,
          6.2,
          7.8,
          6.6,
          6.6,
          8.4,
          4.7,
          7.9,
          4.5,
          7.5,
          7.9,
          5.5,
          6.8,
          2.3,
          6.2,
          6,
          2
         ],
         "xaxis": "x",
         "y": [
          8.58,
          7.6000000000000005,
          7.17,
          5.39,
          4.62,
          4.470000000000001,
          4.07,
          3.9699999999999998,
          3.96,
          3.87,
          3.8,
          3.4200000000000004,
          3.3899999999999997,
          3.2399999999999998,
          2.78,
          2.48,
          2.2600000000000002,
          2.21,
          2.14,
          2.11,
          2.09,
          1.9200000000000002,
          1.8800000000000001,
          1.85,
          1.81,
          1.74,
          1.7200000000000002,
          1.6900000000000002,
          1.6600000000000001,
          1.6600000000000001,
          1.21,
          1.14,
          1.13,
          1.1,
          1.0799999999999998,
          0.9700000000000001,
          0.93,
          0.93,
          0.9,
          0.9,
          0.88,
          0.86,
          0.78,
          0.7600000000000001,
          0.73,
          0.73,
          0.71,
          0.7,
          0.67,
          0.64,
          0.63,
          0.6,
          0.54,
          0.51,
          0.49000000000000005,
          0.47000000000000003,
          0.45,
          0.43,
          0.42,
          0.4,
          0.39999999999999997,
          0.38999999999999996,
          0.38,
          0.38,
          0.37000000000000005,
          0.36000000000000004,
          0.36000000000000004,
          0.36,
          0.36,
          0.35000000000000003,
          0.34,
          0.34,
          0.34,
          0.33,
          0.32,
          0.31,
          0.3,
          0.3,
          0.3,
          0.29,
          0.27,
          0.26,
          0.26,
          0.26,
          0.25,
          0.23,
          0.23,
          0.2,
          0.2,
          0.19999999999999998,
          0.19999999999999998,
          0.19999999999999998,
          0.18,
          0.18,
          0.17,
          0.16999999999999998,
          0.16,
          0.15,
          0.14,
          0.13999999999999999,
          0.13999999999999999,
          0.13999999999999999,
          0.13999999999999999,
          0.13,
          0.13,
          0.13,
          0.12000000000000001,
          0.12000000000000001,
          0.12000000000000001,
          0.12,
          0.12,
          0.12,
          0.11,
          0.11,
          0.1,
          0.09999999999999999,
          0.09999999999999999,
          0.09000000000000001,
          0.09000000000000001,
          0.09,
          0.09,
          0.09,
          0.09,
          0.08,
          0.08,
          0.08,
          0.07,
          0.07,
          0.07,
          0.06999999999999999,
          0.06999999999999999,
          0.06999999999999999,
          0.06999999999999999,
          0.06999999999999999,
          0.06999999999999999,
          0.06999999999999999,
          0.06999999999999999,
          0.060000000000000005,
          0.060000000000000005,
          0.060000000000000005,
          0.060000000000000005,
          0.060000000000000005,
          0.05,
          0.05,
          0.05,
          0.05,
          0.05,
          0.05,
          0.05,
          0.05,
          0.05,
          0.05,
          0.04,
          0.04,
          0.04,
          0.04,
          0.04,
          0.04,
          0.03,
          0.03,
          0.03,
          0.03,
          0.02,
          0.02,
          0.02,
          0.02,
          0.02,
          0.02,
          0.02,
          0.02,
          0.02,
          0.02,
          0.02,
          0.02,
          0.01,
          0.01,
          0.01,
          0.01,
          0.01,
          0.01,
          0.01,
          0.01
         ],
         "yaxis": "y"
        }
       ],
       "layout": {
        "legend": {
         "tracegroupgap": 0
        },
        "template": {
         "data": {
          "bar": [
           {
            "error_x": {
             "color": "#2a3f5f"
            },
            "error_y": {
             "color": "#2a3f5f"
            },
            "marker": {
             "line": {
              "color": "#E5ECF6",
              "width": 0.5
             },
             "pattern": {
              "fillmode": "overlay",
              "size": 10,
              "solidity": 0.2
             }
            },
            "type": "bar"
           }
          ],
          "barpolar": [
           {
            "marker": {
             "line": {
              "color": "#E5ECF6",
              "width": 0.5
             },
             "pattern": {
              "fillmode": "overlay",
              "size": 10,
              "solidity": 0.2
             }
            },
            "type": "barpolar"
           }
          ],
          "carpet": [
           {
            "aaxis": {
             "endlinecolor": "#2a3f5f",
             "gridcolor": "white",
             "linecolor": "white",
             "minorgridcolor": "white",
             "startlinecolor": "#2a3f5f"
            },
            "baxis": {
             "endlinecolor": "#2a3f5f",
             "gridcolor": "white",
             "linecolor": "white",
             "minorgridcolor": "white",
             "startlinecolor": "#2a3f5f"
            },
            "type": "carpet"
           }
          ],
          "choropleth": [
           {
            "colorbar": {
             "outlinewidth": 0,
             "ticks": ""
            },
            "type": "choropleth"
           }
          ],
          "contour": [
           {
            "colorbar": {
             "outlinewidth": 0,
             "ticks": ""
            },
            "colorscale": [
             [
              0,
              "#0d0887"
             ],
             [
              0.1111111111111111,
              "#46039f"
             ],
             [
              0.2222222222222222,
              "#7201a8"
             ],
             [
              0.3333333333333333,
              "#9c179e"
             ],
             [
              0.4444444444444444,
              "#bd3786"
             ],
             [
              0.5555555555555556,
              "#d8576b"
             ],
             [
              0.6666666666666666,
              "#ed7953"
             ],
             [
              0.7777777777777778,
              "#fb9f3a"
             ],
             [
              0.8888888888888888,
              "#fdca26"
             ],
             [
              1,
              "#f0f921"
             ]
            ],
            "type": "contour"
           }
          ],
          "contourcarpet": [
           {
            "colorbar": {
             "outlinewidth": 0,
             "ticks": ""
            },
            "type": "contourcarpet"
           }
          ],
          "heatmap": [
           {
            "colorbar": {
             "outlinewidth": 0,
             "ticks": ""
            },
            "colorscale": [
             [
              0,
              "#0d0887"
             ],
             [
              0.1111111111111111,
              "#46039f"
             ],
             [
              0.2222222222222222,
              "#7201a8"
             ],
             [
              0.3333333333333333,
              "#9c179e"
             ],
             [
              0.4444444444444444,
              "#bd3786"
             ],
             [
              0.5555555555555556,
              "#d8576b"
             ],
             [
              0.6666666666666666,
              "#ed7953"
             ],
             [
              0.7777777777777778,
              "#fb9f3a"
             ],
             [
              0.8888888888888888,
              "#fdca26"
             ],
             [
              1,
              "#f0f921"
             ]
            ],
            "type": "heatmap"
           }
          ],
          "heatmapgl": [
           {
            "colorbar": {
             "outlinewidth": 0,
             "ticks": ""
            },
            "colorscale": [
             [
              0,
              "#0d0887"
             ],
             [
              0.1111111111111111,
              "#46039f"
             ],
             [
              0.2222222222222222,
              "#7201a8"
             ],
             [
              0.3333333333333333,
              "#9c179e"
             ],
             [
              0.4444444444444444,
              "#bd3786"
             ],
             [
              0.5555555555555556,
              "#d8576b"
             ],
             [
              0.6666666666666666,
              "#ed7953"
             ],
             [
              0.7777777777777778,
              "#fb9f3a"
             ],
             [
              0.8888888888888888,
              "#fdca26"
             ],
             [
              1,
              "#f0f921"
             ]
            ],
            "type": "heatmapgl"
           }
          ],
          "histogram": [
           {
            "marker": {
             "pattern": {
              "fillmode": "overlay",
              "size": 10,
              "solidity": 0.2
             }
            },
            "type": "histogram"
           }
          ],
          "histogram2d": [
           {
            "colorbar": {
             "outlinewidth": 0,
             "ticks": ""
            },
            "colorscale": [
             [
              0,
              "#0d0887"
             ],
             [
              0.1111111111111111,
              "#46039f"
             ],
             [
              0.2222222222222222,
              "#7201a8"
             ],
             [
              0.3333333333333333,
              "#9c179e"
             ],
             [
              0.4444444444444444,
              "#bd3786"
             ],
             [
              0.5555555555555556,
              "#d8576b"
             ],
             [
              0.6666666666666666,
              "#ed7953"
             ],
             [
              0.7777777777777778,
              "#fb9f3a"
             ],
             [
              0.8888888888888888,
              "#fdca26"
             ],
             [
              1,
              "#f0f921"
             ]
            ],
            "type": "histogram2d"
           }
          ],
          "histogram2dcontour": [
           {
            "colorbar": {
             "outlinewidth": 0,
             "ticks": ""
            },
            "colorscale": [
             [
              0,
              "#0d0887"
             ],
             [
              0.1111111111111111,
              "#46039f"
             ],
             [
              0.2222222222222222,
              "#7201a8"
             ],
             [
              0.3333333333333333,
              "#9c179e"
             ],
             [
              0.4444444444444444,
              "#bd3786"
             ],
             [
              0.5555555555555556,
              "#d8576b"
             ],
             [
              0.6666666666666666,
              "#ed7953"
             ],
             [
              0.7777777777777778,
              "#fb9f3a"
             ],
             [
              0.8888888888888888,
              "#fdca26"
             ],
             [
              1,
              "#f0f921"
             ]
            ],
            "type": "histogram2dcontour"
           }
          ],
          "mesh3d": [
           {
            "colorbar": {
             "outlinewidth": 0,
             "ticks": ""
            },
            "type": "mesh3d"
           }
          ],
          "parcoords": [
           {
            "line": {
             "colorbar": {
              "outlinewidth": 0,
              "ticks": ""
             }
            },
            "type": "parcoords"
           }
          ],
          "pie": [
           {
            "automargin": true,
            "type": "pie"
           }
          ],
          "scatter": [
           {
            "fillpattern": {
             "fillmode": "overlay",
             "size": 10,
             "solidity": 0.2
            },
            "type": "scatter"
           }
          ],
          "scatter3d": [
           {
            "line": {
             "colorbar": {
              "outlinewidth": 0,
              "ticks": ""
             }
            },
            "marker": {
             "colorbar": {
              "outlinewidth": 0,
              "ticks": ""
             }
            },
            "type": "scatter3d"
           }
          ],
          "scattercarpet": [
           {
            "marker": {
             "colorbar": {
              "outlinewidth": 0,
              "ticks": ""
             }
            },
            "type": "scattercarpet"
           }
          ],
          "scattergeo": [
           {
            "marker": {
             "colorbar": {
              "outlinewidth": 0,
              "ticks": ""
             }
            },
            "type": "scattergeo"
           }
          ],
          "scattergl": [
           {
            "marker": {
             "colorbar": {
              "outlinewidth": 0,
              "ticks": ""
             }
            },
            "type": "scattergl"
           }
          ],
          "scattermapbox": [
           {
            "marker": {
             "colorbar": {
              "outlinewidth": 0,
              "ticks": ""
             }
            },
            "type": "scattermapbox"
           }
          ],
          "scatterpolar": [
           {
            "marker": {
             "colorbar": {
              "outlinewidth": 0,
              "ticks": ""
             }
            },
            "type": "scatterpolar"
           }
          ],
          "scatterpolargl": [
           {
            "marker": {
             "colorbar": {
              "outlinewidth": 0,
              "ticks": ""
             }
            },
            "type": "scatterpolargl"
           }
          ],
          "scatterternary": [
           {
            "marker": {
             "colorbar": {
              "outlinewidth": 0,
              "ticks": ""
             }
            },
            "type": "scatterternary"
           }
          ],
          "surface": [
           {
            "colorbar": {
             "outlinewidth": 0,
             "ticks": ""
            },
            "colorscale": [
             [
              0,
              "#0d0887"
             ],
             [
              0.1111111111111111,
              "#46039f"
             ],
             [
              0.2222222222222222,
              "#7201a8"
             ],
             [
              0.3333333333333333,
              "#9c179e"
             ],
             [
              0.4444444444444444,
              "#bd3786"
             ],
             [
              0.5555555555555556,
              "#d8576b"
             ],
             [
              0.6666666666666666,
              "#ed7953"
             ],
             [
              0.7777777777777778,
              "#fb9f3a"
             ],
             [
              0.8888888888888888,
              "#fdca26"
             ],
             [
              1,
              "#f0f921"
             ]
            ],
            "type": "surface"
           }
          ],
          "table": [
           {
            "cells": {
             "fill": {
              "color": "#EBF0F8"
             },
             "line": {
              "color": "white"
             }
            },
            "header": {
             "fill": {
              "color": "#C8D4E3"
             },
             "line": {
              "color": "white"
             }
            },
            "type": "table"
           }
          ]
         },
         "layout": {
          "annotationdefaults": {
           "arrowcolor": "#2a3f5f",
           "arrowhead": 0,
           "arrowwidth": 1
          },
          "autotypenumbers": "strict",
          "coloraxis": {
           "colorbar": {
            "outlinewidth": 0,
            "ticks": ""
           }
          },
          "colorscale": {
           "diverging": [
            [
             0,
             "#8e0152"
            ],
            [
             0.1,
             "#c51b7d"
            ],
            [
             0.2,
             "#de77ae"
            ],
            [
             0.3,
             "#f1b6da"
            ],
            [
             0.4,
             "#fde0ef"
            ],
            [
             0.5,
             "#f7f7f7"
            ],
            [
             0.6,
             "#e6f5d0"
            ],
            [
             0.7,
             "#b8e186"
            ],
            [
             0.8,
             "#7fbc41"
            ],
            [
             0.9,
             "#4d9221"
            ],
            [
             1,
             "#276419"
            ]
           ],
           "sequential": [
            [
             0,
             "#0d0887"
            ],
            [
             0.1111111111111111,
             "#46039f"
            ],
            [
             0.2222222222222222,
             "#7201a8"
            ],
            [
             0.3333333333333333,
             "#9c179e"
            ],
            [
             0.4444444444444444,
             "#bd3786"
            ],
            [
             0.5555555555555556,
             "#d8576b"
            ],
            [
             0.6666666666666666,
             "#ed7953"
            ],
            [
             0.7777777777777778,
             "#fb9f3a"
            ],
            [
             0.8888888888888888,
             "#fdca26"
            ],
            [
             1,
             "#f0f921"
            ]
           ],
           "sequentialminus": [
            [
             0,
             "#0d0887"
            ],
            [
             0.1111111111111111,
             "#46039f"
            ],
            [
             0.2222222222222222,
             "#7201a8"
            ],
            [
             0.3333333333333333,
             "#9c179e"
            ],
            [
             0.4444444444444444,
             "#bd3786"
            ],
            [
             0.5555555555555556,
             "#d8576b"
            ],
            [
             0.6666666666666666,
             "#ed7953"
            ],
            [
             0.7777777777777778,
             "#fb9f3a"
            ],
            [
             0.8888888888888888,
             "#fdca26"
            ],
            [
             1,
             "#f0f921"
            ]
           ]
          },
          "colorway": [
           "#636efa",
           "#EF553B",
           "#00cc96",
           "#ab63fa",
           "#FFA15A",
           "#19d3f3",
           "#FF6692",
           "#B6E880",
           "#FF97FF",
           "#FECB52"
          ],
          "font": {
           "color": "#2a3f5f"
          },
          "geo": {
           "bgcolor": "white",
           "lakecolor": "white",
           "landcolor": "#E5ECF6",
           "showlakes": true,
           "showland": true,
           "subunitcolor": "white"
          },
          "hoverlabel": {
           "align": "left"
          },
          "hovermode": "closest",
          "mapbox": {
           "style": "light"
          },
          "paper_bgcolor": "white",
          "plot_bgcolor": "#E5ECF6",
          "polar": {
           "angularaxis": {
            "gridcolor": "white",
            "linecolor": "white",
            "ticks": ""
           },
           "bgcolor": "#E5ECF6",
           "radialaxis": {
            "gridcolor": "white",
            "linecolor": "white",
            "ticks": ""
           }
          },
          "scene": {
           "xaxis": {
            "backgroundcolor": "#E5ECF6",
            "gridcolor": "white",
            "gridwidth": 2,
            "linecolor": "white",
            "showbackground": true,
            "ticks": "",
            "zerolinecolor": "white"
           },
           "yaxis": {
            "backgroundcolor": "#E5ECF6",
            "gridcolor": "white",
            "gridwidth": 2,
            "linecolor": "white",
            "showbackground": true,
            "ticks": "",
            "zerolinecolor": "white"
           },
           "zaxis": {
            "backgroundcolor": "#E5ECF6",
            "gridcolor": "white",
            "gridwidth": 2,
            "linecolor": "white",
            "showbackground": true,
            "ticks": "",
            "zerolinecolor": "white"
           }
          },
          "shapedefaults": {
           "line": {
            "color": "#2a3f5f"
           }
          },
          "ternary": {
           "aaxis": {
            "gridcolor": "white",
            "linecolor": "white",
            "ticks": ""
           },
           "baxis": {
            "gridcolor": "white",
            "linecolor": "white",
            "ticks": ""
           },
           "bgcolor": "#E5ECF6",
           "caxis": {
            "gridcolor": "white",
            "linecolor": "white",
            "ticks": ""
           }
          },
          "title": {
           "x": 0.05
          },
          "xaxis": {
           "automargin": true,
           "gridcolor": "white",
           "linecolor": "white",
           "ticks": "",
           "title": {
            "standoff": 15
           },
           "zerolinecolor": "white",
           "zerolinewidth": 2
          },
          "yaxis": {
           "automargin": true,
           "gridcolor": "white",
           "linecolor": "white",
           "ticks": "",
           "title": {
            "standoff": 15
           },
           "zerolinecolor": "white",
           "zerolinewidth": 2
          }
         }
        },
        "title": {
         "text": "Relationship between User Scores and Sales for PS4 Games"
        },
        "xaxis": {
         "anchor": "y",
         "domain": [
          0,
          1
         ],
         "title": {
          "text": "User Score"
         }
        },
        "yaxis": {
         "anchor": "x",
         "domain": [
          0,
          1
         ],
         "title": {
          "text": "Total Revenue"
         }
        }
       }
      }
     },
     "metadata": {},
     "output_type": "display_data"
    },
    {
     "data": {
      "application/vnd.plotly.v1+json": {
       "config": {
        "plotlyServerURL": "https://plot.ly"
       },
       "data": [
        {
         "hovertemplate": "Critic Score=%{x}<br>User Score=%{y}<br>Total Revenue=%{marker.color}<extra></extra>",
         "legendgroup": "",
         "marker": {
          "color": [
           8.58,
           7.6000000000000005,
           7.17,
           5.39,
           4.62,
           4.470000000000001,
           4.07,
           3.9699999999999998,
           3.96,
           3.87,
           3.8,
           3.4200000000000004,
           3.3899999999999997,
           3.2399999999999998,
           2.78,
           2.48,
           2.2600000000000002,
           2.21,
           2.14,
           2.11,
           2.09,
           1.9200000000000002,
           1.8800000000000001,
           1.85,
           1.81,
           1.74,
           1.7200000000000002,
           1.6900000000000002,
           1.6600000000000001,
           1.6600000000000001,
           1.21,
           1.14,
           1.13,
           1.1,
           1.0799999999999998,
           0.9700000000000001,
           0.93,
           0.93,
           0.9,
           0.9,
           0.88,
           0.86,
           0.78,
           0.7600000000000001,
           0.73,
           0.73,
           0.71,
           0.7,
           0.67,
           0.64,
           0.63,
           0.6,
           0.54,
           0.51,
           0.49000000000000005,
           0.47000000000000003,
           0.45,
           0.43,
           0.42,
           0.4,
           0.39999999999999997,
           0.38999999999999996,
           0.38,
           0.38,
           0.37000000000000005,
           0.36000000000000004,
           0.36000000000000004,
           0.36,
           0.36,
           0.35000000000000003,
           0.34,
           0.34,
           0.34,
           0.33,
           0.32,
           0.31,
           0.3,
           0.3,
           0.3,
           0.29,
           0.27,
           0.26,
           0.26,
           0.26,
           0.25,
           0.23,
           0.23,
           0.2,
           0.2,
           0.19999999999999998,
           0.19999999999999998,
           0.19999999999999998,
           0.18,
           0.18,
           0.17,
           0.16999999999999998,
           0.16,
           0.15,
           0.14,
           0.13999999999999999,
           0.13999999999999999,
           0.13999999999999999,
           0.13999999999999999,
           0.13,
           0.13,
           0.13,
           0.12000000000000001,
           0.12000000000000001,
           0.12000000000000001,
           0.12,
           0.12,
           0.12,
           0.11,
           0.11,
           0.1,
           0.09999999999999999,
           0.09999999999999999,
           0.09000000000000001,
           0.09000000000000001,
           0.09,
           0.09,
           0.09,
           0.09,
           0.08,
           0.08,
           0.08,
           0.07,
           0.07,
           0.07,
           0.06999999999999999,
           0.06999999999999999,
           0.06999999999999999,
           0.06999999999999999,
           0.06999999999999999,
           0.06999999999999999,
           0.06999999999999999,
           0.06999999999999999,
           0.060000000000000005,
           0.060000000000000005,
           0.060000000000000005,
           0.060000000000000005,
           0.060000000000000005,
           0.05,
           0.05,
           0.05,
           0.05,
           0.05,
           0.05,
           0.05,
           0.05,
           0.05,
           0.05,
           0.04,
           0.04,
           0.04,
           0.04,
           0.04,
           0.04,
           0.03,
           0.03,
           0.03,
           0.03,
           0.02,
           0.02,
           0.02,
           0.02,
           0.02,
           0.02,
           0.02,
           0.02,
           0.02,
           0.02,
           0.02,
           0.02,
           0.01,
           0.01,
           0.01,
           0.01,
           0.01,
           0.01,
           0.01,
           0.01
          ],
          "coloraxis": "coloraxis",
          "size": [
           8.58,
           7.6000000000000005,
           7.17,
           5.39,
           4.62,
           4.470000000000001,
           4.07,
           3.9699999999999998,
           3.96,
           3.87,
           3.8,
           3.4200000000000004,
           3.3899999999999997,
           3.2399999999999998,
           2.78,
           2.48,
           2.2600000000000002,
           2.21,
           2.14,
           2.11,
           2.09,
           1.9200000000000002,
           1.8800000000000001,
           1.85,
           1.81,
           1.74,
           1.7200000000000002,
           1.6900000000000002,
           1.6600000000000001,
           1.6600000000000001,
           1.21,
           1.14,
           1.13,
           1.1,
           1.0799999999999998,
           0.9700000000000001,
           0.93,
           0.93,
           0.9,
           0.9,
           0.88,
           0.86,
           0.78,
           0.7600000000000001,
           0.73,
           0.73,
           0.71,
           0.7,
           0.67,
           0.64,
           0.63,
           0.6,
           0.54,
           0.51,
           0.49000000000000005,
           0.47000000000000003,
           0.45,
           0.43,
           0.42,
           0.4,
           0.39999999999999997,
           0.38999999999999996,
           0.38,
           0.38,
           0.37000000000000005,
           0.36000000000000004,
           0.36000000000000004,
           0.36,
           0.36,
           0.35000000000000003,
           0.34,
           0.34,
           0.34,
           0.33,
           0.32,
           0.31,
           0.3,
           0.3,
           0.3,
           0.29,
           0.27,
           0.26,
           0.26,
           0.26,
           0.25,
           0.23,
           0.23,
           0.2,
           0.2,
           0.19999999999999998,
           0.19999999999999998,
           0.19999999999999998,
           0.18,
           0.18,
           0.17,
           0.16999999999999998,
           0.16,
           0.15,
           0.14,
           0.13999999999999999,
           0.13999999999999999,
           0.13999999999999999,
           0.13999999999999999,
           0.13,
           0.13,
           0.13,
           0.12000000000000001,
           0.12000000000000001,
           0.12000000000000001,
           0.12,
           0.12,
           0.12,
           0.11,
           0.11,
           0.1,
           0.09999999999999999,
           0.09999999999999999,
           0.09000000000000001,
           0.09000000000000001,
           0.09,
           0.09,
           0.09,
           0.09,
           0.08,
           0.08,
           0.08,
           0.07,
           0.07,
           0.07,
           0.06999999999999999,
           0.06999999999999999,
           0.06999999999999999,
           0.06999999999999999,
           0.06999999999999999,
           0.06999999999999999,
           0.06999999999999999,
           0.06999999999999999,
           0.060000000000000005,
           0.060000000000000005,
           0.060000000000000005,
           0.060000000000000005,
           0.060000000000000005,
           0.05,
           0.05,
           0.05,
           0.05,
           0.05,
           0.05,
           0.05,
           0.05,
           0.05,
           0.05,
           0.04,
           0.04,
           0.04,
           0.04,
           0.04,
           0.04,
           0.03,
           0.03,
           0.03,
           0.03,
           0.02,
           0.02,
           0.02,
           0.02,
           0.02,
           0.02,
           0.02,
           0.02,
           0.02,
           0.02,
           0.02,
           0.02,
           0.01,
           0.01,
           0.01,
           0.01,
           0.01,
           0.01,
           0.01,
           0.01
          ],
          "sizemode": "area",
          "sizeref": 0.02145,
          "symbol": "circle"
         },
         "mode": "markers",
         "name": "",
         "orientation": "v",
         "showlegend": false,
         "type": "scatter",
         "x": [
          82,
          85,
          87,
          93,
          86,
          77,
          88,
          92,
          87,
          87,
          80,
          93,
          76,
          83,
          83,
          92,
          76,
          73,
          90,
          73,
          74,
          86,
          88,
          73,
          68,
          82,
          63,
          71,
          79,
          89,
          73,
          79,
          83,
          69,
          83,
          76,
          79,
          80,
          77,
          70,
          82,
          80,
          87,
          89,
          71,
          80,
          78,
          73,
          65,
          88,
          78,
          69,
          75,
          61,
          81,
          74,
          85,
          76,
          69,
          72,
          72,
          85,
          78,
          84,
          84,
          73,
          85,
          66,
          85,
          48,
          81,
          77,
          69,
          78,
          76,
          75,
          72,
          60,
          81,
          80,
          73,
          81,
          68,
          59,
          63,
          77,
          66,
          72,
          87,
          69,
          32,
          62,
          59,
          67,
          59,
          58,
          74,
          79,
          80,
          45,
          73,
          88,
          80,
          86,
          81,
          63,
          80,
          75,
          19,
          73,
          75,
          76,
          79,
          65,
          73,
          71,
          69,
          44,
          77,
          69,
          71,
          73,
          67,
          64,
          85,
          70,
          72,
          71,
          75,
          72,
          78,
          60,
          60,
          62,
          90,
          63,
          69,
          25,
          64,
          73,
          67,
          42,
          64,
          66,
          81,
          64,
          71,
          71,
          66,
          52,
          43,
          76,
          78,
          69,
          69,
          77,
          78,
          72,
          78,
          61,
          70,
          80,
          79,
          72,
          62,
          62,
          67,
          57,
          59,
          82,
          88,
          55,
          52,
          31,
          69,
          61,
          51,
          70,
          42,
          66,
          49,
          48
         ],
         "xaxis": "x",
         "y": [
          4.3,
          5,
          6.5,
          7.9,
          8.1,
          3.4,
          8.4,
          9.2,
          7.6,
          6.7,
          7,
          8.2,
          6.8,
          5.9,
          7.7,
          8.6,
          6.3,
          7.3,
          6.1,
          5,
          7.9,
          6,
          6.7,
          6.5,
          5.1,
          4.9,
          6.6,
          4.5,
          8.2,
          8.8,
          7.4,
          8.2,
          7.8,
          7.7,
          6.6,
          4.3,
          6.2,
          7.8,
          3.4,
          7,
          7.8,
          6.2,
          7.1,
          8.4,
          7,
          7.1,
          7.5,
          7.8,
          6.3,
          7.7,
          5.5,
          6.9,
          7.7,
          3.7,
          7.7,
          7.4,
          7.6,
          8,
          8.7,
          6.8,
          8,
          8.6,
          6.3,
          7.6,
          8.5,
          6.8,
          8.7,
          7.8,
          8.1,
          3.8,
          7.9,
          8.3,
          4.7,
          5.8,
          7.1,
          7.3,
          6.6,
          5.7,
          3.3,
          8.1,
          8.5,
          8.1,
          6.8,
          7.1,
          6.3,
          7.5,
          7,
          7.4,
          8.2,
          7.7,
          1.5,
          6.8,
          7.8,
          8,
          6.1,
          6.5,
          7.6,
          8.7,
          7.7,
          5.9,
          8.1,
          8,
          5.5,
          7.6,
          8.6,
          6.4,
          8.2,
          8.5,
          3.4,
          7.3,
          8.1,
          7.4,
          7.9,
          6.9,
          6.3,
          6.5,
          8,
          5.5,
          6.1,
          6.6,
          5.9,
          6.8,
          7.4,
          7.1,
          7.6,
          7.8,
          7.8,
          6.2,
          8,
          7.2,
          8.1,
          6.7,
          6.7,
          7.7,
          7.6,
          8.6,
          7.3,
          1.9,
          7.9,
          6.2,
          7.6,
          4.1,
          6.8,
          3.8,
          8.3,
          5.7,
          8,
          8.1,
          7,
          3.5,
          7.8,
          8,
          6.6,
          7.9,
          6.4,
          6.9,
          7.4,
          8.3,
          7.6,
          7.4,
          6.9,
          8,
          8.5,
          5.8,
          6.5,
          6.4,
          6.2,
          7.8,
          6.6,
          6.6,
          8.4,
          4.7,
          7.9,
          4.5,
          7.5,
          7.9,
          5.5,
          6.8,
          2.3,
          6.2,
          6,
          2
         ],
         "yaxis": "y"
        }
       ],
       "layout": {
        "coloraxis": {
         "colorbar": {
          "title": {
           "text": "Total Revenue"
          }
         },
         "colorscale": [
          [
           0,
           "#0d0887"
          ],
          [
           0.1111111111111111,
           "#46039f"
          ],
          [
           0.2222222222222222,
           "#7201a8"
          ],
          [
           0.3333333333333333,
           "#9c179e"
          ],
          [
           0.4444444444444444,
           "#bd3786"
          ],
          [
           0.5555555555555556,
           "#d8576b"
          ],
          [
           0.6666666666666666,
           "#ed7953"
          ],
          [
           0.7777777777777778,
           "#fb9f3a"
          ],
          [
           0.8888888888888888,
           "#fdca26"
          ],
          [
           1,
           "#f0f921"
          ]
         ]
        },
        "legend": {
         "itemsizing": "constant",
         "tracegroupgap": 0
        },
        "template": {
         "data": {
          "bar": [
           {
            "error_x": {
             "color": "#2a3f5f"
            },
            "error_y": {
             "color": "#2a3f5f"
            },
            "marker": {
             "line": {
              "color": "#E5ECF6",
              "width": 0.5
             },
             "pattern": {
              "fillmode": "overlay",
              "size": 10,
              "solidity": 0.2
             }
            },
            "type": "bar"
           }
          ],
          "barpolar": [
           {
            "marker": {
             "line": {
              "color": "#E5ECF6",
              "width": 0.5
             },
             "pattern": {
              "fillmode": "overlay",
              "size": 10,
              "solidity": 0.2
             }
            },
            "type": "barpolar"
           }
          ],
          "carpet": [
           {
            "aaxis": {
             "endlinecolor": "#2a3f5f",
             "gridcolor": "white",
             "linecolor": "white",
             "minorgridcolor": "white",
             "startlinecolor": "#2a3f5f"
            },
            "baxis": {
             "endlinecolor": "#2a3f5f",
             "gridcolor": "white",
             "linecolor": "white",
             "minorgridcolor": "white",
             "startlinecolor": "#2a3f5f"
            },
            "type": "carpet"
           }
          ],
          "choropleth": [
           {
            "colorbar": {
             "outlinewidth": 0,
             "ticks": ""
            },
            "type": "choropleth"
           }
          ],
          "contour": [
           {
            "colorbar": {
             "outlinewidth": 0,
             "ticks": ""
            },
            "colorscale": [
             [
              0,
              "#0d0887"
             ],
             [
              0.1111111111111111,
              "#46039f"
             ],
             [
              0.2222222222222222,
              "#7201a8"
             ],
             [
              0.3333333333333333,
              "#9c179e"
             ],
             [
              0.4444444444444444,
              "#bd3786"
             ],
             [
              0.5555555555555556,
              "#d8576b"
             ],
             [
              0.6666666666666666,
              "#ed7953"
             ],
             [
              0.7777777777777778,
              "#fb9f3a"
             ],
             [
              0.8888888888888888,
              "#fdca26"
             ],
             [
              1,
              "#f0f921"
             ]
            ],
            "type": "contour"
           }
          ],
          "contourcarpet": [
           {
            "colorbar": {
             "outlinewidth": 0,
             "ticks": ""
            },
            "type": "contourcarpet"
           }
          ],
          "heatmap": [
           {
            "colorbar": {
             "outlinewidth": 0,
             "ticks": ""
            },
            "colorscale": [
             [
              0,
              "#0d0887"
             ],
             [
              0.1111111111111111,
              "#46039f"
             ],
             [
              0.2222222222222222,
              "#7201a8"
             ],
             [
              0.3333333333333333,
              "#9c179e"
             ],
             [
              0.4444444444444444,
              "#bd3786"
             ],
             [
              0.5555555555555556,
              "#d8576b"
             ],
             [
              0.6666666666666666,
              "#ed7953"
             ],
             [
              0.7777777777777778,
              "#fb9f3a"
             ],
             [
              0.8888888888888888,
              "#fdca26"
             ],
             [
              1,
              "#f0f921"
             ]
            ],
            "type": "heatmap"
           }
          ],
          "heatmapgl": [
           {
            "colorbar": {
             "outlinewidth": 0,
             "ticks": ""
            },
            "colorscale": [
             [
              0,
              "#0d0887"
             ],
             [
              0.1111111111111111,
              "#46039f"
             ],
             [
              0.2222222222222222,
              "#7201a8"
             ],
             [
              0.3333333333333333,
              "#9c179e"
             ],
             [
              0.4444444444444444,
              "#bd3786"
             ],
             [
              0.5555555555555556,
              "#d8576b"
             ],
             [
              0.6666666666666666,
              "#ed7953"
             ],
             [
              0.7777777777777778,
              "#fb9f3a"
             ],
             [
              0.8888888888888888,
              "#fdca26"
             ],
             [
              1,
              "#f0f921"
             ]
            ],
            "type": "heatmapgl"
           }
          ],
          "histogram": [
           {
            "marker": {
             "pattern": {
              "fillmode": "overlay",
              "size": 10,
              "solidity": 0.2
             }
            },
            "type": "histogram"
           }
          ],
          "histogram2d": [
           {
            "colorbar": {
             "outlinewidth": 0,
             "ticks": ""
            },
            "colorscale": [
             [
              0,
              "#0d0887"
             ],
             [
              0.1111111111111111,
              "#46039f"
             ],
             [
              0.2222222222222222,
              "#7201a8"
             ],
             [
              0.3333333333333333,
              "#9c179e"
             ],
             [
              0.4444444444444444,
              "#bd3786"
             ],
             [
              0.5555555555555556,
              "#d8576b"
             ],
             [
              0.6666666666666666,
              "#ed7953"
             ],
             [
              0.7777777777777778,
              "#fb9f3a"
             ],
             [
              0.8888888888888888,
              "#fdca26"
             ],
             [
              1,
              "#f0f921"
             ]
            ],
            "type": "histogram2d"
           }
          ],
          "histogram2dcontour": [
           {
            "colorbar": {
             "outlinewidth": 0,
             "ticks": ""
            },
            "colorscale": [
             [
              0,
              "#0d0887"
             ],
             [
              0.1111111111111111,
              "#46039f"
             ],
             [
              0.2222222222222222,
              "#7201a8"
             ],
             [
              0.3333333333333333,
              "#9c179e"
             ],
             [
              0.4444444444444444,
              "#bd3786"
             ],
             [
              0.5555555555555556,
              "#d8576b"
             ],
             [
              0.6666666666666666,
              "#ed7953"
             ],
             [
              0.7777777777777778,
              "#fb9f3a"
             ],
             [
              0.8888888888888888,
              "#fdca26"
             ],
             [
              1,
              "#f0f921"
             ]
            ],
            "type": "histogram2dcontour"
           }
          ],
          "mesh3d": [
           {
            "colorbar": {
             "outlinewidth": 0,
             "ticks": ""
            },
            "type": "mesh3d"
           }
          ],
          "parcoords": [
           {
            "line": {
             "colorbar": {
              "outlinewidth": 0,
              "ticks": ""
             }
            },
            "type": "parcoords"
           }
          ],
          "pie": [
           {
            "automargin": true,
            "type": "pie"
           }
          ],
          "scatter": [
           {
            "fillpattern": {
             "fillmode": "overlay",
             "size": 10,
             "solidity": 0.2
            },
            "type": "scatter"
           }
          ],
          "scatter3d": [
           {
            "line": {
             "colorbar": {
              "outlinewidth": 0,
              "ticks": ""
             }
            },
            "marker": {
             "colorbar": {
              "outlinewidth": 0,
              "ticks": ""
             }
            },
            "type": "scatter3d"
           }
          ],
          "scattercarpet": [
           {
            "marker": {
             "colorbar": {
              "outlinewidth": 0,
              "ticks": ""
             }
            },
            "type": "scattercarpet"
           }
          ],
          "scattergeo": [
           {
            "marker": {
             "colorbar": {
              "outlinewidth": 0,
              "ticks": ""
             }
            },
            "type": "scattergeo"
           }
          ],
          "scattergl": [
           {
            "marker": {
             "colorbar": {
              "outlinewidth": 0,
              "ticks": ""
             }
            },
            "type": "scattergl"
           }
          ],
          "scattermapbox": [
           {
            "marker": {
             "colorbar": {
              "outlinewidth": 0,
              "ticks": ""
             }
            },
            "type": "scattermapbox"
           }
          ],
          "scatterpolar": [
           {
            "marker": {
             "colorbar": {
              "outlinewidth": 0,
              "ticks": ""
             }
            },
            "type": "scatterpolar"
           }
          ],
          "scatterpolargl": [
           {
            "marker": {
             "colorbar": {
              "outlinewidth": 0,
              "ticks": ""
             }
            },
            "type": "scatterpolargl"
           }
          ],
          "scatterternary": [
           {
            "marker": {
             "colorbar": {
              "outlinewidth": 0,
              "ticks": ""
             }
            },
            "type": "scatterternary"
           }
          ],
          "surface": [
           {
            "colorbar": {
             "outlinewidth": 0,
             "ticks": ""
            },
            "colorscale": [
             [
              0,
              "#0d0887"
             ],
             [
              0.1111111111111111,
              "#46039f"
             ],
             [
              0.2222222222222222,
              "#7201a8"
             ],
             [
              0.3333333333333333,
              "#9c179e"
             ],
             [
              0.4444444444444444,
              "#bd3786"
             ],
             [
              0.5555555555555556,
              "#d8576b"
             ],
             [
              0.6666666666666666,
              "#ed7953"
             ],
             [
              0.7777777777777778,
              "#fb9f3a"
             ],
             [
              0.8888888888888888,
              "#fdca26"
             ],
             [
              1,
              "#f0f921"
             ]
            ],
            "type": "surface"
           }
          ],
          "table": [
           {
            "cells": {
             "fill": {
              "color": "#EBF0F8"
             },
             "line": {
              "color": "white"
             }
            },
            "header": {
             "fill": {
              "color": "#C8D4E3"
             },
             "line": {
              "color": "white"
             }
            },
            "type": "table"
           }
          ]
         },
         "layout": {
          "annotationdefaults": {
           "arrowcolor": "#2a3f5f",
           "arrowhead": 0,
           "arrowwidth": 1
          },
          "autotypenumbers": "strict",
          "coloraxis": {
           "colorbar": {
            "outlinewidth": 0,
            "ticks": ""
           }
          },
          "colorscale": {
           "diverging": [
            [
             0,
             "#8e0152"
            ],
            [
             0.1,
             "#c51b7d"
            ],
            [
             0.2,
             "#de77ae"
            ],
            [
             0.3,
             "#f1b6da"
            ],
            [
             0.4,
             "#fde0ef"
            ],
            [
             0.5,
             "#f7f7f7"
            ],
            [
             0.6,
             "#e6f5d0"
            ],
            [
             0.7,
             "#b8e186"
            ],
            [
             0.8,
             "#7fbc41"
            ],
            [
             0.9,
             "#4d9221"
            ],
            [
             1,
             "#276419"
            ]
           ],
           "sequential": [
            [
             0,
             "#0d0887"
            ],
            [
             0.1111111111111111,
             "#46039f"
            ],
            [
             0.2222222222222222,
             "#7201a8"
            ],
            [
             0.3333333333333333,
             "#9c179e"
            ],
            [
             0.4444444444444444,
             "#bd3786"
            ],
            [
             0.5555555555555556,
             "#d8576b"
            ],
            [
             0.6666666666666666,
             "#ed7953"
            ],
            [
             0.7777777777777778,
             "#fb9f3a"
            ],
            [
             0.8888888888888888,
             "#fdca26"
            ],
            [
             1,
             "#f0f921"
            ]
           ],
           "sequentialminus": [
            [
             0,
             "#0d0887"
            ],
            [
             0.1111111111111111,
             "#46039f"
            ],
            [
             0.2222222222222222,
             "#7201a8"
            ],
            [
             0.3333333333333333,
             "#9c179e"
            ],
            [
             0.4444444444444444,
             "#bd3786"
            ],
            [
             0.5555555555555556,
             "#d8576b"
            ],
            [
             0.6666666666666666,
             "#ed7953"
            ],
            [
             0.7777777777777778,
             "#fb9f3a"
            ],
            [
             0.8888888888888888,
             "#fdca26"
            ],
            [
             1,
             "#f0f921"
            ]
           ]
          },
          "colorway": [
           "#636efa",
           "#EF553B",
           "#00cc96",
           "#ab63fa",
           "#FFA15A",
           "#19d3f3",
           "#FF6692",
           "#B6E880",
           "#FF97FF",
           "#FECB52"
          ],
          "font": {
           "color": "#2a3f5f"
          },
          "geo": {
           "bgcolor": "white",
           "lakecolor": "white",
           "landcolor": "#E5ECF6",
           "showlakes": true,
           "showland": true,
           "subunitcolor": "white"
          },
          "hoverlabel": {
           "align": "left"
          },
          "hovermode": "closest",
          "mapbox": {
           "style": "light"
          },
          "paper_bgcolor": "white",
          "plot_bgcolor": "#E5ECF6",
          "polar": {
           "angularaxis": {
            "gridcolor": "white",
            "linecolor": "white",
            "ticks": ""
           },
           "bgcolor": "#E5ECF6",
           "radialaxis": {
            "gridcolor": "white",
            "linecolor": "white",
            "ticks": ""
           }
          },
          "scene": {
           "xaxis": {
            "backgroundcolor": "#E5ECF6",
            "gridcolor": "white",
            "gridwidth": 2,
            "linecolor": "white",
            "showbackground": true,
            "ticks": "",
            "zerolinecolor": "white"
           },
           "yaxis": {
            "backgroundcolor": "#E5ECF6",
            "gridcolor": "white",
            "gridwidth": 2,
            "linecolor": "white",
            "showbackground": true,
            "ticks": "",
            "zerolinecolor": "white"
           },
           "zaxis": {
            "backgroundcolor": "#E5ECF6",
            "gridcolor": "white",
            "gridwidth": 2,
            "linecolor": "white",
            "showbackground": true,
            "ticks": "",
            "zerolinecolor": "white"
           }
          },
          "shapedefaults": {
           "line": {
            "color": "#2a3f5f"
           }
          },
          "ternary": {
           "aaxis": {
            "gridcolor": "white",
            "linecolor": "white",
            "ticks": ""
           },
           "baxis": {
            "gridcolor": "white",
            "linecolor": "white",
            "ticks": ""
           },
           "bgcolor": "#E5ECF6",
           "caxis": {
            "gridcolor": "white",
            "linecolor": "white",
            "ticks": ""
           }
          },
          "title": {
           "x": 0.05
          },
          "xaxis": {
           "automargin": true,
           "gridcolor": "white",
           "linecolor": "white",
           "ticks": "",
           "title": {
            "standoff": 15
           },
           "zerolinecolor": "white",
           "zerolinewidth": 2
          },
          "yaxis": {
           "automargin": true,
           "gridcolor": "white",
           "linecolor": "white",
           "ticks": "",
           "title": {
            "standoff": 15
           },
           "zerolinecolor": "white",
           "zerolinewidth": 2
          }
         }
        },
        "title": {
         "text": "Relationship between Reviews and Sales for PS4 Games"
        },
        "xaxis": {
         "anchor": "y",
         "domain": [
          0,
          1
         ],
         "title": {
          "text": "Critic Score"
         }
        },
        "yaxis": {
         "anchor": "x",
         "domain": [
          0,
          1
         ],
         "title": {
          "text": "User Score"
         }
        }
       }
      }
     },
     "metadata": {},
     "output_type": "display_data"
    }
   ],
   "source": [
    "# Look at how user and professional reviews affect sales for one popular platform \n",
    "# Group data for one latest platforms by critic_score and user_score, make sure to ignore '-1' placeholders\n",
    "ps4_data = relevant_platforms[relevant_platforms['platform']== 'PS4']\n",
    "ps4_data = ps4_data[(ps4_data['user_score'] != -1) & (ps4_data['critic_score'] != -1)]\n",
    "\n",
    "\n",
    "# Create scatter plots for critic scores and user scores\n",
    "scatter_critic = px.scatter(ps4_data, x='critic_score', y='total_revenue', \n",
    "                            title='Relationship between Critic Scores and Sales for PS4 Games',\n",
    "                            labels={'critic_score': 'Critic Score', 'total_revenue': 'Total Revenue'})\n",
    "\n",
    "scatter_user = px.scatter(ps4_data, x='user_score', y='total_revenue', \n",
    "                          title='Relationship between User Scores and Sales for PS4 Games',\n",
    "                          labels={'user_score': 'User Score', 'total_revenue': 'Total Revenue'})\n",
    "\n",
    "# Create a scatter plot including both critic scores and user scores\n",
    "combined_scatter = px.scatter(ps4_data, x='critic_score', y='user_score', \n",
    "                              color='total_revenue', size='total_revenue', \n",
    "                              title='Relationship between Reviews and Sales for PS4 Games',\n",
    "                              labels={'critic_score': 'Critic Score', 'user_score': 'User Score', \n",
    "                                      'total_revenue': 'Total Revenue'})\n",
    "\n",
    "# Show all scatter plots \n",
    "scatter_critic.show()\n",
    "scatter_user.show()\n",
    "combined_scatter.show()"
   ]
  },
  {
   "cell_type": "markdown",
   "metadata": {},
   "source": [
    "**Distribution of Critic Scores:**\n",
    "Most data points fall within the range of 60-90 for critic scores.\n",
    "There is a notable concentration of data points around these values, indicating common scores assigned by critics.\n",
    "Impact of Critic Scores on Sales:\n",
    "The lowest critic score of 19 corresponds to a relatively low revenue of 0.12. However, there are instances of low revenue even with higher critic scores.\n",
    "- Critic score alone does not appear to be a strong predictor of revenue, as there are instances of both low and high revenue across a range of critic scores.\n",
    "- All of the highest revenue values are associated with the highest critic scores, indicating a trend of higher sales for games with exceptional critic ratings.\n",
    "\n",
    "Threshold for High Revenue:\n",
    "- There are no instances of very high revenue for games with critic scores below 73. However, critic scores above 75 tend to vary from low revenue to very high revenue.\n",
    "\n",
    "**Distribution of User Scores:**\n",
    "Most data points are concentrated within the range of user scores 5-9, indicating common scores by users.\n",
    "There is a notable scattering of data points across the range of user scores, suggesting a wider variation compared to critic scores.\n",
    "\n",
    "Impact of User Scores on Sales:\n",
    "- Low user scores generally appear to be associated with lower revenue, but there are instances of high revenue even with low user scores, indicating that user score alone may not be a strong predictor of sales.\n",
    "- The majority of data points are closer to the x-axis, indicating lower revenue, but there are numerous outliers with higher revenue values.\n",
    "\n",
    "Outliers and High Revenue:\n",
    "- High outliers in revenue are observed across a range of user scores, from approximately 3.4 to 9.2. These outliers include instances of both relatively low and high user scores, suggesting that exceptionally high revenue can occur regardless of user score.\n",
    "\n",
    "**Distribution of User Scores and Critic Scores** \n",
    "The plasma color gradient, ranging from dark blue or purple to bright yellow, represents the range of total revenue values. Darker colors indicate lower revenue values, while brighter colors represent higher revenue values. \n",
    "- Larger dots represent combinations of critic and user scores where more games have been rated.\n",
    "- Smaller dots indicate combinations of critic and user scores where fewer games have been rated.\n",
    "\n",
    "Distribution of Critic and User Scores:\n",
    "- Most data points are clustered within the ranges of critic scores 60-93 and user scores 3.4-9.2, indicating common ratings assigned by critics and users.\n",
    "\n",
    "- The highest revenue data point corresponds to a user score of 4.3 and a critic score of 82, with a total revenue of 8.58. - The second-highest revenue data point has a critic score of 87, user score of 6.5, and total revenue of 7.17.\n",
    "\n",
    "Outliers and Low Revenue:\n",
    "- There are outliers with lower revenue values present across the plot, indicating instances of games with exceptional performance or lower sales.\n",
    "- The area around critic scores 60-70 appears to have more instances of higher user scores."
   ]
  },
  {
   "cell_type": "code",
   "execution_count": 66,
   "metadata": {},
   "outputs": [
    {
     "name": "stdout",
     "output_type": "stream",
     "text": [
      "Correlation between Critic Score and Total Revenue: 0.3920741369660571\n",
      "Correlation between User Score and Total Revenue: -0.06436843081030283\n"
     ]
    }
   ],
   "source": [
    "# Calculate the correlation between critic scores and total revenue\n",
    "print(\"Correlation between Critic Score and Total Revenue:\", ps4_data['critic_score'].corr(ps4_data['total_revenue']))\n",
    "\n",
    "# Calculate the correlation between user scores and total revenue\n",
    "print(\"Correlation between User Score and Total Revenue:\", ps4_data['user_score'].corr(ps4_data['total_revenue']))"
   ]
  },
  {
   "cell_type": "markdown",
   "metadata": {},
   "source": [
    "Critic Score: The correlation coefficient of 0.39 suggests a slightly positive correlation between critic scores and total revenue. \n",
    "\n",
    "User Score: The correlation coefficient of  -0.06 suggests a weak negative correlation between user scores and total revenue. \n",
    "\n",
    "Based on these correlation coefficients, it appears that critic scores have a more notable influence on total revenue compared to user scores for PS4 games. "
   ]
  },
  {
   "cell_type": "markdown",
   "metadata": {},
   "source": [
    "### Relationship between Sales and Platform by Game"
   ]
  },
  {
   "cell_type": "code",
   "execution_count": 67,
   "metadata": {},
   "outputs": [
    {
     "data": {
      "text/html": [
       "<div>\n",
       "<style scoped>\n",
       "    .dataframe tbody tr th:only-of-type {\n",
       "        vertical-align: middle;\n",
       "    }\n",
       "\n",
       "    .dataframe tbody tr th {\n",
       "        vertical-align: top;\n",
       "    }\n",
       "\n",
       "    .dataframe thead th {\n",
       "        text-align: right;\n",
       "    }\n",
       "</style>\n",
       "<table border=\"1\" class=\"dataframe\">\n",
       "  <thead>\n",
       "    <tr style=\"text-align: right;\">\n",
       "      <th>platform</th>\n",
       "      <th>3DS</th>\n",
       "      <th>PC</th>\n",
       "      <th>PS3</th>\n",
       "      <th>PS4</th>\n",
       "      <th>PSP</th>\n",
       "      <th>PSV</th>\n",
       "      <th>Wii</th>\n",
       "      <th>WiiU</th>\n",
       "      <th>X360</th>\n",
       "      <th>XOne</th>\n",
       "      <th>Total</th>\n",
       "    </tr>\n",
       "    <tr>\n",
       "      <th>name</th>\n",
       "      <th></th>\n",
       "      <th></th>\n",
       "      <th></th>\n",
       "      <th></th>\n",
       "      <th></th>\n",
       "      <th></th>\n",
       "      <th></th>\n",
       "      <th></th>\n",
       "      <th></th>\n",
       "      <th></th>\n",
       "      <th></th>\n",
       "    </tr>\n",
       "  </thead>\n",
       "  <tbody>\n",
       "    <tr>\n",
       "      <th>Call of Duty: Black Ops 3</th>\n",
       "      <td>0.00</td>\n",
       "      <td>0.26</td>\n",
       "      <td>1.69</td>\n",
       "      <td>14.63</td>\n",
       "      <td>0.0</td>\n",
       "      <td>0.0</td>\n",
       "      <td>0.0</td>\n",
       "      <td>0.0</td>\n",
       "      <td>1.70</td>\n",
       "      <td>7.39</td>\n",
       "      <td>25.67</td>\n",
       "    </tr>\n",
       "    <tr>\n",
       "      <th>FIFA 16</th>\n",
       "      <td>0.00</td>\n",
       "      <td>0.20</td>\n",
       "      <td>2.70</td>\n",
       "      <td>8.58</td>\n",
       "      <td>0.0</td>\n",
       "      <td>0.0</td>\n",
       "      <td>0.0</td>\n",
       "      <td>0.0</td>\n",
       "      <td>1.57</td>\n",
       "      <td>3.25</td>\n",
       "      <td>16.30</td>\n",
       "    </tr>\n",
       "    <tr>\n",
       "      <th>Fallout 4</th>\n",
       "      <td>0.00</td>\n",
       "      <td>1.28</td>\n",
       "      <td>0.00</td>\n",
       "      <td>7.17</td>\n",
       "      <td>0.0</td>\n",
       "      <td>0.0</td>\n",
       "      <td>0.0</td>\n",
       "      <td>0.0</td>\n",
       "      <td>0.00</td>\n",
       "      <td>4.22</td>\n",
       "      <td>12.67</td>\n",
       "    </tr>\n",
       "    <tr>\n",
       "      <th>Star Wars Battlefront (2015)</th>\n",
       "      <td>0.00</td>\n",
       "      <td>0.55</td>\n",
       "      <td>0.00</td>\n",
       "      <td>7.98</td>\n",
       "      <td>0.0</td>\n",
       "      <td>0.0</td>\n",
       "      <td>0.0</td>\n",
       "      <td>0.0</td>\n",
       "      <td>0.00</td>\n",
       "      <td>3.66</td>\n",
       "      <td>12.19</td>\n",
       "    </tr>\n",
       "    <tr>\n",
       "      <th>FIFA 17</th>\n",
       "      <td>0.00</td>\n",
       "      <td>0.12</td>\n",
       "      <td>0.73</td>\n",
       "      <td>7.60</td>\n",
       "      <td>0.0</td>\n",
       "      <td>0.0</td>\n",
       "      <td>0.0</td>\n",
       "      <td>0.0</td>\n",
       "      <td>0.38</td>\n",
       "      <td>2.65</td>\n",
       "      <td>11.48</td>\n",
       "    </tr>\n",
       "    <tr>\n",
       "      <th>NBA 2K16</th>\n",
       "      <td>0.00</td>\n",
       "      <td>0.10</td>\n",
       "      <td>0.73</td>\n",
       "      <td>3.87</td>\n",
       "      <td>0.0</td>\n",
       "      <td>0.0</td>\n",
       "      <td>0.0</td>\n",
       "      <td>0.0</td>\n",
       "      <td>0.94</td>\n",
       "      <td>2.34</td>\n",
       "      <td>7.98</td>\n",
       "    </tr>\n",
       "    <tr>\n",
       "      <th>Madden NFL 16</th>\n",
       "      <td>0.00</td>\n",
       "      <td>0.00</td>\n",
       "      <td>0.77</td>\n",
       "      <td>3.24</td>\n",
       "      <td>0.0</td>\n",
       "      <td>0.0</td>\n",
       "      <td>0.0</td>\n",
       "      <td>0.0</td>\n",
       "      <td>0.97</td>\n",
       "      <td>2.42</td>\n",
       "      <td>7.40</td>\n",
       "    </tr>\n",
       "    <tr>\n",
       "      <th>Pokemon Sun/Moon</th>\n",
       "      <td>7.14</td>\n",
       "      <td>0.00</td>\n",
       "      <td>0.00</td>\n",
       "      <td>0.00</td>\n",
       "      <td>0.0</td>\n",
       "      <td>0.0</td>\n",
       "      <td>0.0</td>\n",
       "      <td>0.0</td>\n",
       "      <td>0.00</td>\n",
       "      <td>0.00</td>\n",
       "      <td>7.14</td>\n",
       "    </tr>\n",
       "    <tr>\n",
       "      <th>Call of Duty: Infinite Warfare</th>\n",
       "      <td>0.00</td>\n",
       "      <td>0.13</td>\n",
       "      <td>0.00</td>\n",
       "      <td>4.47</td>\n",
       "      <td>0.0</td>\n",
       "      <td>0.0</td>\n",
       "      <td>0.0</td>\n",
       "      <td>0.0</td>\n",
       "      <td>0.00</td>\n",
       "      <td>2.42</td>\n",
       "      <td>7.02</td>\n",
       "    </tr>\n",
       "    <tr>\n",
       "      <th>Battlefield 1</th>\n",
       "      <td>0.00</td>\n",
       "      <td>0.38</td>\n",
       "      <td>0.00</td>\n",
       "      <td>4.07</td>\n",
       "      <td>0.0</td>\n",
       "      <td>0.0</td>\n",
       "      <td>0.0</td>\n",
       "      <td>0.0</td>\n",
       "      <td>0.00</td>\n",
       "      <td>2.25</td>\n",
       "      <td>6.70</td>\n",
       "    </tr>\n",
       "  </tbody>\n",
       "</table>\n",
       "</div>"
      ],
      "text/plain": [
       "platform                         3DS    PC   PS3    PS4  PSP  PSV  Wii  WiiU  \\\n",
       "name                                                                           \n",
       "Call of Duty: Black Ops 3       0.00  0.26  1.69  14.63  0.0  0.0  0.0   0.0   \n",
       "FIFA 16                         0.00  0.20  2.70   8.58  0.0  0.0  0.0   0.0   \n",
       "Fallout 4                       0.00  1.28  0.00   7.17  0.0  0.0  0.0   0.0   \n",
       "Star Wars Battlefront (2015)    0.00  0.55  0.00   7.98  0.0  0.0  0.0   0.0   \n",
       "FIFA 17                         0.00  0.12  0.73   7.60  0.0  0.0  0.0   0.0   \n",
       "NBA 2K16                        0.00  0.10  0.73   3.87  0.0  0.0  0.0   0.0   \n",
       "Madden NFL 16                   0.00  0.00  0.77   3.24  0.0  0.0  0.0   0.0   \n",
       "Pokemon Sun/Moon                7.14  0.00  0.00   0.00  0.0  0.0  0.0   0.0   \n",
       "Call of Duty: Infinite Warfare  0.00  0.13  0.00   4.47  0.0  0.0  0.0   0.0   \n",
       "Battlefield 1                   0.00  0.38  0.00   4.07  0.0  0.0  0.0   0.0   \n",
       "\n",
       "platform                        X360  XOne  Total  \n",
       "name                                               \n",
       "Call of Duty: Black Ops 3       1.70  7.39  25.67  \n",
       "FIFA 16                         1.57  3.25  16.30  \n",
       "Fallout 4                       0.00  4.22  12.67  \n",
       "Star Wars Battlefront (2015)    0.00  3.66  12.19  \n",
       "FIFA 17                         0.38  2.65  11.48  \n",
       "NBA 2K16                        0.94  2.34   7.98  \n",
       "Madden NFL 16                   0.97  2.42   7.40  \n",
       "Pokemon Sun/Moon                0.00  0.00   7.14  \n",
       "Call of Duty: Infinite Warfare  0.00  2.42   7.02  \n",
       "Battlefield 1                   0.00  2.25   6.70  "
      ]
     },
     "execution_count": 67,
     "metadata": {},
     "output_type": "execute_result"
    }
   ],
   "source": [
    "# Keeping your conclusions in mind, compare the sales of the same games on other platforms.\n",
    "same_games = relevant_platforms.pivot_table(index='name', columns='platform', values='total_revenue', aggfunc='sum', fill_value=0)\n",
    "\n",
    "# Calculate the total revenue per game across all platforms\n",
    "same_games['Total'] = same_games.sum(axis=1)\n",
    "\n",
    "# Sort by total revenue and get the top 10 games with the highest total revenue\n",
    "top_10_games = same_games.sort_values(by='Total', ascending=False).head(10)\n",
    "\n",
    "top_10_games"
   ]
  },
  {
   "cell_type": "markdown",
   "metadata": {},
   "source": [
    "The table above shows the top 10 games that brought in the most revenue across all platforms.\n",
    "\n",
    "What speaks to me most from this data is the obvious trends of zeros between a few specific  PSP, PSV Wii and WiiU, followed by an almost entirely zeroed out column for 3DS. These zeros illustrate that the top performing games are most commonly found across these platforms:\n",
    "\n",
    "- PS4\n",
    "- XOne\n",
    "- X360\n",
    "- PS3\n",
    "- PC \n",
    "\n",
    "Just by viewing the titles, the trend continues: Shooters/Action/ Sports games appear to be the most popular, bring in the most revenue and are specifically available across the above platforms for a reason. \n",
    "\n"
   ]
  },
  {
   "cell_type": "code",
   "execution_count": 68,
   "metadata": {},
   "outputs": [
    {
     "data": {
      "application/vnd.plotly.v1+json": {
       "config": {
        "plotlyServerURL": "https://plot.ly"
       },
       "data": [
        {
         "alignmentgroup": "True",
         "hovertemplate": "Platform=3DS<br>Total Revenue (USD Millions)=%{x}<br>Game=%{y}<extra></extra>",
         "legendgroup": "3DS",
         "marker": {
          "color": "#636efa",
          "pattern": {
           "shape": ""
          }
         },
         "name": "3DS",
         "offsetgroup": "3DS",
         "orientation": "h",
         "showlegend": true,
         "textposition": "auto",
         "type": "bar",
         "x": [
          0,
          0,
          7.14,
          0,
          0,
          0,
          0,
          0,
          0,
          0
         ],
         "xaxis": "x",
         "y": [
          "Battlefield 1",
          "Call of Duty: Infinite Warfare",
          "Pokemon Sun/Moon",
          "Madden NFL 16",
          "NBA 2K16",
          "FIFA 17",
          "Star Wars Battlefront (2015)",
          "Fallout 4",
          "FIFA 16",
          "Call of Duty: Black Ops 3"
         ],
         "yaxis": "y"
        },
        {
         "alignmentgroup": "True",
         "hovertemplate": "Platform=PC<br>Total Revenue (USD Millions)=%{x}<br>Game=%{y}<extra></extra>",
         "legendgroup": "PC",
         "marker": {
          "color": "#EF553B",
          "pattern": {
           "shape": ""
          }
         },
         "name": "PC",
         "offsetgroup": "PC",
         "orientation": "h",
         "showlegend": true,
         "textposition": "auto",
         "type": "bar",
         "x": [
          0.38,
          0.13,
          0,
          0,
          0.09999999999999999,
          0.12,
          0.55,
          1.2800000000000002,
          0.2,
          0.26
         ],
         "xaxis": "x",
         "y": [
          "Battlefield 1",
          "Call of Duty: Infinite Warfare",
          "Pokemon Sun/Moon",
          "Madden NFL 16",
          "NBA 2K16",
          "FIFA 17",
          "Star Wars Battlefront (2015)",
          "Fallout 4",
          "FIFA 16",
          "Call of Duty: Black Ops 3"
         ],
         "yaxis": "y"
        },
        {
         "alignmentgroup": "True",
         "hovertemplate": "Platform=PS3<br>Total Revenue (USD Millions)=%{x}<br>Game=%{y}<extra></extra>",
         "legendgroup": "PS3",
         "marker": {
          "color": "#00cc96",
          "pattern": {
           "shape": ""
          }
         },
         "name": "PS3",
         "offsetgroup": "PS3",
         "orientation": "h",
         "showlegend": true,
         "textposition": "auto",
         "type": "bar",
         "x": [
          0,
          0,
          0,
          0.7699999999999999,
          0.7300000000000001,
          0.7300000000000001,
          0,
          0,
          2.6999999999999997,
          1.69
         ],
         "xaxis": "x",
         "y": [
          "Battlefield 1",
          "Call of Duty: Infinite Warfare",
          "Pokemon Sun/Moon",
          "Madden NFL 16",
          "NBA 2K16",
          "FIFA 17",
          "Star Wars Battlefront (2015)",
          "Fallout 4",
          "FIFA 16",
          "Call of Duty: Black Ops 3"
         ],
         "yaxis": "y"
        },
        {
         "alignmentgroup": "True",
         "hovertemplate": "Platform=PS4<br>Total Revenue (USD Millions)=%{x}<br>Game=%{y}<extra></extra>",
         "legendgroup": "PS4",
         "marker": {
          "color": "#ab63fa",
          "pattern": {
           "shape": ""
          }
         },
         "name": "PS4",
         "offsetgroup": "PS4",
         "orientation": "h",
         "showlegend": true,
         "textposition": "auto",
         "type": "bar",
         "x": [
          4.07,
          4.470000000000001,
          0,
          3.2399999999999998,
          3.87,
          7.6000000000000005,
          7.98,
          7.17,
          8.58,
          14.629999999999999
         ],
         "xaxis": "x",
         "y": [
          "Battlefield 1",
          "Call of Duty: Infinite Warfare",
          "Pokemon Sun/Moon",
          "Madden NFL 16",
          "NBA 2K16",
          "FIFA 17",
          "Star Wars Battlefront (2015)",
          "Fallout 4",
          "FIFA 16",
          "Call of Duty: Black Ops 3"
         ],
         "yaxis": "y"
        },
        {
         "alignmentgroup": "True",
         "hovertemplate": "Platform=PSP<br>Total Revenue (USD Millions)=%{x}<br>Game=%{y}<extra></extra>",
         "legendgroup": "PSP",
         "marker": {
          "color": "#FFA15A",
          "pattern": {
           "shape": ""
          }
         },
         "name": "PSP",
         "offsetgroup": "PSP",
         "orientation": "h",
         "showlegend": true,
         "textposition": "auto",
         "type": "bar",
         "x": [
          0,
          0,
          0,
          0,
          0,
          0,
          0,
          0,
          0,
          0
         ],
         "xaxis": "x",
         "y": [
          "Battlefield 1",
          "Call of Duty: Infinite Warfare",
          "Pokemon Sun/Moon",
          "Madden NFL 16",
          "NBA 2K16",
          "FIFA 17",
          "Star Wars Battlefront (2015)",
          "Fallout 4",
          "FIFA 16",
          "Call of Duty: Black Ops 3"
         ],
         "yaxis": "y"
        },
        {
         "alignmentgroup": "True",
         "hovertemplate": "Platform=PSV<br>Total Revenue (USD Millions)=%{x}<br>Game=%{y}<extra></extra>",
         "legendgroup": "PSV",
         "marker": {
          "color": "#19d3f3",
          "pattern": {
           "shape": ""
          }
         },
         "name": "PSV",
         "offsetgroup": "PSV",
         "orientation": "h",
         "showlegend": true,
         "textposition": "auto",
         "type": "bar",
         "x": [
          0,
          0,
          0,
          0,
          0,
          0,
          0,
          0,
          0,
          0
         ],
         "xaxis": "x",
         "y": [
          "Battlefield 1",
          "Call of Duty: Infinite Warfare",
          "Pokemon Sun/Moon",
          "Madden NFL 16",
          "NBA 2K16",
          "FIFA 17",
          "Star Wars Battlefront (2015)",
          "Fallout 4",
          "FIFA 16",
          "Call of Duty: Black Ops 3"
         ],
         "yaxis": "y"
        },
        {
         "alignmentgroup": "True",
         "hovertemplate": "Platform=Wii<br>Total Revenue (USD Millions)=%{x}<br>Game=%{y}<extra></extra>",
         "legendgroup": "Wii",
         "marker": {
          "color": "#FF6692",
          "pattern": {
           "shape": ""
          }
         },
         "name": "Wii",
         "offsetgroup": "Wii",
         "orientation": "h",
         "showlegend": true,
         "textposition": "auto",
         "type": "bar",
         "x": [
          0,
          0,
          0,
          0,
          0,
          0,
          0,
          0,
          0,
          0
         ],
         "xaxis": "x",
         "y": [
          "Battlefield 1",
          "Call of Duty: Infinite Warfare",
          "Pokemon Sun/Moon",
          "Madden NFL 16",
          "NBA 2K16",
          "FIFA 17",
          "Star Wars Battlefront (2015)",
          "Fallout 4",
          "FIFA 16",
          "Call of Duty: Black Ops 3"
         ],
         "yaxis": "y"
        },
        {
         "alignmentgroup": "True",
         "hovertemplate": "Platform=WiiU<br>Total Revenue (USD Millions)=%{x}<br>Game=%{y}<extra></extra>",
         "legendgroup": "WiiU",
         "marker": {
          "color": "#B6E880",
          "pattern": {
           "shape": ""
          }
         },
         "name": "WiiU",
         "offsetgroup": "WiiU",
         "orientation": "h",
         "showlegend": true,
         "textposition": "auto",
         "type": "bar",
         "x": [
          0,
          0,
          0,
          0,
          0,
          0,
          0,
          0,
          0,
          0
         ],
         "xaxis": "x",
         "y": [
          "Battlefield 1",
          "Call of Duty: Infinite Warfare",
          "Pokemon Sun/Moon",
          "Madden NFL 16",
          "NBA 2K16",
          "FIFA 17",
          "Star Wars Battlefront (2015)",
          "Fallout 4",
          "FIFA 16",
          "Call of Duty: Black Ops 3"
         ],
         "yaxis": "y"
        },
        {
         "alignmentgroup": "True",
         "hovertemplate": "Platform=X360<br>Total Revenue (USD Millions)=%{x}<br>Game=%{y}<extra></extra>",
         "legendgroup": "X360",
         "marker": {
          "color": "#FF97FF",
          "pattern": {
           "shape": ""
          }
         },
         "name": "X360",
         "offsetgroup": "X360",
         "orientation": "h",
         "showlegend": true,
         "textposition": "auto",
         "type": "bar",
         "x": [
          0,
          0,
          0,
          0.97,
          0.9400000000000001,
          0.38,
          0,
          0,
          1.5699999999999998,
          1.7
         ],
         "xaxis": "x",
         "y": [
          "Battlefield 1",
          "Call of Duty: Infinite Warfare",
          "Pokemon Sun/Moon",
          "Madden NFL 16",
          "NBA 2K16",
          "FIFA 17",
          "Star Wars Battlefront (2015)",
          "Fallout 4",
          "FIFA 16",
          "Call of Duty: Black Ops 3"
         ],
         "yaxis": "y"
        },
        {
         "alignmentgroup": "True",
         "hovertemplate": "Platform=XOne<br>Total Revenue (USD Millions)=%{x}<br>Game=%{y}<extra></extra>",
         "legendgroup": "XOne",
         "marker": {
          "color": "#FECB52",
          "pattern": {
           "shape": ""
          }
         },
         "name": "XOne",
         "offsetgroup": "XOne",
         "orientation": "h",
         "showlegend": true,
         "textposition": "auto",
         "type": "bar",
         "x": [
          2.25,
          2.4200000000000004,
          0,
          2.42,
          2.34,
          2.65,
          3.66,
          4.22,
          3.25,
          7.389999999999999
         ],
         "xaxis": "x",
         "y": [
          "Battlefield 1",
          "Call of Duty: Infinite Warfare",
          "Pokemon Sun/Moon",
          "Madden NFL 16",
          "NBA 2K16",
          "FIFA 17",
          "Star Wars Battlefront (2015)",
          "Fallout 4",
          "FIFA 16",
          "Call of Duty: Black Ops 3"
         ],
         "yaxis": "y"
        }
       ],
       "layout": {
        "barmode": "relative",
        "legend": {
         "title": {
          "text": "Platform"
         },
         "tracegroupgap": 0
        },
        "template": {
         "data": {
          "bar": [
           {
            "error_x": {
             "color": "#2a3f5f"
            },
            "error_y": {
             "color": "#2a3f5f"
            },
            "marker": {
             "line": {
              "color": "#E5ECF6",
              "width": 0.5
             },
             "pattern": {
              "fillmode": "overlay",
              "size": 10,
              "solidity": 0.2
             }
            },
            "type": "bar"
           }
          ],
          "barpolar": [
           {
            "marker": {
             "line": {
              "color": "#E5ECF6",
              "width": 0.5
             },
             "pattern": {
              "fillmode": "overlay",
              "size": 10,
              "solidity": 0.2
             }
            },
            "type": "barpolar"
           }
          ],
          "carpet": [
           {
            "aaxis": {
             "endlinecolor": "#2a3f5f",
             "gridcolor": "white",
             "linecolor": "white",
             "minorgridcolor": "white",
             "startlinecolor": "#2a3f5f"
            },
            "baxis": {
             "endlinecolor": "#2a3f5f",
             "gridcolor": "white",
             "linecolor": "white",
             "minorgridcolor": "white",
             "startlinecolor": "#2a3f5f"
            },
            "type": "carpet"
           }
          ],
          "choropleth": [
           {
            "colorbar": {
             "outlinewidth": 0,
             "ticks": ""
            },
            "type": "choropleth"
           }
          ],
          "contour": [
           {
            "colorbar": {
             "outlinewidth": 0,
             "ticks": ""
            },
            "colorscale": [
             [
              0,
              "#0d0887"
             ],
             [
              0.1111111111111111,
              "#46039f"
             ],
             [
              0.2222222222222222,
              "#7201a8"
             ],
             [
              0.3333333333333333,
              "#9c179e"
             ],
             [
              0.4444444444444444,
              "#bd3786"
             ],
             [
              0.5555555555555556,
              "#d8576b"
             ],
             [
              0.6666666666666666,
              "#ed7953"
             ],
             [
              0.7777777777777778,
              "#fb9f3a"
             ],
             [
              0.8888888888888888,
              "#fdca26"
             ],
             [
              1,
              "#f0f921"
             ]
            ],
            "type": "contour"
           }
          ],
          "contourcarpet": [
           {
            "colorbar": {
             "outlinewidth": 0,
             "ticks": ""
            },
            "type": "contourcarpet"
           }
          ],
          "heatmap": [
           {
            "colorbar": {
             "outlinewidth": 0,
             "ticks": ""
            },
            "colorscale": [
             [
              0,
              "#0d0887"
             ],
             [
              0.1111111111111111,
              "#46039f"
             ],
             [
              0.2222222222222222,
              "#7201a8"
             ],
             [
              0.3333333333333333,
              "#9c179e"
             ],
             [
              0.4444444444444444,
              "#bd3786"
             ],
             [
              0.5555555555555556,
              "#d8576b"
             ],
             [
              0.6666666666666666,
              "#ed7953"
             ],
             [
              0.7777777777777778,
              "#fb9f3a"
             ],
             [
              0.8888888888888888,
              "#fdca26"
             ],
             [
              1,
              "#f0f921"
             ]
            ],
            "type": "heatmap"
           }
          ],
          "heatmapgl": [
           {
            "colorbar": {
             "outlinewidth": 0,
             "ticks": ""
            },
            "colorscale": [
             [
              0,
              "#0d0887"
             ],
             [
              0.1111111111111111,
              "#46039f"
             ],
             [
              0.2222222222222222,
              "#7201a8"
             ],
             [
              0.3333333333333333,
              "#9c179e"
             ],
             [
              0.4444444444444444,
              "#bd3786"
             ],
             [
              0.5555555555555556,
              "#d8576b"
             ],
             [
              0.6666666666666666,
              "#ed7953"
             ],
             [
              0.7777777777777778,
              "#fb9f3a"
             ],
             [
              0.8888888888888888,
              "#fdca26"
             ],
             [
              1,
              "#f0f921"
             ]
            ],
            "type": "heatmapgl"
           }
          ],
          "histogram": [
           {
            "marker": {
             "pattern": {
              "fillmode": "overlay",
              "size": 10,
              "solidity": 0.2
             }
            },
            "type": "histogram"
           }
          ],
          "histogram2d": [
           {
            "colorbar": {
             "outlinewidth": 0,
             "ticks": ""
            },
            "colorscale": [
             [
              0,
              "#0d0887"
             ],
             [
              0.1111111111111111,
              "#46039f"
             ],
             [
              0.2222222222222222,
              "#7201a8"
             ],
             [
              0.3333333333333333,
              "#9c179e"
             ],
             [
              0.4444444444444444,
              "#bd3786"
             ],
             [
              0.5555555555555556,
              "#d8576b"
             ],
             [
              0.6666666666666666,
              "#ed7953"
             ],
             [
              0.7777777777777778,
              "#fb9f3a"
             ],
             [
              0.8888888888888888,
              "#fdca26"
             ],
             [
              1,
              "#f0f921"
             ]
            ],
            "type": "histogram2d"
           }
          ],
          "histogram2dcontour": [
           {
            "colorbar": {
             "outlinewidth": 0,
             "ticks": ""
            },
            "colorscale": [
             [
              0,
              "#0d0887"
             ],
             [
              0.1111111111111111,
              "#46039f"
             ],
             [
              0.2222222222222222,
              "#7201a8"
             ],
             [
              0.3333333333333333,
              "#9c179e"
             ],
             [
              0.4444444444444444,
              "#bd3786"
             ],
             [
              0.5555555555555556,
              "#d8576b"
             ],
             [
              0.6666666666666666,
              "#ed7953"
             ],
             [
              0.7777777777777778,
              "#fb9f3a"
             ],
             [
              0.8888888888888888,
              "#fdca26"
             ],
             [
              1,
              "#f0f921"
             ]
            ],
            "type": "histogram2dcontour"
           }
          ],
          "mesh3d": [
           {
            "colorbar": {
             "outlinewidth": 0,
             "ticks": ""
            },
            "type": "mesh3d"
           }
          ],
          "parcoords": [
           {
            "line": {
             "colorbar": {
              "outlinewidth": 0,
              "ticks": ""
             }
            },
            "type": "parcoords"
           }
          ],
          "pie": [
           {
            "automargin": true,
            "type": "pie"
           }
          ],
          "scatter": [
           {
            "fillpattern": {
             "fillmode": "overlay",
             "size": 10,
             "solidity": 0.2
            },
            "type": "scatter"
           }
          ],
          "scatter3d": [
           {
            "line": {
             "colorbar": {
              "outlinewidth": 0,
              "ticks": ""
             }
            },
            "marker": {
             "colorbar": {
              "outlinewidth": 0,
              "ticks": ""
             }
            },
            "type": "scatter3d"
           }
          ],
          "scattercarpet": [
           {
            "marker": {
             "colorbar": {
              "outlinewidth": 0,
              "ticks": ""
             }
            },
            "type": "scattercarpet"
           }
          ],
          "scattergeo": [
           {
            "marker": {
             "colorbar": {
              "outlinewidth": 0,
              "ticks": ""
             }
            },
            "type": "scattergeo"
           }
          ],
          "scattergl": [
           {
            "marker": {
             "colorbar": {
              "outlinewidth": 0,
              "ticks": ""
             }
            },
            "type": "scattergl"
           }
          ],
          "scattermapbox": [
           {
            "marker": {
             "colorbar": {
              "outlinewidth": 0,
              "ticks": ""
             }
            },
            "type": "scattermapbox"
           }
          ],
          "scatterpolar": [
           {
            "marker": {
             "colorbar": {
              "outlinewidth": 0,
              "ticks": ""
             }
            },
            "type": "scatterpolar"
           }
          ],
          "scatterpolargl": [
           {
            "marker": {
             "colorbar": {
              "outlinewidth": 0,
              "ticks": ""
             }
            },
            "type": "scatterpolargl"
           }
          ],
          "scatterternary": [
           {
            "marker": {
             "colorbar": {
              "outlinewidth": 0,
              "ticks": ""
             }
            },
            "type": "scatterternary"
           }
          ],
          "surface": [
           {
            "colorbar": {
             "outlinewidth": 0,
             "ticks": ""
            },
            "colorscale": [
             [
              0,
              "#0d0887"
             ],
             [
              0.1111111111111111,
              "#46039f"
             ],
             [
              0.2222222222222222,
              "#7201a8"
             ],
             [
              0.3333333333333333,
              "#9c179e"
             ],
             [
              0.4444444444444444,
              "#bd3786"
             ],
             [
              0.5555555555555556,
              "#d8576b"
             ],
             [
              0.6666666666666666,
              "#ed7953"
             ],
             [
              0.7777777777777778,
              "#fb9f3a"
             ],
             [
              0.8888888888888888,
              "#fdca26"
             ],
             [
              1,
              "#f0f921"
             ]
            ],
            "type": "surface"
           }
          ],
          "table": [
           {
            "cells": {
             "fill": {
              "color": "#EBF0F8"
             },
             "line": {
              "color": "white"
             }
            },
            "header": {
             "fill": {
              "color": "#C8D4E3"
             },
             "line": {
              "color": "white"
             }
            },
            "type": "table"
           }
          ]
         },
         "layout": {
          "annotationdefaults": {
           "arrowcolor": "#2a3f5f",
           "arrowhead": 0,
           "arrowwidth": 1
          },
          "autotypenumbers": "strict",
          "coloraxis": {
           "colorbar": {
            "outlinewidth": 0,
            "ticks": ""
           }
          },
          "colorscale": {
           "diverging": [
            [
             0,
             "#8e0152"
            ],
            [
             0.1,
             "#c51b7d"
            ],
            [
             0.2,
             "#de77ae"
            ],
            [
             0.3,
             "#f1b6da"
            ],
            [
             0.4,
             "#fde0ef"
            ],
            [
             0.5,
             "#f7f7f7"
            ],
            [
             0.6,
             "#e6f5d0"
            ],
            [
             0.7,
             "#b8e186"
            ],
            [
             0.8,
             "#7fbc41"
            ],
            [
             0.9,
             "#4d9221"
            ],
            [
             1,
             "#276419"
            ]
           ],
           "sequential": [
            [
             0,
             "#0d0887"
            ],
            [
             0.1111111111111111,
             "#46039f"
            ],
            [
             0.2222222222222222,
             "#7201a8"
            ],
            [
             0.3333333333333333,
             "#9c179e"
            ],
            [
             0.4444444444444444,
             "#bd3786"
            ],
            [
             0.5555555555555556,
             "#d8576b"
            ],
            [
             0.6666666666666666,
             "#ed7953"
            ],
            [
             0.7777777777777778,
             "#fb9f3a"
            ],
            [
             0.8888888888888888,
             "#fdca26"
            ],
            [
             1,
             "#f0f921"
            ]
           ],
           "sequentialminus": [
            [
             0,
             "#0d0887"
            ],
            [
             0.1111111111111111,
             "#46039f"
            ],
            [
             0.2222222222222222,
             "#7201a8"
            ],
            [
             0.3333333333333333,
             "#9c179e"
            ],
            [
             0.4444444444444444,
             "#bd3786"
            ],
            [
             0.5555555555555556,
             "#d8576b"
            ],
            [
             0.6666666666666666,
             "#ed7953"
            ],
            [
             0.7777777777777778,
             "#fb9f3a"
            ],
            [
             0.8888888888888888,
             "#fdca26"
            ],
            [
             1,
             "#f0f921"
            ]
           ]
          },
          "colorway": [
           "#636efa",
           "#EF553B",
           "#00cc96",
           "#ab63fa",
           "#FFA15A",
           "#19d3f3",
           "#FF6692",
           "#B6E880",
           "#FF97FF",
           "#FECB52"
          ],
          "font": {
           "color": "#2a3f5f"
          },
          "geo": {
           "bgcolor": "white",
           "lakecolor": "white",
           "landcolor": "#E5ECF6",
           "showlakes": true,
           "showland": true,
           "subunitcolor": "white"
          },
          "hoverlabel": {
           "align": "left"
          },
          "hovermode": "closest",
          "mapbox": {
           "style": "light"
          },
          "paper_bgcolor": "white",
          "plot_bgcolor": "#E5ECF6",
          "polar": {
           "angularaxis": {
            "gridcolor": "white",
            "linecolor": "white",
            "ticks": ""
           },
           "bgcolor": "#E5ECF6",
           "radialaxis": {
            "gridcolor": "white",
            "linecolor": "white",
            "ticks": ""
           }
          },
          "scene": {
           "xaxis": {
            "backgroundcolor": "#E5ECF6",
            "gridcolor": "white",
            "gridwidth": 2,
            "linecolor": "white",
            "showbackground": true,
            "ticks": "",
            "zerolinecolor": "white"
           },
           "yaxis": {
            "backgroundcolor": "#E5ECF6",
            "gridcolor": "white",
            "gridwidth": 2,
            "linecolor": "white",
            "showbackground": true,
            "ticks": "",
            "zerolinecolor": "white"
           },
           "zaxis": {
            "backgroundcolor": "#E5ECF6",
            "gridcolor": "white",
            "gridwidth": 2,
            "linecolor": "white",
            "showbackground": true,
            "ticks": "",
            "zerolinecolor": "white"
           }
          },
          "shapedefaults": {
           "line": {
            "color": "#2a3f5f"
           }
          },
          "ternary": {
           "aaxis": {
            "gridcolor": "white",
            "linecolor": "white",
            "ticks": ""
           },
           "baxis": {
            "gridcolor": "white",
            "linecolor": "white",
            "ticks": ""
           },
           "bgcolor": "#E5ECF6",
           "caxis": {
            "gridcolor": "white",
            "linecolor": "white",
            "ticks": ""
           }
          },
          "title": {
           "x": 0.05
          },
          "xaxis": {
           "automargin": true,
           "gridcolor": "white",
           "linecolor": "white",
           "ticks": "",
           "title": {
            "standoff": 15
           },
           "zerolinecolor": "white",
           "zerolinewidth": 2
          },
          "yaxis": {
           "automargin": true,
           "gridcolor": "white",
           "linecolor": "white",
           "ticks": "",
           "title": {
            "standoff": 15
           },
           "zerolinecolor": "white",
           "zerolinewidth": 2
          }
         }
        },
        "title": {
         "text": "Relationship Sales of the Same Games Across Platforms"
        },
        "xaxis": {
         "anchor": "y",
         "domain": [
          0,
          1
         ],
         "title": {
          "text": "Total Revenue (USD Millions)"
         }
        },
        "yaxis": {
         "anchor": "x",
         "domain": [
          0,
          1
         ],
         "title": {
          "text": "Game"
         }
        }
       }
      }
     },
     "metadata": {},
     "output_type": "display_data"
    }
   ],
   "source": [
    "top_10_games_reset = top_10_games.reset_index()\n",
    "\n",
    "# Sort the DataFrame by Total revenue\n",
    "top_10_games_sorted = top_10_games_reset.sort_values(by='Total')\n",
    "\n",
    "# Create a grouped bar chart with game titles on the y-axis\n",
    "fig = px.bar(top_10_games_sorted, x=['3DS','PC','PS3','PS4','PSP','PSV','Wii','WiiU','X360','XOne'], y='name',\n",
    "             labels={'value': 'Total Revenue (USD Millions)', 'name': 'Game', 'variable': 'Platform'},\n",
    "             title='Relationship Sales of the Same Games Across Platforms')\n",
    "\n",
    "fig.show()"
   ]
  },
  {
   "cell_type": "markdown",
   "metadata": {},
   "source": [
    "In the above chart, it is clear that PS4 brings in the most revenue over all other platforms for the same game. This matches the trends seen in the previous analyis and shows that PS4 is the preffered platform. This chart brings more clarity to the question of whether the platform itself is bringing in more consumers or if the revenue for the platfor is simply higher due to a higher price point per game. It seems unlikely that the same game owuld be released and sold in the same year for significantly different prices though, so it's more likely that PS4 has become the prefered for the types of games that are most popular in 2016. \n",
    "\n",
    "The second most popular platform is seen to be Xbox One, creating a healthy competion for Playstation \n",
    "\n",
    "Another point to note, is that Nintendo 3DS reached the Top 10 platforms mainly due it's Pokemon Sun/Moon game- which show that it's very helpful for platfroms to have exclusive games to their platforms. "
   ]
  },
  {
   "cell_type": "markdown",
   "metadata": {},
   "source": [
    "### Relationship between Sales and Genre"
   ]
  },
  {
   "cell_type": "code",
   "execution_count": 69,
   "metadata": {},
   "outputs": [
    {
     "data": {
      "application/vnd.plotly.v1+json": {
       "config": {
        "plotlyServerURL": "https://plot.ly"
       },
       "data": [
        {
         "alignmentgroup": "True",
         "bingroup": "x",
         "hovertemplate": "Genre=%{x}<br>count=%{y}<extra></extra>",
         "legendgroup": "",
         "marker": {
          "color": "#636efa",
          "pattern": {
           "shape": ""
          }
         },
         "name": "",
         "offsetgroup": "",
         "orientation": "v",
         "showlegend": false,
         "type": "histogram",
         "x": [
          "Shooter",
          "Sports",
          "Shooter",
          "Sports",
          "Shooter",
          "Role-Playing",
          "Role-Playing",
          "Shooter",
          "Action",
          "Shooter",
          "Shooter",
          "Shooter",
          "Role-Playing",
          "Shooter",
          "Role-Playing",
          "Action",
          "Sports",
          "Shooter",
          "Shooter",
          "Action",
          "Action",
          "Action",
          "Shooter",
          "Sports",
          "Sports",
          "Platform",
          "Simulation",
          "Fighting",
          "Sports",
          "Sports",
          "Action",
          "Shooter",
          "Racing",
          "Sports",
          "Sports",
          "Action",
          "Action",
          "Action",
          "Shooter",
          "Shooter",
          "Shooter",
          "Shooter",
          "Shooter",
          "Action",
          "Shooter",
          "Sports",
          "Action",
          "Action",
          "Racing",
          "Role-Playing",
          "Sports",
          "Shooter",
          "Shooter",
          "Action",
          "Shooter",
          "Role-Playing",
          "Adventure",
          "Role-Playing",
          "Misc",
          "Sports",
          "Platform",
          "Action",
          "Shooter",
          "Adventure",
          "Fighting",
          "Shooter",
          "Shooter",
          "Action",
          "Role-Playing",
          "Role-Playing",
          "Platform",
          "Action",
          "Action",
          "Role-Playing",
          "Role-Playing",
          "Role-Playing",
          "Sports",
          "Sports",
          "Shooter",
          "Shooter",
          "Action",
          "Action",
          "Fighting",
          "Action",
          "Action",
          "Fighting",
          "Racing",
          "Racing",
          "Shooter",
          "Action",
          "Sports",
          "Fighting",
          "Role-Playing",
          "Shooter",
          "Sports",
          "Misc",
          "Sports",
          "Adventure",
          "Sports",
          "Action",
          "Sports",
          "Action",
          "Fighting",
          "Action",
          "Action",
          "Adventure",
          "Action",
          "Shooter",
          "Action",
          "Action",
          "Misc",
          "Role-Playing",
          "Action",
          "Role-Playing",
          "Misc",
          "Sports",
          "Sports",
          "Shooter",
          "Shooter",
          "Misc",
          "Role-Playing",
          "Action",
          "Misc",
          "Role-Playing",
          "Role-Playing",
          "Sports",
          "Sports",
          "Action",
          "Action",
          "Action",
          "Action",
          "Role-Playing",
          "Action",
          "Action",
          "Adventure",
          "Adventure",
          "Racing",
          "Misc",
          "Racing",
          "Action",
          "Simulation",
          "Action",
          "Action",
          "Action",
          "Shooter",
          "Role-Playing",
          "Sports",
          "Action",
          "Action",
          "Role-Playing",
          "Sports",
          "Sports",
          "Misc",
          "Role-Playing",
          "Shooter",
          "Role-Playing",
          "Adventure",
          "Action",
          "Action",
          "Action",
          "Misc",
          "Shooter",
          "Action",
          "Action",
          "Action",
          "Shooter",
          "Action",
          "Strategy",
          "Action",
          "Action",
          "Platform",
          "Sports",
          "Fighting",
          "Shooter",
          "Action",
          "Puzzle",
          "Action",
          "Action",
          "Role-Playing",
          "Sports",
          "Shooter",
          "Action",
          "Misc",
          "Action",
          "Sports",
          "Sports",
          "Action",
          "Action",
          "Shooter",
          "Sports",
          "Action",
          "Role-Playing",
          "Misc",
          "Simulation",
          "Action",
          "Sports",
          "Shooter",
          "Role-Playing",
          "Action",
          "Shooter",
          "Role-Playing",
          "Role-Playing",
          "Action",
          "Sports",
          "Adventure",
          "Action",
          "Sports",
          "Action",
          "Role-Playing",
          "Adventure",
          "Misc",
          "Shooter",
          "Role-Playing",
          "Sports",
          "Racing",
          "Shooter",
          "Shooter",
          "Action",
          "Role-Playing",
          "Action",
          "Simulation",
          "Simulation",
          "Shooter",
          "Misc",
          "Sports",
          "Fighting",
          "Simulation",
          "Action",
          "Role-Playing",
          "Racing",
          "Shooter",
          "Simulation",
          "Shooter",
          "Action",
          "Action",
          "Role-Playing",
          "Platform",
          "Fighting",
          "Action",
          "Role-Playing",
          "Action",
          "Action",
          "Sports",
          "Fighting",
          "Misc",
          "Role-Playing",
          "Simulation",
          "Misc",
          "Adventure",
          "Action",
          "Misc",
          "Fighting",
          "Fighting",
          "Misc",
          "Misc",
          "Action",
          "Sports",
          "Action",
          "Action",
          "Role-Playing",
          "Action",
          "Action",
          "Action",
          "Shooter",
          "Shooter",
          "Action",
          "Role-Playing",
          "Action",
          "Action",
          "Role-Playing",
          "Action",
          "Action",
          "Adventure",
          "Misc",
          "Action",
          "Strategy",
          "Platform",
          "Fighting",
          "Shooter",
          "Sports",
          "Racing",
          "Shooter",
          "Action",
          "Misc",
          "Action",
          "Role-Playing",
          "Role-Playing",
          "Role-Playing",
          "Role-Playing",
          "Platform",
          "Racing",
          "Sports",
          "Shooter",
          "Sports",
          "Action",
          "Role-Playing",
          "Strategy",
          "Role-Playing",
          "Strategy",
          "Action",
          "Action",
          "Racing",
          "Action",
          "Misc",
          "Role-Playing",
          "Role-Playing",
          "Shooter",
          "Action",
          "Action",
          "Fighting",
          "Strategy",
          "Action",
          "Action",
          "Simulation",
          "Action",
          "Shooter",
          "Strategy",
          "Action",
          "Action",
          "Platform",
          "Action",
          "Role-Playing",
          "Strategy",
          "Role-Playing",
          "Action",
          "Role-Playing",
          "Simulation",
          "Sports",
          "Action",
          "Role-Playing",
          "Role-Playing",
          "Action",
          "Role-Playing",
          "Simulation",
          "Sports",
          "Action",
          "Action",
          "Shooter",
          "Action",
          "Shooter",
          "Action",
          "Action",
          "Action",
          "Misc",
          "Action",
          "Misc",
          "Platform",
          "Adventure",
          "Action",
          "Misc",
          "Sports",
          "Action",
          "Fighting",
          "Shooter",
          "Action",
          "Sports",
          "Role-Playing",
          "Action",
          "Action",
          "Action",
          "Role-Playing",
          "Sports",
          "Sports",
          "Action",
          "Racing",
          "Action",
          "Sports",
          "Action",
          "Simulation",
          "Adventure",
          "Platform",
          "Role-Playing",
          "Action",
          "Role-Playing",
          "Action",
          "Shooter",
          "Action",
          "Action",
          "Action",
          "Action",
          "Shooter",
          "Role-Playing",
          "Action",
          "Platform",
          "Action",
          "Role-Playing",
          "Action",
          "Action",
          "Misc",
          "Fighting",
          "Shooter",
          "Action",
          "Action",
          "Sports",
          "Shooter",
          "Sports",
          "Simulation",
          "Action",
          "Action",
          "Role-Playing",
          "Action",
          "Action",
          "Strategy",
          "Platform",
          "Strategy",
          "Action",
          "Racing",
          "Action",
          "Racing",
          "Action",
          "Action",
          "Sports",
          "Action",
          "Misc",
          "Adventure",
          "Adventure",
          "Action",
          "Action",
          "Action",
          "Shooter",
          "Action",
          "Action",
          "Action",
          "Action",
          "Role-Playing",
          "Role-Playing",
          "Sports",
          "Action",
          "Simulation",
          "Role-Playing",
          "Sports",
          "Action",
          "Sports",
          "Sports",
          "Sports",
          "Action",
          "Role-Playing",
          "Action",
          "Role-Playing",
          "Adventure",
          "Action",
          "Sports",
          "Role-Playing",
          "Shooter",
          "Action",
          "Adventure",
          "Role-Playing",
          "Sports",
          "Action",
          "Racing",
          "Sports",
          "Platform",
          "Adventure",
          "Action",
          "Sports",
          "Shooter",
          "Action",
          "Puzzle",
          "Action",
          "Action",
          "Simulation",
          "Action",
          "Role-Playing",
          "Misc",
          "Misc",
          "Role-Playing",
          "Action",
          "Action",
          "Action",
          "Action",
          "Action",
          "Action",
          "Sports",
          "Simulation",
          "Action",
          "Action",
          "Role-Playing",
          "Action",
          "Shooter",
          "Action",
          "Action",
          "Action",
          "Action",
          "Misc",
          "Fighting",
          "Platform",
          "Action",
          "Platform",
          "Action",
          "Simulation",
          "Sports",
          "Platform",
          "Sports",
          "Role-Playing",
          "Sports",
          "Role-Playing",
          "Racing",
          "Action",
          "Platform",
          "Fighting",
          "Action",
          "Action",
          "Shooter",
          "Action",
          "Strategy",
          "Action",
          "Role-Playing",
          "Sports",
          "Adventure",
          "Action",
          "Fighting",
          "Action",
          "Action",
          "Action",
          "Platform",
          "Fighting",
          "Action",
          "Misc",
          "Role-Playing",
          "Action",
          "Adventure",
          "Adventure",
          "Action",
          "Platform",
          "Racing",
          "Sports",
          "Adventure",
          "Role-Playing",
          "Misc",
          "Action",
          "Sports",
          "Role-Playing",
          "Fighting",
          "Action",
          "Action",
          "Role-Playing",
          "Role-Playing",
          "Strategy",
          "Action",
          "Sports",
          "Misc",
          "Action",
          "Adventure",
          "Racing",
          "Strategy",
          "Action",
          "Action",
          "Sports",
          "Action",
          "Action",
          "Strategy",
          "Fighting",
          "Action",
          "Action",
          "Shooter",
          "Action",
          "Action",
          "Adventure",
          "Action",
          "Action",
          "Action",
          "Action",
          "Action",
          "Misc",
          "Role-Playing",
          "Action",
          "Role-Playing",
          "Role-Playing",
          "Adventure",
          "Fighting",
          "Racing",
          "Action",
          "Adventure",
          "Role-Playing",
          "Action",
          "Role-Playing",
          "Action",
          "Role-Playing",
          "Fighting",
          "Role-Playing",
          "Shooter",
          "Action",
          "Action",
          "Platform",
          "Action",
          "Adventure",
          "Action",
          "Sports",
          "Action",
          "Misc",
          "Sports",
          "Action",
          "Sports",
          "Sports",
          "Action",
          "Role-Playing",
          "Adventure",
          "Racing",
          "Sports",
          "Adventure",
          "Adventure",
          "Shooter",
          "Role-Playing",
          "Action",
          "Sports",
          "Role-Playing",
          "Platform",
          "Sports",
          "Racing",
          "Fighting",
          "Role-Playing",
          "Action",
          "Adventure",
          "Action",
          "Sports",
          "Misc",
          "Role-Playing",
          "Action",
          "Action",
          "Misc",
          "Action",
          "Action",
          "Misc",
          "Action",
          "Misc",
          "Misc",
          "Action",
          "Action",
          "Puzzle",
          "Strategy",
          "Role-Playing",
          "Adventure",
          "Role-Playing",
          "Role-Playing",
          "Action",
          "Action",
          "Strategy",
          "Shooter",
          "Sports",
          "Racing",
          "Action",
          "Action",
          "Racing",
          "Adventure",
          "Action",
          "Action",
          "Racing",
          "Adventure",
          "Adventure",
          "Action",
          "Role-Playing",
          "Action",
          "Adventure",
          "Misc",
          "Racing",
          "Adventure",
          "Action",
          "Role-Playing",
          "Racing",
          "Adventure",
          "Action",
          "Fighting",
          "Role-Playing",
          "Misc",
          "Platform",
          "Sports",
          "Action",
          "Action",
          "Action",
          "Strategy",
          "Action",
          "Action",
          "Action",
          "Action",
          "Action",
          "Role-Playing",
          "Racing",
          "Role-Playing",
          "Adventure",
          "Sports",
          "Action",
          "Adventure",
          "Action",
          "Adventure",
          "Fighting",
          "Shooter",
          "Action",
          "Action",
          "Racing",
          "Action",
          "Role-Playing",
          "Action",
          "Action",
          "Simulation",
          "Action",
          "Misc",
          "Role-Playing",
          "Role-Playing",
          "Adventure",
          "Action",
          "Action",
          "Action",
          "Sports",
          "Action",
          "Role-Playing",
          "Misc",
          "Simulation",
          "Role-Playing",
          "Action",
          "Action",
          "Strategy",
          "Misc",
          "Adventure",
          "Misc",
          "Action",
          "Misc",
          "Action",
          "Sports",
          "Action",
          "Shooter",
          "Action",
          "Action",
          "Action",
          "Fighting",
          "Action",
          "Sports",
          "Shooter",
          "Action",
          "Misc",
          "Sports",
          "Action",
          "Action",
          "Platform",
          "Shooter",
          "Action",
          "Action",
          "Role-Playing",
          "Adventure",
          "Action",
          "Strategy",
          "Misc",
          "Adventure",
          "Action",
          "Strategy",
          "Misc",
          "Action",
          "Strategy",
          "Shooter",
          "Action",
          "Adventure",
          "Action",
          "Adventure",
          "Action",
          "Role-Playing",
          "Role-Playing",
          "Action",
          "Sports",
          "Action",
          "Strategy",
          "Action",
          "Action",
          "Action",
          "Role-Playing",
          "Action",
          "Racing",
          "Role-Playing",
          "Action",
          "Sports",
          "Action",
          "Adventure",
          "Action",
          "Racing",
          "Role-Playing",
          "Role-Playing",
          "Adventure",
          "Simulation",
          "Action",
          "Misc",
          "Action",
          "Role-Playing",
          "Fighting",
          "Misc",
          "Action",
          "Action",
          "Action",
          "Adventure",
          "Misc",
          "Adventure",
          "Platform",
          "Action",
          "Role-Playing",
          "Adventure",
          "Simulation",
          "Adventure",
          "Racing",
          "Action",
          "Action",
          "Role-Playing",
          "Action",
          "Adventure",
          "Action",
          "Platform",
          "Adventure",
          "Misc",
          "Action",
          "Fighting",
          "Role-Playing",
          "Role-Playing",
          "Puzzle",
          "Fighting",
          "Racing",
          "Action",
          "Action",
          "Action",
          "Sports",
          "Action",
          "Role-Playing",
          "Sports",
          "Role-Playing",
          "Misc",
          "Shooter",
          "Simulation",
          "Racing",
          "Action",
          "Action",
          "Action",
          "Fighting",
          "Role-Playing",
          "Sports",
          "Misc",
          "Action",
          "Sports",
          "Fighting",
          "Role-Playing",
          "Action",
          "Role-Playing",
          "Action",
          "Action",
          "Action",
          "Platform",
          "Role-Playing",
          "Racing",
          "Action",
          "Adventure",
          "Role-Playing",
          "Role-Playing",
          "Racing",
          "Misc",
          "Role-Playing",
          "Adventure",
          "Adventure",
          "Action",
          "Misc",
          "Action",
          "Platform",
          "Simulation",
          "Misc",
          "Action",
          "Action",
          "Action",
          "Action",
          "Action",
          "Misc",
          "Adventure",
          "Action",
          "Action",
          "Action",
          "Action",
          "Action",
          "Adventure",
          "Action",
          "Shooter",
          "Adventure",
          "Action",
          "Action",
          "Action",
          "Action",
          "Strategy",
          "Action",
          "Action",
          "Adventure",
          "Adventure",
          "Action",
          "Simulation",
          "Adventure",
          "Adventure",
          "Adventure",
          "Action",
          "Action",
          "Action",
          "Action",
          "Strategy",
          "Action",
          "Action",
          "Action",
          "Misc",
          "Action",
          "Adventure",
          "Action",
          "Action",
          "Role-Playing",
          "Action",
          "Action",
          "Adventure",
          "Adventure",
          "Adventure",
          "Adventure",
          "Adventure",
          "Adventure",
          "Action",
          "Action",
          "Adventure",
          "Action",
          "Fighting",
          "Action",
          "Action",
          "Adventure",
          "Action",
          "Strategy",
          "Sports",
          "Misc",
          "Role-Playing",
          "Action",
          "Adventure",
          "Action",
          "Action",
          "Action",
          "Action",
          "Misc",
          "Action",
          "Action",
          "Adventure",
          "Shooter",
          "Action",
          "Adventure",
          "Fighting",
          "Shooter",
          "Fighting",
          "Action",
          "Misc",
          "Adventure",
          "Simulation",
          "Action",
          "Action",
          "Simulation",
          "Role-Playing",
          "Sports",
          "Sports",
          "Action",
          "Adventure",
          "Puzzle",
          "Adventure",
          "Action",
          "Action",
          "Sports",
          "Role-Playing",
          "Adventure",
          "Adventure",
          "Action",
          "Action",
          "Shooter",
          "Misc",
          "Action",
          "Adventure",
          "Action",
          "Misc",
          "Adventure",
          "Sports",
          "Adventure",
          "Misc",
          "Adventure",
          "Shooter",
          "Action",
          "Adventure",
          "Action",
          "Adventure",
          "Action",
          "Action",
          "Role-Playing",
          "Action",
          "Sports",
          "Sports",
          "Action",
          "Action",
          "Action",
          "Misc",
          "Racing",
          "Action",
          "Adventure",
          "Adventure",
          "Racing",
          "Action",
          "Misc",
          "Sports",
          "Role-Playing",
          "Action",
          "Action",
          "Adventure",
          "Adventure",
          "Puzzle",
          "Simulation",
          "Racing",
          "Action",
          "Action",
          "Adventure",
          "Action",
          "Action",
          "Action",
          "Adventure",
          "Adventure",
          "Sports",
          "Action",
          "Action",
          "Simulation",
          "Strategy",
          "Action",
          "Action",
          "Action",
          "Adventure",
          "Action",
          "Adventure",
          "Action",
          "Action",
          "Adventure",
          "Action",
          "Role-Playing",
          "Action",
          "Action",
          "Action",
          "Action",
          "Action",
          "Action",
          "Sports",
          "Racing",
          "Action",
          "Adventure",
          "Strategy",
          "Adventure",
          "Misc",
          "Action",
          "Action",
          "Simulation",
          "Adventure",
          "Action",
          "Action",
          "Action",
          "Role-Playing",
          "Adventure",
          "Adventure",
          "Action",
          "Sports",
          "Action",
          "Strategy",
          "Shooter",
          "Sports",
          "Sports",
          "Simulation",
          "Racing",
          "Action",
          "Platform",
          "Adventure",
          "Racing",
          "Action",
          "Action",
          "Sports",
          "Action",
          "Sports",
          "Simulation",
          "Action",
          "Action",
          "Action",
          "Misc",
          "Sports",
          "Action",
          "Action",
          "Action",
          "Action",
          "Strategy",
          "Fighting",
          "Action",
          "Action",
          "Action",
          "Puzzle",
          "Action",
          "Strategy",
          "Action",
          "Racing",
          "Action",
          "Adventure",
          "Action",
          "Action",
          "Action",
          "Adventure",
          "Adventure",
          "Action",
          "Adventure",
          "Action",
          "Action",
          "Sports",
          "Simulation",
          "Action",
          "Adventure",
          "Action",
          "Role-Playing",
          "Action",
          "Action",
          "Misc",
          "Simulation"
         ],
         "xaxis": "x",
         "yaxis": "y"
        }
       ],
       "layout": {
        "barmode": "relative",
        "legend": {
         "tracegroupgap": 0
        },
        "template": {
         "data": {
          "bar": [
           {
            "error_x": {
             "color": "#2a3f5f"
            },
            "error_y": {
             "color": "#2a3f5f"
            },
            "marker": {
             "line": {
              "color": "#E5ECF6",
              "width": 0.5
             },
             "pattern": {
              "fillmode": "overlay",
              "size": 10,
              "solidity": 0.2
             }
            },
            "type": "bar"
           }
          ],
          "barpolar": [
           {
            "marker": {
             "line": {
              "color": "#E5ECF6",
              "width": 0.5
             },
             "pattern": {
              "fillmode": "overlay",
              "size": 10,
              "solidity": 0.2
             }
            },
            "type": "barpolar"
           }
          ],
          "carpet": [
           {
            "aaxis": {
             "endlinecolor": "#2a3f5f",
             "gridcolor": "white",
             "linecolor": "white",
             "minorgridcolor": "white",
             "startlinecolor": "#2a3f5f"
            },
            "baxis": {
             "endlinecolor": "#2a3f5f",
             "gridcolor": "white",
             "linecolor": "white",
             "minorgridcolor": "white",
             "startlinecolor": "#2a3f5f"
            },
            "type": "carpet"
           }
          ],
          "choropleth": [
           {
            "colorbar": {
             "outlinewidth": 0,
             "ticks": ""
            },
            "type": "choropleth"
           }
          ],
          "contour": [
           {
            "colorbar": {
             "outlinewidth": 0,
             "ticks": ""
            },
            "colorscale": [
             [
              0,
              "#0d0887"
             ],
             [
              0.1111111111111111,
              "#46039f"
             ],
             [
              0.2222222222222222,
              "#7201a8"
             ],
             [
              0.3333333333333333,
              "#9c179e"
             ],
             [
              0.4444444444444444,
              "#bd3786"
             ],
             [
              0.5555555555555556,
              "#d8576b"
             ],
             [
              0.6666666666666666,
              "#ed7953"
             ],
             [
              0.7777777777777778,
              "#fb9f3a"
             ],
             [
              0.8888888888888888,
              "#fdca26"
             ],
             [
              1,
              "#f0f921"
             ]
            ],
            "type": "contour"
           }
          ],
          "contourcarpet": [
           {
            "colorbar": {
             "outlinewidth": 0,
             "ticks": ""
            },
            "type": "contourcarpet"
           }
          ],
          "heatmap": [
           {
            "colorbar": {
             "outlinewidth": 0,
             "ticks": ""
            },
            "colorscale": [
             [
              0,
              "#0d0887"
             ],
             [
              0.1111111111111111,
              "#46039f"
             ],
             [
              0.2222222222222222,
              "#7201a8"
             ],
             [
              0.3333333333333333,
              "#9c179e"
             ],
             [
              0.4444444444444444,
              "#bd3786"
             ],
             [
              0.5555555555555556,
              "#d8576b"
             ],
             [
              0.6666666666666666,
              "#ed7953"
             ],
             [
              0.7777777777777778,
              "#fb9f3a"
             ],
             [
              0.8888888888888888,
              "#fdca26"
             ],
             [
              1,
              "#f0f921"
             ]
            ],
            "type": "heatmap"
           }
          ],
          "heatmapgl": [
           {
            "colorbar": {
             "outlinewidth": 0,
             "ticks": ""
            },
            "colorscale": [
             [
              0,
              "#0d0887"
             ],
             [
              0.1111111111111111,
              "#46039f"
             ],
             [
              0.2222222222222222,
              "#7201a8"
             ],
             [
              0.3333333333333333,
              "#9c179e"
             ],
             [
              0.4444444444444444,
              "#bd3786"
             ],
             [
              0.5555555555555556,
              "#d8576b"
             ],
             [
              0.6666666666666666,
              "#ed7953"
             ],
             [
              0.7777777777777778,
              "#fb9f3a"
             ],
             [
              0.8888888888888888,
              "#fdca26"
             ],
             [
              1,
              "#f0f921"
             ]
            ],
            "type": "heatmapgl"
           }
          ],
          "histogram": [
           {
            "marker": {
             "pattern": {
              "fillmode": "overlay",
              "size": 10,
              "solidity": 0.2
             }
            },
            "type": "histogram"
           }
          ],
          "histogram2d": [
           {
            "colorbar": {
             "outlinewidth": 0,
             "ticks": ""
            },
            "colorscale": [
             [
              0,
              "#0d0887"
             ],
             [
              0.1111111111111111,
              "#46039f"
             ],
             [
              0.2222222222222222,
              "#7201a8"
             ],
             [
              0.3333333333333333,
              "#9c179e"
             ],
             [
              0.4444444444444444,
              "#bd3786"
             ],
             [
              0.5555555555555556,
              "#d8576b"
             ],
             [
              0.6666666666666666,
              "#ed7953"
             ],
             [
              0.7777777777777778,
              "#fb9f3a"
             ],
             [
              0.8888888888888888,
              "#fdca26"
             ],
             [
              1,
              "#f0f921"
             ]
            ],
            "type": "histogram2d"
           }
          ],
          "histogram2dcontour": [
           {
            "colorbar": {
             "outlinewidth": 0,
             "ticks": ""
            },
            "colorscale": [
             [
              0,
              "#0d0887"
             ],
             [
              0.1111111111111111,
              "#46039f"
             ],
             [
              0.2222222222222222,
              "#7201a8"
             ],
             [
              0.3333333333333333,
              "#9c179e"
             ],
             [
              0.4444444444444444,
              "#bd3786"
             ],
             [
              0.5555555555555556,
              "#d8576b"
             ],
             [
              0.6666666666666666,
              "#ed7953"
             ],
             [
              0.7777777777777778,
              "#fb9f3a"
             ],
             [
              0.8888888888888888,
              "#fdca26"
             ],
             [
              1,
              "#f0f921"
             ]
            ],
            "type": "histogram2dcontour"
           }
          ],
          "mesh3d": [
           {
            "colorbar": {
             "outlinewidth": 0,
             "ticks": ""
            },
            "type": "mesh3d"
           }
          ],
          "parcoords": [
           {
            "line": {
             "colorbar": {
              "outlinewidth": 0,
              "ticks": ""
             }
            },
            "type": "parcoords"
           }
          ],
          "pie": [
           {
            "automargin": true,
            "type": "pie"
           }
          ],
          "scatter": [
           {
            "fillpattern": {
             "fillmode": "overlay",
             "size": 10,
             "solidity": 0.2
            },
            "type": "scatter"
           }
          ],
          "scatter3d": [
           {
            "line": {
             "colorbar": {
              "outlinewidth": 0,
              "ticks": ""
             }
            },
            "marker": {
             "colorbar": {
              "outlinewidth": 0,
              "ticks": ""
             }
            },
            "type": "scatter3d"
           }
          ],
          "scattercarpet": [
           {
            "marker": {
             "colorbar": {
              "outlinewidth": 0,
              "ticks": ""
             }
            },
            "type": "scattercarpet"
           }
          ],
          "scattergeo": [
           {
            "marker": {
             "colorbar": {
              "outlinewidth": 0,
              "ticks": ""
             }
            },
            "type": "scattergeo"
           }
          ],
          "scattergl": [
           {
            "marker": {
             "colorbar": {
              "outlinewidth": 0,
              "ticks": ""
             }
            },
            "type": "scattergl"
           }
          ],
          "scattermapbox": [
           {
            "marker": {
             "colorbar": {
              "outlinewidth": 0,
              "ticks": ""
             }
            },
            "type": "scattermapbox"
           }
          ],
          "scatterpolar": [
           {
            "marker": {
             "colorbar": {
              "outlinewidth": 0,
              "ticks": ""
             }
            },
            "type": "scatterpolar"
           }
          ],
          "scatterpolargl": [
           {
            "marker": {
             "colorbar": {
              "outlinewidth": 0,
              "ticks": ""
             }
            },
            "type": "scatterpolargl"
           }
          ],
          "scatterternary": [
           {
            "marker": {
             "colorbar": {
              "outlinewidth": 0,
              "ticks": ""
             }
            },
            "type": "scatterternary"
           }
          ],
          "surface": [
           {
            "colorbar": {
             "outlinewidth": 0,
             "ticks": ""
            },
            "colorscale": [
             [
              0,
              "#0d0887"
             ],
             [
              0.1111111111111111,
              "#46039f"
             ],
             [
              0.2222222222222222,
              "#7201a8"
             ],
             [
              0.3333333333333333,
              "#9c179e"
             ],
             [
              0.4444444444444444,
              "#bd3786"
             ],
             [
              0.5555555555555556,
              "#d8576b"
             ],
             [
              0.6666666666666666,
              "#ed7953"
             ],
             [
              0.7777777777777778,
              "#fb9f3a"
             ],
             [
              0.8888888888888888,
              "#fdca26"
             ],
             [
              1,
              "#f0f921"
             ]
            ],
            "type": "surface"
           }
          ],
          "table": [
           {
            "cells": {
             "fill": {
              "color": "#EBF0F8"
             },
             "line": {
              "color": "white"
             }
            },
            "header": {
             "fill": {
              "color": "#C8D4E3"
             },
             "line": {
              "color": "white"
             }
            },
            "type": "table"
           }
          ]
         },
         "layout": {
          "annotationdefaults": {
           "arrowcolor": "#2a3f5f",
           "arrowhead": 0,
           "arrowwidth": 1
          },
          "autotypenumbers": "strict",
          "coloraxis": {
           "colorbar": {
            "outlinewidth": 0,
            "ticks": ""
           }
          },
          "colorscale": {
           "diverging": [
            [
             0,
             "#8e0152"
            ],
            [
             0.1,
             "#c51b7d"
            ],
            [
             0.2,
             "#de77ae"
            ],
            [
             0.3,
             "#f1b6da"
            ],
            [
             0.4,
             "#fde0ef"
            ],
            [
             0.5,
             "#f7f7f7"
            ],
            [
             0.6,
             "#e6f5d0"
            ],
            [
             0.7,
             "#b8e186"
            ],
            [
             0.8,
             "#7fbc41"
            ],
            [
             0.9,
             "#4d9221"
            ],
            [
             1,
             "#276419"
            ]
           ],
           "sequential": [
            [
             0,
             "#0d0887"
            ],
            [
             0.1111111111111111,
             "#46039f"
            ],
            [
             0.2222222222222222,
             "#7201a8"
            ],
            [
             0.3333333333333333,
             "#9c179e"
            ],
            [
             0.4444444444444444,
             "#bd3786"
            ],
            [
             0.5555555555555556,
             "#d8576b"
            ],
            [
             0.6666666666666666,
             "#ed7953"
            ],
            [
             0.7777777777777778,
             "#fb9f3a"
            ],
            [
             0.8888888888888888,
             "#fdca26"
            ],
            [
             1,
             "#f0f921"
            ]
           ],
           "sequentialminus": [
            [
             0,
             "#0d0887"
            ],
            [
             0.1111111111111111,
             "#46039f"
            ],
            [
             0.2222222222222222,
             "#7201a8"
            ],
            [
             0.3333333333333333,
             "#9c179e"
            ],
            [
             0.4444444444444444,
             "#bd3786"
            ],
            [
             0.5555555555555556,
             "#d8576b"
            ],
            [
             0.6666666666666666,
             "#ed7953"
            ],
            [
             0.7777777777777778,
             "#fb9f3a"
            ],
            [
             0.8888888888888888,
             "#fdca26"
            ],
            [
             1,
             "#f0f921"
            ]
           ]
          },
          "colorway": [
           "#636efa",
           "#EF553B",
           "#00cc96",
           "#ab63fa",
           "#FFA15A",
           "#19d3f3",
           "#FF6692",
           "#B6E880",
           "#FF97FF",
           "#FECB52"
          ],
          "font": {
           "color": "#2a3f5f"
          },
          "geo": {
           "bgcolor": "white",
           "lakecolor": "white",
           "landcolor": "#E5ECF6",
           "showlakes": true,
           "showland": true,
           "subunitcolor": "white"
          },
          "hoverlabel": {
           "align": "left"
          },
          "hovermode": "closest",
          "mapbox": {
           "style": "light"
          },
          "paper_bgcolor": "white",
          "plot_bgcolor": "#E5ECF6",
          "polar": {
           "angularaxis": {
            "gridcolor": "white",
            "linecolor": "white",
            "ticks": ""
           },
           "bgcolor": "#E5ECF6",
           "radialaxis": {
            "gridcolor": "white",
            "linecolor": "white",
            "ticks": ""
           }
          },
          "scene": {
           "xaxis": {
            "backgroundcolor": "#E5ECF6",
            "gridcolor": "white",
            "gridwidth": 2,
            "linecolor": "white",
            "showbackground": true,
            "ticks": "",
            "zerolinecolor": "white"
           },
           "yaxis": {
            "backgroundcolor": "#E5ECF6",
            "gridcolor": "white",
            "gridwidth": 2,
            "linecolor": "white",
            "showbackground": true,
            "ticks": "",
            "zerolinecolor": "white"
           },
           "zaxis": {
            "backgroundcolor": "#E5ECF6",
            "gridcolor": "white",
            "gridwidth": 2,
            "linecolor": "white",
            "showbackground": true,
            "ticks": "",
            "zerolinecolor": "white"
           }
          },
          "shapedefaults": {
           "line": {
            "color": "#2a3f5f"
           }
          },
          "ternary": {
           "aaxis": {
            "gridcolor": "white",
            "linecolor": "white",
            "ticks": ""
           },
           "baxis": {
            "gridcolor": "white",
            "linecolor": "white",
            "ticks": ""
           },
           "bgcolor": "#E5ECF6",
           "caxis": {
            "gridcolor": "white",
            "linecolor": "white",
            "ticks": ""
           }
          },
          "title": {
           "x": 0.05
          },
          "xaxis": {
           "automargin": true,
           "gridcolor": "white",
           "linecolor": "white",
           "ticks": "",
           "title": {
            "standoff": 15
           },
           "zerolinecolor": "white",
           "zerolinewidth": 2
          },
          "yaxis": {
           "automargin": true,
           "gridcolor": "white",
           "linecolor": "white",
           "ticks": "",
           "title": {
            "standoff": 15
           },
           "zerolinecolor": "white",
           "zerolinewidth": 2
          }
         }
        },
        "title": {
         "text": "Distribution of Games by Genre"
        },
        "xaxis": {
         "anchor": "y",
         "domain": [
          0,
          1
         ],
         "title": {
          "text": "Genre"
         }
        },
        "yaxis": {
         "anchor": "x",
         "domain": [
          0,
          1
         ],
         "title": {
          "text": "count"
         }
        }
       }
      }
     },
     "metadata": {},
     "output_type": "display_data"
    }
   ],
   "source": [
    "# Plot general distribution of games by genre\n",
    "# Creates histogram for distribution of games by genre\n",
    "hist_genre = px.histogram(relevant_platforms, x='genre', \n",
    "                          title='Distribution of Games by Genre',\n",
    "                          labels={'genre': 'Genre', 'count': 'Number of Games'})\n",
    "hist_genre.show()"
   ]
  },
  {
   "cell_type": "markdown",
   "metadata": {},
   "source": [
    "The most popular genre made by far is Action games.\n",
    "\n",
    "The top games by game count are Action, Role-playing and Adventure. \n",
    "\n",
    "This checks out with the game trends of the year- with more action based games leading in revenue."
   ]
  },
  {
   "cell_type": "code",
   "execution_count": 70,
   "metadata": {},
   "outputs": [
    {
     "data": {
      "application/vnd.plotly.v1+json": {
       "config": {
        "plotlyServerURL": "https://plot.ly"
       },
       "data": [
        {
         "alignmentgroup": "True",
         "hovertemplate": "Genre=%{x}<br>Total Revenue=%{y}<extra></extra>",
         "legendgroup": "",
         "marker": {
          "color": "#636efa"
         },
         "name": "",
         "notched": false,
         "offsetgroup": "",
         "orientation": "v",
         "showlegend": false,
         "type": "box",
         "x": [
          "Shooter",
          "Sports",
          "Shooter",
          "Sports",
          "Shooter",
          "Role-Playing",
          "Role-Playing",
          "Shooter",
          "Action",
          "Shooter",
          "Shooter",
          "Shooter",
          "Role-Playing",
          "Shooter",
          "Role-Playing",
          "Action",
          "Sports",
          "Shooter",
          "Shooter",
          "Action",
          "Action",
          "Action",
          "Shooter",
          "Sports",
          "Sports",
          "Platform",
          "Simulation",
          "Fighting",
          "Sports",
          "Sports",
          "Action",
          "Shooter",
          "Racing",
          "Sports",
          "Sports",
          "Action",
          "Action",
          "Action",
          "Shooter",
          "Shooter",
          "Shooter",
          "Shooter",
          "Shooter",
          "Action",
          "Shooter",
          "Sports",
          "Action",
          "Action",
          "Racing",
          "Role-Playing",
          "Sports",
          "Shooter",
          "Shooter",
          "Action",
          "Shooter",
          "Role-Playing",
          "Adventure",
          "Role-Playing",
          "Misc",
          "Sports",
          "Platform",
          "Action",
          "Shooter",
          "Adventure",
          "Fighting",
          "Shooter",
          "Shooter",
          "Action",
          "Role-Playing",
          "Role-Playing",
          "Platform",
          "Action",
          "Action",
          "Role-Playing",
          "Role-Playing",
          "Role-Playing",
          "Sports",
          "Sports",
          "Shooter",
          "Shooter",
          "Action",
          "Action",
          "Fighting",
          "Action",
          "Action",
          "Fighting",
          "Racing",
          "Racing",
          "Shooter",
          "Action",
          "Sports",
          "Fighting",
          "Role-Playing",
          "Shooter",
          "Sports",
          "Misc",
          "Sports",
          "Adventure",
          "Sports",
          "Action",
          "Sports",
          "Action",
          "Fighting",
          "Action",
          "Action",
          "Adventure",
          "Action",
          "Shooter",
          "Action",
          "Action",
          "Misc",
          "Role-Playing",
          "Action",
          "Role-Playing",
          "Misc",
          "Sports",
          "Sports",
          "Shooter",
          "Shooter",
          "Misc",
          "Role-Playing",
          "Action",
          "Misc",
          "Role-Playing",
          "Role-Playing",
          "Sports",
          "Sports",
          "Action",
          "Action",
          "Action",
          "Action",
          "Role-Playing",
          "Action",
          "Action",
          "Adventure",
          "Adventure",
          "Racing",
          "Misc",
          "Racing",
          "Action",
          "Simulation",
          "Action",
          "Action",
          "Action",
          "Shooter",
          "Role-Playing",
          "Sports",
          "Action",
          "Action",
          "Role-Playing",
          "Sports",
          "Sports",
          "Misc",
          "Role-Playing",
          "Shooter",
          "Role-Playing",
          "Adventure",
          "Action",
          "Action",
          "Action",
          "Misc",
          "Shooter",
          "Action",
          "Action",
          "Action",
          "Shooter",
          "Action",
          "Strategy",
          "Action",
          "Action",
          "Platform",
          "Sports",
          "Fighting",
          "Shooter",
          "Action",
          "Puzzle",
          "Action",
          "Action",
          "Role-Playing",
          "Sports",
          "Shooter",
          "Action",
          "Misc",
          "Action",
          "Sports",
          "Sports",
          "Action",
          "Action",
          "Shooter",
          "Sports",
          "Action",
          "Role-Playing",
          "Misc",
          "Simulation",
          "Action",
          "Sports",
          "Shooter",
          "Role-Playing",
          "Action",
          "Shooter",
          "Role-Playing",
          "Role-Playing",
          "Action",
          "Sports",
          "Adventure",
          "Action",
          "Sports",
          "Action",
          "Role-Playing",
          "Adventure",
          "Misc",
          "Shooter",
          "Role-Playing",
          "Sports",
          "Racing",
          "Shooter",
          "Shooter",
          "Action",
          "Role-Playing",
          "Action",
          "Simulation",
          "Simulation",
          "Shooter",
          "Misc",
          "Sports",
          "Fighting",
          "Simulation",
          "Action",
          "Role-Playing",
          "Racing",
          "Shooter",
          "Simulation",
          "Shooter",
          "Action",
          "Action",
          "Role-Playing",
          "Platform",
          "Fighting",
          "Action",
          "Role-Playing",
          "Action",
          "Action",
          "Sports",
          "Fighting",
          "Misc",
          "Role-Playing",
          "Simulation",
          "Misc",
          "Adventure",
          "Action",
          "Misc",
          "Fighting",
          "Fighting",
          "Misc",
          "Misc",
          "Action",
          "Sports",
          "Action",
          "Action",
          "Role-Playing",
          "Action",
          "Action",
          "Action",
          "Shooter",
          "Shooter",
          "Action",
          "Role-Playing",
          "Action",
          "Action",
          "Role-Playing",
          "Action",
          "Action",
          "Adventure",
          "Misc",
          "Action",
          "Strategy",
          "Platform",
          "Fighting",
          "Shooter",
          "Sports",
          "Racing",
          "Shooter",
          "Action",
          "Misc",
          "Action",
          "Role-Playing",
          "Role-Playing",
          "Role-Playing",
          "Role-Playing",
          "Platform",
          "Racing",
          "Sports",
          "Shooter",
          "Sports",
          "Action",
          "Role-Playing",
          "Strategy",
          "Role-Playing",
          "Strategy",
          "Action",
          "Action",
          "Racing",
          "Action",
          "Misc",
          "Role-Playing",
          "Role-Playing",
          "Shooter",
          "Action",
          "Action",
          "Fighting",
          "Strategy",
          "Action",
          "Action",
          "Simulation",
          "Action",
          "Shooter",
          "Strategy",
          "Action",
          "Action",
          "Platform",
          "Action",
          "Role-Playing",
          "Strategy",
          "Role-Playing",
          "Action",
          "Role-Playing",
          "Simulation",
          "Sports",
          "Action",
          "Role-Playing",
          "Role-Playing",
          "Action",
          "Role-Playing",
          "Simulation",
          "Sports",
          "Action",
          "Action",
          "Shooter",
          "Action",
          "Shooter",
          "Action",
          "Action",
          "Action",
          "Misc",
          "Action",
          "Misc",
          "Platform",
          "Adventure",
          "Action",
          "Misc",
          "Sports",
          "Action",
          "Fighting",
          "Shooter",
          "Action",
          "Sports",
          "Role-Playing",
          "Action",
          "Action",
          "Action",
          "Role-Playing",
          "Sports",
          "Sports",
          "Action",
          "Racing",
          "Action",
          "Sports",
          "Action",
          "Simulation",
          "Adventure",
          "Platform",
          "Role-Playing",
          "Action",
          "Role-Playing",
          "Action",
          "Shooter",
          "Action",
          "Action",
          "Action",
          "Action",
          "Shooter",
          "Role-Playing",
          "Action",
          "Platform",
          "Action",
          "Role-Playing",
          "Action",
          "Action",
          "Misc",
          "Fighting",
          "Shooter",
          "Action",
          "Action",
          "Sports",
          "Shooter",
          "Sports",
          "Simulation",
          "Action",
          "Action",
          "Role-Playing",
          "Action",
          "Action",
          "Strategy",
          "Platform",
          "Strategy",
          "Action",
          "Racing",
          "Action",
          "Racing",
          "Action",
          "Action",
          "Sports",
          "Action",
          "Misc",
          "Adventure",
          "Adventure",
          "Action",
          "Action",
          "Action",
          "Shooter",
          "Action",
          "Action",
          "Action",
          "Action",
          "Role-Playing",
          "Role-Playing",
          "Sports",
          "Action",
          "Simulation",
          "Role-Playing",
          "Sports",
          "Action",
          "Sports",
          "Sports",
          "Sports",
          "Action",
          "Role-Playing",
          "Action",
          "Role-Playing",
          "Adventure",
          "Action",
          "Sports",
          "Role-Playing",
          "Shooter",
          "Action",
          "Adventure",
          "Role-Playing",
          "Sports",
          "Action",
          "Racing",
          "Sports",
          "Platform",
          "Adventure",
          "Action",
          "Sports",
          "Shooter",
          "Action",
          "Puzzle",
          "Action",
          "Action",
          "Simulation",
          "Action",
          "Role-Playing",
          "Misc",
          "Misc",
          "Role-Playing",
          "Action",
          "Action",
          "Action",
          "Action",
          "Action",
          "Action",
          "Sports",
          "Simulation",
          "Action",
          "Action",
          "Role-Playing",
          "Action",
          "Shooter",
          "Action",
          "Action",
          "Action",
          "Action",
          "Misc",
          "Fighting",
          "Platform",
          "Action",
          "Platform",
          "Action",
          "Simulation",
          "Sports",
          "Platform",
          "Sports",
          "Role-Playing",
          "Sports",
          "Role-Playing",
          "Racing",
          "Action",
          "Platform",
          "Fighting",
          "Action",
          "Action",
          "Shooter",
          "Action",
          "Strategy",
          "Action",
          "Role-Playing",
          "Sports",
          "Adventure",
          "Action",
          "Fighting",
          "Action",
          "Action",
          "Action",
          "Platform",
          "Fighting",
          "Action",
          "Misc",
          "Role-Playing",
          "Action",
          "Adventure",
          "Adventure",
          "Action",
          "Platform",
          "Racing",
          "Sports",
          "Adventure",
          "Role-Playing",
          "Misc",
          "Action",
          "Sports",
          "Role-Playing",
          "Fighting",
          "Action",
          "Action",
          "Role-Playing",
          "Role-Playing",
          "Strategy",
          "Action",
          "Sports",
          "Misc",
          "Action",
          "Adventure",
          "Racing",
          "Strategy",
          "Action",
          "Action",
          "Sports",
          "Action",
          "Action",
          "Strategy",
          "Fighting",
          "Action",
          "Action",
          "Shooter",
          "Action",
          "Action",
          "Adventure",
          "Action",
          "Action",
          "Action",
          "Action",
          "Action",
          "Misc",
          "Role-Playing",
          "Action",
          "Role-Playing",
          "Role-Playing",
          "Adventure",
          "Fighting",
          "Racing",
          "Action",
          "Adventure",
          "Role-Playing",
          "Action",
          "Role-Playing",
          "Action",
          "Role-Playing",
          "Fighting",
          "Role-Playing",
          "Shooter",
          "Action",
          "Action",
          "Platform",
          "Action",
          "Adventure",
          "Action",
          "Sports",
          "Action",
          "Misc",
          "Sports",
          "Action",
          "Sports",
          "Sports",
          "Action",
          "Role-Playing",
          "Adventure",
          "Racing",
          "Sports",
          "Adventure",
          "Adventure",
          "Shooter",
          "Role-Playing",
          "Action",
          "Sports",
          "Role-Playing",
          "Platform",
          "Sports",
          "Racing",
          "Fighting",
          "Role-Playing",
          "Action",
          "Adventure",
          "Action",
          "Sports",
          "Misc",
          "Role-Playing",
          "Action",
          "Action",
          "Misc",
          "Action",
          "Action",
          "Misc",
          "Action",
          "Misc",
          "Misc",
          "Action",
          "Action",
          "Puzzle",
          "Strategy",
          "Role-Playing",
          "Adventure",
          "Role-Playing",
          "Role-Playing",
          "Action",
          "Action",
          "Strategy",
          "Shooter",
          "Sports",
          "Racing",
          "Action",
          "Action",
          "Racing",
          "Adventure",
          "Action",
          "Action",
          "Racing",
          "Adventure",
          "Adventure",
          "Action",
          "Role-Playing",
          "Action",
          "Adventure",
          "Misc",
          "Racing",
          "Adventure",
          "Action",
          "Role-Playing",
          "Racing",
          "Adventure",
          "Action",
          "Fighting",
          "Role-Playing",
          "Misc",
          "Platform",
          "Sports",
          "Action",
          "Action",
          "Action",
          "Strategy",
          "Action",
          "Action",
          "Action",
          "Action",
          "Action",
          "Role-Playing",
          "Racing",
          "Role-Playing",
          "Adventure",
          "Sports",
          "Action",
          "Adventure",
          "Action",
          "Adventure",
          "Fighting",
          "Shooter",
          "Action",
          "Action",
          "Racing",
          "Action",
          "Role-Playing",
          "Action",
          "Action",
          "Simulation",
          "Action",
          "Misc",
          "Role-Playing",
          "Role-Playing",
          "Adventure",
          "Action",
          "Action",
          "Action",
          "Sports",
          "Action",
          "Role-Playing",
          "Misc",
          "Simulation",
          "Role-Playing",
          "Action",
          "Action",
          "Strategy",
          "Misc",
          "Adventure",
          "Misc",
          "Action",
          "Misc",
          "Action",
          "Sports",
          "Action",
          "Shooter",
          "Action",
          "Action",
          "Action",
          "Fighting",
          "Action",
          "Sports",
          "Shooter",
          "Action",
          "Misc",
          "Sports",
          "Action",
          "Action",
          "Platform",
          "Shooter",
          "Action",
          "Action",
          "Role-Playing",
          "Adventure",
          "Action",
          "Strategy",
          "Misc",
          "Adventure",
          "Action",
          "Strategy",
          "Misc",
          "Action",
          "Strategy",
          "Shooter",
          "Action",
          "Adventure",
          "Action",
          "Adventure",
          "Action",
          "Role-Playing",
          "Role-Playing",
          "Action",
          "Sports",
          "Action",
          "Strategy",
          "Action",
          "Action",
          "Action",
          "Role-Playing",
          "Action",
          "Racing",
          "Role-Playing",
          "Action",
          "Sports",
          "Action",
          "Adventure",
          "Action",
          "Racing",
          "Role-Playing",
          "Role-Playing",
          "Adventure",
          "Simulation",
          "Action",
          "Misc",
          "Action",
          "Role-Playing",
          "Fighting",
          "Misc",
          "Action",
          "Action",
          "Action",
          "Adventure",
          "Misc",
          "Adventure",
          "Platform",
          "Action",
          "Role-Playing",
          "Adventure",
          "Simulation",
          "Adventure",
          "Racing",
          "Action",
          "Action",
          "Role-Playing",
          "Action",
          "Adventure",
          "Action",
          "Platform",
          "Adventure",
          "Misc",
          "Action",
          "Fighting",
          "Role-Playing",
          "Role-Playing",
          "Puzzle",
          "Fighting",
          "Racing",
          "Action",
          "Action",
          "Action",
          "Sports",
          "Action",
          "Role-Playing",
          "Sports",
          "Role-Playing",
          "Misc",
          "Shooter",
          "Simulation",
          "Racing",
          "Action",
          "Action",
          "Action",
          "Fighting",
          "Role-Playing",
          "Sports",
          "Misc",
          "Action",
          "Sports",
          "Fighting",
          "Role-Playing",
          "Action",
          "Role-Playing",
          "Action",
          "Action",
          "Action",
          "Platform",
          "Role-Playing",
          "Racing",
          "Action",
          "Adventure",
          "Role-Playing",
          "Role-Playing",
          "Racing",
          "Misc",
          "Role-Playing",
          "Adventure",
          "Adventure",
          "Action",
          "Misc",
          "Action",
          "Platform",
          "Simulation",
          "Misc",
          "Action",
          "Action",
          "Action",
          "Action",
          "Action",
          "Misc",
          "Adventure",
          "Action",
          "Action",
          "Action",
          "Action",
          "Action",
          "Adventure",
          "Action",
          "Shooter",
          "Adventure",
          "Action",
          "Action",
          "Action",
          "Action",
          "Strategy",
          "Action",
          "Action",
          "Adventure",
          "Adventure",
          "Action",
          "Simulation",
          "Adventure",
          "Adventure",
          "Adventure",
          "Action",
          "Action",
          "Action",
          "Action",
          "Strategy",
          "Action",
          "Action",
          "Action",
          "Misc",
          "Action",
          "Adventure",
          "Action",
          "Action",
          "Role-Playing",
          "Action",
          "Action",
          "Adventure",
          "Adventure",
          "Adventure",
          "Adventure",
          "Adventure",
          "Adventure",
          "Action",
          "Action",
          "Adventure",
          "Action",
          "Fighting",
          "Action",
          "Action",
          "Adventure",
          "Action",
          "Strategy",
          "Sports",
          "Misc",
          "Role-Playing",
          "Action",
          "Adventure",
          "Action",
          "Action",
          "Action",
          "Action",
          "Misc",
          "Action",
          "Action",
          "Adventure",
          "Shooter",
          "Action",
          "Adventure",
          "Fighting",
          "Shooter",
          "Fighting",
          "Action",
          "Misc",
          "Adventure",
          "Simulation",
          "Action",
          "Action",
          "Simulation",
          "Role-Playing",
          "Sports",
          "Sports",
          "Action",
          "Adventure",
          "Puzzle",
          "Adventure",
          "Action",
          "Action",
          "Sports",
          "Role-Playing",
          "Adventure",
          "Adventure",
          "Action",
          "Action",
          "Shooter",
          "Misc",
          "Action",
          "Adventure",
          "Action",
          "Misc",
          "Adventure",
          "Sports",
          "Adventure",
          "Misc",
          "Adventure",
          "Shooter",
          "Action",
          "Adventure",
          "Action",
          "Adventure",
          "Action",
          "Action",
          "Role-Playing",
          "Action",
          "Sports",
          "Sports",
          "Action",
          "Action",
          "Action",
          "Misc",
          "Racing",
          "Action",
          "Adventure",
          "Adventure",
          "Racing",
          "Action",
          "Misc",
          "Sports",
          "Role-Playing",
          "Action",
          "Action",
          "Adventure",
          "Adventure",
          "Puzzle",
          "Simulation",
          "Racing",
          "Action",
          "Action",
          "Adventure",
          "Action",
          "Action",
          "Action",
          "Adventure",
          "Adventure",
          "Sports",
          "Action",
          "Action",
          "Simulation",
          "Strategy",
          "Action",
          "Action",
          "Action",
          "Adventure",
          "Action",
          "Adventure",
          "Action",
          "Action",
          "Adventure",
          "Action",
          "Role-Playing",
          "Action",
          "Action",
          "Action",
          "Action",
          "Action",
          "Action",
          "Sports",
          "Racing",
          "Action",
          "Adventure",
          "Strategy",
          "Adventure",
          "Misc",
          "Action",
          "Action",
          "Simulation",
          "Adventure",
          "Action",
          "Action",
          "Action",
          "Role-Playing",
          "Adventure",
          "Adventure",
          "Action",
          "Sports",
          "Action",
          "Strategy",
          "Shooter",
          "Sports",
          "Sports",
          "Simulation",
          "Racing",
          "Action",
          "Platform",
          "Adventure",
          "Racing",
          "Action",
          "Action",
          "Sports",
          "Action",
          "Sports",
          "Simulation",
          "Action",
          "Action",
          "Action",
          "Misc",
          "Sports",
          "Action",
          "Action",
          "Action",
          "Action",
          "Strategy",
          "Fighting",
          "Action",
          "Action",
          "Action",
          "Puzzle",
          "Action",
          "Strategy",
          "Action",
          "Racing",
          "Action",
          "Adventure",
          "Action",
          "Action",
          "Action",
          "Adventure",
          "Adventure",
          "Action",
          "Adventure",
          "Action",
          "Action",
          "Sports",
          "Simulation",
          "Action",
          "Adventure",
          "Action",
          "Role-Playing",
          "Action",
          "Action",
          "Misc",
          "Simulation"
         ],
         "x0": " ",
         "xaxis": "x",
         "y": [
          14.629999999999999,
          8.58,
          7.98,
          7.6000000000000005,
          7.389999999999999,
          7.17,
          7.14,
          5.39,
          4.62,
          4.49,
          4.470000000000001,
          4.4399999999999995,
          4.22,
          4.07,
          3.9699999999999998,
          3.96,
          3.87,
          3.8,
          3.66,
          3.4200000000000004,
          3.3899999999999997,
          3.32,
          3.28,
          3.25,
          3.2399999999999998,
          3.21,
          3.05,
          2.78,
          2.6999999999999997,
          2.65,
          2.48,
          2.4200000000000004,
          2.42,
          2.42,
          2.34,
          2.34,
          2.29,
          2.2600000000000002,
          2.25,
          2.21,
          2.1700000000000004,
          2.14,
          2.11,
          2.09,
          1.9200000000000002,
          1.8800000000000001,
          1.85,
          1.81,
          1.7999999999999998,
          1.75,
          1.74,
          1.7200000000000002,
          1.7,
          1.6900000000000002,
          1.69,
          1.6700000000000002,
          1.6600000000000001,
          1.6600000000000001,
          1.58,
          1.5699999999999998,
          1.54,
          1.4900000000000002,
          1.49,
          1.3800000000000001,
          1.38,
          1.3399999999999999,
          1.3399999999999999,
          1.33,
          1.3199999999999998,
          1.3,
          1.3,
          1.2900000000000003,
          1.29,
          1.2800000000000002,
          1.2800000000000002,
          1.25,
          1.23,
          1.21,
          1.21,
          1.2000000000000002,
          1.1700000000000002,
          1.17,
          1.14,
          1.13,
          1.11,
          1.1,
          1.08,
          1.0799999999999998,
          1.06,
          1.03,
          1.03,
          1.01,
          0.98,
          0.9700000000000001,
          0.97,
          0.95,
          0.9400000000000001,
          0.9400000000000001,
          0.93,
          0.93,
          0.93,
          0.91,
          0.9,
          0.9,
          0.89,
          0.89,
          0.88,
          0.88,
          0.87,
          0.87,
          0.86,
          0.86,
          0.85,
          0.8400000000000001,
          0.79,
          0.78,
          0.7699999999999999,
          0.7600000000000001,
          0.76,
          0.7500000000000001,
          0.75,
          0.75,
          0.75,
          0.75,
          0.7300000000000001,
          0.7300000000000001,
          0.7300000000000001,
          0.73,
          0.73,
          0.73,
          0.73,
          0.7200000000000001,
          0.71,
          0.7,
          0.6900000000000001,
          0.6900000000000001,
          0.69,
          0.6700000000000002,
          0.67,
          0.6599999999999999,
          0.65,
          0.64,
          0.64,
          0.6399999999999999,
          0.6300000000000001,
          0.63,
          0.63,
          0.6200000000000001,
          0.6200000000000001,
          0.61,
          0.6,
          0.5900000000000001,
          0.5700000000000001,
          0.5700000000000001,
          0.5700000000000001,
          0.56,
          0.56,
          0.56,
          0.56,
          0.5599999999999999,
          0.55,
          0.55,
          0.54,
          0.53,
          0.53,
          0.53,
          0.53,
          0.52,
          0.52,
          0.51,
          0.51,
          0.51,
          0.49000000000000005,
          0.49000000000000005,
          0.49,
          0.48000000000000004,
          0.48000000000000004,
          0.48,
          0.48,
          0.48,
          0.4799999999999999,
          0.47000000000000003,
          0.47,
          0.45999999999999996,
          0.45,
          0.44000000000000006,
          0.44000000000000006,
          0.44,
          0.43,
          0.43,
          0.43,
          0.42000000000000004,
          0.42000000000000004,
          0.42,
          0.42,
          0.42,
          0.41000000000000003,
          0.41000000000000003,
          0.41,
          0.41,
          0.4,
          0.4,
          0.4,
          0.39999999999999997,
          0.39999999999999997,
          0.39999999999999997,
          0.39,
          0.39,
          0.38999999999999996,
          0.38999999999999996,
          0.38,
          0.38,
          0.38,
          0.38,
          0.37999999999999995,
          0.37000000000000005,
          0.37,
          0.37,
          0.37,
          0.37,
          0.37,
          0.36000000000000004,
          0.36000000000000004,
          0.36000000000000004,
          0.36000000000000004,
          0.36,
          0.36,
          0.36,
          0.36,
          0.36,
          0.35000000000000003,
          0.35000000000000003,
          0.35,
          0.34,
          0.34,
          0.34,
          0.34,
          0.33999999999999997,
          0.33999999999999997,
          0.33999999999999997,
          0.33999999999999997,
          0.33,
          0.33,
          0.33,
          0.32000000000000006,
          0.32000000000000006,
          0.32,
          0.32,
          0.31999999999999995,
          0.31999999999999995,
          0.31999999999999995,
          0.31999999999999995,
          0.31000000000000005,
          0.31000000000000005,
          0.31000000000000005,
          0.31,
          0.3,
          0.3,
          0.3,
          0.3,
          0.3,
          0.29000000000000004,
          0.29000000000000004,
          0.29000000000000004,
          0.29000000000000004,
          0.29000000000000004,
          0.29,
          0.28,
          0.28,
          0.27999999999999997,
          0.27,
          0.27,
          0.27,
          0.26999999999999996,
          0.26,
          0.26,
          0.26,
          0.26,
          0.26,
          0.26,
          0.26,
          0.26,
          0.26,
          0.26,
          0.25,
          0.25,
          0.25,
          0.25,
          0.24999999999999997,
          0.24999999999999997,
          0.24999999999999997,
          0.24000000000000002,
          0.24000000000000002,
          0.24000000000000002,
          0.24000000000000002,
          0.24000000000000002,
          0.24,
          0.24,
          0.24,
          0.24,
          0.23,
          0.23,
          0.23,
          0.23,
          0.23,
          0.23,
          0.23,
          0.23,
          0.23,
          0.23,
          0.22999999999999998,
          0.22999999999999998,
          0.22,
          0.22,
          0.22,
          0.22,
          0.22,
          0.22,
          0.21000000000000002,
          0.21,
          0.21,
          0.21,
          0.21,
          0.21,
          0.2,
          0.2,
          0.2,
          0.2,
          0.2,
          0.2,
          0.2,
          0.2,
          0.19999999999999998,
          0.19999999999999998,
          0.19999999999999998,
          0.19999999999999998,
          0.19999999999999998,
          0.19999999999999998,
          0.19999999999999998,
          0.19999999999999998,
          0.19,
          0.19,
          0.19,
          0.19,
          0.19,
          0.18999999999999997,
          0.18999999999999997,
          0.18000000000000002,
          0.18000000000000002,
          0.18,
          0.18,
          0.18,
          0.18,
          0.18,
          0.18,
          0.18,
          0.17,
          0.17,
          0.17,
          0.17,
          0.17,
          0.17,
          0.17,
          0.17,
          0.16999999999999998,
          0.16999999999999998,
          0.16999999999999998,
          0.16999999999999998,
          0.16000000000000003,
          0.16,
          0.16,
          0.16,
          0.16,
          0.16,
          0.16,
          0.15000000000000002,
          0.15000000000000002,
          0.15000000000000002,
          0.15000000000000002,
          0.15000000000000002,
          0.15000000000000002,
          0.15000000000000002,
          0.15,
          0.15,
          0.15,
          0.15,
          0.15,
          0.15,
          0.15,
          0.15,
          0.14,
          0.14,
          0.14,
          0.14,
          0.14,
          0.14,
          0.14,
          0.14,
          0.14,
          0.14,
          0.13999999999999999,
          0.13999999999999999,
          0.13999999999999999,
          0.13999999999999999,
          0.13,
          0.13,
          0.13,
          0.13,
          0.13,
          0.13,
          0.13,
          0.13,
          0.13,
          0.13,
          0.13,
          0.13,
          0.13,
          0.13,
          0.13,
          0.13,
          0.13,
          0.13,
          0.13,
          0.12000000000000001,
          0.12000000000000001,
          0.12000000000000001,
          0.12000000000000001,
          0.12000000000000001,
          0.12000000000000001,
          0.12000000000000001,
          0.12000000000000001,
          0.12000000000000001,
          0.12,
          0.12,
          0.12,
          0.12,
          0.12,
          0.12,
          0.12,
          0.12,
          0.12,
          0.12,
          0.12,
          0.12,
          0.12,
          0.12,
          0.12,
          0.12,
          0.12,
          0.12,
          0.11000000000000001,
          0.11000000000000001,
          0.11,
          0.11,
          0.11,
          0.11,
          0.11,
          0.11,
          0.11,
          0.11,
          0.11,
          0.11,
          0.11,
          0.11,
          0.11,
          0.11,
          0.11,
          0.11,
          0.11,
          0.11,
          0.11,
          0.11,
          0.10999999999999999,
          0.1,
          0.1,
          0.1,
          0.1,
          0.1,
          0.1,
          0.1,
          0.1,
          0.1,
          0.1,
          0.09999999999999999,
          0.09999999999999999,
          0.09999999999999999,
          0.09999999999999999,
          0.09999999999999999,
          0.09999999999999999,
          0.09999999999999999,
          0.09999999999999999,
          0.09999999999999999,
          0.09999999999999999,
          0.09999999999999999,
          0.09999999999999999,
          0.09999999999999999,
          0.09999999999999999,
          0.09000000000000001,
          0.09000000000000001,
          0.09000000000000001,
          0.09,
          0.09,
          0.09,
          0.09,
          0.09,
          0.09,
          0.09,
          0.09,
          0.09,
          0.09,
          0.09,
          0.09,
          0.09,
          0.09,
          0.09,
          0.09,
          0.09,
          0.09,
          0.09,
          0.09,
          0.09,
          0.09,
          0.09,
          0.09,
          0.09,
          0.09,
          0.08,
          0.08,
          0.08,
          0.08,
          0.08,
          0.08,
          0.08,
          0.08,
          0.08,
          0.08,
          0.08,
          0.08,
          0.08,
          0.08,
          0.08,
          0.08,
          0.08,
          0.08,
          0.08,
          0.08,
          0.08,
          0.08,
          0.08,
          0.08,
          0.08,
          0.08,
          0.08,
          0.08,
          0.08,
          0.07999999999999999,
          0.07999999999999999,
          0.07,
          0.07,
          0.07,
          0.07,
          0.07,
          0.07,
          0.07,
          0.07,
          0.07,
          0.07,
          0.07,
          0.07,
          0.07,
          0.07,
          0.07,
          0.06999999999999999,
          0.06999999999999999,
          0.06999999999999999,
          0.06999999999999999,
          0.06999999999999999,
          0.06999999999999999,
          0.06999999999999999,
          0.06999999999999999,
          0.06999999999999999,
          0.06999999999999999,
          0.06999999999999999,
          0.06999999999999999,
          0.06999999999999999,
          0.06999999999999999,
          0.06999999999999999,
          0.06999999999999999,
          0.060000000000000005,
          0.060000000000000005,
          0.060000000000000005,
          0.060000000000000005,
          0.060000000000000005,
          0.060000000000000005,
          0.060000000000000005,
          0.060000000000000005,
          0.060000000000000005,
          0.060000000000000005,
          0.060000000000000005,
          0.060000000000000005,
          0.060000000000000005,
          0.060000000000000005,
          0.060000000000000005,
          0.060000000000000005,
          0.060000000000000005,
          0.060000000000000005,
          0.060000000000000005,
          0.060000000000000005,
          0.060000000000000005,
          0.060000000000000005,
          0.060000000000000005,
          0.060000000000000005,
          0.060000000000000005,
          0.060000000000000005,
          0.060000000000000005,
          0.06,
          0.06,
          0.06,
          0.06,
          0.06,
          0.06,
          0.06,
          0.06,
          0.06,
          0.06,
          0.06,
          0.06,
          0.06,
          0.06,
          0.06,
          0.06,
          0.06,
          0.06,
          0.06,
          0.06,
          0.05,
          0.05,
          0.05,
          0.05,
          0.05,
          0.05,
          0.05,
          0.05,
          0.05,
          0.05,
          0.05,
          0.05,
          0.05,
          0.05,
          0.05,
          0.05,
          0.05,
          0.05,
          0.05,
          0.05,
          0.05,
          0.05,
          0.05,
          0.05,
          0.05,
          0.05,
          0.05,
          0.05,
          0.05,
          0.05,
          0.05,
          0.05,
          0.05,
          0.05,
          0.05,
          0.05,
          0.05,
          0.05,
          0.05,
          0.05,
          0.05,
          0.05,
          0.05,
          0.05,
          0.05,
          0.05,
          0.05,
          0.05,
          0.05,
          0.05,
          0.05,
          0.05,
          0.05,
          0.05,
          0.05,
          0.05,
          0.04,
          0.04,
          0.04,
          0.04,
          0.04,
          0.04,
          0.04,
          0.04,
          0.04,
          0.04,
          0.04,
          0.04,
          0.04,
          0.04,
          0.04,
          0.04,
          0.04,
          0.04,
          0.04,
          0.04,
          0.04,
          0.04,
          0.04,
          0.04,
          0.04,
          0.04,
          0.04,
          0.04,
          0.04,
          0.04,
          0.04,
          0.04,
          0.04,
          0.04,
          0.04,
          0.04,
          0.04,
          0.04,
          0.04,
          0.04,
          0.04,
          0.04,
          0.04,
          0.04,
          0.04,
          0.04,
          0.04,
          0.04,
          0.04,
          0.04,
          0.04,
          0.04,
          0.04,
          0.04,
          0.04,
          0.04,
          0.04,
          0.04,
          0.03,
          0.03,
          0.03,
          0.03,
          0.03,
          0.03,
          0.03,
          0.03,
          0.03,
          0.03,
          0.03,
          0.03,
          0.03,
          0.03,
          0.03,
          0.03,
          0.03,
          0.03,
          0.03,
          0.03,
          0.03,
          0.03,
          0.03,
          0.03,
          0.03,
          0.03,
          0.03,
          0.03,
          0.03,
          0.03,
          0.03,
          0.03,
          0.03,
          0.03,
          0.03,
          0.03,
          0.03,
          0.03,
          0.03,
          0.03,
          0.03,
          0.03,
          0.03,
          0.03,
          0.03,
          0.03,
          0.03,
          0.03,
          0.03,
          0.03,
          0.03,
          0.03,
          0.03,
          0.03,
          0.03,
          0.03,
          0.03,
          0.03,
          0.03,
          0.03,
          0.03,
          0.03,
          0.03,
          0.03,
          0.03,
          0.03,
          0.03,
          0.03,
          0.03,
          0.03,
          0.03,
          0.03,
          0.03,
          0.03,
          0.03,
          0.03,
          0.03,
          0.03,
          0.03,
          0.03,
          0.03,
          0.03,
          0.03,
          0.03,
          0.03,
          0.03,
          0.03,
          0.03,
          0.03,
          0.03,
          0.03,
          0.03,
          0.03,
          0.03,
          0.03,
          0.03,
          0.03,
          0.03,
          0.03,
          0.03,
          0.03,
          0.03,
          0.03,
          0.02,
          0.02,
          0.02,
          0.02,
          0.02,
          0.02,
          0.02,
          0.02,
          0.02,
          0.02,
          0.02,
          0.02,
          0.02,
          0.02,
          0.02,
          0.02,
          0.02,
          0.02,
          0.02,
          0.02,
          0.02,
          0.02,
          0.02,
          0.02,
          0.02,
          0.02,
          0.02,
          0.02,
          0.02,
          0.02,
          0.02,
          0.02,
          0.02,
          0.02,
          0.02,
          0.02,
          0.02,
          0.02,
          0.02,
          0.02,
          0.02,
          0.02,
          0.02,
          0.02,
          0.02,
          0.02,
          0.02,
          0.02,
          0.02,
          0.02,
          0.02,
          0.02,
          0.02,
          0.02,
          0.02,
          0.02,
          0.02,
          0.02,
          0.02,
          0.02,
          0.02,
          0.02,
          0.02,
          0.02,
          0.02,
          0.02,
          0.02,
          0.02,
          0.02,
          0.02,
          0.02,
          0.02,
          0.02,
          0.02,
          0.02,
          0.02,
          0.02,
          0.02,
          0.02,
          0.02,
          0.02,
          0.02,
          0.02,
          0.02,
          0.02,
          0.02,
          0.02,
          0.02,
          0.02,
          0.02,
          0.02,
          0.02,
          0.02,
          0.02,
          0.02,
          0.02,
          0.02,
          0.02,
          0.02,
          0.02,
          0.02,
          0.02,
          0.02,
          0.02,
          0.02,
          0.02,
          0.02,
          0.02,
          0.02,
          0.02,
          0.02,
          0.02,
          0.02,
          0.02,
          0.02,
          0.02,
          0.02,
          0.02,
          0.02,
          0.02,
          0.02,
          0.02,
          0.02,
          0.02,
          0.02,
          0.02,
          0.02,
          0.02,
          0.02,
          0.02,
          0.02,
          0.02,
          0.02,
          0.02,
          0.01,
          0.01,
          0.01,
          0.01,
          0.01,
          0.01,
          0.01,
          0.01,
          0.01,
          0.01,
          0.01,
          0.01,
          0.01,
          0.01,
          0.01,
          0.01,
          0.01,
          0.01,
          0.01,
          0.01,
          0.01,
          0.01,
          0.01,
          0.01,
          0.01,
          0.01,
          0.01,
          0.01,
          0.01,
          0.01,
          0.01,
          0.01,
          0.01,
          0.01,
          0.01,
          0.01,
          0.01,
          0.01,
          0.01,
          0.01,
          0.01,
          0.01,
          0.01,
          0.01,
          0.01,
          0.01,
          0.01,
          0.01,
          0.01,
          0.01,
          0.01,
          0.01,
          0.01,
          0.01,
          0.01,
          0.01,
          0.01,
          0.01,
          0.01,
          0.01,
          0.01,
          0.01,
          0.01,
          0.01,
          0.01,
          0.01,
          0.01,
          0.01,
          0.01,
          0.01,
          0.01,
          0.01,
          0.01,
          0.01,
          0.01,
          0.01,
          0.01,
          0.01,
          0.01,
          0.01,
          0.01,
          0.01,
          0.01,
          0.01,
          0.01,
          0.01,
          0.01,
          0.01,
          0.01,
          0.01,
          0.01,
          0.01,
          0.01,
          0.01,
          0.01,
          0.01,
          0.01,
          0.01,
          0.01,
          0.01,
          0.01,
          0.01,
          0.01,
          0.01,
          0.01,
          0.01,
          0.01,
          0.01,
          0.01,
          0.01,
          0.01,
          0.01,
          0.01,
          0.01,
          0.01,
          0.01,
          0.01,
          0.01,
          0.01,
          0.01,
          0.01,
          0.01
         ],
         "y0": " ",
         "yaxis": "y"
        }
       ],
       "layout": {
        "boxmode": "group",
        "legend": {
         "tracegroupgap": 0
        },
        "template": {
         "data": {
          "bar": [
           {
            "error_x": {
             "color": "#2a3f5f"
            },
            "error_y": {
             "color": "#2a3f5f"
            },
            "marker": {
             "line": {
              "color": "#E5ECF6",
              "width": 0.5
             },
             "pattern": {
              "fillmode": "overlay",
              "size": 10,
              "solidity": 0.2
             }
            },
            "type": "bar"
           }
          ],
          "barpolar": [
           {
            "marker": {
             "line": {
              "color": "#E5ECF6",
              "width": 0.5
             },
             "pattern": {
              "fillmode": "overlay",
              "size": 10,
              "solidity": 0.2
             }
            },
            "type": "barpolar"
           }
          ],
          "carpet": [
           {
            "aaxis": {
             "endlinecolor": "#2a3f5f",
             "gridcolor": "white",
             "linecolor": "white",
             "minorgridcolor": "white",
             "startlinecolor": "#2a3f5f"
            },
            "baxis": {
             "endlinecolor": "#2a3f5f",
             "gridcolor": "white",
             "linecolor": "white",
             "minorgridcolor": "white",
             "startlinecolor": "#2a3f5f"
            },
            "type": "carpet"
           }
          ],
          "choropleth": [
           {
            "colorbar": {
             "outlinewidth": 0,
             "ticks": ""
            },
            "type": "choropleth"
           }
          ],
          "contour": [
           {
            "colorbar": {
             "outlinewidth": 0,
             "ticks": ""
            },
            "colorscale": [
             [
              0,
              "#0d0887"
             ],
             [
              0.1111111111111111,
              "#46039f"
             ],
             [
              0.2222222222222222,
              "#7201a8"
             ],
             [
              0.3333333333333333,
              "#9c179e"
             ],
             [
              0.4444444444444444,
              "#bd3786"
             ],
             [
              0.5555555555555556,
              "#d8576b"
             ],
             [
              0.6666666666666666,
              "#ed7953"
             ],
             [
              0.7777777777777778,
              "#fb9f3a"
             ],
             [
              0.8888888888888888,
              "#fdca26"
             ],
             [
              1,
              "#f0f921"
             ]
            ],
            "type": "contour"
           }
          ],
          "contourcarpet": [
           {
            "colorbar": {
             "outlinewidth": 0,
             "ticks": ""
            },
            "type": "contourcarpet"
           }
          ],
          "heatmap": [
           {
            "colorbar": {
             "outlinewidth": 0,
             "ticks": ""
            },
            "colorscale": [
             [
              0,
              "#0d0887"
             ],
             [
              0.1111111111111111,
              "#46039f"
             ],
             [
              0.2222222222222222,
              "#7201a8"
             ],
             [
              0.3333333333333333,
              "#9c179e"
             ],
             [
              0.4444444444444444,
              "#bd3786"
             ],
             [
              0.5555555555555556,
              "#d8576b"
             ],
             [
              0.6666666666666666,
              "#ed7953"
             ],
             [
              0.7777777777777778,
              "#fb9f3a"
             ],
             [
              0.8888888888888888,
              "#fdca26"
             ],
             [
              1,
              "#f0f921"
             ]
            ],
            "type": "heatmap"
           }
          ],
          "heatmapgl": [
           {
            "colorbar": {
             "outlinewidth": 0,
             "ticks": ""
            },
            "colorscale": [
             [
              0,
              "#0d0887"
             ],
             [
              0.1111111111111111,
              "#46039f"
             ],
             [
              0.2222222222222222,
              "#7201a8"
             ],
             [
              0.3333333333333333,
              "#9c179e"
             ],
             [
              0.4444444444444444,
              "#bd3786"
             ],
             [
              0.5555555555555556,
              "#d8576b"
             ],
             [
              0.6666666666666666,
              "#ed7953"
             ],
             [
              0.7777777777777778,
              "#fb9f3a"
             ],
             [
              0.8888888888888888,
              "#fdca26"
             ],
             [
              1,
              "#f0f921"
             ]
            ],
            "type": "heatmapgl"
           }
          ],
          "histogram": [
           {
            "marker": {
             "pattern": {
              "fillmode": "overlay",
              "size": 10,
              "solidity": 0.2
             }
            },
            "type": "histogram"
           }
          ],
          "histogram2d": [
           {
            "colorbar": {
             "outlinewidth": 0,
             "ticks": ""
            },
            "colorscale": [
             [
              0,
              "#0d0887"
             ],
             [
              0.1111111111111111,
              "#46039f"
             ],
             [
              0.2222222222222222,
              "#7201a8"
             ],
             [
              0.3333333333333333,
              "#9c179e"
             ],
             [
              0.4444444444444444,
              "#bd3786"
             ],
             [
              0.5555555555555556,
              "#d8576b"
             ],
             [
              0.6666666666666666,
              "#ed7953"
             ],
             [
              0.7777777777777778,
              "#fb9f3a"
             ],
             [
              0.8888888888888888,
              "#fdca26"
             ],
             [
              1,
              "#f0f921"
             ]
            ],
            "type": "histogram2d"
           }
          ],
          "histogram2dcontour": [
           {
            "colorbar": {
             "outlinewidth": 0,
             "ticks": ""
            },
            "colorscale": [
             [
              0,
              "#0d0887"
             ],
             [
              0.1111111111111111,
              "#46039f"
             ],
             [
              0.2222222222222222,
              "#7201a8"
             ],
             [
              0.3333333333333333,
              "#9c179e"
             ],
             [
              0.4444444444444444,
              "#bd3786"
             ],
             [
              0.5555555555555556,
              "#d8576b"
             ],
             [
              0.6666666666666666,
              "#ed7953"
             ],
             [
              0.7777777777777778,
              "#fb9f3a"
             ],
             [
              0.8888888888888888,
              "#fdca26"
             ],
             [
              1,
              "#f0f921"
             ]
            ],
            "type": "histogram2dcontour"
           }
          ],
          "mesh3d": [
           {
            "colorbar": {
             "outlinewidth": 0,
             "ticks": ""
            },
            "type": "mesh3d"
           }
          ],
          "parcoords": [
           {
            "line": {
             "colorbar": {
              "outlinewidth": 0,
              "ticks": ""
             }
            },
            "type": "parcoords"
           }
          ],
          "pie": [
           {
            "automargin": true,
            "type": "pie"
           }
          ],
          "scatter": [
           {
            "fillpattern": {
             "fillmode": "overlay",
             "size": 10,
             "solidity": 0.2
            },
            "type": "scatter"
           }
          ],
          "scatter3d": [
           {
            "line": {
             "colorbar": {
              "outlinewidth": 0,
              "ticks": ""
             }
            },
            "marker": {
             "colorbar": {
              "outlinewidth": 0,
              "ticks": ""
             }
            },
            "type": "scatter3d"
           }
          ],
          "scattercarpet": [
           {
            "marker": {
             "colorbar": {
              "outlinewidth": 0,
              "ticks": ""
             }
            },
            "type": "scattercarpet"
           }
          ],
          "scattergeo": [
           {
            "marker": {
             "colorbar": {
              "outlinewidth": 0,
              "ticks": ""
             }
            },
            "type": "scattergeo"
           }
          ],
          "scattergl": [
           {
            "marker": {
             "colorbar": {
              "outlinewidth": 0,
              "ticks": ""
             }
            },
            "type": "scattergl"
           }
          ],
          "scattermapbox": [
           {
            "marker": {
             "colorbar": {
              "outlinewidth": 0,
              "ticks": ""
             }
            },
            "type": "scattermapbox"
           }
          ],
          "scatterpolar": [
           {
            "marker": {
             "colorbar": {
              "outlinewidth": 0,
              "ticks": ""
             }
            },
            "type": "scatterpolar"
           }
          ],
          "scatterpolargl": [
           {
            "marker": {
             "colorbar": {
              "outlinewidth": 0,
              "ticks": ""
             }
            },
            "type": "scatterpolargl"
           }
          ],
          "scatterternary": [
           {
            "marker": {
             "colorbar": {
              "outlinewidth": 0,
              "ticks": ""
             }
            },
            "type": "scatterternary"
           }
          ],
          "surface": [
           {
            "colorbar": {
             "outlinewidth": 0,
             "ticks": ""
            },
            "colorscale": [
             [
              0,
              "#0d0887"
             ],
             [
              0.1111111111111111,
              "#46039f"
             ],
             [
              0.2222222222222222,
              "#7201a8"
             ],
             [
              0.3333333333333333,
              "#9c179e"
             ],
             [
              0.4444444444444444,
              "#bd3786"
             ],
             [
              0.5555555555555556,
              "#d8576b"
             ],
             [
              0.6666666666666666,
              "#ed7953"
             ],
             [
              0.7777777777777778,
              "#fb9f3a"
             ],
             [
              0.8888888888888888,
              "#fdca26"
             ],
             [
              1,
              "#f0f921"
             ]
            ],
            "type": "surface"
           }
          ],
          "table": [
           {
            "cells": {
             "fill": {
              "color": "#EBF0F8"
             },
             "line": {
              "color": "white"
             }
            },
            "header": {
             "fill": {
              "color": "#C8D4E3"
             },
             "line": {
              "color": "white"
             }
            },
            "type": "table"
           }
          ]
         },
         "layout": {
          "annotationdefaults": {
           "arrowcolor": "#2a3f5f",
           "arrowhead": 0,
           "arrowwidth": 1
          },
          "autotypenumbers": "strict",
          "coloraxis": {
           "colorbar": {
            "outlinewidth": 0,
            "ticks": ""
           }
          },
          "colorscale": {
           "diverging": [
            [
             0,
             "#8e0152"
            ],
            [
             0.1,
             "#c51b7d"
            ],
            [
             0.2,
             "#de77ae"
            ],
            [
             0.3,
             "#f1b6da"
            ],
            [
             0.4,
             "#fde0ef"
            ],
            [
             0.5,
             "#f7f7f7"
            ],
            [
             0.6,
             "#e6f5d0"
            ],
            [
             0.7,
             "#b8e186"
            ],
            [
             0.8,
             "#7fbc41"
            ],
            [
             0.9,
             "#4d9221"
            ],
            [
             1,
             "#276419"
            ]
           ],
           "sequential": [
            [
             0,
             "#0d0887"
            ],
            [
             0.1111111111111111,
             "#46039f"
            ],
            [
             0.2222222222222222,
             "#7201a8"
            ],
            [
             0.3333333333333333,
             "#9c179e"
            ],
            [
             0.4444444444444444,
             "#bd3786"
            ],
            [
             0.5555555555555556,
             "#d8576b"
            ],
            [
             0.6666666666666666,
             "#ed7953"
            ],
            [
             0.7777777777777778,
             "#fb9f3a"
            ],
            [
             0.8888888888888888,
             "#fdca26"
            ],
            [
             1,
             "#f0f921"
            ]
           ],
           "sequentialminus": [
            [
             0,
             "#0d0887"
            ],
            [
             0.1111111111111111,
             "#46039f"
            ],
            [
             0.2222222222222222,
             "#7201a8"
            ],
            [
             0.3333333333333333,
             "#9c179e"
            ],
            [
             0.4444444444444444,
             "#bd3786"
            ],
            [
             0.5555555555555556,
             "#d8576b"
            ],
            [
             0.6666666666666666,
             "#ed7953"
            ],
            [
             0.7777777777777778,
             "#fb9f3a"
            ],
            [
             0.8888888888888888,
             "#fdca26"
            ],
            [
             1,
             "#f0f921"
            ]
           ]
          },
          "colorway": [
           "#636efa",
           "#EF553B",
           "#00cc96",
           "#ab63fa",
           "#FFA15A",
           "#19d3f3",
           "#FF6692",
           "#B6E880",
           "#FF97FF",
           "#FECB52"
          ],
          "font": {
           "color": "#2a3f5f"
          },
          "geo": {
           "bgcolor": "white",
           "lakecolor": "white",
           "landcolor": "#E5ECF6",
           "showlakes": true,
           "showland": true,
           "subunitcolor": "white"
          },
          "hoverlabel": {
           "align": "left"
          },
          "hovermode": "closest",
          "mapbox": {
           "style": "light"
          },
          "paper_bgcolor": "white",
          "plot_bgcolor": "#E5ECF6",
          "polar": {
           "angularaxis": {
            "gridcolor": "white",
            "linecolor": "white",
            "ticks": ""
           },
           "bgcolor": "#E5ECF6",
           "radialaxis": {
            "gridcolor": "white",
            "linecolor": "white",
            "ticks": ""
           }
          },
          "scene": {
           "xaxis": {
            "backgroundcolor": "#E5ECF6",
            "gridcolor": "white",
            "gridwidth": 2,
            "linecolor": "white",
            "showbackground": true,
            "ticks": "",
            "zerolinecolor": "white"
           },
           "yaxis": {
            "backgroundcolor": "#E5ECF6",
            "gridcolor": "white",
            "gridwidth": 2,
            "linecolor": "white",
            "showbackground": true,
            "ticks": "",
            "zerolinecolor": "white"
           },
           "zaxis": {
            "backgroundcolor": "#E5ECF6",
            "gridcolor": "white",
            "gridwidth": 2,
            "linecolor": "white",
            "showbackground": true,
            "ticks": "",
            "zerolinecolor": "white"
           }
          },
          "shapedefaults": {
           "line": {
            "color": "#2a3f5f"
           }
          },
          "ternary": {
           "aaxis": {
            "gridcolor": "white",
            "linecolor": "white",
            "ticks": ""
           },
           "baxis": {
            "gridcolor": "white",
            "linecolor": "white",
            "ticks": ""
           },
           "bgcolor": "#E5ECF6",
           "caxis": {
            "gridcolor": "white",
            "linecolor": "white",
            "ticks": ""
           }
          },
          "title": {
           "x": 0.05
          },
          "xaxis": {
           "automargin": true,
           "gridcolor": "white",
           "linecolor": "white",
           "ticks": "",
           "title": {
            "standoff": 15
           },
           "zerolinecolor": "white",
           "zerolinewidth": 2
          },
          "yaxis": {
           "automargin": true,
           "gridcolor": "white",
           "linecolor": "white",
           "ticks": "",
           "title": {
            "standoff": 15
           },
           "zerolinecolor": "white",
           "zerolinewidth": 2
          }
         }
        },
        "title": {
         "text": "Relationship between Sales and Genre"
        },
        "xaxis": {
         "anchor": "y",
         "domain": [
          0,
          1
         ],
         "title": {
          "text": "Genre"
         }
        },
        "yaxis": {
         "anchor": "x",
         "domain": [
          0,
          1
         ],
         "title": {
          "text": "Total Revenue"
         }
        }
       }
      }
     },
     "metadata": {},
     "output_type": "display_data"
    },
    {
     "data": {
      "application/vnd.plotly.v1+json": {
       "config": {
        "plotlyServerURL": "https://plot.ly"
       },
       "data": [
        {
         "alignmentgroup": "True",
         "hovertemplate": "Genre=%{x}<br>Total Revenue=%{y}<extra></extra>",
         "legendgroup": "",
         "marker": {
          "color": "#636efa"
         },
         "name": "",
         "notched": false,
         "offsetgroup": "",
         "orientation": "v",
         "showlegend": false,
         "type": "box",
         "x": [
          "Shooter",
          "Sports",
          "Shooter",
          "Sports",
          "Shooter",
          "Role-Playing",
          "Role-Playing",
          "Shooter",
          "Action",
          "Shooter",
          "Shooter",
          "Shooter",
          "Role-Playing",
          "Shooter",
          "Role-Playing",
          "Action",
          "Sports",
          "Shooter",
          "Shooter",
          "Action",
          "Action",
          "Action",
          "Shooter",
          "Sports",
          "Sports",
          "Platform",
          "Simulation",
          "Fighting",
          "Sports",
          "Sports",
          "Action",
          "Shooter",
          "Racing",
          "Sports",
          "Sports",
          "Action",
          "Action",
          "Action",
          "Shooter",
          "Shooter",
          "Shooter",
          "Shooter",
          "Shooter",
          "Action",
          "Shooter",
          "Sports",
          "Action",
          "Action",
          "Racing",
          "Role-Playing",
          "Sports",
          "Shooter",
          "Shooter",
          "Action",
          "Shooter",
          "Role-Playing",
          "Adventure",
          "Role-Playing",
          "Misc",
          "Sports",
          "Platform",
          "Action",
          "Shooter",
          "Adventure",
          "Fighting",
          "Shooter",
          "Shooter",
          "Action",
          "Role-Playing",
          "Role-Playing",
          "Platform",
          "Action",
          "Action",
          "Role-Playing",
          "Role-Playing",
          "Role-Playing",
          "Sports",
          "Sports",
          "Shooter",
          "Shooter",
          "Action",
          "Action",
          "Fighting",
          "Action",
          "Action",
          "Fighting",
          "Racing",
          "Racing",
          "Shooter",
          "Action",
          "Sports",
          "Fighting",
          "Role-Playing",
          "Shooter",
          "Sports",
          "Misc",
          "Sports",
          "Adventure",
          "Sports",
          "Action",
          "Sports",
          "Action",
          "Fighting",
          "Action",
          "Action",
          "Adventure",
          "Action",
          "Shooter",
          "Action",
          "Action",
          "Misc",
          "Role-Playing",
          "Action",
          "Role-Playing",
          "Misc",
          "Sports",
          "Sports",
          "Shooter",
          "Shooter",
          "Misc",
          "Role-Playing",
          "Action",
          "Misc",
          "Role-Playing",
          "Role-Playing",
          "Sports",
          "Sports",
          "Action",
          "Action",
          "Action",
          "Action",
          "Role-Playing",
          "Action",
          "Action",
          "Adventure",
          "Adventure",
          "Racing",
          "Misc",
          "Racing",
          "Action",
          "Simulation",
          "Action",
          "Action",
          "Action",
          "Shooter",
          "Role-Playing",
          "Sports",
          "Action",
          "Action",
          "Role-Playing",
          "Sports",
          "Sports",
          "Misc",
          "Role-Playing",
          "Shooter",
          "Role-Playing",
          "Adventure",
          "Action",
          "Action",
          "Action",
          "Misc",
          "Shooter",
          "Action",
          "Action",
          "Action",
          "Shooter",
          "Action",
          "Strategy",
          "Action",
          "Action",
          "Platform",
          "Sports",
          "Fighting",
          "Shooter",
          "Action",
          "Puzzle",
          "Action",
          "Action",
          "Role-Playing",
          "Sports",
          "Shooter",
          "Action",
          "Misc",
          "Action",
          "Sports",
          "Sports",
          "Action",
          "Action",
          "Shooter",
          "Sports",
          "Action",
          "Role-Playing",
          "Misc",
          "Simulation",
          "Action",
          "Sports",
          "Shooter",
          "Role-Playing",
          "Action",
          "Shooter",
          "Role-Playing",
          "Role-Playing",
          "Action",
          "Sports",
          "Adventure",
          "Action",
          "Sports",
          "Action",
          "Role-Playing",
          "Adventure",
          "Misc",
          "Shooter",
          "Role-Playing",
          "Sports",
          "Racing",
          "Shooter",
          "Shooter",
          "Action",
          "Role-Playing",
          "Action",
          "Simulation",
          "Simulation",
          "Shooter",
          "Misc",
          "Sports",
          "Fighting",
          "Simulation",
          "Action",
          "Role-Playing",
          "Racing",
          "Shooter",
          "Simulation",
          "Shooter",
          "Action",
          "Action",
          "Role-Playing",
          "Platform",
          "Fighting",
          "Action",
          "Role-Playing",
          "Action",
          "Action",
          "Sports",
          "Fighting",
          "Misc",
          "Role-Playing",
          "Simulation",
          "Misc",
          "Adventure",
          "Action",
          "Misc",
          "Fighting",
          "Fighting",
          "Misc",
          "Misc",
          "Action",
          "Sports",
          "Action",
          "Action",
          "Role-Playing",
          "Action",
          "Action",
          "Action",
          "Shooter",
          "Shooter",
          "Action",
          "Role-Playing",
          "Action",
          "Action",
          "Role-Playing",
          "Action",
          "Action",
          "Adventure",
          "Misc",
          "Action",
          "Strategy",
          "Platform",
          "Fighting",
          "Shooter",
          "Sports",
          "Racing",
          "Shooter",
          "Action",
          "Misc",
          "Action",
          "Role-Playing",
          "Role-Playing",
          "Role-Playing",
          "Role-Playing",
          "Platform",
          "Racing",
          "Sports",
          "Shooter",
          "Sports",
          "Action",
          "Role-Playing",
          "Strategy",
          "Role-Playing",
          "Strategy",
          "Action",
          "Action",
          "Racing",
          "Action",
          "Misc",
          "Role-Playing",
          "Role-Playing",
          "Shooter",
          "Action",
          "Action",
          "Fighting",
          "Strategy",
          "Action",
          "Action",
          "Simulation",
          "Action",
          "Shooter",
          "Strategy",
          "Action",
          "Action",
          "Platform",
          "Action",
          "Role-Playing",
          "Strategy",
          "Role-Playing",
          "Action",
          "Role-Playing",
          "Simulation",
          "Sports",
          "Action",
          "Role-Playing",
          "Role-Playing",
          "Action",
          "Role-Playing",
          "Simulation",
          "Sports",
          "Action",
          "Action",
          "Shooter",
          "Action",
          "Shooter",
          "Action",
          "Action",
          "Action",
          "Misc",
          "Action",
          "Misc",
          "Platform",
          "Adventure",
          "Action",
          "Misc",
          "Sports",
          "Action",
          "Fighting",
          "Shooter",
          "Action",
          "Sports",
          "Role-Playing",
          "Action",
          "Action",
          "Action",
          "Role-Playing",
          "Sports",
          "Sports",
          "Action",
          "Racing",
          "Action",
          "Sports",
          "Action",
          "Simulation",
          "Adventure",
          "Platform",
          "Role-Playing",
          "Action",
          "Role-Playing",
          "Action",
          "Shooter",
          "Action",
          "Action",
          "Action",
          "Action",
          "Shooter",
          "Role-Playing",
          "Action",
          "Platform",
          "Action",
          "Role-Playing",
          "Action",
          "Action",
          "Misc",
          "Fighting",
          "Shooter",
          "Action",
          "Action",
          "Sports",
          "Shooter",
          "Sports",
          "Simulation",
          "Action",
          "Action",
          "Role-Playing",
          "Action",
          "Action",
          "Strategy",
          "Platform",
          "Strategy",
          "Action",
          "Racing",
          "Action",
          "Racing",
          "Action",
          "Action",
          "Sports",
          "Action",
          "Misc",
          "Adventure",
          "Adventure",
          "Action",
          "Action",
          "Action",
          "Shooter",
          "Action",
          "Action",
          "Action",
          "Action",
          "Role-Playing",
          "Role-Playing",
          "Sports",
          "Action",
          "Simulation",
          "Role-Playing",
          "Sports",
          "Action",
          "Sports",
          "Sports",
          "Sports",
          "Action",
          "Role-Playing",
          "Action",
          "Role-Playing",
          "Adventure",
          "Action",
          "Sports",
          "Role-Playing",
          "Shooter",
          "Action",
          "Adventure",
          "Role-Playing",
          "Sports",
          "Action",
          "Racing",
          "Sports",
          "Platform",
          "Adventure",
          "Action",
          "Sports",
          "Shooter",
          "Action",
          "Puzzle",
          "Action",
          "Action",
          "Simulation",
          "Action",
          "Role-Playing",
          "Misc",
          "Misc",
          "Role-Playing",
          "Action",
          "Action",
          "Action",
          "Action",
          "Action",
          "Action",
          "Sports",
          "Simulation",
          "Action",
          "Action",
          "Role-Playing",
          "Action",
          "Shooter",
          "Action",
          "Action",
          "Action",
          "Action",
          "Misc",
          "Fighting",
          "Platform",
          "Action",
          "Platform",
          "Action",
          "Simulation",
          "Sports",
          "Platform",
          "Sports",
          "Role-Playing",
          "Sports",
          "Role-Playing",
          "Racing",
          "Action",
          "Platform",
          "Fighting",
          "Action",
          "Action",
          "Shooter",
          "Action",
          "Strategy",
          "Action",
          "Role-Playing",
          "Sports",
          "Adventure",
          "Action",
          "Fighting",
          "Action",
          "Action",
          "Action",
          "Platform",
          "Fighting",
          "Action",
          "Misc",
          "Role-Playing",
          "Action",
          "Adventure",
          "Adventure",
          "Action",
          "Platform",
          "Racing",
          "Sports",
          "Adventure",
          "Role-Playing",
          "Misc",
          "Action",
          "Sports",
          "Role-Playing",
          "Fighting",
          "Action",
          "Action",
          "Role-Playing",
          "Role-Playing",
          "Strategy",
          "Action",
          "Sports",
          "Misc",
          "Action",
          "Adventure",
          "Racing",
          "Strategy",
          "Action",
          "Action",
          "Sports",
          "Action",
          "Action",
          "Strategy",
          "Fighting",
          "Action",
          "Action",
          "Shooter",
          "Action",
          "Action",
          "Adventure",
          "Action",
          "Action",
          "Action",
          "Action",
          "Action",
          "Misc",
          "Role-Playing",
          "Action",
          "Role-Playing",
          "Role-Playing",
          "Adventure",
          "Fighting",
          "Racing",
          "Action",
          "Adventure",
          "Role-Playing",
          "Action",
          "Role-Playing",
          "Action",
          "Role-Playing",
          "Fighting",
          "Role-Playing",
          "Shooter",
          "Action",
          "Action",
          "Platform",
          "Action",
          "Adventure",
          "Action",
          "Sports",
          "Action",
          "Misc",
          "Sports",
          "Action",
          "Sports",
          "Sports",
          "Action",
          "Role-Playing",
          "Adventure",
          "Racing",
          "Sports",
          "Adventure",
          "Adventure",
          "Shooter",
          "Role-Playing",
          "Action",
          "Sports",
          "Role-Playing",
          "Platform",
          "Sports",
          "Racing",
          "Fighting",
          "Role-Playing",
          "Action",
          "Adventure",
          "Action",
          "Sports",
          "Misc",
          "Role-Playing",
          "Action",
          "Action",
          "Misc",
          "Action",
          "Action",
          "Misc",
          "Action",
          "Misc",
          "Misc",
          "Action",
          "Action",
          "Puzzle",
          "Strategy",
          "Role-Playing",
          "Adventure",
          "Role-Playing",
          "Role-Playing",
          "Action",
          "Action",
          "Strategy",
          "Shooter",
          "Sports",
          "Racing",
          "Action",
          "Action",
          "Racing",
          "Adventure",
          "Action",
          "Action",
          "Racing",
          "Adventure",
          "Adventure",
          "Action",
          "Role-Playing",
          "Action",
          "Adventure",
          "Misc",
          "Racing",
          "Adventure",
          "Action",
          "Role-Playing",
          "Racing",
          "Adventure",
          "Action",
          "Fighting",
          "Role-Playing",
          "Misc",
          "Platform",
          "Sports",
          "Action",
          "Action",
          "Action",
          "Strategy",
          "Action",
          "Action",
          "Action",
          "Action",
          "Action",
          "Role-Playing",
          "Racing",
          "Role-Playing",
          "Adventure",
          "Sports",
          "Action",
          "Adventure",
          "Action",
          "Adventure",
          "Fighting",
          "Shooter",
          "Action",
          "Action",
          "Racing",
          "Action",
          "Role-Playing",
          "Action",
          "Action",
          "Simulation",
          "Action",
          "Misc",
          "Role-Playing",
          "Role-Playing",
          "Adventure",
          "Action",
          "Action",
          "Action",
          "Sports",
          "Action",
          "Role-Playing",
          "Misc",
          "Simulation",
          "Role-Playing",
          "Action",
          "Action",
          "Strategy",
          "Misc",
          "Adventure",
          "Misc",
          "Action",
          "Misc",
          "Action",
          "Sports",
          "Action",
          "Shooter",
          "Action",
          "Action",
          "Action",
          "Fighting",
          "Action",
          "Sports",
          "Shooter",
          "Action",
          "Misc",
          "Sports",
          "Action",
          "Action",
          "Platform",
          "Shooter",
          "Action",
          "Action",
          "Role-Playing",
          "Adventure",
          "Action",
          "Strategy",
          "Misc",
          "Adventure",
          "Action",
          "Strategy",
          "Misc",
          "Action",
          "Strategy",
          "Shooter",
          "Action",
          "Adventure",
          "Action",
          "Adventure",
          "Action",
          "Role-Playing",
          "Role-Playing",
          "Action",
          "Sports",
          "Action",
          "Strategy",
          "Action",
          "Action",
          "Action",
          "Role-Playing",
          "Action",
          "Racing",
          "Role-Playing",
          "Action",
          "Sports",
          "Action",
          "Adventure",
          "Action",
          "Racing",
          "Role-Playing",
          "Role-Playing",
          "Adventure",
          "Simulation",
          "Action",
          "Misc",
          "Action",
          "Role-Playing",
          "Fighting",
          "Misc",
          "Action",
          "Action",
          "Action",
          "Adventure",
          "Misc",
          "Adventure",
          "Platform",
          "Action",
          "Role-Playing",
          "Adventure",
          "Simulation",
          "Adventure",
          "Racing",
          "Action",
          "Action",
          "Role-Playing",
          "Action",
          "Adventure",
          "Action",
          "Platform",
          "Adventure",
          "Misc",
          "Action",
          "Fighting",
          "Role-Playing",
          "Role-Playing",
          "Puzzle",
          "Fighting",
          "Racing",
          "Action",
          "Action",
          "Action",
          "Sports",
          "Action",
          "Role-Playing",
          "Sports",
          "Role-Playing",
          "Misc",
          "Shooter",
          "Simulation",
          "Racing",
          "Action",
          "Action",
          "Action",
          "Fighting",
          "Role-Playing",
          "Sports",
          "Misc",
          "Action",
          "Sports",
          "Fighting",
          "Role-Playing",
          "Action",
          "Role-Playing",
          "Action",
          "Action",
          "Action",
          "Platform",
          "Role-Playing",
          "Racing",
          "Action",
          "Adventure",
          "Role-Playing",
          "Role-Playing",
          "Racing",
          "Misc",
          "Role-Playing",
          "Adventure",
          "Adventure",
          "Action",
          "Misc",
          "Action",
          "Platform",
          "Simulation",
          "Misc",
          "Action",
          "Action",
          "Action",
          "Action",
          "Action",
          "Misc",
          "Adventure",
          "Action",
          "Action",
          "Action",
          "Action",
          "Action",
          "Adventure",
          "Action",
          "Shooter",
          "Adventure",
          "Action",
          "Action",
          "Action",
          "Action",
          "Strategy",
          "Action",
          "Action",
          "Adventure",
          "Adventure",
          "Action",
          "Simulation",
          "Adventure",
          "Adventure",
          "Adventure",
          "Action",
          "Action",
          "Action",
          "Action",
          "Strategy",
          "Action",
          "Action",
          "Action",
          "Misc",
          "Action",
          "Adventure",
          "Action",
          "Action",
          "Role-Playing",
          "Action",
          "Action",
          "Adventure",
          "Adventure",
          "Adventure",
          "Adventure",
          "Adventure",
          "Adventure",
          "Action",
          "Action",
          "Adventure",
          "Action",
          "Fighting",
          "Action",
          "Action",
          "Adventure",
          "Action",
          "Strategy",
          "Sports",
          "Misc",
          "Role-Playing",
          "Action",
          "Adventure",
          "Action",
          "Action",
          "Action",
          "Action",
          "Misc",
          "Action",
          "Action",
          "Adventure",
          "Shooter",
          "Action",
          "Adventure",
          "Fighting",
          "Shooter",
          "Fighting",
          "Action",
          "Misc",
          "Adventure",
          "Simulation",
          "Action",
          "Action",
          "Simulation",
          "Role-Playing",
          "Sports",
          "Sports",
          "Action",
          "Adventure",
          "Puzzle",
          "Adventure",
          "Action",
          "Action",
          "Sports",
          "Role-Playing",
          "Adventure",
          "Adventure",
          "Action",
          "Action",
          "Shooter",
          "Misc",
          "Action",
          "Adventure",
          "Action",
          "Misc",
          "Adventure",
          "Sports",
          "Adventure",
          "Misc",
          "Adventure",
          "Shooter",
          "Action",
          "Adventure",
          "Action",
          "Adventure",
          "Action",
          "Action",
          "Role-Playing",
          "Action",
          "Sports",
          "Sports",
          "Action",
          "Action",
          "Action",
          "Misc",
          "Racing",
          "Action",
          "Adventure",
          "Adventure",
          "Racing",
          "Action",
          "Misc",
          "Sports",
          "Role-Playing",
          "Action",
          "Action",
          "Adventure",
          "Adventure",
          "Puzzle",
          "Simulation",
          "Racing",
          "Action",
          "Action",
          "Adventure",
          "Action",
          "Action",
          "Action",
          "Adventure",
          "Adventure",
          "Sports",
          "Action",
          "Action",
          "Simulation",
          "Strategy",
          "Action",
          "Action",
          "Action",
          "Adventure",
          "Action",
          "Adventure",
          "Action",
          "Action",
          "Adventure",
          "Action",
          "Role-Playing",
          "Action",
          "Action",
          "Action",
          "Action",
          "Action",
          "Action",
          "Sports",
          "Racing",
          "Action",
          "Adventure",
          "Strategy",
          "Adventure",
          "Misc",
          "Action",
          "Action",
          "Simulation",
          "Adventure",
          "Action",
          "Action",
          "Action",
          "Role-Playing",
          "Adventure",
          "Adventure",
          "Action",
          "Sports",
          "Action",
          "Strategy",
          "Shooter",
          "Sports",
          "Sports",
          "Simulation",
          "Racing",
          "Action",
          "Platform",
          "Adventure",
          "Racing",
          "Action",
          "Action",
          "Sports",
          "Action",
          "Sports",
          "Simulation",
          "Action",
          "Action",
          "Action",
          "Misc",
          "Sports",
          "Action",
          "Action",
          "Action",
          "Action",
          "Strategy",
          "Fighting",
          "Action",
          "Action",
          "Action",
          "Puzzle",
          "Action",
          "Strategy",
          "Action",
          "Racing",
          "Action",
          "Adventure",
          "Action",
          "Action",
          "Action",
          "Adventure",
          "Adventure",
          "Action",
          "Adventure",
          "Action",
          "Action",
          "Sports",
          "Simulation",
          "Action",
          "Adventure",
          "Action",
          "Role-Playing",
          "Action",
          "Action",
          "Misc",
          "Simulation"
         ],
         "x0": " ",
         "xaxis": "x",
         "y": [
          14.629999999999999,
          8.58,
          7.98,
          7.6000000000000005,
          7.389999999999999,
          7.17,
          7.14,
          5.39,
          4.62,
          4.49,
          4.470000000000001,
          4.4399999999999995,
          4.22,
          4.07,
          3.9699999999999998,
          3.96,
          3.87,
          3.8,
          3.66,
          3.4200000000000004,
          3.3899999999999997,
          3.32,
          3.28,
          3.25,
          3.2399999999999998,
          3.21,
          3.05,
          2.78,
          2.6999999999999997,
          2.65,
          2.48,
          2.4200000000000004,
          2.42,
          2.42,
          2.34,
          2.34,
          2.29,
          2.2600000000000002,
          2.25,
          2.21,
          2.1700000000000004,
          2.14,
          2.11,
          2.09,
          1.9200000000000002,
          1.8800000000000001,
          1.85,
          1.81,
          1.7999999999999998,
          1.75,
          1.74,
          1.7200000000000002,
          1.7,
          1.6900000000000002,
          1.69,
          1.6700000000000002,
          1.6600000000000001,
          1.6600000000000001,
          1.58,
          1.5699999999999998,
          1.54,
          1.4900000000000002,
          1.49,
          1.3800000000000001,
          1.38,
          1.3399999999999999,
          1.3399999999999999,
          1.33,
          1.3199999999999998,
          1.3,
          1.3,
          1.2900000000000003,
          1.29,
          1.2800000000000002,
          1.2800000000000002,
          1.25,
          1.23,
          1.21,
          1.21,
          1.2000000000000002,
          1.1700000000000002,
          1.17,
          1.14,
          1.13,
          1.11,
          1.1,
          1.08,
          1.0799999999999998,
          1.06,
          1.03,
          1.03,
          1.01,
          0.98,
          0.9700000000000001,
          0.97,
          0.95,
          0.9400000000000001,
          0.9400000000000001,
          0.93,
          0.93,
          0.93,
          0.91,
          0.9,
          0.9,
          0.89,
          0.89,
          0.88,
          0.88,
          0.87,
          0.87,
          0.86,
          0.86,
          0.85,
          0.8400000000000001,
          0.79,
          0.78,
          0.7699999999999999,
          0.7600000000000001,
          0.76,
          0.7500000000000001,
          0.75,
          0.75,
          0.75,
          0.75,
          0.7300000000000001,
          0.7300000000000001,
          0.7300000000000001,
          0.73,
          0.73,
          0.73,
          0.73,
          0.7200000000000001,
          0.71,
          0.7,
          0.6900000000000001,
          0.6900000000000001,
          0.69,
          0.6700000000000002,
          0.67,
          0.6599999999999999,
          0.65,
          0.64,
          0.64,
          0.6399999999999999,
          0.6300000000000001,
          0.63,
          0.63,
          0.6200000000000001,
          0.6200000000000001,
          0.61,
          0.6,
          0.5900000000000001,
          0.5700000000000001,
          0.5700000000000001,
          0.5700000000000001,
          0.56,
          0.56,
          0.56,
          0.56,
          0.5599999999999999,
          0.55,
          0.55,
          0.54,
          0.53,
          0.53,
          0.53,
          0.53,
          0.52,
          0.52,
          0.51,
          0.51,
          0.51,
          0.49000000000000005,
          0.49000000000000005,
          0.49,
          0.48000000000000004,
          0.48000000000000004,
          0.48,
          0.48,
          0.48,
          0.4799999999999999,
          0.47000000000000003,
          0.47,
          0.45999999999999996,
          0.45,
          0.44000000000000006,
          0.44000000000000006,
          0.44,
          0.43,
          0.43,
          0.43,
          0.42000000000000004,
          0.42000000000000004,
          0.42,
          0.42,
          0.42,
          0.41000000000000003,
          0.41000000000000003,
          0.41,
          0.41,
          0.4,
          0.4,
          0.4,
          0.39999999999999997,
          0.39999999999999997,
          0.39999999999999997,
          0.39,
          0.39,
          0.38999999999999996,
          0.38999999999999996,
          0.38,
          0.38,
          0.38,
          0.38,
          0.37999999999999995,
          0.37000000000000005,
          0.37,
          0.37,
          0.37,
          0.37,
          0.37,
          0.36000000000000004,
          0.36000000000000004,
          0.36000000000000004,
          0.36000000000000004,
          0.36,
          0.36,
          0.36,
          0.36,
          0.36,
          0.35000000000000003,
          0.35000000000000003,
          0.35,
          0.34,
          0.34,
          0.34,
          0.34,
          0.33999999999999997,
          0.33999999999999997,
          0.33999999999999997,
          0.33999999999999997,
          0.33,
          0.33,
          0.33,
          0.32000000000000006,
          0.32000000000000006,
          0.32,
          0.32,
          0.31999999999999995,
          0.31999999999999995,
          0.31999999999999995,
          0.31999999999999995,
          0.31000000000000005,
          0.31000000000000005,
          0.31000000000000005,
          0.31,
          0.3,
          0.3,
          0.3,
          0.3,
          0.3,
          0.29000000000000004,
          0.29000000000000004,
          0.29000000000000004,
          0.29000000000000004,
          0.29000000000000004,
          0.29,
          0.28,
          0.28,
          0.27999999999999997,
          0.27,
          0.27,
          0.27,
          0.26999999999999996,
          0.26,
          0.26,
          0.26,
          0.26,
          0.26,
          0.26,
          0.26,
          0.26,
          0.26,
          0.26,
          0.25,
          0.25,
          0.25,
          0.25,
          0.24999999999999997,
          0.24999999999999997,
          0.24999999999999997,
          0.24000000000000002,
          0.24000000000000002,
          0.24000000000000002,
          0.24000000000000002,
          0.24000000000000002,
          0.24,
          0.24,
          0.24,
          0.24,
          0.23,
          0.23,
          0.23,
          0.23,
          0.23,
          0.23,
          0.23,
          0.23,
          0.23,
          0.23,
          0.22999999999999998,
          0.22999999999999998,
          0.22,
          0.22,
          0.22,
          0.22,
          0.22,
          0.22,
          0.21000000000000002,
          0.21,
          0.21,
          0.21,
          0.21,
          0.21,
          0.2,
          0.2,
          0.2,
          0.2,
          0.2,
          0.2,
          0.2,
          0.2,
          0.19999999999999998,
          0.19999999999999998,
          0.19999999999999998,
          0.19999999999999998,
          0.19999999999999998,
          0.19999999999999998,
          0.19999999999999998,
          0.19999999999999998,
          0.19,
          0.19,
          0.19,
          0.19,
          0.19,
          0.18999999999999997,
          0.18999999999999997,
          0.18000000000000002,
          0.18000000000000002,
          0.18,
          0.18,
          0.18,
          0.18,
          0.18,
          0.18,
          0.18,
          0.17,
          0.17,
          0.17,
          0.17,
          0.17,
          0.17,
          0.17,
          0.17,
          0.16999999999999998,
          0.16999999999999998,
          0.16999999999999998,
          0.16999999999999998,
          0.16000000000000003,
          0.16,
          0.16,
          0.16,
          0.16,
          0.16,
          0.16,
          0.15000000000000002,
          0.15000000000000002,
          0.15000000000000002,
          0.15000000000000002,
          0.15000000000000002,
          0.15000000000000002,
          0.15000000000000002,
          0.15,
          0.15,
          0.15,
          0.15,
          0.15,
          0.15,
          0.15,
          0.15,
          0.14,
          0.14,
          0.14,
          0.14,
          0.14,
          0.14,
          0.14,
          0.14,
          0.14,
          0.14,
          0.13999999999999999,
          0.13999999999999999,
          0.13999999999999999,
          0.13999999999999999,
          0.13,
          0.13,
          0.13,
          0.13,
          0.13,
          0.13,
          0.13,
          0.13,
          0.13,
          0.13,
          0.13,
          0.13,
          0.13,
          0.13,
          0.13,
          0.13,
          0.13,
          0.13,
          0.13,
          0.12000000000000001,
          0.12000000000000001,
          0.12000000000000001,
          0.12000000000000001,
          0.12000000000000001,
          0.12000000000000001,
          0.12000000000000001,
          0.12000000000000001,
          0.12000000000000001,
          0.12,
          0.12,
          0.12,
          0.12,
          0.12,
          0.12,
          0.12,
          0.12,
          0.12,
          0.12,
          0.12,
          0.12,
          0.12,
          0.12,
          0.12,
          0.12,
          0.12,
          0.12,
          0.11000000000000001,
          0.11000000000000001,
          0.11,
          0.11,
          0.11,
          0.11,
          0.11,
          0.11,
          0.11,
          0.11,
          0.11,
          0.11,
          0.11,
          0.11,
          0.11,
          0.11,
          0.11,
          0.11,
          0.11,
          0.11,
          0.11,
          0.11,
          0.10999999999999999,
          0.1,
          0.1,
          0.1,
          0.1,
          0.1,
          0.1,
          0.1,
          0.1,
          0.1,
          0.1,
          0.09999999999999999,
          0.09999999999999999,
          0.09999999999999999,
          0.09999999999999999,
          0.09999999999999999,
          0.09999999999999999,
          0.09999999999999999,
          0.09999999999999999,
          0.09999999999999999,
          0.09999999999999999,
          0.09999999999999999,
          0.09999999999999999,
          0.09999999999999999,
          0.09999999999999999,
          0.09000000000000001,
          0.09000000000000001,
          0.09000000000000001,
          0.09,
          0.09,
          0.09,
          0.09,
          0.09,
          0.09,
          0.09,
          0.09,
          0.09,
          0.09,
          0.09,
          0.09,
          0.09,
          0.09,
          0.09,
          0.09,
          0.09,
          0.09,
          0.09,
          0.09,
          0.09,
          0.09,
          0.09,
          0.09,
          0.09,
          0.09,
          0.08,
          0.08,
          0.08,
          0.08,
          0.08,
          0.08,
          0.08,
          0.08,
          0.08,
          0.08,
          0.08,
          0.08,
          0.08,
          0.08,
          0.08,
          0.08,
          0.08,
          0.08,
          0.08,
          0.08,
          0.08,
          0.08,
          0.08,
          0.08,
          0.08,
          0.08,
          0.08,
          0.08,
          0.08,
          0.07999999999999999,
          0.07999999999999999,
          0.07,
          0.07,
          0.07,
          0.07,
          0.07,
          0.07,
          0.07,
          0.07,
          0.07,
          0.07,
          0.07,
          0.07,
          0.07,
          0.07,
          0.07,
          0.06999999999999999,
          0.06999999999999999,
          0.06999999999999999,
          0.06999999999999999,
          0.06999999999999999,
          0.06999999999999999,
          0.06999999999999999,
          0.06999999999999999,
          0.06999999999999999,
          0.06999999999999999,
          0.06999999999999999,
          0.06999999999999999,
          0.06999999999999999,
          0.06999999999999999,
          0.06999999999999999,
          0.06999999999999999,
          0.060000000000000005,
          0.060000000000000005,
          0.060000000000000005,
          0.060000000000000005,
          0.060000000000000005,
          0.060000000000000005,
          0.060000000000000005,
          0.060000000000000005,
          0.060000000000000005,
          0.060000000000000005,
          0.060000000000000005,
          0.060000000000000005,
          0.060000000000000005,
          0.060000000000000005,
          0.060000000000000005,
          0.060000000000000005,
          0.060000000000000005,
          0.060000000000000005,
          0.060000000000000005,
          0.060000000000000005,
          0.060000000000000005,
          0.060000000000000005,
          0.060000000000000005,
          0.060000000000000005,
          0.060000000000000005,
          0.060000000000000005,
          0.060000000000000005,
          0.06,
          0.06,
          0.06,
          0.06,
          0.06,
          0.06,
          0.06,
          0.06,
          0.06,
          0.06,
          0.06,
          0.06,
          0.06,
          0.06,
          0.06,
          0.06,
          0.06,
          0.06,
          0.06,
          0.06,
          0.05,
          0.05,
          0.05,
          0.05,
          0.05,
          0.05,
          0.05,
          0.05,
          0.05,
          0.05,
          0.05,
          0.05,
          0.05,
          0.05,
          0.05,
          0.05,
          0.05,
          0.05,
          0.05,
          0.05,
          0.05,
          0.05,
          0.05,
          0.05,
          0.05,
          0.05,
          0.05,
          0.05,
          0.05,
          0.05,
          0.05,
          0.05,
          0.05,
          0.05,
          0.05,
          0.05,
          0.05,
          0.05,
          0.05,
          0.05,
          0.05,
          0.05,
          0.05,
          0.05,
          0.05,
          0.05,
          0.05,
          0.05,
          0.05,
          0.05,
          0.05,
          0.05,
          0.05,
          0.05,
          0.05,
          0.05,
          0.04,
          0.04,
          0.04,
          0.04,
          0.04,
          0.04,
          0.04,
          0.04,
          0.04,
          0.04,
          0.04,
          0.04,
          0.04,
          0.04,
          0.04,
          0.04,
          0.04,
          0.04,
          0.04,
          0.04,
          0.04,
          0.04,
          0.04,
          0.04,
          0.04,
          0.04,
          0.04,
          0.04,
          0.04,
          0.04,
          0.04,
          0.04,
          0.04,
          0.04,
          0.04,
          0.04,
          0.04,
          0.04,
          0.04,
          0.04,
          0.04,
          0.04,
          0.04,
          0.04,
          0.04,
          0.04,
          0.04,
          0.04,
          0.04,
          0.04,
          0.04,
          0.04,
          0.04,
          0.04,
          0.04,
          0.04,
          0.04,
          0.04,
          0.03,
          0.03,
          0.03,
          0.03,
          0.03,
          0.03,
          0.03,
          0.03,
          0.03,
          0.03,
          0.03,
          0.03,
          0.03,
          0.03,
          0.03,
          0.03,
          0.03,
          0.03,
          0.03,
          0.03,
          0.03,
          0.03,
          0.03,
          0.03,
          0.03,
          0.03,
          0.03,
          0.03,
          0.03,
          0.03,
          0.03,
          0.03,
          0.03,
          0.03,
          0.03,
          0.03,
          0.03,
          0.03,
          0.03,
          0.03,
          0.03,
          0.03,
          0.03,
          0.03,
          0.03,
          0.03,
          0.03,
          0.03,
          0.03,
          0.03,
          0.03,
          0.03,
          0.03,
          0.03,
          0.03,
          0.03,
          0.03,
          0.03,
          0.03,
          0.03,
          0.03,
          0.03,
          0.03,
          0.03,
          0.03,
          0.03,
          0.03,
          0.03,
          0.03,
          0.03,
          0.03,
          0.03,
          0.03,
          0.03,
          0.03,
          0.03,
          0.03,
          0.03,
          0.03,
          0.03,
          0.03,
          0.03,
          0.03,
          0.03,
          0.03,
          0.03,
          0.03,
          0.03,
          0.03,
          0.03,
          0.03,
          0.03,
          0.03,
          0.03,
          0.03,
          0.03,
          0.03,
          0.03,
          0.03,
          0.03,
          0.03,
          0.03,
          0.03,
          0.02,
          0.02,
          0.02,
          0.02,
          0.02,
          0.02,
          0.02,
          0.02,
          0.02,
          0.02,
          0.02,
          0.02,
          0.02,
          0.02,
          0.02,
          0.02,
          0.02,
          0.02,
          0.02,
          0.02,
          0.02,
          0.02,
          0.02,
          0.02,
          0.02,
          0.02,
          0.02,
          0.02,
          0.02,
          0.02,
          0.02,
          0.02,
          0.02,
          0.02,
          0.02,
          0.02,
          0.02,
          0.02,
          0.02,
          0.02,
          0.02,
          0.02,
          0.02,
          0.02,
          0.02,
          0.02,
          0.02,
          0.02,
          0.02,
          0.02,
          0.02,
          0.02,
          0.02,
          0.02,
          0.02,
          0.02,
          0.02,
          0.02,
          0.02,
          0.02,
          0.02,
          0.02,
          0.02,
          0.02,
          0.02,
          0.02,
          0.02,
          0.02,
          0.02,
          0.02,
          0.02,
          0.02,
          0.02,
          0.02,
          0.02,
          0.02,
          0.02,
          0.02,
          0.02,
          0.02,
          0.02,
          0.02,
          0.02,
          0.02,
          0.02,
          0.02,
          0.02,
          0.02,
          0.02,
          0.02,
          0.02,
          0.02,
          0.02,
          0.02,
          0.02,
          0.02,
          0.02,
          0.02,
          0.02,
          0.02,
          0.02,
          0.02,
          0.02,
          0.02,
          0.02,
          0.02,
          0.02,
          0.02,
          0.02,
          0.02,
          0.02,
          0.02,
          0.02,
          0.02,
          0.02,
          0.02,
          0.02,
          0.02,
          0.02,
          0.02,
          0.02,
          0.02,
          0.02,
          0.02,
          0.02,
          0.02,
          0.02,
          0.02,
          0.02,
          0.02,
          0.02,
          0.02,
          0.02,
          0.02,
          0.01,
          0.01,
          0.01,
          0.01,
          0.01,
          0.01,
          0.01,
          0.01,
          0.01,
          0.01,
          0.01,
          0.01,
          0.01,
          0.01,
          0.01,
          0.01,
          0.01,
          0.01,
          0.01,
          0.01,
          0.01,
          0.01,
          0.01,
          0.01,
          0.01,
          0.01,
          0.01,
          0.01,
          0.01,
          0.01,
          0.01,
          0.01,
          0.01,
          0.01,
          0.01,
          0.01,
          0.01,
          0.01,
          0.01,
          0.01,
          0.01,
          0.01,
          0.01,
          0.01,
          0.01,
          0.01,
          0.01,
          0.01,
          0.01,
          0.01,
          0.01,
          0.01,
          0.01,
          0.01,
          0.01,
          0.01,
          0.01,
          0.01,
          0.01,
          0.01,
          0.01,
          0.01,
          0.01,
          0.01,
          0.01,
          0.01,
          0.01,
          0.01,
          0.01,
          0.01,
          0.01,
          0.01,
          0.01,
          0.01,
          0.01,
          0.01,
          0.01,
          0.01,
          0.01,
          0.01,
          0.01,
          0.01,
          0.01,
          0.01,
          0.01,
          0.01,
          0.01,
          0.01,
          0.01,
          0.01,
          0.01,
          0.01,
          0.01,
          0.01,
          0.01,
          0.01,
          0.01,
          0.01,
          0.01,
          0.01,
          0.01,
          0.01,
          0.01,
          0.01,
          0.01,
          0.01,
          0.01,
          0.01,
          0.01,
          0.01,
          0.01,
          0.01,
          0.01,
          0.01,
          0.01,
          0.01,
          0.01,
          0.01,
          0.01,
          0.01,
          0.01,
          0.01
         ],
         "y0": " ",
         "yaxis": "y"
        }
       ],
       "layout": {
        "boxmode": "group",
        "legend": {
         "tracegroupgap": 0
        },
        "template": {
         "data": {
          "bar": [
           {
            "error_x": {
             "color": "#2a3f5f"
            },
            "error_y": {
             "color": "#2a3f5f"
            },
            "marker": {
             "line": {
              "color": "#E5ECF6",
              "width": 0.5
             },
             "pattern": {
              "fillmode": "overlay",
              "size": 10,
              "solidity": 0.2
             }
            },
            "type": "bar"
           }
          ],
          "barpolar": [
           {
            "marker": {
             "line": {
              "color": "#E5ECF6",
              "width": 0.5
             },
             "pattern": {
              "fillmode": "overlay",
              "size": 10,
              "solidity": 0.2
             }
            },
            "type": "barpolar"
           }
          ],
          "carpet": [
           {
            "aaxis": {
             "endlinecolor": "#2a3f5f",
             "gridcolor": "white",
             "linecolor": "white",
             "minorgridcolor": "white",
             "startlinecolor": "#2a3f5f"
            },
            "baxis": {
             "endlinecolor": "#2a3f5f",
             "gridcolor": "white",
             "linecolor": "white",
             "minorgridcolor": "white",
             "startlinecolor": "#2a3f5f"
            },
            "type": "carpet"
           }
          ],
          "choropleth": [
           {
            "colorbar": {
             "outlinewidth": 0,
             "ticks": ""
            },
            "type": "choropleth"
           }
          ],
          "contour": [
           {
            "colorbar": {
             "outlinewidth": 0,
             "ticks": ""
            },
            "colorscale": [
             [
              0,
              "#0d0887"
             ],
             [
              0.1111111111111111,
              "#46039f"
             ],
             [
              0.2222222222222222,
              "#7201a8"
             ],
             [
              0.3333333333333333,
              "#9c179e"
             ],
             [
              0.4444444444444444,
              "#bd3786"
             ],
             [
              0.5555555555555556,
              "#d8576b"
             ],
             [
              0.6666666666666666,
              "#ed7953"
             ],
             [
              0.7777777777777778,
              "#fb9f3a"
             ],
             [
              0.8888888888888888,
              "#fdca26"
             ],
             [
              1,
              "#f0f921"
             ]
            ],
            "type": "contour"
           }
          ],
          "contourcarpet": [
           {
            "colorbar": {
             "outlinewidth": 0,
             "ticks": ""
            },
            "type": "contourcarpet"
           }
          ],
          "heatmap": [
           {
            "colorbar": {
             "outlinewidth": 0,
             "ticks": ""
            },
            "colorscale": [
             [
              0,
              "#0d0887"
             ],
             [
              0.1111111111111111,
              "#46039f"
             ],
             [
              0.2222222222222222,
              "#7201a8"
             ],
             [
              0.3333333333333333,
              "#9c179e"
             ],
             [
              0.4444444444444444,
              "#bd3786"
             ],
             [
              0.5555555555555556,
              "#d8576b"
             ],
             [
              0.6666666666666666,
              "#ed7953"
             ],
             [
              0.7777777777777778,
              "#fb9f3a"
             ],
             [
              0.8888888888888888,
              "#fdca26"
             ],
             [
              1,
              "#f0f921"
             ]
            ],
            "type": "heatmap"
           }
          ],
          "heatmapgl": [
           {
            "colorbar": {
             "outlinewidth": 0,
             "ticks": ""
            },
            "colorscale": [
             [
              0,
              "#0d0887"
             ],
             [
              0.1111111111111111,
              "#46039f"
             ],
             [
              0.2222222222222222,
              "#7201a8"
             ],
             [
              0.3333333333333333,
              "#9c179e"
             ],
             [
              0.4444444444444444,
              "#bd3786"
             ],
             [
              0.5555555555555556,
              "#d8576b"
             ],
             [
              0.6666666666666666,
              "#ed7953"
             ],
             [
              0.7777777777777778,
              "#fb9f3a"
             ],
             [
              0.8888888888888888,
              "#fdca26"
             ],
             [
              1,
              "#f0f921"
             ]
            ],
            "type": "heatmapgl"
           }
          ],
          "histogram": [
           {
            "marker": {
             "pattern": {
              "fillmode": "overlay",
              "size": 10,
              "solidity": 0.2
             }
            },
            "type": "histogram"
           }
          ],
          "histogram2d": [
           {
            "colorbar": {
             "outlinewidth": 0,
             "ticks": ""
            },
            "colorscale": [
             [
              0,
              "#0d0887"
             ],
             [
              0.1111111111111111,
              "#46039f"
             ],
             [
              0.2222222222222222,
              "#7201a8"
             ],
             [
              0.3333333333333333,
              "#9c179e"
             ],
             [
              0.4444444444444444,
              "#bd3786"
             ],
             [
              0.5555555555555556,
              "#d8576b"
             ],
             [
              0.6666666666666666,
              "#ed7953"
             ],
             [
              0.7777777777777778,
              "#fb9f3a"
             ],
             [
              0.8888888888888888,
              "#fdca26"
             ],
             [
              1,
              "#f0f921"
             ]
            ],
            "type": "histogram2d"
           }
          ],
          "histogram2dcontour": [
           {
            "colorbar": {
             "outlinewidth": 0,
             "ticks": ""
            },
            "colorscale": [
             [
              0,
              "#0d0887"
             ],
             [
              0.1111111111111111,
              "#46039f"
             ],
             [
              0.2222222222222222,
              "#7201a8"
             ],
             [
              0.3333333333333333,
              "#9c179e"
             ],
             [
              0.4444444444444444,
              "#bd3786"
             ],
             [
              0.5555555555555556,
              "#d8576b"
             ],
             [
              0.6666666666666666,
              "#ed7953"
             ],
             [
              0.7777777777777778,
              "#fb9f3a"
             ],
             [
              0.8888888888888888,
              "#fdca26"
             ],
             [
              1,
              "#f0f921"
             ]
            ],
            "type": "histogram2dcontour"
           }
          ],
          "mesh3d": [
           {
            "colorbar": {
             "outlinewidth": 0,
             "ticks": ""
            },
            "type": "mesh3d"
           }
          ],
          "parcoords": [
           {
            "line": {
             "colorbar": {
              "outlinewidth": 0,
              "ticks": ""
             }
            },
            "type": "parcoords"
           }
          ],
          "pie": [
           {
            "automargin": true,
            "type": "pie"
           }
          ],
          "scatter": [
           {
            "fillpattern": {
             "fillmode": "overlay",
             "size": 10,
             "solidity": 0.2
            },
            "type": "scatter"
           }
          ],
          "scatter3d": [
           {
            "line": {
             "colorbar": {
              "outlinewidth": 0,
              "ticks": ""
             }
            },
            "marker": {
             "colorbar": {
              "outlinewidth": 0,
              "ticks": ""
             }
            },
            "type": "scatter3d"
           }
          ],
          "scattercarpet": [
           {
            "marker": {
             "colorbar": {
              "outlinewidth": 0,
              "ticks": ""
             }
            },
            "type": "scattercarpet"
           }
          ],
          "scattergeo": [
           {
            "marker": {
             "colorbar": {
              "outlinewidth": 0,
              "ticks": ""
             }
            },
            "type": "scattergeo"
           }
          ],
          "scattergl": [
           {
            "marker": {
             "colorbar": {
              "outlinewidth": 0,
              "ticks": ""
             }
            },
            "type": "scattergl"
           }
          ],
          "scattermapbox": [
           {
            "marker": {
             "colorbar": {
              "outlinewidth": 0,
              "ticks": ""
             }
            },
            "type": "scattermapbox"
           }
          ],
          "scatterpolar": [
           {
            "marker": {
             "colorbar": {
              "outlinewidth": 0,
              "ticks": ""
             }
            },
            "type": "scatterpolar"
           }
          ],
          "scatterpolargl": [
           {
            "marker": {
             "colorbar": {
              "outlinewidth": 0,
              "ticks": ""
             }
            },
            "type": "scatterpolargl"
           }
          ],
          "scatterternary": [
           {
            "marker": {
             "colorbar": {
              "outlinewidth": 0,
              "ticks": ""
             }
            },
            "type": "scatterternary"
           }
          ],
          "surface": [
           {
            "colorbar": {
             "outlinewidth": 0,
             "ticks": ""
            },
            "colorscale": [
             [
              0,
              "#0d0887"
             ],
             [
              0.1111111111111111,
              "#46039f"
             ],
             [
              0.2222222222222222,
              "#7201a8"
             ],
             [
              0.3333333333333333,
              "#9c179e"
             ],
             [
              0.4444444444444444,
              "#bd3786"
             ],
             [
              0.5555555555555556,
              "#d8576b"
             ],
             [
              0.6666666666666666,
              "#ed7953"
             ],
             [
              0.7777777777777778,
              "#fb9f3a"
             ],
             [
              0.8888888888888888,
              "#fdca26"
             ],
             [
              1,
              "#f0f921"
             ]
            ],
            "type": "surface"
           }
          ],
          "table": [
           {
            "cells": {
             "fill": {
              "color": "#EBF0F8"
             },
             "line": {
              "color": "white"
             }
            },
            "header": {
             "fill": {
              "color": "#C8D4E3"
             },
             "line": {
              "color": "white"
             }
            },
            "type": "table"
           }
          ]
         },
         "layout": {
          "annotationdefaults": {
           "arrowcolor": "#2a3f5f",
           "arrowhead": 0,
           "arrowwidth": 1
          },
          "autotypenumbers": "strict",
          "coloraxis": {
           "colorbar": {
            "outlinewidth": 0,
            "ticks": ""
           }
          },
          "colorscale": {
           "diverging": [
            [
             0,
             "#8e0152"
            ],
            [
             0.1,
             "#c51b7d"
            ],
            [
             0.2,
             "#de77ae"
            ],
            [
             0.3,
             "#f1b6da"
            ],
            [
             0.4,
             "#fde0ef"
            ],
            [
             0.5,
             "#f7f7f7"
            ],
            [
             0.6,
             "#e6f5d0"
            ],
            [
             0.7,
             "#b8e186"
            ],
            [
             0.8,
             "#7fbc41"
            ],
            [
             0.9,
             "#4d9221"
            ],
            [
             1,
             "#276419"
            ]
           ],
           "sequential": [
            [
             0,
             "#0d0887"
            ],
            [
             0.1111111111111111,
             "#46039f"
            ],
            [
             0.2222222222222222,
             "#7201a8"
            ],
            [
             0.3333333333333333,
             "#9c179e"
            ],
            [
             0.4444444444444444,
             "#bd3786"
            ],
            [
             0.5555555555555556,
             "#d8576b"
            ],
            [
             0.6666666666666666,
             "#ed7953"
            ],
            [
             0.7777777777777778,
             "#fb9f3a"
            ],
            [
             0.8888888888888888,
             "#fdca26"
            ],
            [
             1,
             "#f0f921"
            ]
           ],
           "sequentialminus": [
            [
             0,
             "#0d0887"
            ],
            [
             0.1111111111111111,
             "#46039f"
            ],
            [
             0.2222222222222222,
             "#7201a8"
            ],
            [
             0.3333333333333333,
             "#9c179e"
            ],
            [
             0.4444444444444444,
             "#bd3786"
            ],
            [
             0.5555555555555556,
             "#d8576b"
            ],
            [
             0.6666666666666666,
             "#ed7953"
            ],
            [
             0.7777777777777778,
             "#fb9f3a"
            ],
            [
             0.8888888888888888,
             "#fdca26"
            ],
            [
             1,
             "#f0f921"
            ]
           ]
          },
          "colorway": [
           "#636efa",
           "#EF553B",
           "#00cc96",
           "#ab63fa",
           "#FFA15A",
           "#19d3f3",
           "#FF6692",
           "#B6E880",
           "#FF97FF",
           "#FECB52"
          ],
          "font": {
           "color": "#2a3f5f"
          },
          "geo": {
           "bgcolor": "white",
           "lakecolor": "white",
           "landcolor": "#E5ECF6",
           "showlakes": true,
           "showland": true,
           "subunitcolor": "white"
          },
          "hoverlabel": {
           "align": "left"
          },
          "hovermode": "closest",
          "mapbox": {
           "style": "light"
          },
          "paper_bgcolor": "white",
          "plot_bgcolor": "#E5ECF6",
          "polar": {
           "angularaxis": {
            "gridcolor": "white",
            "linecolor": "white",
            "ticks": ""
           },
           "bgcolor": "#E5ECF6",
           "radialaxis": {
            "gridcolor": "white",
            "linecolor": "white",
            "ticks": ""
           }
          },
          "scene": {
           "xaxis": {
            "backgroundcolor": "#E5ECF6",
            "gridcolor": "white",
            "gridwidth": 2,
            "linecolor": "white",
            "showbackground": true,
            "ticks": "",
            "zerolinecolor": "white"
           },
           "yaxis": {
            "backgroundcolor": "#E5ECF6",
            "gridcolor": "white",
            "gridwidth": 2,
            "linecolor": "white",
            "showbackground": true,
            "ticks": "",
            "zerolinecolor": "white"
           },
           "zaxis": {
            "backgroundcolor": "#E5ECF6",
            "gridcolor": "white",
            "gridwidth": 2,
            "linecolor": "white",
            "showbackground": true,
            "ticks": "",
            "zerolinecolor": "white"
           }
          },
          "shapedefaults": {
           "line": {
            "color": "#2a3f5f"
           }
          },
          "ternary": {
           "aaxis": {
            "gridcolor": "white",
            "linecolor": "white",
            "ticks": ""
           },
           "baxis": {
            "gridcolor": "white",
            "linecolor": "white",
            "ticks": ""
           },
           "bgcolor": "#E5ECF6",
           "caxis": {
            "gridcolor": "white",
            "linecolor": "white",
            "ticks": ""
           }
          },
          "title": {
           "x": 0.05
          },
          "xaxis": {
           "automargin": true,
           "gridcolor": "white",
           "linecolor": "white",
           "ticks": "",
           "title": {
            "standoff": 15
           },
           "zerolinecolor": "white",
           "zerolinewidth": 2
          },
          "yaxis": {
           "automargin": true,
           "gridcolor": "white",
           "linecolor": "white",
           "ticks": "",
           "title": {
            "standoff": 15
           },
           "zerolinecolor": "white",
           "zerolinewidth": 2
          }
         }
        },
        "title": {
         "text": "Relationship between Sales and Genre"
        },
        "xaxis": {
         "anchor": "y",
         "domain": [
          0,
          1
         ],
         "title": {
          "text": "Genre"
         }
        },
        "yaxis": {
         "anchor": "x",
         "domain": [
          0,
          1
         ],
         "range": [
          0,
          4
         ],
         "title": {
          "text": "Total Revenue"
         }
        }
       }
      }
     },
     "metadata": {},
     "output_type": "display_data"
    }
   ],
   "source": [
    "# Creates box plot for sales & genre with extreme outliers\n",
    "box_genre = px.box(relevant_platforms, x='genre', y='total_revenue', \n",
    "                           title='Relationship between Sales and Genre',\n",
    "                           labels={'genre': 'Genre', 'total_revenue': 'Total Revenue'})\n",
    "box_genre.show()\n",
    "\n",
    "# Create box plot for sales & genre without most outliers\n",
    "box_genre = px.box(relevant_platforms, x='genre', y='total_revenue', \n",
    "                           title='Relationship between Sales and Genre',\n",
    "                           labels={'genre': 'Genre', 'total_revenue': 'Total Revenue'})\n",
    "\n",
    "# Set the y-axis limit to remove most outliers\n",
    "box_genre.update_yaxes(range=[0, 4])\n",
    "\n",
    "# box_genre.show()\n"
   ]
  },
  {
   "cell_type": "markdown",
   "metadata": {},
   "source": [
    " Although the most popular games made are action games, **the most revenue appears to be made by Shooters** on average. This difference is an immense one compared to the revenue made by other genres by far. \n",
    " \n",
    "\n",
    " The most profitable genres on average, are: Shooters, Sports and Role-Playing\n",
    "\n",
    "This all leads back to the underlying theme that these popular games are tied to brand loyaly to platforms that handle these types of games well, like PS4, Xbox One and Xbox360. It also may relate to the fact that the demographic buying these games are older, the games are quicker to finish compared to other types of storyline and are often apart of a saga, like of Call of Duty or FIFA. \n",
    "\n",
    "\n",
    "<b>Although Action games acount for the most amount of games, they appear to bring in the least amount of revenue per game. This could be due to the amount of games skewing the data. "
   ]
  },
  {
   "cell_type": "markdown",
   "metadata": {},
   "source": [
    "## Step 4: Creating a User Profile for Each Region"
   ]
  },
  {
   "cell_type": "markdown",
   "metadata": {},
   "source": [
    "### Top Five Platforms by Region (NA, EU,JP)"
   ]
  },
  {
   "cell_type": "code",
   "execution_count": 71,
   "metadata": {},
   "outputs": [
    {
     "data": {
      "text/html": [
       "<div>\n",
       "<style scoped>\n",
       "    .dataframe tbody tr th:only-of-type {\n",
       "        vertical-align: middle;\n",
       "    }\n",
       "\n",
       "    .dataframe tbody tr th {\n",
       "        vertical-align: top;\n",
       "    }\n",
       "\n",
       "    .dataframe thead th {\n",
       "        text-align: right;\n",
       "    }\n",
       "</style>\n",
       "<table border=\"1\" class=\"dataframe\">\n",
       "  <thead>\n",
       "    <tr style=\"text-align: right;\">\n",
       "      <th></th>\n",
       "      <th>platform</th>\n",
       "      <th>total_na_sales</th>\n",
       "      <th>total_eu_sales</th>\n",
       "      <th>total_jp_sales</th>\n",
       "      <th>total</th>\n",
       "    </tr>\n",
       "  </thead>\n",
       "  <tbody>\n",
       "    <tr>\n",
       "      <th>0</th>\n",
       "      <td>PS4</td>\n",
       "      <td>63.86</td>\n",
       "      <td>83.54</td>\n",
       "      <td>12.05</td>\n",
       "      <td>188.15</td>\n",
       "    </tr>\n",
       "    <tr>\n",
       "      <th>1</th>\n",
       "      <td>XOne</td>\n",
       "      <td>50.30</td>\n",
       "      <td>28.10</td>\n",
       "      <td>0.18</td>\n",
       "      <td>86.29</td>\n",
       "    </tr>\n",
       "    <tr>\n",
       "      <th>2</th>\n",
       "      <td>3DS</td>\n",
       "      <td>10.31</td>\n",
       "      <td>7.39</td>\n",
       "      <td>23.55</td>\n",
       "      <td>42.92</td>\n",
       "    </tr>\n",
       "    <tr>\n",
       "      <th>3</th>\n",
       "      <td>WiiU</td>\n",
       "      <td>8.86</td>\n",
       "      <td>6.49</td>\n",
       "      <td>4.12</td>\n",
       "      <td>20.95</td>\n",
       "    </tr>\n",
       "    <tr>\n",
       "      <th>4</th>\n",
       "      <td>PS3</td>\n",
       "      <td>5.66</td>\n",
       "      <td>7.30</td>\n",
       "      <td>4.97</td>\n",
       "      <td>20.42</td>\n",
       "    </tr>\n",
       "  </tbody>\n",
       "</table>\n",
       "</div>"
      ],
      "text/plain": [
       "  platform  total_na_sales  total_eu_sales  total_jp_sales   total\n",
       "0      PS4           63.86           83.54           12.05  188.15\n",
       "1     XOne           50.30           28.10            0.18   86.29\n",
       "2      3DS           10.31            7.39           23.55   42.92\n",
       "3     WiiU            8.86            6.49            4.12   20.95\n",
       "4      PS3            5.66            7.30            4.97   20.42"
      ]
     },
     "execution_count": 71,
     "metadata": {},
     "output_type": "execute_result"
    }
   ],
   "source": [
    "# Aggregate data on regional sales after grouping by platform\n",
    "platforms_by_region = relevant_platforms.groupby('platform').agg(total_na_sales=('na_sales', 'sum'),\n",
    "                                                                 total_eu_sales=('eu_sales', 'sum'),\n",
    "                                                                 total_jp_sales=('jp_sales', 'sum'),\n",
    "                                                                 total=('total_revenue', 'sum'))\n",
    "\n",
    "platforms_by_region = platforms_by_region.sort_values(by='total', ascending=False).reset_index()\n",
    "\n",
    "# View only the top 5 platforms\n",
    "top_5_platforms = platforms_by_region.head(5)\n",
    "top_5_platforms"
   ]
  },
  {
   "cell_type": "markdown",
   "metadata": {},
   "source": [
    "**As expected, PS4 is the top across all regions. It actually dominates the market with $188USDmillion sales across all regions**\n",
    "\n",
    "**Top Platform in North America:**\n",
    "- PS4 \n",
    "- Followed very closely by Xbox One\n",
    "\n",
    "The North American market almost shares an equal desire for PS4 and Xbox One \n",
    "\n",
    "**Top Platform in Europe:**\n",
    "- PS4\n",
    "The European market shows a *greater* desire for PS4 than North America. \n",
    "\n",
    "**Top Platform in Japan:**\n",
    "- Nintendo DS\n",
    "The Japanese market is mostly interested in the Japanese company Nintendo- with DS dominated it's sales. The PS4 is a runner up, but there is still a big gap. Sales overall in the Japanese market are significantly lower than Europe and NA."
   ]
  },
  {
   "cell_type": "markdown",
   "metadata": {},
   "source": [
    "### Top Five Genres by Region (NA, EU,JP)"
   ]
  },
  {
   "cell_type": "code",
   "execution_count": 72,
   "metadata": {},
   "outputs": [
    {
     "data": {
      "text/html": [
       "<div>\n",
       "<style scoped>\n",
       "    .dataframe tbody tr th:only-of-type {\n",
       "        vertical-align: middle;\n",
       "    }\n",
       "\n",
       "    .dataframe tbody tr th {\n",
       "        vertical-align: top;\n",
       "    }\n",
       "\n",
       "    .dataframe thead th {\n",
       "        text-align: right;\n",
       "    }\n",
       "</style>\n",
       "<table border=\"1\" class=\"dataframe\">\n",
       "  <thead>\n",
       "    <tr style=\"text-align: right;\">\n",
       "      <th></th>\n",
       "      <th>genre</th>\n",
       "      <th>total_na_sales</th>\n",
       "      <th>total_eu_sales</th>\n",
       "      <th>total_jp_sales</th>\n",
       "      <th>total</th>\n",
       "    </tr>\n",
       "  </thead>\n",
       "  <tbody>\n",
       "    <tr>\n",
       "      <th>0</th>\n",
       "      <td>Shooter</td>\n",
       "      <td>48.18</td>\n",
       "      <td>40.28</td>\n",
       "      <td>3.79</td>\n",
       "      <td>105.73</td>\n",
       "    </tr>\n",
       "    <tr>\n",
       "      <th>1</th>\n",
       "      <td>Action</td>\n",
       "      <td>33.68</td>\n",
       "      <td>34.82</td>\n",
       "      <td>23.05</td>\n",
       "      <td>102.13</td>\n",
       "    </tr>\n",
       "    <tr>\n",
       "      <th>2</th>\n",
       "      <td>Sports</td>\n",
       "      <td>26.31</td>\n",
       "      <td>27.82</td>\n",
       "      <td>1.65</td>\n",
       "      <td>64.33</td>\n",
       "    </tr>\n",
       "    <tr>\n",
       "      <th>3</th>\n",
       "      <td>Role-Playing</td>\n",
       "      <td>19.82</td>\n",
       "      <td>17.21</td>\n",
       "      <td>13.41</td>\n",
       "      <td>55.82</td>\n",
       "    </tr>\n",
       "    <tr>\n",
       "      <th>4</th>\n",
       "      <td>Misc</td>\n",
       "      <td>5.58</td>\n",
       "      <td>4.26</td>\n",
       "      <td>3.19</td>\n",
       "      <td>14.17</td>\n",
       "    </tr>\n",
       "  </tbody>\n",
       "</table>\n",
       "</div>"
      ],
      "text/plain": [
       "          genre  total_na_sales  total_eu_sales  total_jp_sales   total\n",
       "0       Shooter           48.18           40.28            3.79  105.73\n",
       "1        Action           33.68           34.82           23.05  102.13\n",
       "2        Sports           26.31           27.82            1.65   64.33\n",
       "3  Role-Playing           19.82           17.21           13.41   55.82\n",
       "4          Misc            5.58            4.26            3.19   14.17"
      ]
     },
     "execution_count": 72,
     "metadata": {},
     "output_type": "execute_result"
    }
   ],
   "source": [
    "# Aggregate data on regional sales after grouping by genre\n",
    "genres_by_region = relevant_platforms.groupby('genre').agg(total_na_sales=('na_sales', 'sum'),\n",
    "                                                                 total_eu_sales=('eu_sales', 'sum'),\n",
    "                                                                 total_jp_sales=('jp_sales', 'sum'),\n",
    "                                                                 total=('total_revenue', 'sum'))\n",
    "\n",
    "genres_by_region = genres_by_region.sort_values(by='total', ascending=False).reset_index()\n",
    "\n",
    "# View only the top 5 genres\n",
    "top_5_genres = genres_by_region.head(5)\n",
    "top_5_genres"
   ]
  },
  {
   "cell_type": "markdown",
   "metadata": {},
   "source": [
    "**As expected, 'Shooters' is the top genre across all regions, followed closely by 'Action' games.**\n",
    "\n",
    "**Top Genre in North America:**\n",
    "- Shooter \n",
    "\n",
    "The North American market is dominated by Shooters, but almost shares an equal desire for Action and Sports as a close second choice.\n",
    "\n",
    "**Top Platform in Europe:**\n",
    "- Shooters\n",
    "- Action and Sports are close second in this market more closely than North America due to their slightly lower interest in Shooters than NA region and slightly higher interest in Action and Sports than NA region. \n",
    "\n",
    "**Top Platform in Japan:**\n",
    "- Action \n",
    "- Role- playing is a close second, with all other game genres having almost no relevancy\n",
    "\n",
    "\n",
    "**The most interesting market differences:**\n",
    "\n",
    "- North America and Europe have similar markets in genral, but Action and Sports games may do better in the European market due to cultural influences in what's popular. \n",
    "\n",
    "- The Japanese market is very interesting because Shooters are entirely irrelevant- this may be due to it's heavy reliance on Nintendo DS as a platform, as well as cultural influences on what's popular. \n"
   ]
  },
  {
   "cell_type": "code",
   "execution_count": 73,
   "metadata": {},
   "outputs": [
    {
     "data": {
      "text/html": [
       "<div>\n",
       "<style scoped>\n",
       "    .dataframe tbody tr th:only-of-type {\n",
       "        vertical-align: middle;\n",
       "    }\n",
       "\n",
       "    .dataframe tbody tr th {\n",
       "        vertical-align: top;\n",
       "    }\n",
       "\n",
       "    .dataframe thead th {\n",
       "        text-align: right;\n",
       "    }\n",
       "</style>\n",
       "<table border=\"1\" class=\"dataframe\">\n",
       "  <thead>\n",
       "    <tr style=\"text-align: right;\">\n",
       "      <th></th>\n",
       "      <th>region</th>\n",
       "      <th>total_sales</th>\n",
       "    </tr>\n",
       "  </thead>\n",
       "  <tbody>\n",
       "    <tr>\n",
       "      <th>0</th>\n",
       "      <td>na_sales</td>\n",
       "      <td>151.79</td>\n",
       "    </tr>\n",
       "    <tr>\n",
       "      <th>1</th>\n",
       "      <td>eu_sales</td>\n",
       "      <td>147.94</td>\n",
       "    </tr>\n",
       "    <tr>\n",
       "      <th>2</th>\n",
       "      <td>jp_sales</td>\n",
       "      <td>53.40</td>\n",
       "    </tr>\n",
       "  </tbody>\n",
       "</table>\n",
       "</div>"
      ],
      "text/plain": [
       "     region  total_sales\n",
       "0  na_sales       151.79\n",
       "1  eu_sales       147.94\n",
       "2  jp_sales        53.40"
      ]
     },
     "execution_count": 73,
     "metadata": {},
     "output_type": "execute_result"
    }
   ],
   "source": [
    "# Regional totals\n",
    "regions_totals = relevant_platforms[['na_sales', 'eu_sales', 'jp_sales']].sum().reset_index()\n",
    "regions_totals.columns = ['region', 'total_sales']\n",
    "\n",
    "regions_totals"
   ]
  },
  {
   "cell_type": "markdown",
   "metadata": {},
   "source": [
    "**The top Global Markets are North America and Europe, both leading at an almost identical high**\n",
    "\n",
    "Another interesting point is that Japan is still able to bring in a decent amount in revenue, while only relying on game sales that mostly are for Nintendo DS. This shows a lot of potential in changes in their market if customers begin using other platforms more. \n"
   ]
  },
  {
   "cell_type": "markdown",
   "metadata": {},
   "source": [
    "#### Do ESRB ratings affect sales in individual regions?"
   ]
  },
  {
   "cell_type": "code",
   "execution_count": 74,
   "metadata": {},
   "outputs": [
    {
     "data": {
      "text/html": [
       "<div>\n",
       "<style scoped>\n",
       "    .dataframe tbody tr th:only-of-type {\n",
       "        vertical-align: middle;\n",
       "    }\n",
       "\n",
       "    .dataframe tbody tr th {\n",
       "        vertical-align: top;\n",
       "    }\n",
       "\n",
       "    .dataframe thead th {\n",
       "        text-align: right;\n",
       "    }\n",
       "</style>\n",
       "<table border=\"1\" class=\"dataframe\">\n",
       "  <thead>\n",
       "    <tr style=\"text-align: right;\">\n",
       "      <th></th>\n",
       "      <th>rating</th>\n",
       "      <th>total_na_sales</th>\n",
       "      <th>total_eu_sales</th>\n",
       "      <th>total_jp_sales</th>\n",
       "      <th>total</th>\n",
       "    </tr>\n",
       "  </thead>\n",
       "  <tbody>\n",
       "    <tr>\n",
       "      <th>0</th>\n",
       "      <td>no rating</td>\n",
       "      <td>37.44</td>\n",
       "      <td>35.71</td>\n",
       "      <td>32.89</td>\n",
       "      <td>117.17</td>\n",
       "    </tr>\n",
       "    <tr>\n",
       "      <th>1</th>\n",
       "      <td>M</td>\n",
       "      <td>47.03</td>\n",
       "      <td>45.54</td>\n",
       "      <td>4.29</td>\n",
       "      <td>111.10</td>\n",
       "    </tr>\n",
       "    <tr>\n",
       "      <th>2</th>\n",
       "      <td>E</td>\n",
       "      <td>26.59</td>\n",
       "      <td>34.83</td>\n",
       "      <td>5.25</td>\n",
       "      <td>75.24</td>\n",
       "    </tr>\n",
       "    <tr>\n",
       "      <th>3</th>\n",
       "      <td>T</td>\n",
       "      <td>22.86</td>\n",
       "      <td>20.32</td>\n",
       "      <td>7.70</td>\n",
       "      <td>57.73</td>\n",
       "    </tr>\n",
       "    <tr>\n",
       "      <th>4</th>\n",
       "      <td>E10+</td>\n",
       "      <td>17.87</td>\n",
       "      <td>11.54</td>\n",
       "      <td>3.27</td>\n",
       "      <td>36.68</td>\n",
       "    </tr>\n",
       "  </tbody>\n",
       "</table>\n",
       "</div>"
      ],
      "text/plain": [
       "      rating  total_na_sales  total_eu_sales  total_jp_sales   total\n",
       "0  no rating           37.44           35.71           32.89  117.17\n",
       "1          M           47.03           45.54            4.29  111.10\n",
       "2          E           26.59           34.83            5.25   75.24\n",
       "3          T           22.86           20.32            7.70   57.73\n",
       "4       E10+           17.87           11.54            3.27   36.68"
      ]
     },
     "execution_count": 74,
     "metadata": {},
     "output_type": "execute_result"
    }
   ],
   "source": [
    "# Aggregate data on regional sales after grouping by rating\n",
    "rating_by_region = relevant_platforms.groupby('rating').agg(total_na_sales=('na_sales', 'sum'),\n",
    "                                                                 total_eu_sales=('eu_sales', 'sum'),\n",
    "                                                                 total_jp_sales=('jp_sales', 'sum'),\n",
    "                                                                 total=('total_revenue', 'sum'))\n",
    "\n",
    "rating_by_region = rating_by_region.sort_values(by='total', ascending=False).reset_index()\n",
    "\n",
    "# Displaying only ratings- excluding 'no ratings'\n",
    "rating_by_region"
   ]
  },
  {
   "cell_type": "markdown",
   "metadata": {},
   "source": [
    "***The Top Rating was 'no rating', if we simply ignore this data point for a moment, the top rating for games with an actual rating is 'M' for Mature**\n",
    "\n",
    "This makes sense with the trend in shooter games being most popular.\n",
    "\n",
    "**Ratings in Order of Toal Revenue:**\n",
    "\n",
    "No Rating: Games with no rating perform well across all regions, with total sales reaching 117.17 million.\n",
    "\n",
    "Mature (M): Mature-rated games show strong performance in North America and Europe, contributing significantly to total sales with 111.10 million. However, their sales are very low in Japan, totaling only 4.29 million.\n",
    "\n",
    "Everyone (E): Games rated \"Everyone\" perform moderately well, with total sales of 75.24 million. They are particularly popular in Europe, followed by North America.\n",
    "\n",
    "Teen (T): Teen-rated games achieve relatively balanced sales mostly in North America and Europe regions, totaling 57.73 million. \n",
    "\n",
    "Everyone 10+ (E10+): Games rated \"Everyone 10+\" have lower total sales compared to other ratings, reaching 36.68 million. They perform best in North America.\n",
    "\n",
    "\n",
    "Most games in Japan appear to not go through the same rating process as North American and Europe. "
   ]
  },
  {
   "cell_type": "markdown",
   "metadata": {},
   "source": [
    "## Step 5: Test Hypotheses"
   ]
  },
  {
   "cell_type": "markdown",
   "metadata": {},
   "source": [
    "### Testing Hypothesis to Determine Patterns for Average User Ratings "
   ]
  },
  {
   "cell_type": "markdown",
   "metadata": {},
   "source": [
    "H0: The null hypothesis is that the average user ratings of the Xbox One and PC platforms are equal\n",
    "<br>\n",
    "HA: The alternative hypothesis is that the average user ratings of the Xbox One and PC platforms are not equal.\n",
    "\n",
    "The following code will provide more information:"
   ]
  },
  {
   "cell_type": "code",
   "execution_count": 75,
   "metadata": {},
   "outputs": [
    {
     "name": "stdout",
     "output_type": "stream",
     "text": [
      "T-statistic: -0.9842284619018564\n",
      "P-value: 0.3258876032093123\n",
      "Fail to reject the null hypothesis. Average user ratings of Xbox One and PC platforms are equal.\n"
     ]
    }
   ],
   "source": [
    "# Average user ratings \n",
    "user_score_xone = relevant_platforms[relevant_platforms['platform'] == 'XOne']['user_score']\n",
    "user_score_pc = relevant_platforms[relevant_platforms['platform'] == 'PC']['user_score']\n",
    "\n",
    "# Setting alpha as 0.05 as a standard- if needed, we will change to a lower value to reduce false postives\n",
    "alpha = 0.05\n",
    "# Perform t-test for independent samples\n",
    "t_statistic, p_value = st.ttest_ind(user_score_xone, user_score_pc, equal_var=True)  # Assuming equal variance\n",
    "\n",
    "# Print the results\n",
    "print(\"T-statistic:\", t_statistic)\n",
    "print(\"P-value:\", p_value)\n",
    "\n",
    "# Interpret the results\n",
    "if p_value < alpha:\n",
    "    print(\"Reject the null hypothesis. Average user ratings of Xbox One and PC platforms are not equal.\")\n",
    "else:\n",
    "    print(\"Fail to reject the null hypothesis. Average user ratings of Xbox One and PC platforms are equal.\")"
   ]
  },
  {
   "cell_type": "markdown",
   "metadata": {},
   "source": [
    "With a low T-statistic and high p-value relative to the data, we fail to reject the null hypothesis. "
   ]
  },
  {
   "cell_type": "markdown",
   "metadata": {},
   "source": [
    "H0: The null hypothesis is that the average user ratings for the Action and Sports genres are equal.\n",
    "<br>\n",
    "HA: The alternative hypothesis is that the average user ratings for the Action and Sports genres \n",
    "are not equal.\n",
    "\n",
    "The following code will provide more information:"
   ]
  },
  {
   "cell_type": "code",
   "execution_count": 76,
   "metadata": {},
   "outputs": [
    {
     "name": "stdout",
     "output_type": "stream",
     "text": [
      "T-statistic: -3.024846229606\n",
      "P-value: 0.002606866688865409\n",
      "Reject the null hypothesis. Average user ratings of Action and Sports genres are not equal.\n"
     ]
    }
   ],
   "source": [
    "# Test Average user ratings for the Action and Sports genres are different.\n",
    "# Average user ratings \n",
    "user_score_action = relevant_platforms[relevant_platforms['genre'] == 'Action']['user_score']\n",
    "user_score_sports = relevant_platforms[relevant_platforms['genre'] == 'Sports']['user_score']\n",
    "\n",
    "# Setting alpha as 0.01 due to Action games havign so many more games than Sports\n",
    "alpha = 0.01\n",
    "# Perform t-test for independent samples\n",
    "t_statistic, p_value = st.ttest_ind(user_score_action, user_score_sports, equal_var=True)  # Assuming equal variance\n",
    "\n",
    "# Print the results\n",
    "print(\"T-statistic:\", t_statistic)\n",
    "print(\"P-value:\", p_value)\n",
    "\n",
    "# Interpret results\n",
    "if p_value < alpha:\n",
    "    print(\"Reject the null hypothesis. Average user ratings of Action and Sports genres are not equal.\")\n",
    "else:\n",
    "    print(\"Fail to reject the null hypothesis. Average user ratings of  Action and Sports genres are equal.\")"
   ]
  },
  {
   "cell_type": "markdown",
   "metadata": {},
   "source": [
    "The significance level chosen to test the hypotheses was set at alpha= 0.001. This decision was driven by the large disparity in the number of games between the Action and Sports genres. A smaller alpha in this case can ensure accurate testing by only picking up on significant differences in the data.\n",
    "\n",
    "For this specific test, the null hypothesis was rejected. This outcome suggests that, even after accounting for the variation in the total number of games, there exists a statistically significant difference in user ratings between Action and Sports games."
   ]
  },
  {
   "cell_type": "markdown",
   "metadata": {},
   "source": [
    "## Step 6: General Conclusion"
   ]
  },
  {
   "cell_type": "markdown",
   "metadata": {},
   "source": [
    " \n",
    "### Key Findings\n",
    "\n",
    "- Top Trending Platform is PS4, followed by Xbox and Nintendo 3DS.\n",
    "- The most popular genre is Shooters, followed by Action and Role-playing.\n",
    "- The North American and European markets are the strongest and most similar.\n",
    "- The Japanese market is heavily influenced by Nintendo\n",
    "\n",
    "### Recommendations for Future Planning\n",
    "\n",
    "**Genre-Specific Marketing:** \n",
    "Continue franchise promotions for Call of Duty, FIFA, and Fallout to boost sales.\n",
    "Focus on promoting Action, Role-Playing, Platform, and Simulation games across all regions to expand on these popular genres that tend to bring in lower revenue per game.\n",
    "\n",
    "**Platform-Specific Campaigns:**\n",
    "\n",
    "Invest in marketing for upcoming PS4 and Xbox One games that align with popular genres.\n",
    "Increase promotion for Nintendo platforms in North America and Europe.\n",
    "Focus on promoting platforms beyond Nintendo in Japan to diversify genre preferences.\n",
    "\n",
    "**Genre Focus**\n",
    "\n",
    "Prioritize marketing efforts for top Shooter, Action, and Sports games in North American and European markets.\n",
    "\n",
    "**Regional Expansion**\n",
    "\n",
    "Expand the Japan market by introducing more platform variety and diverse genres to cater to different preferences.\n",
    "\n"
   ]
  }
 ],
 "metadata": {
  "kernelspec": {
   "display_name": "base",
   "language": "python",
   "name": "python3"
  },
  "language_info": {
   "codemirror_mode": {
    "name": "ipython",
    "version": 3
   },
   "file_extension": ".py",
   "mimetype": "text/x-python",
   "name": "python",
   "nbconvert_exporter": "python",
   "pygments_lexer": "ipython3",
   "version": "3.12.2"
  }
 },
 "nbformat": 4,
 "nbformat_minor": 2
}
