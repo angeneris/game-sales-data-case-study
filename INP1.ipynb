{
 "cells": [
  {
   "cell_type": "markdown",
   "metadata": {},
   "source": [
    "# Integrated Project 1\n",
    "\n",
    "In this project, I will be using historical game sales data from 2016 to create a forecast for the following sales year by:<br>\n",
    "- Exploring game releases and sales across different years, examining platform popularity and their periods of relevancy. \n",
    "<br>\n",
    "- Identifying leading platforms, track sales trends, and pinpoint potentially profitable options for the company.\n",
    "<br> \n",
    "- Analyzing the impact of reviews on sales for a chosen platform and compare game sales across platforms. \n",
    "- Investigating genre distribution to track trends in profitability.\n",
    "<br>"
   ]
  },
  {
   "cell_type": "markdown",
   "metadata": {},
   "source": [
    "### Data description\n",
    "The dataset contains the following details:\n",
    "- Name \n",
    "\n",
    "- Platform \n",
    "\n",
    "- Year_of_Release \n",
    "\n",
    "- Genre \n",
    "\n",
    "- NA_sales (North American sales in USD million) \n",
    "\n",
    "- EU_sales (sales in Europe in USD million) \n",
    "\n",
    "- JP_sales (sales in Japan in USD million) \n",
    "\n",
    "- ther_sales (sales in other countries in USD million) \n",
    "\n",
    "- Critic_Score (maximum of 100) \n",
    "\n",
    "- User_Score (maximum of 10) \n",
    "\n",
    "- Rating (ESRB)\n",
    "\n",
    "This data may be incomplete and will be processed before analysis."
   ]
  },
  {
   "cell_type": "code",
   "execution_count": null,
   "metadata": {},
   "outputs": [],
   "source": [
    "# importing \n",
    "import pandas as pd\n",
    "import matplotlib as plt\n",
    "import seaborn as sns\n",
    "import plotly.express as px\n",
    "\n",
    "# Read in the data and view for any abnormalities\n",
    "games = pd.read_csv('/Users/angeneris/Desktop/integrated_project_1/games.csv')\n",
    "games.head(20)"
   ]
  },
  {
   "cell_type": "code",
   "execution_count": null,
   "metadata": {},
   "outputs": [],
   "source": [
    "# Data cleaning- checking for any issues with the data \n",
    "games.info()"
   ]
  },
  {
   "cell_type": "markdown",
   "metadata": {},
   "source": [
    "### Issues found: \n",
    "\n",
    "- Lots of null values, and not all columns match the amount of null values\n",
    "- Year of release should be a datetime object, currently is float \n",
    "- Critic score should be int, currently is float \n",
    "- User score should be float, is object \n",
    "<br>\n",
    "\n"
   ]
  },
  {
   "cell_type": "markdown",
   "metadata": {},
   "source": [
    "## Data Cleaning"
   ]
  },
  {
   "cell_type": "code",
   "execution_count": null,
   "metadata": {},
   "outputs": [],
   "source": [
    "# Changing columns to lowercase and saving back to games \n",
    "games.columns = games.columns.str.lower()\n",
    "\n",
    "games.head()"
   ]
  },
  {
   "cell_type": "markdown",
   "metadata": {},
   "source": [
    "Dropping all null values from 'year_of_release' first because this column is extremely important to the analysis in this project. I'm also dropping them because there isn't another meaningful way to display this data alternatively if we proceed with the null values. \n",
    "<br>\n",
    "\n",
    "- Why are the values missing? <br>\n",
    "The values may be missing from the year_of_release because they are either so old or new that they may not have been processed correctly. We can find out more about this by reviewing all the other column data that shows up when we view a NaN year_of_release\n",
    "\n",
    "<br> \n",
    "We will also cut out the rest of the null values for most of the columns to match the exact number of non- null values as year_of_release. The following columns will continue with null values that will be changes to a placeholder: 'critic_score', 'user_score' and 'rating'. These columns offer a bit more flexibility with continuing with null values."
   ]
  },
  {
   "cell_type": "code",
   "execution_count": null,
   "metadata": {},
   "outputs": [],
   "source": [
    "# List of columns to clean by dropping null values\n",
    "columns_to_clean = ['year_of_release', 'name', 'platform', 'genre', 'eu_sales', 'jp_sales', 'other_sales']\n",
    "\n",
    "# Dropping null values from specified columns\n",
    "games = games.dropna(subset=columns_to_clean)\n",
    "\n",
    "games.info()"
   ]
  },
  {
   "cell_type": "markdown",
   "metadata": {},
   "source": [
    "Looks good, all columns except for 'critic_score', 'user_score' and 'rating' now have 16444 non-null values. \n",
    "\n",
    "<br> \n",
    "Next, we'll move on to cleaning the column 'critic_score'\n",
    "Then 'user_score' and finally, 'rating'\n",
    "\n",
    "<br> \n",
    "\n",
    "- Why are there missing values?<br>\n",
    "In these columns, the missing values have a more obvious reason- they just don't have a rating/ score yet. This could either be because the rating system started after the tracking of this data or because the rating has yet to processed or has never been completed. We can find more about these differences by reviewing just these columns with the year_of_release column to see if there are any patterns."
   ]
  },
  {
   "cell_type": "code",
   "execution_count": null,
   "metadata": {},
   "outputs": [],
   "source": [
    "# Converting 'critic_score' to integer and handling missing values\n",
    "games['critic_score'] = pd.to_numeric(games['critic_score'], errors='coerce').astype('Int64')\n",
    "\n",
    "# Converting 'user_score' to float and handling missing values\n",
    "games['user_score'] = pd.to_numeric(games['user_score'], errors='coerce')\n",
    "\n",
    "# Converting year_of_release to int as datetime may be unecessary with only the year given\n",
    "\n",
    "games['year_of_release'] = pd.to_numeric(games['year_of_release'], errors='coerce') \n",
    "\n",
    "# Filling missing values with placeholder -1 for ease of filtering later \n",
    "cols_to_fill = ['user_score', 'critic_score', 'rating']\n",
    "games= games.fillna(value={'user_score': -1, 'critic_score': -1, 'rating': 'no rating'})\n",
    "\n",
    "# Checking \n",
    "games.info()"
   ]
  },
  {
   "cell_type": "code",
   "execution_count": null,
   "metadata": {},
   "outputs": [],
   "source": [
    "# Checking that there are no outliers in the data for 'critic_score' and 'user_score'\n",
    "# critic_score should have a max of 100 and user_score max of 10\n",
    "games[['critic_score','user_score']].max()"
   ]
  },
  {
   "cell_type": "code",
   "execution_count": null,
   "metadata": {},
   "outputs": [],
   "source": [
    "# Creating a new column for total_sales. This will combine sales from all regions and add a new column to the dataframe\n",
    "games['total_sales'] = games[['na_sales', 'eu_sales', 'jp_sales', 'other_sales']].sum(axis=1)\n",
    "\n",
    "games"
   ]
  },
  {
   "cell_type": "code",
   "execution_count": null,
   "metadata": {},
   "outputs": [],
   "source": [
    "# Checking \n",
    "games.head()"
   ]
  },
  {
   "cell_type": "markdown",
   "metadata": {},
   "source": [
    "The data has now been processed and is ready for analysis. \n",
    "<br>\n",
    "\n",
    "## Data Analysis "
   ]
  },
  {
   "cell_type": "markdown",
   "metadata": {},
   "source": []
  },
  {
   "cell_type": "code",
   "execution_count": null,
   "metadata": {},
   "outputs": [],
   "source": [
    "# Checking for amount of games released each year \n",
    "#games['']"
   ]
  }
 ],
 "metadata": {
  "kernelspec": {
   "display_name": "base",
   "language": "python",
   "name": "python3"
  },
  "language_info": {
   "codemirror_mode": {
    "name": "ipython",
    "version": 3
   },
   "file_extension": ".py",
   "mimetype": "text/x-python",
   "name": "python",
   "nbconvert_exporter": "python",
   "pygments_lexer": "ipython3",
   "version": "3.12.2"
  }
 },
 "nbformat": 4,
 "nbformat_minor": 2
}
